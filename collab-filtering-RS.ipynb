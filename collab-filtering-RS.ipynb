{
 "cells": [
  {
   "cell_type": "code",
   "execution_count": 1,
   "id": "4150ef1f",
   "metadata": {},
   "outputs": [],
   "source": [
    "import gzip\n",
    "import json\n",
    "import statistics\n",
    "from typing import Iterator\n",
    "\n",
    "import pandas as pd\n",
    "from plotnine import *\n",
    "from surprise import (\n",
    "    accuracy,\n",
    "    AlgoBase,\n",
    "    BaselineOnly,\n",
    "    Dataset,\n",
    "    KNNBasic,\n",
    "    KNNWithZScore,\n",
    "    NormalPredictor,\n",
    "    Reader,\n",
    "    SlopeOne,\n",
    "    SVD,\n",
    ")\n",
    "from surprise.model_selection import cross_validate, train_test_split\n",
    "\n",
    "\n",
    "pd.set_option(\"max_colwidth\", None)"
   ]
  },
  {
   "cell_type": "markdown",
   "id": "47c3395e",
   "metadata": {},
   "source": [
    "# Table of Contents\n",
    "\n",
    "- [Step B.1](#Step-B.1)\n",
    "- [Step B.2](#Step-B.2)\n",
    "- [Step B.3](#Step-B.3)\n",
    "- [Step B.4](#Step-B.4)"
   ]
  },
  {
   "cell_type": "code",
   "execution_count": null,
   "id": "368c4c3e",
   "metadata": {},
   "outputs": [],
   "source": [
    "# download the “small” 5-core dataset for the category \"Digital Music\"\n",
    "# dataset source: https://nijianmo.github.io/amazon/index.html\n",
    "\n",
    "!wget --backups=1 http://deepyeti.ucsd.edu/jianmo/amazon/categoryFilesSmall/Digital_Music_5.json.gz -P data/"
   ]
  },
  {
   "cell_type": "markdown",
   "id": "d1f6aafc",
   "metadata": {},
   "source": [
    "## Step B.1"
   ]
  },
  {
   "cell_type": "code",
   "execution_count": 2,
   "id": "fe5eaf30",
   "metadata": {},
   "outputs": [],
   "source": [
    "def inspect_df(df: pd.DataFrame, n: int = 5) -> pd.DataFrame:\n",
    "    \"\"\"Helper method to easily inspect DataFrames.\"\"\"\n",
    "\n",
    "    print(f\"shape: {df.shape}\")\n",
    "\n",
    "    return df.head(n)"
   ]
  },
  {
   "cell_type": "code",
   "execution_count": 3,
   "id": "eeed79c1",
   "metadata": {},
   "outputs": [],
   "source": [
    "def parse(filepath: str) -> Iterator[dict]:\n",
    "    file_obj = gzip.open(filepath, \"rb\")\n",
    "    for line in file_obj:\n",
    "        yield json.loads(line)"
   ]
  },
  {
   "cell_type": "code",
   "execution_count": 4,
   "id": "48517526",
   "metadata": {},
   "outputs": [],
   "source": [
    "def file_to_dataframe(filepath: str) -> pd.DataFrame:\n",
    "    i = 0\n",
    "    df = {}\n",
    "    for d in parse(filepath):\n",
    "        df[i] = {\n",
    "            \"user\": d[\"reviewerID\"],\n",
    "            \"item\": d[\"asin\"],\n",
    "            \"rating\": d[\"overall\"],\n",
    "        }  # keep only the essential data\n",
    "        i += 1\n",
    "    return pd.DataFrame.from_dict(df, orient=\"index\")"
   ]
  },
  {
   "cell_type": "code",
   "execution_count": 5,
   "id": "15edc4ee",
   "metadata": {
    "scrolled": true
   },
   "outputs": [],
   "source": [
    "review_data = file_to_dataframe(\"data/Digital_Music_5.json.gz\")"
   ]
  },
  {
   "cell_type": "code",
   "execution_count": 6,
   "id": "76b31534",
   "metadata": {},
   "outputs": [],
   "source": [
    "reader = Reader(rating_scale=(1, 5))"
   ]
  },
  {
   "cell_type": "code",
   "execution_count": 7,
   "id": "08d215bf",
   "metadata": {
    "scrolled": true
   },
   "outputs": [
    {
     "name": "stdout",
     "output_type": "stream",
     "text": [
      "shape: (169781, 3)\n"
     ]
    },
    {
     "data": {
      "text/html": [
       "<div>\n",
       "<style scoped>\n",
       "    .dataframe tbody tr th:only-of-type {\n",
       "        vertical-align: middle;\n",
       "    }\n",
       "\n",
       "    .dataframe tbody tr th {\n",
       "        vertical-align: top;\n",
       "    }\n",
       "\n",
       "    .dataframe thead th {\n",
       "        text-align: right;\n",
       "    }\n",
       "</style>\n",
       "<table border=\"1\" class=\"dataframe\">\n",
       "  <thead>\n",
       "    <tr style=\"text-align: right;\">\n",
       "      <th></th>\n",
       "      <th>user</th>\n",
       "      <th>item</th>\n",
       "      <th>rating</th>\n",
       "    </tr>\n",
       "  </thead>\n",
       "  <tbody>\n",
       "    <tr>\n",
       "      <th>0</th>\n",
       "      <td>A2TYZ821XXK2YZ</td>\n",
       "      <td>3426958910</td>\n",
       "      <td>5.0</td>\n",
       "    </tr>\n",
       "    <tr>\n",
       "      <th>1</th>\n",
       "      <td>A3OFSREZADFUDY</td>\n",
       "      <td>3426958910</td>\n",
       "      <td>5.0</td>\n",
       "    </tr>\n",
       "    <tr>\n",
       "      <th>2</th>\n",
       "      <td>A2VAMODP8M77NG</td>\n",
       "      <td>3426958910</td>\n",
       "      <td>5.0</td>\n",
       "    </tr>\n",
       "    <tr>\n",
       "      <th>3</th>\n",
       "      <td>AAKSLZ9IDTEH0</td>\n",
       "      <td>3426958910</td>\n",
       "      <td>4.0</td>\n",
       "    </tr>\n",
       "    <tr>\n",
       "      <th>4</th>\n",
       "      <td>A3OH43OZJLKI09</td>\n",
       "      <td>5557706259</td>\n",
       "      <td>5.0</td>\n",
       "    </tr>\n",
       "    <tr>\n",
       "      <th>5</th>\n",
       "      <td>A6JP9YYJCK3WO</td>\n",
       "      <td>5557706259</td>\n",
       "      <td>4.0</td>\n",
       "    </tr>\n",
       "    <tr>\n",
       "      <th>6</th>\n",
       "      <td>A20Z0JD766DPG6</td>\n",
       "      <td>5557706259</td>\n",
       "      <td>5.0</td>\n",
       "    </tr>\n",
       "    <tr>\n",
       "      <th>7</th>\n",
       "      <td>AXQ89O6YRT7AX</td>\n",
       "      <td>5557706259</td>\n",
       "      <td>5.0</td>\n",
       "    </tr>\n",
       "    <tr>\n",
       "      <th>8</th>\n",
       "      <td>A1M379MK8MKGUF</td>\n",
       "      <td>5557706259</td>\n",
       "      <td>5.0</td>\n",
       "    </tr>\n",
       "    <tr>\n",
       "      <th>9</th>\n",
       "      <td>AA762OWLWCPQ2</td>\n",
       "      <td>5557706259</td>\n",
       "      <td>5.0</td>\n",
       "    </tr>\n",
       "  </tbody>\n",
       "</table>\n",
       "</div>"
      ],
      "text/plain": [
       "             user        item  rating\n",
       "0  A2TYZ821XXK2YZ  3426958910     5.0\n",
       "1  A3OFSREZADFUDY  3426958910     5.0\n",
       "2  A2VAMODP8M77NG  3426958910     5.0\n",
       "3   AAKSLZ9IDTEH0  3426958910     4.0\n",
       "4  A3OH43OZJLKI09  5557706259     5.0\n",
       "5   A6JP9YYJCK3WO  5557706259     4.0\n",
       "6  A20Z0JD766DPG6  5557706259     5.0\n",
       "7   AXQ89O6YRT7AX  5557706259     5.0\n",
       "8  A1M379MK8MKGUF  5557706259     5.0\n",
       "9   AA762OWLWCPQ2  5557706259     5.0"
      ]
     },
     "execution_count": 7,
     "metadata": {},
     "output_type": "execute_result"
    }
   ],
   "source": [
    "data = Dataset.load_from_df(review_data[[\"user\", \"item\", \"rating\"]], reader)\n",
    "\n",
    "inspect_df(data.df, 10)"
   ]
  },
  {
   "cell_type": "markdown",
   "id": "857b0d46",
   "metadata": {},
   "source": [
    "## Step B.2"
   ]
  },
  {
   "cell_type": "code",
   "execution_count": 8,
   "id": "6d488bd5",
   "metadata": {},
   "outputs": [],
   "source": [
    "cv_results = {}"
   ]
  },
  {
   "cell_type": "code",
   "execution_count": 9,
   "id": "0ab2359f",
   "metadata": {
    "scrolled": true
   },
   "outputs": [
    {
     "name": "stdout",
     "output_type": "stream",
     "text": [
      "Evaluating RMSE, MAE of algorithm NormalPredictor on 5 split(s).\n",
      "\n",
      "                  Fold 1  Fold 2  Fold 3  Fold 4  Fold 5  Mean    Std     \n",
      "RMSE (testset)    0.8889  0.8969  0.8971  0.8913  0.8888  0.8926  0.0037  \n",
      "MAE (testset)     0.5897  0.5949  0.5948  0.5897  0.5887  0.5915  0.0027  \n",
      "Fit time          0.13    0.17    0.16    0.16    0.17    0.16    0.02    \n",
      "Test time         0.22    0.13    0.14    0.14    0.13    0.16    0.03    \n"
     ]
    }
   ],
   "source": [
    "\"\"\"\n",
    "Algorithm predicting a random rating based on the distribution of the training set, \n",
    "which is assumed to be normal.\n",
    "\"\"\"\n",
    "cv_results[\"NormalPredictor\"] = cross_validate(\n",
    "    algo=NormalPredictor(), data=data, verbose=True, cv=5\n",
    ")"
   ]
  },
  {
   "cell_type": "code",
   "execution_count": 10,
   "id": "f4f6bbb8",
   "metadata": {
    "scrolled": true
   },
   "outputs": [
    {
     "name": "stdout",
     "output_type": "stream",
     "text": [
      "Estimating biases using als...\n",
      "Estimating biases using als...\n",
      "Estimating biases using als...\n",
      "Estimating biases using als...\n",
      "Estimating biases using als...\n",
      "Evaluating RMSE, MAE of algorithm BaselineOnly on 5 split(s).\n",
      "\n",
      "                  Fold 1  Fold 2  Fold 3  Fold 4  Fold 5  Mean    Std     \n",
      "RMSE (testset)    0.5825  0.5911  0.5889  0.6022  0.5928  0.5915  0.0064  \n",
      "MAE (testset)     0.3662  0.3714  0.3685  0.3725  0.3726  0.3702  0.0025  \n",
      "Fit time          0.39    0.41    0.44    0.40    0.44    0.42    0.02    \n",
      "Test time         0.08    0.09    0.08    0.09    0.16    0.10    0.03    \n"
     ]
    }
   ],
   "source": [
    "\"\"\"\n",
    "Algorithm predicting the baseline estimate for given user and item.\n",
    "\"\"\"\n",
    "cv_results[\"BaselineOnly\"] = cross_validate(\n",
    "    algo=BaselineOnly(), data=data, verbose=True, cv=5\n",
    ")"
   ]
  },
  {
   "cell_type": "code",
   "execution_count": 11,
   "id": "afc89272",
   "metadata": {},
   "outputs": [
    {
     "name": "stdout",
     "output_type": "stream",
     "text": [
      "Computing the cosine similarity matrix...\n",
      "Done computing similarity matrix.\n",
      "Computing the cosine similarity matrix...\n",
      "Done computing similarity matrix.\n",
      "Computing the cosine similarity matrix...\n",
      "Done computing similarity matrix.\n",
      "Computing the cosine similarity matrix...\n",
      "Done computing similarity matrix.\n",
      "Computing the cosine similarity matrix...\n",
      "Done computing similarity matrix.\n",
      "Evaluating RMSE, MAE of algorithm KNNBasic on 5 split(s).\n",
      "\n",
      "                  Fold 1  Fold 2  Fold 3  Fold 4  Fold 5  Mean    Std     \n",
      "RMSE (testset)    0.6029  0.6159  0.6110  0.6095  0.6074  0.6094  0.0043  \n",
      "MAE (testset)     0.3100  0.3171  0.3143  0.3132  0.3121  0.3133  0.0024  \n",
      "Fit time          4.50    4.36    4.34    4.53    4.52    4.45    0.08    \n",
      "Test time         0.66    0.65    0.67    0.73    0.61    0.66    0.04    \n"
     ]
    }
   ],
   "source": [
    "\"\"\"\n",
    "A basic item-item collaborative filtering algorithm.\n",
    "\"\"\"\n",
    "cv_results[\"KNNBasic (cosine) item-based\"] = cross_validate(\n",
    "    algo=KNNBasic(\n",
    "        sim_options={\n",
    "            \"name\": \"cosine\",\n",
    "            \"user_based\": False,\n",
    "        }\n",
    "    ),\n",
    "    data=data,\n",
    "    verbose=True,\n",
    "    cv=5,\n",
    ")"
   ]
  },
  {
   "cell_type": "code",
   "execution_count": 12,
   "id": "78a3e337",
   "metadata": {},
   "outputs": [
    {
     "name": "stdout",
     "output_type": "stream",
     "text": [
      "Evaluating RMSE, MAE of algorithm SlopeOne on 5 split(s).\n",
      "\n",
      "                  Fold 1  Fold 2  Fold 3  Fold 4  Fold 5  Mean    Std     \n",
      "RMSE (testset)    0.5846  0.5785  0.5875  0.5791  0.5837  0.5827  0.0034  \n",
      "MAE (testset)     0.2733  0.2711  0.2735  0.2720  0.2736  0.2727  0.0010  \n",
      "Fit time          2.51    2.53    2.62    2.64    2.53    2.57    0.05    \n",
      "Test time         0.45    0.47    0.43    0.47    0.54    0.47    0.04    \n"
     ]
    }
   ],
   "source": [
    "\"\"\"\n",
    "A simple yet accurate item-based collaborative filtering algorithm.\n",
    "\n",
    "This is a straightforward implementation of the SlopeOne algorithm: https://arxiv.org/abs/cs/0702144\n",
    "\"\"\"\n",
    "cv_results[\"SlopeOne\"] = cross_validate(\n",
    "    algo=SlopeOne(),\n",
    "    data=data,\n",
    "    verbose=True,\n",
    "    cv=5,\n",
    ")"
   ]
  },
  {
   "cell_type": "code",
   "execution_count": 13,
   "id": "65704620",
   "metadata": {},
   "outputs": [
    {
     "name": "stdout",
     "output_type": "stream",
     "text": [
      "Computing the cosine similarity matrix...\n",
      "Done computing similarity matrix.\n",
      "Computing the cosine similarity matrix...\n",
      "Done computing similarity matrix.\n",
      "Computing the cosine similarity matrix...\n",
      "Done computing similarity matrix.\n",
      "Computing the cosine similarity matrix...\n",
      "Done computing similarity matrix.\n",
      "Computing the cosine similarity matrix...\n",
      "Done computing similarity matrix.\n",
      "Evaluating RMSE, MAE of algorithm KNNBasic on 5 split(s).\n",
      "\n",
      "                  Fold 1  Fold 2  Fold 3  Fold 4  Fold 5  Mean    Std     \n",
      "RMSE (testset)    0.7706  0.7668  0.7648  0.7769  0.7763  0.7711  0.0049  \n",
      "MAE (testset)     0.4666  0.4615  0.4619  0.4691  0.4692  0.4657  0.0034  \n",
      "Fit time          9.15    9.98    9.57    9.68    8.91    9.46    0.38    \n",
      "Test time         0.88    1.13    1.24    1.63    0.89    1.16    0.28    \n"
     ]
    }
   ],
   "source": [
    "\"\"\"\n",
    "A basic user-user collaborative filtering algorithm.\n",
    "\"\"\"\n",
    "cv_results[\"KNNBasic (cosine) user-based\"] = cross_validate(\n",
    "    algo=KNNBasic(\n",
    "        sim_options={\n",
    "            \"name\": \"cosine\",\n",
    "            \"user_based\": True,\n",
    "        }\n",
    "    ),\n",
    "    data=data,\n",
    "    verbose=True,\n",
    "    cv=5,\n",
    ")"
   ]
  },
  {
   "cell_type": "code",
   "execution_count": 14,
   "id": "276c6652",
   "metadata": {},
   "outputs": [
    {
     "name": "stdout",
     "output_type": "stream",
     "text": [
      "Computing the msd similarity matrix...\n",
      "Done computing similarity matrix.\n",
      "Computing the msd similarity matrix...\n",
      "Done computing similarity matrix.\n",
      "Computing the msd similarity matrix...\n",
      "Done computing similarity matrix.\n",
      "Computing the msd similarity matrix...\n",
      "Done computing similarity matrix.\n",
      "Computing the msd similarity matrix...\n",
      "Done computing similarity matrix.\n",
      "Evaluating RMSE, MAE of algorithm KNNWithZScore on 5 split(s).\n",
      "\n",
      "                  Fold 1  Fold 2  Fold 3  Fold 4  Fold 5  Mean    Std     \n",
      "RMSE (testset)    0.5850  0.5883  0.5723  0.5861  0.5898  0.5843  0.0062  \n",
      "MAE (testset)     0.2911  0.2912  0.2848  0.2913  0.2911  0.2899  0.0025  \n",
      "Fit time          5.89    5.66    5.63    5.57    5.66    5.68    0.11    \n",
      "Test time         0.96    0.90    0.90    0.91    0.92    0.92    0.02    \n"
     ]
    }
   ],
   "source": [
    "\"\"\"\n",
    "A basic collaborative filtering algorithm, taking into account\n",
    "the z-score normalization of each user.\n",
    "\"\"\"\n",
    "cv_results[\"KNNWithZScore (MSD) user-based\"] = cross_validate(\n",
    "    algo=KNNWithZScore(\n",
    "        sim_options={\n",
    "            \"name\": \"msd\",\n",
    "            \"user_based\": True,\n",
    "        }\n",
    "    ),\n",
    "    data=data,\n",
    "    verbose=True,\n",
    "    cv=5,\n",
    ")"
   ]
  },
  {
   "cell_type": "code",
   "execution_count": 15,
   "id": "f50c5847",
   "metadata": {},
   "outputs": [
    {
     "name": "stdout",
     "output_type": "stream",
     "text": [
      "Evaluating RMSE, MAE of algorithm SVD on 5 split(s).\n",
      "\n",
      "                  Fold 1  Fold 2  Fold 3  Fold 4  Fold 5  Mean    Std     \n",
      "RMSE (testset)    0.5609  0.5597  0.5579  0.5649  0.5625  0.5612  0.0024  \n",
      "MAE (testset)     0.3357  0.3331  0.3331  0.3377  0.3355  0.3350  0.0017  \n",
      "Fit time          5.57    5.55    5.57    5.65    5.60    5.59    0.04    \n",
      "Test time         0.22    0.22    0.26    0.24    0.16    0.22    0.03    \n"
     ]
    }
   ],
   "source": [
    "\"\"\"\n",
    "The famous SVD algorithm, as popularized by `Simon Funk\n",
    "<http://sifter.org/~simon/journal/20061211.html>`_ during the Netflix Prize.\n",
    "\"\"\"\n",
    "cv_results[\"SVD\"] = cross_validate(algo=SVD(), data=data, verbose=True, cv=5)"
   ]
  },
  {
   "cell_type": "markdown",
   "id": "98496600",
   "metadata": {},
   "source": [
    "## Step B.3"
   ]
  },
  {
   "cell_type": "code",
   "execution_count": 16,
   "id": "b14df1eb",
   "metadata": {},
   "outputs": [],
   "source": [
    "df = pd.DataFrame(cv_results).T.reset_index()\n",
    "\n",
    "df[\"mean RMSE\"] = df[\"test_rmse\"].map(lambda x: statistics.mean(x))"
   ]
  },
  {
   "cell_type": "code",
   "execution_count": 17,
   "id": "142d304f",
   "metadata": {},
   "outputs": [
    {
     "data": {
      "image/png": "[encoded data removed]",
      "text/plain": [
       "<Figure size 800x600 with 1 Axes>"
      ]
     },
     "metadata": {},
     "output_type": "display_data"
    },
    {
     "data": {
      "text/plain": [
       "<ggplot: (8728930467313)>"
      ]
     },
     "execution_count": 17,
     "metadata": {},
     "output_type": "execute_result"
    }
   ],
   "source": [
    "(\n",
    "    ggplot(df)\n",
    "    + geom_col(aes(x=\"index\", y=\"mean RMSE\"), stat=\"identity\")\n",
    "    + theme(axis_text_x=element_text(rotation=45, hjust=1), figure_size=(8, 6))\n",
    "    + labs(x=\"\", y=\"mean RMSE\")\n",
    ")"
   ]
  },
  {
   "cell_type": "markdown",
   "id": "fb95ceaf",
   "metadata": {},
   "source": [
    "## Step B.4"
   ]
  },
  {
   "cell_type": "code",
   "execution_count": 18,
   "id": "f394f061",
   "metadata": {},
   "outputs": [],
   "source": [
    "trainset, testset = train_test_split(data, test_size=0.25)"
   ]
  },
  {
   "cell_type": "code",
   "execution_count": 19,
   "id": "fa0ab794",
   "metadata": {},
   "outputs": [],
   "source": [
    "recsys = SVD().fit(trainset)"
   ]
  },
  {
   "cell_type": "code",
   "execution_count": 20,
   "id": "b8e08c55",
   "metadata": {},
   "outputs": [],
   "source": [
    "def get_recommendations_for_user(user: str, rs: AlgoBase, n: int = 5) -> list:\n",
    "\n",
    "    # get n random unseen products for this user\n",
    "    unseen_items = review_data[review_data[\"user\"] != user][\"item\"].unique()\n",
    "\n",
    "    predictions = [*map(lambda item: rs.predict(uid=user, iid=item), unseen_items)]\n",
    "\n",
    "    return sorted(predictions, key=lambda p: p.est, reverse=True)[:n]"
   ]
  },
  {
   "cell_type": "code",
   "execution_count": 21,
   "id": "3252e434",
   "metadata": {},
   "outputs": [
    {
     "name": "stdout",
     "output_type": "stream",
     "text": [
      "user: A2BH6YL4S1MY93 item: 7799420340 r_ui = None   est = 5.00   {'was_impossible': False}\n",
      "user: A2BH6YL4S1MY93 item: B000LWZD7M r_ui = None   est = 5.00   {'was_impossible': False}\n",
      "user: A2BH6YL4S1MY93 item: B000QO5DAC r_ui = None   est = 5.00   {'was_impossible': False}\n",
      "user: A2BH6YL4S1MY93 item: B000QOV6YY r_ui = None   est = 5.00   {'was_impossible': False}\n",
      "user: A2BH6YL4S1MY93 item: B000S3OC5S r_ui = None   est = 5.00   {'was_impossible': False}\n",
      "=========================================================================================================\n",
      "user: A31PYWT67U3A93 item: 3426958910 r_ui = None   est = 5.00   {'was_impossible': False}\n",
      "user: A31PYWT67U3A93 item: 7799420340 r_ui = None   est = 5.00   {'was_impossible': False}\n",
      "user: A31PYWT67U3A93 item: B0002HA8IA r_ui = None   est = 5.00   {'was_impossible': False}\n",
      "user: A31PYWT67U3A93 item: B0006TTLIC r_ui = None   est = 5.00   {'was_impossible': False}\n",
      "user: A31PYWT67U3A93 item: B000BD5OPM r_ui = None   est = 5.00   {'was_impossible': False}\n",
      "=========================================================================================================\n",
      "user: A3KX1R4XD4BMXO item: B0006TTLIC r_ui = None   est = 5.00   {'was_impossible': False}\n",
      "user: A3KX1R4XD4BMXO item: B000QLO4IM r_ui = None   est = 5.00   {'was_impossible': False}\n",
      "user: A3KX1R4XD4BMXO item: B000QOIE8K r_ui = None   est = 5.00   {'was_impossible': False}\n",
      "user: A3KX1R4XD4BMXO item: B000QON8M2 r_ui = None   est = 5.00   {'was_impossible': False}\n",
      "user: A3KX1R4XD4BMXO item: B000QOYJWU r_ui = None   est = 5.00   {'was_impossible': False}\n",
      "=========================================================================================================\n",
      "user: A32ZTJOB9SQ66R item: B000SXKXHY r_ui = None   est = 5.00   {'was_impossible': False}\n",
      "user: A32ZTJOB9SQ66R item: B000TDFDA0 r_ui = None   est = 5.00   {'was_impossible': False}\n",
      "user: A32ZTJOB9SQ66R item: B000WLD27U r_ui = None   est = 5.00   {'was_impossible': False}\n",
      "user: A32ZTJOB9SQ66R item: B000Z9PY0M r_ui = None   est = 5.00   {'was_impossible': False}\n",
      "user: A32ZTJOB9SQ66R item: B0011Z5IIM r_ui = None   est = 5.00   {'was_impossible': False}\n",
      "=========================================================================================================\n",
      "user: A3UAUNRCOWWXLF item: 7799420340 r_ui = None   est = 5.00   {'was_impossible': False}\n",
      "user: A3UAUNRCOWWXLF item: 9714721180 r_ui = None   est = 5.00   {'was_impossible': False}\n",
      "user: A3UAUNRCOWWXLF item: B000EO8VMQ r_ui = None   est = 5.00   {'was_impossible': False}\n",
      "user: A3UAUNRCOWWXLF item: B000QNZNNA r_ui = None   est = 5.00   {'was_impossible': False}\n",
      "user: A3UAUNRCOWWXLF item: B000QVL4NU r_ui = None   est = 5.00   {'was_impossible': False}\n",
      "=========================================================================================================\n"
     ]
    }
   ],
   "source": [
    "users = list(set((u for u, _, _ in testset)))\n",
    "\n",
    "for user in users[:5]:  # show recommendations for first 5 users, no need to display all\n",
    "    for recommendation in get_recommendations_for_user(user, rs=recsys, n=5):\n",
    "        print(recommendation)\n",
    "    print(\"=\" * 105)"
   ]
  },
  {
   "cell_type": "code",
   "execution_count": 22,
   "id": "23a10283",
   "metadata": {},
   "outputs": [],
   "source": [
    "users = pd.DataFrame(dict(user=review_data[\"user\"].unique()))\n",
    "\n",
    "users[\"top_recommendations\"] = users[\"user\"].map(\n",
    "    lambda x: get_recommendations_for_user(x, recsys, n=5)\n",
    ")"
   ]
  },
  {
   "cell_type": "code",
   "execution_count": 23,
   "id": "a9b68c23",
   "metadata": {},
   "outputs": [],
   "source": [
    "users[\"top_recommendations\"] = users[\"top_recommendations\"].map(\n",
    "    lambda recommendations: [p.iid for p in recommendations]\n",
    ")"
   ]
  },
  {
   "cell_type": "code",
   "execution_count": 24,
   "id": "6c04e366",
   "metadata": {
    "scrolled": false
   },
   "outputs": [
    {
     "data": {
      "text/html": [
       "<div>\n",
       "<style scoped>\n",
       "    .dataframe tbody tr th:only-of-type {\n",
       "        vertical-align: middle;\n",
       "    }\n",
       "\n",
       "    .dataframe tbody tr th {\n",
       "        vertical-align: top;\n",
       "    }\n",
       "\n",
       "    .dataframe thead th {\n",
       "        text-align: right;\n",
       "    }\n",
       "</style>\n",
       "<table border=\"1\" class=\"dataframe\">\n",
       "  <thead>\n",
       "    <tr style=\"text-align: right;\">\n",
       "      <th></th>\n",
       "      <th>user</th>\n",
       "      <th>top_recommendations</th>\n",
       "    </tr>\n",
       "  </thead>\n",
       "  <tbody>\n",
       "    <tr>\n",
       "      <th>0</th>\n",
       "      <td>A2TYZ821XXK2YZ</td>\n",
       "      <td>[7799420340, 9714721180, B00004TTUZ, B000EO8VMQ, B000QLO4IM]</td>\n",
       "    </tr>\n",
       "    <tr>\n",
       "      <th>1</th>\n",
       "      <td>A3OFSREZADFUDY</td>\n",
       "      <td>[7799420340, B0002HA8IA, B000BD5OPM, B000BD8WUQ, B000PHA2XS]</td>\n",
       "    </tr>\n",
       "    <tr>\n",
       "      <th>2</th>\n",
       "      <td>A2VAMODP8M77NG</td>\n",
       "      <td>[7799420340, B000BD8WUQ, B000QO6B1C, B000S43QJA, B000S50C5A]</td>\n",
       "    </tr>\n",
       "    <tr>\n",
       "      <th>3</th>\n",
       "      <td>AAKSLZ9IDTEH0</td>\n",
       "      <td>[B007LAZ7L4, B001NYEHT2, B0012ECGIC, B001NJUGV0, B0011Z5JYU]</td>\n",
       "    </tr>\n",
       "    <tr>\n",
       "      <th>4</th>\n",
       "      <td>A3OH43OZJLKI09</td>\n",
       "      <td>[B001BZF788, B00137MGM4, B002XMJ7IO, B0011W8V20, B0017DHRJ6]</td>\n",
       "    </tr>\n",
       "    <tr>\n",
       "      <th>...</th>\n",
       "      <td>...</td>\n",
       "      <td>...</td>\n",
       "    </tr>\n",
       "    <tr>\n",
       "      <th>16561</th>\n",
       "      <td>A2XABEL5QL0BKC</td>\n",
       "      <td>[B000WLTDIM, B000WS2THW, B000X06GHI, B00136ITNK, B00137QS2I]</td>\n",
       "    </tr>\n",
       "    <tr>\n",
       "      <th>16562</th>\n",
       "      <td>A23OQL552RQ7UN</td>\n",
       "      <td>[B00138J5SQ, B0075FLUTS, B002L4U5RG, B00122DEFI, B0045KYGG0]</td>\n",
       "    </tr>\n",
       "    <tr>\n",
       "      <th>16563</th>\n",
       "      <td>A17FFQTRJ4JHZ7</td>\n",
       "      <td>[7799420340, B0006TTLIC, B000QMFUJ8, B000QO6B1C, B000QO76U2]</td>\n",
       "    </tr>\n",
       "    <tr>\n",
       "      <th>16564</th>\n",
       "      <td>A3IIO38JUX49QS</td>\n",
       "      <td>[9714721180, B000EO8VMQ, B000LWZD7M, B000QOV6YY, B000S3KQOE]</td>\n",
       "    </tr>\n",
       "    <tr>\n",
       "      <th>16565</th>\n",
       "      <td>A1LGIRQ1R8DSLM</td>\n",
       "      <td>[B000S43QJA, B000S55E9O, B000S55TTY, B000SX9G90, B000SXDCD6]</td>\n",
       "    </tr>\n",
       "  </tbody>\n",
       "</table>\n",
       "<p>16566 rows × 2 columns</p>\n",
       "</div>"
      ],
      "text/plain": [
       "                 user  \\\n",
       "0      A2TYZ821XXK2YZ   \n",
       "1      A3OFSREZADFUDY   \n",
       "2      A2VAMODP8M77NG   \n",
       "3       AAKSLZ9IDTEH0   \n",
       "4      A3OH43OZJLKI09   \n",
       "...               ...   \n",
       "16561  A2XABEL5QL0BKC   \n",
       "16562  A23OQL552RQ7UN   \n",
       "16563  A17FFQTRJ4JHZ7   \n",
       "16564  A3IIO38JUX49QS   \n",
       "16565  A1LGIRQ1R8DSLM   \n",
       "\n",
       "                                                top_recommendations  \n",
       "0      [7799420340, 9714721180, B00004TTUZ, B000EO8VMQ, B000QLO4IM]  \n",
       "1      [7799420340, B0002HA8IA, B000BD5OPM, B000BD8WUQ, B000PHA2XS]  \n",
       "2      [7799420340, B000BD8WUQ, B000QO6B1C, B000S43QJA, B000S50C5A]  \n",
       "3      [B007LAZ7L4, B001NYEHT2, B0012ECGIC, B001NJUGV0, B0011Z5JYU]  \n",
       "4      [B001BZF788, B00137MGM4, B002XMJ7IO, B0011W8V20, B0017DHRJ6]  \n",
       "...                                                             ...  \n",
       "16561  [B000WLTDIM, B000WS2THW, B000X06GHI, B00136ITNK, B00137QS2I]  \n",
       "16562  [B00138J5SQ, B0075FLUTS, B002L4U5RG, B00122DEFI, B0045KYGG0]  \n",
       "16563  [7799420340, B0006TTLIC, B000QMFUJ8, B000QO6B1C, B000QO76U2]  \n",
       "16564  [9714721180, B000EO8VMQ, B000LWZD7M, B000QOV6YY, B000S3KQOE]  \n",
       "16565  [B000S43QJA, B000S55E9O, B000S55TTY, B000SX9G90, B000SXDCD6]  \n",
       "\n",
       "[16566 rows x 2 columns]"
      ]
     },
     "execution_count": 24,
     "metadata": {},
     "output_type": "execute_result"
    }
   ],
   "source": [
    "users"
   ]
  },
  {
   "cell_type": "code",
   "execution_count": 25,
   "id": "56164520",
   "metadata": {},
   "outputs": [],
   "source": [
    "users.to_pickle('data/collab-filtering-RS.pkl')"
   ]
  }
 ],
 "metadata": {
  "kernelspec": {
   "display_name": "Python 3 (ipykernel)",
   "language": "python",
   "name": "python3"
  },
  "language_info": {
   "codemirror_mode": {
    "name": "ipython",
    "version": 3
   },
   "file_extension": ".py",
   "mimetype": "text/x-python",
   "name": "python",
   "nbconvert_exporter": "python",
   "pygments_lexer": "ipython3",
   "version": "3.8.10"
  }
 },
 "nbformat": 4,
 "nbformat_minor": 5
}
