{
 "cells": [
  {
   "cell_type": "code",
   "execution_count": 1,
   "id": "4150ef1f",
   "metadata": {},
   "outputs": [],
   "source": [
    "import gzip\n",
    "import json\n",
    "import statistics\n",
    "from typing import Iterator\n",
    "\n",
    "import pandas as pd\n",
    "from plotnine import *\n",
    "from surprise import (\n",
    "    accuracy,\n",
    "    AlgoBase,\n",
    "    BaselineOnly,\n",
    "    Dataset,\n",
    "    KNNBasic,\n",
    "    KNNWithZScore,\n",
    "    NormalPredictor,\n",
    "    Reader,\n",
    "    SlopeOne,\n",
    "    SVD,\n",
    ")\n",
    "from surprise.model_selection import cross_validate, train_test_split"
   ]
  },
  {
   "cell_type": "markdown",
   "id": "47c3395e",
   "metadata": {},
   "source": [
    "# Table of Contents\n",
    "\n",
    "- [Step B.1](#Step-B.1)\n",
    "- [Step B.2](#Step-B.2)\n",
    "- [Step B.3](#Step-B.3)\n",
    "- [Step B.4](#Step-B.4)"
   ]
  },
  {
   "cell_type": "code",
   "execution_count": 2,
   "id": "368c4c3e",
   "metadata": {},
   "outputs": [
    {
     "name": "stdout",
     "output_type": "stream",
     "text": [
      "--2022-02-20 16:22:26--  http://deepyeti.ucsd.edu/jianmo/amazon/categoryFilesSmall/Digital_Music_5.json.gz\n",
      "Resolving deepyeti.ucsd.edu (deepyeti.ucsd.edu)... 169.228.63.50\n",
      "Connecting to deepyeti.ucsd.edu (deepyeti.ucsd.edu)|169.228.63.50|:80... connected.\n",
      "HTTP request sent, awaiting response... 200 OK\n",
      "Length: 19408584 (19M) [application/octet-stream]\n",
      "Saving to: ‘data/Digital_Music_5.json.gz’\n",
      "\n",
      "Digital_Music_5.jso 100%[===================>]  18.51M   818KB/s    in 53s     \n",
      "\n",
      "2022-02-20 16:23:20 (356 KB/s) - ‘data/Digital_Music_5.json.gz’ saved [19408584/19408584]\n",
      "\n"
     ]
    }
   ],
   "source": [
    "# download the “small” 5-core dataset for the category \"Digital Music\"\n",
    "# dataset source: https://nijianmo.github.io/amazon/index.html\n",
    "\n",
    "!wget --backups=1 http://deepyeti.ucsd.edu/jianmo/amazon/categoryFilesSmall/Digital_Music_5.json.gz -P data/"
   ]
  },
  {
   "cell_type": "markdown",
   "id": "d1f6aafc",
   "metadata": {},
   "source": [
    "## Step B.1"
   ]
  },
  {
   "cell_type": "code",
   "execution_count": 3,
   "id": "fe5eaf30",
   "metadata": {},
   "outputs": [],
   "source": [
    "def inspect_df(df: pd.DataFrame, n: int = 5) -> pd.DataFrame:\n",
    "    \"\"\"Helper method to easily inspect DataFrames.\"\"\"\n",
    "\n",
    "    print(f\"shape: {df.shape}\")\n",
    "\n",
    "    return df.head(n)"
   ]
  },
  {
   "cell_type": "code",
   "execution_count": 4,
   "id": "eeed79c1",
   "metadata": {},
   "outputs": [],
   "source": [
    "def parse(filepath: str) -> Iterator[dict]:\n",
    "    file_obj = gzip.open(filepath, \"rb\")\n",
    "    for line in file_obj:\n",
    "        yield json.loads(line)"
   ]
  },
  {
   "cell_type": "code",
   "execution_count": 5,
   "id": "48517526",
   "metadata": {},
   "outputs": [],
   "source": [
    "def file_to_dataframe(filepath: str) -> pd.DataFrame:\n",
    "    i = 0\n",
    "    df = {}\n",
    "    for d in parse(filepath):\n",
    "        df[i] = {\n",
    "            \"user\": d[\"reviewerID\"],\n",
    "            \"item\": d[\"asin\"],\n",
    "            \"rating\": d[\"overall\"],\n",
    "        }  # keep only the essential data\n",
    "        i += 1\n",
    "    return pd.DataFrame.from_dict(df, orient=\"index\")"
   ]
  },
  {
   "cell_type": "code",
   "execution_count": 6,
   "id": "15edc4ee",
   "metadata": {
    "scrolled": true
   },
   "outputs": [],
   "source": [
    "review_data = file_to_dataframe(\"data/Digital_Music_5.json.gz\")"
   ]
  },
  {
   "cell_type": "code",
   "execution_count": 7,
   "id": "76b31534",
   "metadata": {},
   "outputs": [],
   "source": [
    "reader = Reader(rating_scale=(1, 5))"
   ]
  },
  {
   "cell_type": "code",
   "execution_count": 8,
   "id": "08d215bf",
   "metadata": {
    "scrolled": true
   },
   "outputs": [
    {
     "name": "stdout",
     "output_type": "stream",
     "text": [
      "shape: (169781, 3)\n"
     ]
    },
    {
     "data": {
      "text/html": [
       "<div>\n",
       "<style scoped>\n",
       "    .dataframe tbody tr th:only-of-type {\n",
       "        vertical-align: middle;\n",
       "    }\n",
       "\n",
       "    .dataframe tbody tr th {\n",
       "        vertical-align: top;\n",
       "    }\n",
       "\n",
       "    .dataframe thead th {\n",
       "        text-align: right;\n",
       "    }\n",
       "</style>\n",
       "<table border=\"1\" class=\"dataframe\">\n",
       "  <thead>\n",
       "    <tr style=\"text-align: right;\">\n",
       "      <th></th>\n",
       "      <th>user</th>\n",
       "      <th>item</th>\n",
       "      <th>rating</th>\n",
       "    </tr>\n",
       "  </thead>\n",
       "  <tbody>\n",
       "    <tr>\n",
       "      <th>0</th>\n",
       "      <td>A2TYZ821XXK2YZ</td>\n",
       "      <td>3426958910</td>\n",
       "      <td>5.0</td>\n",
       "    </tr>\n",
       "    <tr>\n",
       "      <th>1</th>\n",
       "      <td>A3OFSREZADFUDY</td>\n",
       "      <td>3426958910</td>\n",
       "      <td>5.0</td>\n",
       "    </tr>\n",
       "    <tr>\n",
       "      <th>2</th>\n",
       "      <td>A2VAMODP8M77NG</td>\n",
       "      <td>3426958910</td>\n",
       "      <td>5.0</td>\n",
       "    </tr>\n",
       "    <tr>\n",
       "      <th>3</th>\n",
       "      <td>AAKSLZ9IDTEH0</td>\n",
       "      <td>3426958910</td>\n",
       "      <td>4.0</td>\n",
       "    </tr>\n",
       "    <tr>\n",
       "      <th>4</th>\n",
       "      <td>A3OH43OZJLKI09</td>\n",
       "      <td>5557706259</td>\n",
       "      <td>5.0</td>\n",
       "    </tr>\n",
       "    <tr>\n",
       "      <th>5</th>\n",
       "      <td>A6JP9YYJCK3WO</td>\n",
       "      <td>5557706259</td>\n",
       "      <td>4.0</td>\n",
       "    </tr>\n",
       "    <tr>\n",
       "      <th>6</th>\n",
       "      <td>A20Z0JD766DPG6</td>\n",
       "      <td>5557706259</td>\n",
       "      <td>5.0</td>\n",
       "    </tr>\n",
       "    <tr>\n",
       "      <th>7</th>\n",
       "      <td>AXQ89O6YRT7AX</td>\n",
       "      <td>5557706259</td>\n",
       "      <td>5.0</td>\n",
       "    </tr>\n",
       "    <tr>\n",
       "      <th>8</th>\n",
       "      <td>A1M379MK8MKGUF</td>\n",
       "      <td>5557706259</td>\n",
       "      <td>5.0</td>\n",
       "    </tr>\n",
       "    <tr>\n",
       "      <th>9</th>\n",
       "      <td>AA762OWLWCPQ2</td>\n",
       "      <td>5557706259</td>\n",
       "      <td>5.0</td>\n",
       "    </tr>\n",
       "  </tbody>\n",
       "</table>\n",
       "</div>"
      ],
      "text/plain": [
       "             user        item  rating\n",
       "0  A2TYZ821XXK2YZ  3426958910     5.0\n",
       "1  A3OFSREZADFUDY  3426958910     5.0\n",
       "2  A2VAMODP8M77NG  3426958910     5.0\n",
       "3   AAKSLZ9IDTEH0  3426958910     4.0\n",
       "4  A3OH43OZJLKI09  5557706259     5.0\n",
       "5   A6JP9YYJCK3WO  5557706259     4.0\n",
       "6  A20Z0JD766DPG6  5557706259     5.0\n",
       "7   AXQ89O6YRT7AX  5557706259     5.0\n",
       "8  A1M379MK8MKGUF  5557706259     5.0\n",
       "9   AA762OWLWCPQ2  5557706259     5.0"
      ]
     },
     "execution_count": 8,
     "metadata": {},
     "output_type": "execute_result"
    }
   ],
   "source": [
    "data = Dataset.load_from_df(review_data[[\"user\", \"item\", \"rating\"]], reader)\n",
    "\n",
    "inspect_df(data.df, 10)"
   ]
  },
  {
   "cell_type": "markdown",
   "id": "857b0d46",
   "metadata": {},
   "source": [
    "## Step B.2"
   ]
  },
  {
   "cell_type": "code",
   "execution_count": 9,
   "id": "6d488bd5",
   "metadata": {},
   "outputs": [],
   "source": [
    "cv_results = {}"
   ]
  },
  {
   "cell_type": "code",
   "execution_count": 10,
   "id": "0ab2359f",
   "metadata": {
    "scrolled": true
   },
   "outputs": [
    {
     "name": "stdout",
     "output_type": "stream",
     "text": [
      "Evaluating RMSE, MAE of algorithm NormalPredictor on 5 split(s).\n",
      "\n",
      "                  Fold 1  Fold 2  Fold 3  Fold 4  Fold 5  Mean    Std     \n",
      "RMSE (testset)    0.8916  0.8944  0.8910  0.8894  0.8956  0.8924  0.0023  \n",
      "MAE (testset)     0.5912  0.5924  0.5928  0.5911  0.5913  0.5918  0.0007  \n",
      "Fit time          0.15    0.18    0.17    0.18    0.19    0.17    0.01    \n",
      "Test time         0.27    0.14    0.15    0.14    0.14    0.17    0.05    \n"
     ]
    }
   ],
   "source": [
    "\"\"\"\n",
    "Algorithm predicting a random rating based on the distribution of the training set, \n",
    "which is assumed to be normal.\n",
    "\"\"\"\n",
    "cv_results[\"NormalPredictor\"] = cross_validate(\n",
    "    algo=NormalPredictor(), data=data, verbose=True, cv=5\n",
    ")"
   ]
  },
  {
   "cell_type": "code",
   "execution_count": 11,
   "id": "f4f6bbb8",
   "metadata": {
    "scrolled": true
   },
   "outputs": [
    {
     "name": "stdout",
     "output_type": "stream",
     "text": [
      "Estimating biases using als...\n",
      "Estimating biases using als...\n",
      "Estimating biases using als...\n",
      "Estimating biases using als...\n",
      "Estimating biases using als...\n",
      "Evaluating RMSE, MAE of algorithm BaselineOnly on 5 split(s).\n",
      "\n",
      "                  Fold 1  Fold 2  Fold 3  Fold 4  Fold 5  Mean    Std     \n",
      "RMSE (testset)    0.5979  0.5906  0.6034  0.5827  0.5815  0.5912  0.0085  \n",
      "MAE (testset)     0.3737  0.3697  0.3739  0.3671  0.3668  0.3703  0.0031  \n",
      "Fit time          0.38    0.37    0.44    0.47    0.50    0.43    0.05    \n",
      "Test time         0.08    0.08    0.09    0.19    0.18    0.13    0.05    \n"
     ]
    }
   ],
   "source": [
    "\"\"\"\n",
    "Algorithm predicting the baseline estimate for given user and item.\n",
    "\"\"\"\n",
    "cv_results[\"BaselineOnly\"] = cross_validate(\n",
    "    algo=BaselineOnly(), data=data, verbose=True, cv=5\n",
    ")"
   ]
  },
  {
   "cell_type": "code",
   "execution_count": 12,
   "id": "afc89272",
   "metadata": {},
   "outputs": [
    {
     "name": "stdout",
     "output_type": "stream",
     "text": [
      "Computing the cosine similarity matrix...\n",
      "Done computing similarity matrix.\n",
      "Computing the cosine similarity matrix...\n",
      "Done computing similarity matrix.\n",
      "Computing the cosine similarity matrix...\n",
      "Done computing similarity matrix.\n",
      "Computing the cosine similarity matrix...\n",
      "Done computing similarity matrix.\n",
      "Computing the cosine similarity matrix...\n",
      "Done computing similarity matrix.\n",
      "Evaluating RMSE, MAE of algorithm KNNBasic on 5 split(s).\n",
      "\n",
      "                  Fold 1  Fold 2  Fold 3  Fold 4  Fold 5  Mean    Std     \n",
      "RMSE (testset)    0.6028  0.6143  0.6100  0.6195  0.6159  0.6125  0.0057  \n",
      "MAE (testset)     0.3122  0.3151  0.3129  0.3194  0.3147  0.3149  0.0025  \n",
      "Fit time          4.51    4.66    4.79    4.52    4.55    4.61    0.10    \n",
      "Test time         0.69    0.55    0.63    0.64    0.68    0.64    0.05    \n"
     ]
    }
   ],
   "source": [
    "\"\"\"\n",
    "A basic item-item collaborative filtering algorithm.\n",
    "\"\"\"\n",
    "cv_results[\"KNNBasic (cosine) item-based\"] = cross_validate(\n",
    "    algo=KNNBasic(\n",
    "        sim_options={\n",
    "            \"name\": \"cosine\",\n",
    "            \"user_based\": False,\n",
    "        }\n",
    "    ),\n",
    "    data=data,\n",
    "    verbose=True,\n",
    "    cv=5,\n",
    ")"
   ]
  },
  {
   "cell_type": "code",
   "execution_count": 13,
   "id": "78a3e337",
   "metadata": {},
   "outputs": [
    {
     "name": "stdout",
     "output_type": "stream",
     "text": [
      "Evaluating RMSE, MAE of algorithm SlopeOne on 5 split(s).\n",
      "\n",
      "                  Fold 1  Fold 2  Fold 3  Fold 4  Fold 5  Mean    Std     \n",
      "RMSE (testset)    0.5809  0.5752  0.5875  0.5889  0.5791  0.5823  0.0051  \n",
      "MAE (testset)     0.2719  0.2703  0.2743  0.2765  0.2707  0.2727  0.0023  \n",
      "Fit time          2.86    2.80    2.81    2.77    2.61    2.77    0.09    \n",
      "Test time         0.44    0.48    0.47    0.48    0.55    0.49    0.04    \n"
     ]
    }
   ],
   "source": [
    "\"\"\"\n",
    "A simple yet accurate item-based collaborative filtering algorithm.\n",
    "\n",
    "This is a straightforward implementation of the SlopeOne algorithm: https://arxiv.org/abs/cs/0702144\n",
    "\"\"\"\n",
    "cv_results[\"SlopeOne\"] = cross_validate(\n",
    "    algo=SlopeOne(),\n",
    "    data=data,\n",
    "    verbose=True,\n",
    "    cv=5,\n",
    ")"
   ]
  },
  {
   "cell_type": "code",
   "execution_count": 14,
   "id": "65704620",
   "metadata": {},
   "outputs": [
    {
     "name": "stdout",
     "output_type": "stream",
     "text": [
      "Computing the cosine similarity matrix...\n",
      "Done computing similarity matrix.\n",
      "Computing the cosine similarity matrix...\n",
      "Done computing similarity matrix.\n",
      "Computing the cosine similarity matrix...\n",
      "Done computing similarity matrix.\n",
      "Computing the cosine similarity matrix...\n",
      "Done computing similarity matrix.\n",
      "Computing the cosine similarity matrix...\n",
      "Done computing similarity matrix.\n",
      "Evaluating RMSE, MAE of algorithm KNNBasic on 5 split(s).\n",
      "\n",
      "                  Fold 1  Fold 2  Fold 3  Fold 4  Fold 5  Mean    Std     \n",
      "RMSE (testset)    0.7629  0.7728  0.7724  0.7738  0.7590  0.7682  0.0060  \n",
      "MAE (testset)     0.4621  0.4655  0.4655  0.4672  0.4621  0.4645  0.0020  \n",
      "Fit time          8.85    9.38    8.92    8.86    8.23    8.85    0.36    \n",
      "Test time         0.98    0.98    1.04    0.83    0.80    0.92    0.09    \n"
     ]
    }
   ],
   "source": [
    "\"\"\"\n",
    "A basic user-user collaborative filtering algorithm.\n",
    "\"\"\"\n",
    "cv_results[\"KNNBasic (cosine) user-based\"] = cross_validate(\n",
    "    algo=KNNBasic(\n",
    "        sim_options={\n",
    "            \"name\": \"cosine\",\n",
    "            \"user_based\": True,\n",
    "        }\n",
    "    ),\n",
    "    data=data,\n",
    "    verbose=True,\n",
    "    cv=5,\n",
    ")"
   ]
  },
  {
   "cell_type": "code",
   "execution_count": 15,
   "id": "276c6652",
   "metadata": {},
   "outputs": [
    {
     "name": "stdout",
     "output_type": "stream",
     "text": [
      "Computing the msd similarity matrix...\n",
      "Done computing similarity matrix.\n",
      "Computing the msd similarity matrix...\n",
      "Done computing similarity matrix.\n",
      "Computing the msd similarity matrix...\n",
      "Done computing similarity matrix.\n",
      "Computing the msd similarity matrix...\n",
      "Done computing similarity matrix.\n",
      "Computing the msd similarity matrix...\n",
      "Done computing similarity matrix.\n",
      "Evaluating RMSE, MAE of algorithm KNNWithZScore on 5 split(s).\n",
      "\n",
      "                  Fold 1  Fold 2  Fold 3  Fold 4  Fold 5  Mean    Std     \n",
      "RMSE (testset)    0.5832  0.5795  0.5863  0.5812  0.5850  0.5830  0.0025  \n",
      "MAE (testset)     0.2899  0.2904  0.2879  0.2871  0.2919  0.2894  0.0017  \n",
      "Fit time          5.68    5.39    5.38    5.54    5.53    5.50    0.11    \n",
      "Test time         0.83    0.85    0.84    0.91    0.84    0.85    0.03    \n"
     ]
    }
   ],
   "source": [
    "\"\"\"\n",
    "A basic collaborative filtering algorithm, taking into account\n",
    "the z-score normalization of each user.\n",
    "\"\"\"\n",
    "cv_results[\"KNNWithZScore (MSD) user-based\"] = cross_validate(\n",
    "    algo=KNNWithZScore(\n",
    "        sim_options={\n",
    "            \"name\": \"msd\",\n",
    "            \"user_based\": True,\n",
    "        }\n",
    "    ),\n",
    "    data=data,\n",
    "    verbose=True,\n",
    "    cv=5,\n",
    ")"
   ]
  },
  {
   "cell_type": "code",
   "execution_count": 16,
   "id": "f50c5847",
   "metadata": {},
   "outputs": [
    {
     "name": "stdout",
     "output_type": "stream",
     "text": [
      "Evaluating RMSE, MAE of algorithm SVD on 5 split(s).\n",
      "\n",
      "                  Fold 1  Fold 2  Fold 3  Fold 4  Fold 5  Mean    Std     \n",
      "RMSE (testset)    0.5607  0.5624  0.5690  0.5561  0.5597  0.5616  0.0042  \n",
      "MAE (testset)     0.3354  0.3352  0.3397  0.3336  0.3341  0.3356  0.0022  \n",
      "Fit time          5.60    5.20    5.20    5.54    5.71    5.45    0.21    \n",
      "Test time         0.23    0.21    0.21    0.24    0.16    0.21    0.03    \n"
     ]
    }
   ],
   "source": [
    "\"\"\"\n",
    "The famous SVD algorithm, as popularized by `Simon Funk\n",
    "<http://sifter.org/~simon/journal/20061211.html>`_ during the Netflix Prize.\n",
    "\"\"\"\n",
    "cv_results[\"SVD\"] = cross_validate(algo=SVD(), data=data, verbose=True, cv=5)"
   ]
  },
  {
   "cell_type": "markdown",
   "id": "98496600",
   "metadata": {},
   "source": [
    "## Step B.3"
   ]
  },
  {
   "cell_type": "code",
   "execution_count": 17,
   "id": "b14df1eb",
   "metadata": {},
   "outputs": [],
   "source": [
    "df = pd.DataFrame(cv_results).T.reset_index()\n",
    "\n",
    "df[\"mean RMSE\"] = df[\"test_rmse\"].map(lambda x: statistics.mean(x))"
   ]
  },
  {
   "cell_type": "code",
   "execution_count": 18,
   "id": "142d304f",
   "metadata": {},
   "outputs": [
    {
     "data": {
      "image/png": "[encoded data removed]",
      "text/plain": [
       "<Figure size 800x600 with 1 Axes>"
      ]
     },
     "metadata": {},
     "output_type": "display_data"
    },
    {
     "data": {
      "text/plain": [
       "<ggplot: (8727545617387)>"
      ]
     },
     "execution_count": 18,
     "metadata": {},
     "output_type": "execute_result"
    }
   ],
   "source": [
    "(\n",
    "    ggplot(df)\n",
    "    + geom_col(aes(x=\"index\", y=\"mean RMSE\"), stat=\"identity\")\n",
    "    + theme(axis_text_x=element_text(rotation=45, hjust=1), figure_size=(8, 6))\n",
    "    + labs(x=\"\", y=\"mean RMSE\")\n",
    ")"
   ]
  },
  {
   "cell_type": "markdown",
   "id": "fb95ceaf",
   "metadata": {},
   "source": [
    "## Step B.4"
   ]
  },
  {
   "cell_type": "code",
   "execution_count": 19,
   "id": "f394f061",
   "metadata": {},
   "outputs": [],
   "source": [
    "trainset, testset = train_test_split(data, test_size=0.25)"
   ]
  },
  {
   "cell_type": "code",
   "execution_count": 20,
   "id": "fa0ab794",
   "metadata": {},
   "outputs": [],
   "source": [
    "recsys = SVD().fit(trainset)"
   ]
  },
  {
   "cell_type": "code",
   "execution_count": 21,
   "id": "b8e08c55",
   "metadata": {},
   "outputs": [],
   "source": [
    "def get_recommendations_for_user(user: str, rs: AlgoBase, n: int = 5) -> list:\n",
    "\n",
    "    # get n random unseen products for this user\n",
    "    unseen_items = review_data[review_data[\"user\"] != user][\"item\"].sample(n).tolist()\n",
    "\n",
    "    # recommend\n",
    "    return [rs.predict(uid=user, iid=item) for item in unseen_items]"
   ]
  },
  {
   "cell_type": "code",
   "execution_count": 22,
   "id": "3252e434",
   "metadata": {},
   "outputs": [
    {
     "name": "stdout",
     "output_type": "stream",
     "text": [
      "user: A35JCASWZL0XBH item: B00HFWYCAK r_ui = None   est = 4.66   {'was_impossible': False}\n",
      "user: A35JCASWZL0XBH item: B00HRN141C r_ui = None   est = 4.70   {'was_impossible': False}\n",
      "user: A35JCASWZL0XBH item: B0098TPQ9O r_ui = None   est = 4.95   {'was_impossible': False}\n",
      "user: A35JCASWZL0XBH item: B00I164EUC r_ui = None   est = 5.00   {'was_impossible': False}\n",
      "user: A35JCASWZL0XBH item: B00123G5ZI r_ui = None   est = 4.84   {'was_impossible': False}\n",
      "=========================================================================================================\n",
      "user: AWS3ZNOPCH244 item: B0013803HS r_ui = None   est = 4.54   {'was_impossible': False}\n",
      "user: AWS3ZNOPCH244 item: B013HLHZQA r_ui = None   est = 4.69   {'was_impossible': False}\n",
      "user: AWS3ZNOPCH244 item: B0065Y2H3I r_ui = None   est = 4.79   {'was_impossible': False}\n",
      "user: AWS3ZNOPCH244 item: B001J1C2ZA r_ui = None   est = 4.70   {'was_impossible': False}\n",
      "user: AWS3ZNOPCH244 item: B00LAP3KS8 r_ui = None   est = 4.81   {'was_impossible': False}\n",
      "=========================================================================================================\n",
      "user: AOIQXY51I12F1 item: B0057PSUZA r_ui = None   est = 4.71   {'was_impossible': False}\n",
      "user: AOIQXY51I12F1 item: B00171ROAA r_ui = None   est = 4.61   {'was_impossible': False}\n",
      "user: AOIQXY51I12F1 item: B000V6AC9W r_ui = None   est = 4.52   {'was_impossible': False}\n",
      "user: AOIQXY51I12F1 item: B00CZF8B68 r_ui = None   est = 4.68   {'was_impossible': False}\n",
      "user: AOIQXY51I12F1 item: B00SCIDC8Y r_ui = None   est = 4.78   {'was_impossible': False}\n",
      "=========================================================================================================\n",
      "user: A1H66XNX4RS8JI item: B00CW7BSPU r_ui = None   est = 4.82   {'was_impossible': False}\n",
      "user: A1H66XNX4RS8JI item: B0059X2HC2 r_ui = None   est = 4.69   {'was_impossible': False}\n",
      "user: A1H66XNX4RS8JI item: B00122IPBG r_ui = None   est = 4.92   {'was_impossible': False}\n",
      "user: A1H66XNX4RS8JI item: B00122OMC2 r_ui = None   est = 4.55   {'was_impossible': False}\n",
      "user: A1H66XNX4RS8JI item: B00BWGHIHY r_ui = None   est = 4.76   {'was_impossible': False}\n",
      "=========================================================================================================\n",
      "user: A1Y25D0HYDZE06 item: B00DVZMQQC r_ui = None   est = 4.51   {'was_impossible': False}\n",
      "user: A1Y25D0HYDZE06 item: B00137R9OO r_ui = None   est = 4.42   {'was_impossible': False}\n",
      "user: A1Y25D0HYDZE06 item: B00137SRB8 r_ui = None   est = 4.53   {'was_impossible': False}\n",
      "user: A1Y25D0HYDZE06 item: B000W03JEM r_ui = None   est = 4.57   {'was_impossible': False}\n",
      "user: A1Y25D0HYDZE06 item: B00122OIJE r_ui = None   est = 4.44   {'was_impossible': False}\n",
      "=========================================================================================================\n"
     ]
    }
   ],
   "source": [
    "users = list(set((u for u, _, _ in testset)))\n",
    "\n",
    "for user in users[:5]:  # show recommendations for first 5 users, no need to display all\n",
    "    for recommendation in get_recommendations_for_user(user, rs=recsys, n=5):\n",
    "        print(recommendation)\n",
    "    print(\"=\" * 105)"
   ]
  }
 ],
 "metadata": {
  "kernelspec": {
   "display_name": "Python 3 (ipykernel)",
   "language": "python",
   "name": "python3"
  },
  "language_info": {
   "codemirror_mode": {
    "name": "ipython",
    "version": 3
   },
   "file_extension": ".py",
   "mimetype": "text/x-python",
   "name": "python",
   "nbconvert_exporter": "python",
   "pygments_lexer": "ipython3",
   "version": "3.8.10"
  }
 },
 "nbformat": 4,
 "nbformat_minor": 5
}
