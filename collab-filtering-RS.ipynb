{
 "cells": [
  {
   "cell_type": "markdown",
   "id": "af854b73",
   "metadata": {},
   "source": [
    "# Table of Contents\n",
    "\n",
    "- [Step B.1](#Step-A.1)"
   ]
  },
  {
   "cell_type": "code",
   "execution_count": null,
   "id": "d40e5b8e",
   "metadata": {},
   "outputs": [],
   "source": []
  }
 ],
 "metadata": {
  "kernelspec": {
   "display_name": "Python 3 (ipykernel)",
   "language": "python",
   "name": "python3"
  },
  "language_info": {
   "codemirror_mode": {
    "name": "ipython",
    "version": 3
   },
   "file_extension": ".py",
   "mimetype": "text/x-python",
   "name": "python",
   "nbconvert_exporter": "python",
   "pygments_lexer": "ipython3",
   "version": "3.8.10"
  }
 },
 "nbformat": 4,
 "nbformat_minor": 5
}
