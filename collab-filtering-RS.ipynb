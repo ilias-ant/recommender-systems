{
 "cells": [
  {
   "cell_type": "code",
   "execution_count": 60,
   "id": "4150ef1f",
   "metadata": {},
   "outputs": [],
   "source": [
    "import gzip\n",
    "import json\n",
    "import statistics\n",
    "from typing import Iterator\n",
    "\n",
    "import pandas as pd\n",
    "from plotnine import *\n",
    "from surprise import (\n",
    "    accuracy,\n",
    "    AlgoBase,\n",
    "    BaselineOnly,\n",
    "    Dataset,\n",
    "    KNNBasic,\n",
    "    KNNWithZScore,\n",
    "    NormalPredictor,\n",
    "    Reader,\n",
    "    SlopeOne,\n",
    "    SVD,\n",
    ")\n",
    "from surprise.model_selection import cross_validate, train_test_split"
   ]
  },
  {
   "cell_type": "markdown",
   "id": "47c3395e",
   "metadata": {},
   "source": [
    "# Table of Contents\n",
    "\n",
    "- [Step B.1](#Step-B.1)\n",
    "- [Step B.2](#Step-B.2)\n",
    "- [Step B.3](#Step-B.3)\n",
    "- [Step B.4](#Step-B.4)"
   ]
  },
  {
   "cell_type": "code",
   "execution_count": 61,
   "id": "368c4c3e",
   "metadata": {},
   "outputs": [
    {
     "name": "stdout",
     "output_type": "stream",
     "text": [
      "--2022-02-20 13:51:02--  http://deepyeti.ucsd.edu/jianmo/amazon/categoryFilesSmall/Digital_Music_5.json.gz\n",
      "Resolving deepyeti.ucsd.edu (deepyeti.ucsd.edu)... 169.228.63.50\n",
      "Connecting to deepyeti.ucsd.edu (deepyeti.ucsd.edu)|169.228.63.50|:80... connected.\n",
      "HTTP request sent, awaiting response... 200 OK\n",
      "Length: 19408584 (19M) [application/octet-stream]\n",
      "Saving to: ‘data/Digital_Music_5.json.gz’\n",
      "\n",
      "Digital_Music_5.jso 100%[===================>]  18.51M   307KB/s    in 69s     \n",
      "\n",
      "2022-02-20 13:52:12 (273 KB/s) - ‘data/Digital_Music_5.json.gz’ saved [19408584/19408584]\n",
      "\n"
     ]
    }
   ],
   "source": [
    "# download the “small” 5-core dataset for the category \"Digital Music\"\n",
    "# dataset source: https://nijianmo.github.io/amazon/index.html\n",
    "\n",
    "!wget --backups=1 http://deepyeti.ucsd.edu/jianmo/amazon/categoryFilesSmall/Digital_Music_5.json.gz -P data/"
   ]
  },
  {
   "cell_type": "markdown",
   "id": "d1f6aafc",
   "metadata": {},
   "source": [
    "## Step B.1"
   ]
  },
  {
   "cell_type": "code",
   "execution_count": 62,
   "id": "fe5eaf30",
   "metadata": {},
   "outputs": [],
   "source": [
    "def inspect_df(df: pd.DataFrame, n: int = 5) -> pd.DataFrame:\n",
    "    \"\"\"Helper method to easily inspect DataFrames.\"\"\"\n",
    "\n",
    "    print(f\"shape: {df.shape}\")\n",
    "\n",
    "    return df.head(n)"
   ]
  },
  {
   "cell_type": "code",
   "execution_count": 63,
   "id": "eeed79c1",
   "metadata": {},
   "outputs": [],
   "source": [
    "def parse(filepath: str) -> Iterator[dict]:\n",
    "    file_obj = gzip.open(filepath, \"rb\")\n",
    "    for line in file_obj:\n",
    "        yield json.loads(line)"
   ]
  },
  {
   "cell_type": "code",
   "execution_count": 64,
   "id": "48517526",
   "metadata": {},
   "outputs": [],
   "source": [
    "def file_to_dataframe(filepath: str) -> pd.DataFrame:\n",
    "    i = 0\n",
    "    df = {}\n",
    "    for d in parse(filepath):\n",
    "        df[i] = {\n",
    "            \"user\": d[\"reviewerID\"],\n",
    "            \"item\": d[\"asin\"],\n",
    "            \"rating\": d[\"overall\"],\n",
    "            \"timestamp\": d[\"unixReviewTime\"],\n",
    "        }  # keep only the essential data\n",
    "        i += 1\n",
    "    return pd.DataFrame.from_dict(df, orient=\"index\")"
   ]
  },
  {
   "cell_type": "code",
   "execution_count": 65,
   "id": "15edc4ee",
   "metadata": {
    "scrolled": true
   },
   "outputs": [],
   "source": [
    "review_data = file_to_dataframe(\"data/Digital_Music_5.json.gz\")"
   ]
  },
  {
   "cell_type": "code",
   "execution_count": 66,
   "id": "76b31534",
   "metadata": {},
   "outputs": [],
   "source": [
    "reader = Reader(rating_scale=(1, 5))"
   ]
  },
  {
   "cell_type": "code",
   "execution_count": 67,
   "id": "08d215bf",
   "metadata": {
    "scrolled": true
   },
   "outputs": [
    {
     "name": "stdout",
     "output_type": "stream",
     "text": [
      "shape: (169781, 3)\n"
     ]
    },
    {
     "data": {
      "text/html": [
       "<div>\n",
       "<style scoped>\n",
       "    .dataframe tbody tr th:only-of-type {\n",
       "        vertical-align: middle;\n",
       "    }\n",
       "\n",
       "    .dataframe tbody tr th {\n",
       "        vertical-align: top;\n",
       "    }\n",
       "\n",
       "    .dataframe thead th {\n",
       "        text-align: right;\n",
       "    }\n",
       "</style>\n",
       "<table border=\"1\" class=\"dataframe\">\n",
       "  <thead>\n",
       "    <tr style=\"text-align: right;\">\n",
       "      <th></th>\n",
       "      <th>user</th>\n",
       "      <th>item</th>\n",
       "      <th>rating</th>\n",
       "    </tr>\n",
       "  </thead>\n",
       "  <tbody>\n",
       "    <tr>\n",
       "      <th>0</th>\n",
       "      <td>A2TYZ821XXK2YZ</td>\n",
       "      <td>3426958910</td>\n",
       "      <td>5.0</td>\n",
       "    </tr>\n",
       "    <tr>\n",
       "      <th>1</th>\n",
       "      <td>A3OFSREZADFUDY</td>\n",
       "      <td>3426958910</td>\n",
       "      <td>5.0</td>\n",
       "    </tr>\n",
       "    <tr>\n",
       "      <th>2</th>\n",
       "      <td>A2VAMODP8M77NG</td>\n",
       "      <td>3426958910</td>\n",
       "      <td>5.0</td>\n",
       "    </tr>\n",
       "    <tr>\n",
       "      <th>3</th>\n",
       "      <td>AAKSLZ9IDTEH0</td>\n",
       "      <td>3426958910</td>\n",
       "      <td>4.0</td>\n",
       "    </tr>\n",
       "    <tr>\n",
       "      <th>4</th>\n",
       "      <td>A3OH43OZJLKI09</td>\n",
       "      <td>5557706259</td>\n",
       "      <td>5.0</td>\n",
       "    </tr>\n",
       "    <tr>\n",
       "      <th>5</th>\n",
       "      <td>A6JP9YYJCK3WO</td>\n",
       "      <td>5557706259</td>\n",
       "      <td>4.0</td>\n",
       "    </tr>\n",
       "    <tr>\n",
       "      <th>6</th>\n",
       "      <td>A20Z0JD766DPG6</td>\n",
       "      <td>5557706259</td>\n",
       "      <td>5.0</td>\n",
       "    </tr>\n",
       "    <tr>\n",
       "      <th>7</th>\n",
       "      <td>AXQ89O6YRT7AX</td>\n",
       "      <td>5557706259</td>\n",
       "      <td>5.0</td>\n",
       "    </tr>\n",
       "    <tr>\n",
       "      <th>8</th>\n",
       "      <td>A1M379MK8MKGUF</td>\n",
       "      <td>5557706259</td>\n",
       "      <td>5.0</td>\n",
       "    </tr>\n",
       "    <tr>\n",
       "      <th>9</th>\n",
       "      <td>AA762OWLWCPQ2</td>\n",
       "      <td>5557706259</td>\n",
       "      <td>5.0</td>\n",
       "    </tr>\n",
       "  </tbody>\n",
       "</table>\n",
       "</div>"
      ],
      "text/plain": [
       "             user        item  rating\n",
       "0  A2TYZ821XXK2YZ  3426958910     5.0\n",
       "1  A3OFSREZADFUDY  3426958910     5.0\n",
       "2  A2VAMODP8M77NG  3426958910     5.0\n",
       "3   AAKSLZ9IDTEH0  3426958910     4.0\n",
       "4  A3OH43OZJLKI09  5557706259     5.0\n",
       "5   A6JP9YYJCK3WO  5557706259     4.0\n",
       "6  A20Z0JD766DPG6  5557706259     5.0\n",
       "7   AXQ89O6YRT7AX  5557706259     5.0\n",
       "8  A1M379MK8MKGUF  5557706259     5.0\n",
       "9   AA762OWLWCPQ2  5557706259     5.0"
      ]
     },
     "execution_count": 67,
     "metadata": {},
     "output_type": "execute_result"
    }
   ],
   "source": [
    "data = Dataset.load_from_df(review_data[[\"user\", \"item\", \"rating\"]], reader)\n",
    "\n",
    "inspect_df(data.df, 10)"
   ]
  },
  {
   "cell_type": "markdown",
   "id": "857b0d46",
   "metadata": {},
   "source": [
    "## Step B.2"
   ]
  },
  {
   "cell_type": "code",
   "execution_count": 68,
   "id": "6d488bd5",
   "metadata": {},
   "outputs": [],
   "source": [
    "cv_results = {}"
   ]
  },
  {
   "cell_type": "code",
   "execution_count": 69,
   "id": "0ab2359f",
   "metadata": {
    "scrolled": true
   },
   "outputs": [
    {
     "name": "stdout",
     "output_type": "stream",
     "text": [
      "Evaluating RMSE, MAE of algorithm NormalPredictor on 5 split(s).\n",
      "\n",
      "                  Fold 1  Fold 2  Fold 3  Fold 4  Fold 5  Mean    Std     \n",
      "RMSE (testset)    0.8927  0.8982  0.8952  0.8916  0.8958  0.8947  0.0023  \n",
      "MAE (testset)     0.5917  0.5921  0.5947  0.5954  0.5939  0.5936  0.0014  \n",
      "Fit time          0.11    0.14    0.14    0.14    0.14    0.13    0.01    \n",
      "Test time         0.12    0.29    0.12    0.26    0.12    0.18    0.08    \n"
     ]
    }
   ],
   "source": [
    "\"\"\"\n",
    "Algorithm predicting a random rating based on the distribution of the training set, \n",
    "which is assumed to be normal.\n",
    "\"\"\"\n",
    "cv_results[\"NormalPredictor\"] = cross_validate(\n",
    "    algo=NormalPredictor(), data=data, verbose=True, cv=5\n",
    ")"
   ]
  },
  {
   "cell_type": "code",
   "execution_count": 70,
   "id": "f4f6bbb8",
   "metadata": {
    "scrolled": true
   },
   "outputs": [
    {
     "name": "stdout",
     "output_type": "stream",
     "text": [
      "Estimating biases using als...\n",
      "Estimating biases using als...\n",
      "Estimating biases using als...\n",
      "Estimating biases using als...\n",
      "Estimating biases using als...\n",
      "Evaluating RMSE, MAE of algorithm BaselineOnly on 5 split(s).\n",
      "\n",
      "                  Fold 1  Fold 2  Fold 3  Fold 4  Fold 5  Mean    Std     \n",
      "RMSE (testset)    0.5946  0.5919  0.5945  0.5838  0.5914  0.5912  0.0039  \n",
      "MAE (testset)     0.3714  0.3700  0.3723  0.3677  0.3690  0.3701  0.0016  \n",
      "Fit time          0.38    0.42    0.44    0.44    0.50    0.44    0.04    \n",
      "Test time         0.08    0.09    0.08    0.09    0.09    0.09    0.00    \n"
     ]
    }
   ],
   "source": [
    "\"\"\"\n",
    "Algorithm predicting the baseline estimate for given user and item.\n",
    "\"\"\"\n",
    "cv_results[\"BaselineOnly\"] = cross_validate(\n",
    "    algo=BaselineOnly(), data=data, verbose=True, cv=5\n",
    ")"
   ]
  },
  {
   "cell_type": "code",
   "execution_count": 71,
   "id": "afc89272",
   "metadata": {},
   "outputs": [
    {
     "name": "stdout",
     "output_type": "stream",
     "text": [
      "Computing the cosine similarity matrix...\n",
      "Done computing similarity matrix.\n",
      "Computing the cosine similarity matrix...\n",
      "Done computing similarity matrix.\n",
      "Computing the cosine similarity matrix...\n",
      "Done computing similarity matrix.\n",
      "Computing the cosine similarity matrix...\n",
      "Done computing similarity matrix.\n",
      "Computing the cosine similarity matrix...\n",
      "Done computing similarity matrix.\n",
      "Evaluating RMSE, MAE of algorithm KNNBasic on 5 split(s).\n",
      "\n",
      "                  Fold 1  Fold 2  Fold 3  Fold 4  Fold 5  Mean    Std     \n",
      "RMSE (testset)    0.6086  0.6220  0.6038  0.6088  0.6051  0.6097  0.0065  \n",
      "MAE (testset)     0.3124  0.3165  0.3131  0.3128  0.3114  0.3133  0.0017  \n",
      "Fit time          4.71    4.69    4.75    4.74    5.10    4.80    0.15    \n",
      "Test time         0.74    0.65    0.56    0.65    0.63    0.65    0.06    \n"
     ]
    }
   ],
   "source": [
    "\"\"\"\n",
    "A basic item-item collaborative filtering algorithm.\n",
    "\"\"\"\n",
    "cv_results[\"KNNBasic (cosine) item-based\"] = cross_validate(\n",
    "    algo=KNNBasic(\n",
    "        sim_options={\n",
    "            \"name\": \"cosine\",\n",
    "            \"user_based\": False,\n",
    "        }\n",
    "    ),\n",
    "    data=data,\n",
    "    verbose=True,\n",
    "    cv=5,\n",
    ")"
   ]
  },
  {
   "cell_type": "code",
   "execution_count": 72,
   "id": "78a3e337",
   "metadata": {},
   "outputs": [
    {
     "name": "stdout",
     "output_type": "stream",
     "text": [
      "Evaluating RMSE, MAE of algorithm SlopeOne on 5 split(s).\n",
      "\n",
      "                  Fold 1  Fold 2  Fold 3  Fold 4  Fold 5  Mean    Std     \n",
      "RMSE (testset)    0.5731  0.5811  0.5830  0.5948  0.5832  0.5830  0.0069  \n",
      "MAE (testset)     0.2675  0.2719  0.2735  0.2763  0.2718  0.2722  0.0029  \n",
      "Fit time          2.69    2.85    2.77    2.73    2.67    2.74    0.06    \n",
      "Test time         0.52    0.46    0.62    0.49    0.65    0.55    0.08    \n"
     ]
    }
   ],
   "source": [
    "\"\"\"\n",
    "A simple yet accurate item-based collaborative filtering algorithm.\n",
    "\n",
    "This is a straightforward implementation of the SlopeOne algorithm: https://arxiv.org/abs/cs/0702144\n",
    "\"\"\"\n",
    "cv_results[\"SlopeOne\"] = cross_validate(\n",
    "    algo=SlopeOne(),\n",
    "    data=data,\n",
    "    verbose=True,\n",
    "    cv=5,\n",
    ")"
   ]
  },
  {
   "cell_type": "code",
   "execution_count": 73,
   "id": "65704620",
   "metadata": {},
   "outputs": [
    {
     "name": "stdout",
     "output_type": "stream",
     "text": [
      "Computing the cosine similarity matrix...\n",
      "Done computing similarity matrix.\n",
      "Computing the cosine similarity matrix...\n",
      "Done computing similarity matrix.\n",
      "Computing the cosine similarity matrix...\n",
      "Done computing similarity matrix.\n",
      "Computing the cosine similarity matrix...\n",
      "Done computing similarity matrix.\n",
      "Computing the cosine similarity matrix...\n",
      "Done computing similarity matrix.\n",
      "Evaluating RMSE, MAE of algorithm KNNBasic on 5 split(s).\n",
      "\n",
      "                  Fold 1  Fold 2  Fold 3  Fold 4  Fold 5  Mean    Std     \n",
      "RMSE (testset)    0.7740  0.7637  0.7692  0.7786  0.7766  0.7724  0.0054  \n",
      "MAE (testset)     0.4664  0.4636  0.4652  0.4672  0.4685  0.4662  0.0017  \n",
      "Fit time          8.59    9.62    8.93    8.72    10.09   9.19    0.57    \n",
      "Test time         0.83    1.13    0.82    0.94    1.26    1.00    0.17    \n"
     ]
    }
   ],
   "source": [
    "\"\"\"\n",
    "A basic user-user collaborative filtering algorithm.\n",
    "\"\"\"\n",
    "cv_results[\"KNNBasic (cosine) user-based\"] = cross_validate(\n",
    "    algo=KNNBasic(\n",
    "        sim_options={\n",
    "            \"name\": \"cosine\",\n",
    "            \"user_based\": True,\n",
    "        }\n",
    "    ),\n",
    "    data=data,\n",
    "    verbose=True,\n",
    "    cv=5,\n",
    ")"
   ]
  },
  {
   "cell_type": "code",
   "execution_count": 74,
   "id": "276c6652",
   "metadata": {},
   "outputs": [
    {
     "name": "stdout",
     "output_type": "stream",
     "text": [
      "Computing the msd similarity matrix...\n",
      "Done computing similarity matrix.\n",
      "Computing the msd similarity matrix...\n",
      "Done computing similarity matrix.\n",
      "Computing the msd similarity matrix...\n",
      "Done computing similarity matrix.\n",
      "Computing the msd similarity matrix...\n",
      "Done computing similarity matrix.\n",
      "Computing the msd similarity matrix...\n",
      "Done computing similarity matrix.\n",
      "Evaluating RMSE, MAE of algorithm KNNWithZScore on 5 split(s).\n",
      "\n",
      "                  Fold 1  Fold 2  Fold 3  Fold 4  Fold 5  Mean    Std     \n",
      "RMSE (testset)    0.5879  0.5896  0.5804  0.5920  0.5922  0.5884  0.0043  \n",
      "MAE (testset)     0.2877  0.2917  0.2890  0.2946  0.2941  0.2914  0.0027  \n",
      "Fit time          6.38    6.82    6.90    6.68    6.71    6.70    0.18    \n",
      "Test time         0.97    1.23    0.99    1.11    0.97    1.05    0.10    \n"
     ]
    }
   ],
   "source": [
    "\"\"\"\n",
    "A basic collaborative filtering algorithm, taking into account\n",
    "the z-score normalization of each user.\n",
    "\"\"\"\n",
    "cv_results[\"KNNWithZScore (MSD) user-based\"] = cross_validate(\n",
    "    algo=KNNWithZScore(\n",
    "        sim_options={\n",
    "            \"name\": \"msd\",\n",
    "            \"user_based\": True,\n",
    "        }\n",
    "    ),\n",
    "    data=data,\n",
    "    verbose=True,\n",
    "    cv=5,\n",
    ")"
   ]
  },
  {
   "cell_type": "code",
   "execution_count": 75,
   "id": "f50c5847",
   "metadata": {},
   "outputs": [
    {
     "name": "stdout",
     "output_type": "stream",
     "text": [
      "Evaluating RMSE, MAE of algorithm SVD on 5 split(s).\n",
      "\n",
      "                  Fold 1  Fold 2  Fold 3  Fold 4  Fold 5  Mean    Std     \n",
      "RMSE (testset)    0.5584  0.5666  0.5577  0.5627  0.5604  0.5611  0.0032  \n",
      "MAE (testset)     0.3337  0.3388  0.3334  0.3343  0.3372  0.3355  0.0021  \n",
      "Fit time          5.42    5.47    5.53    5.43    5.33    5.44    0.07    \n",
      "Test time         0.16    0.14    0.17    0.29    0.15    0.18    0.06    \n"
     ]
    }
   ],
   "source": [
    "\"\"\"\n",
    "The famous SVD algorithm, as popularized by `Simon Funk\n",
    "<http://sifter.org/~simon/journal/20061211.html>`_ during the Netflix Prize.\n",
    "\"\"\"\n",
    "cv_results[\"KNNWithZScore (MSD) user-based\"] = cross_validate(\n",
    "    algo=SVD(), data=data, verbose=True, cv=5\n",
    ")"
   ]
  },
  {
   "cell_type": "markdown",
   "id": "98496600",
   "metadata": {},
   "source": [
    "## Step B.3"
   ]
  },
  {
   "cell_type": "code",
   "execution_count": 76,
   "id": "b14df1eb",
   "metadata": {},
   "outputs": [],
   "source": [
    "df = pd.DataFrame(cv_results).T.reset_index()\n",
    "\n",
    "df[\"mean RMSE\"] = df[\"test_rmse\"].map(lambda x: statistics.mean(x))"
   ]
  },
  {
   "cell_type": "code",
   "execution_count": 77,
   "id": "142d304f",
   "metadata": {},
   "outputs": [
    {
     "data": {
      "image/png": "[encoded data removed]",
      "text/plain": [
       "<Figure size 800x600 with 1 Axes>"
      ]
     },
     "metadata": {},
     "output_type": "display_data"
    },
    {
     "data": {
      "text/plain": [
       "<ggplot: (8744267294603)>"
      ]
     },
     "execution_count": 77,
     "metadata": {},
     "output_type": "execute_result"
    }
   ],
   "source": [
    "(\n",
    "    ggplot(df)\n",
    "    + geom_col(aes(x=\"index\", y=\"mean RMSE\"), stat=\"identity\")\n",
    "    + theme(axis_text_x=element_text(rotation=45, hjust=1), figure_size=(8, 6))\n",
    "    + labs(x=\"\", y=\"mean RMSE\")\n",
    ")"
   ]
  },
  {
   "cell_type": "markdown",
   "id": "fb95ceaf",
   "metadata": {},
   "source": [
    "## Step B.4"
   ]
  },
  {
   "cell_type": "code",
   "execution_count": 78,
   "id": "f394f061",
   "metadata": {},
   "outputs": [],
   "source": [
    "trainset, testset = train_test_split(data, test_size=0.25)"
   ]
  },
  {
   "cell_type": "code",
   "execution_count": 79,
   "id": "fa0ab794",
   "metadata": {},
   "outputs": [
    {
     "name": "stdout",
     "output_type": "stream",
     "text": [
      "Computing the msd similarity matrix...\n",
      "Done computing similarity matrix.\n"
     ]
    }
   ],
   "source": [
    "recsys = KNNWithZScore(\n",
    "    sim_options={\n",
    "        \"name\": \"msd\",\n",
    "        \"user_based\": True,\n",
    "    }\n",
    ").fit(trainset)"
   ]
  },
  {
   "cell_type": "code",
   "execution_count": 80,
   "id": "b8e08c55",
   "metadata": {},
   "outputs": [],
   "source": [
    "def get_recommendations_for_user(user: str, rs: AlgoBase, n: int = 5) -> list:\n",
    "\n",
    "    # get n random unseen products for this user\n",
    "    unseen_items = review_data[review_data[\"user\"] != user][\"item\"].sample(n).tolist()\n",
    "\n",
    "    # recommend\n",
    "    return [rs.predict(uid=user, iid=item) for item in unseen_items]"
   ]
  },
  {
   "cell_type": "code",
   "execution_count": 81,
   "id": "3252e434",
   "metadata": {},
   "outputs": [
    {
     "name": "stdout",
     "output_type": "stream",
     "text": [
      "user: A3U6W30C8NV11Y item: B004HLD10E r_ui = None   est = 5.00   {'actual_k': 0, 'was_impossible': False}\n",
      "user: A3U6W30C8NV11Y item: B00F0AIBJC r_ui = None   est = 4.75   {'actual_k': 2, 'was_impossible': False}\n",
      "user: A3U6W30C8NV11Y item: B0013805L2 r_ui = None   est = 5.00   {'actual_k': 0, 'was_impossible': False}\n",
      "user: A3U6W30C8NV11Y item: B004H028IG r_ui = None   est = 5.00   {'actual_k': 0, 'was_impossible': False}\n",
      "user: A3U6W30C8NV11Y item: B00J9R8PJ8 r_ui = None   est = 5.00   {'actual_k': 0, 'was_impossible': False}\n",
      "=========================================================================================================\n",
      "user: AKB8X5WG9OA16 item: B0011Z762I r_ui = None   est = 4.58   {'actual_k': 0, 'was_impossible': False}\n",
      "user: AKB8X5WG9OA16 item: B000TE6KXS r_ui = None   est = 4.58   {'actual_k': 0, 'was_impossible': False}\n",
      "user: AKB8X5WG9OA16 item: B00KX09DMI r_ui = None   est = 4.58   {'actual_k': 1, 'was_impossible': False}\n",
      "user: AKB8X5WG9OA16 item: B000WKT6B2 r_ui = None   est = 4.46   {'actual_k': 1, 'was_impossible': False}\n",
      "user: AKB8X5WG9OA16 item: B00136Q05O r_ui = None   est = 4.58   {'actual_k': 0, 'was_impossible': False}\n",
      "=========================================================================================================\n",
      "user: A205K5U0M2K8QC item: B013GYRS2O r_ui = None   est = 4.09   {'actual_k': 0, 'was_impossible': False}\n",
      "user: A205K5U0M2K8QC item: B007B6VOII r_ui = None   est = 4.07   {'actual_k': 10, 'was_impossible': False}\n",
      "user: A205K5U0M2K8QC item: B00EH49FRE r_ui = None   est = 4.03   {'actual_k': 12, 'was_impossible': False}\n",
      "user: A205K5U0M2K8QC item: B01FENOMEW r_ui = None   est = 4.09   {'actual_k': 0, 'was_impossible': False}\n",
      "user: A205K5U0M2K8QC item: B00137ILR8 r_ui = None   est = 4.09   {'actual_k': 0, 'was_impossible': False}\n",
      "=========================================================================================================\n",
      "user: A33OKS9H5YTMVO item: B000QWOLVQ r_ui = None   est = 5.00   {'actual_k': 0, 'was_impossible': False}\n",
      "user: A33OKS9H5YTMVO item: B00UC9F1SA r_ui = None   est = 5.00   {'actual_k': 0, 'was_impossible': False}\n",
      "user: A33OKS9H5YTMVO item: B017I55XSS r_ui = None   est = 5.00   {'actual_k': 0, 'was_impossible': False}\n",
      "user: A33OKS9H5YTMVO item: B0049SEVDQ r_ui = None   est = 5.00   {'actual_k': 0, 'was_impossible': False}\n",
      "user: A33OKS9H5YTMVO item: B002NQTG5Y r_ui = None   est = 5.00   {'actual_k': 0, 'was_impossible': False}\n",
      "=========================================================================================================\n",
      "user: A2X3Q48VCQBTVN item: B000QO3H3W r_ui = None   est = 4.92   {'actual_k': 1, 'was_impossible': False}\n",
      "user: A2X3Q48VCQBTVN item: B000UBTKEG r_ui = None   est = 4.46   {'actual_k': 0, 'was_impossible': False}\n",
      "user: A2X3Q48VCQBTVN item: B00136JDTY r_ui = None   est = 4.46   {'actual_k': 0, 'was_impossible': False}\n",
      "user: A2X3Q48VCQBTVN item: B002IEW504 r_ui = None   est = 4.97   {'actual_k': 1, 'was_impossible': False}\n",
      "user: A2X3Q48VCQBTVN item: B0011W0D6C r_ui = None   est = 3.97   {'actual_k': 1, 'was_impossible': False}\n",
      "=========================================================================================================\n"
     ]
    }
   ],
   "source": [
    "users = list(set((u for u, _, _ in testset)))\n",
    "\n",
    "for user in users[:5]:  # show recommendations for first 5 users, no need to display all\n",
    "    for recommendation in get_recommendations_for_user(user, rs=recsys, n=5):\n",
    "        print(recommendation)\n",
    "    print(\"=\" * 105)"
   ]
  }
 ],
 "metadata": {
  "kernelspec": {
   "display_name": "Python 3 (ipykernel)",
   "language": "python",
   "name": "python3"
  },
  "language_info": {
   "codemirror_mode": {
    "name": "ipython",
    "version": 3
   },
   "file_extension": ".py",
   "mimetype": "text/x-python",
   "name": "python",
   "nbconvert_exporter": "python",
   "pygments_lexer": "ipython3",
   "version": "3.8.10"
  }
 },
 "nbformat": 4,
 "nbformat_minor": 5
}
