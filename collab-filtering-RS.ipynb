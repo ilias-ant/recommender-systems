{
 "cells": [
  {
   "cell_type": "code",
   "execution_count": 1,
   "id": "4150ef1f",
   "metadata": {},
   "outputs": [],
   "source": [
    "import gzip\n",
    "import json\n",
    "from typing import Iterator\n",
    "\n",
    "import pandas as pd\n",
    "from surprise import (\n",
    "    accuracy,\n",
    "    BaselineOnly,\n",
    "    Dataset,\n",
    "    KNNBasic,\n",
    "    NormalPredictor,\n",
    "    Reader,\n",
    "    SlopeOne,\n",
    "    SVD,\n",
    ")\n",
    "from surprise.model_selection import cross_validate, KFold"
   ]
  },
  {
   "cell_type": "markdown",
   "id": "47c3395e",
   "metadata": {},
   "source": [
    "# Table of Contents\n",
    "\n",
    "- [Step B.1](#Step-B.1)\n",
    "- [Step B.2](#Step-B.2)\n",
    "- [Step B.3](#Step-B.3)\n",
    "- [Step B.4](#Step-B.4)"
   ]
  },
  {
   "cell_type": "code",
   "execution_count": 2,
   "id": "368c4c3e",
   "metadata": {},
   "outputs": [
    {
     "name": "stdout",
     "output_type": "stream",
     "text": [
      "--2022-02-20 00:35:49--  http://deepyeti.ucsd.edu/jianmo/amazon/categoryFilesSmall/Digital_Music_5.json.gz\n",
      "Resolving deepyeti.ucsd.edu (deepyeti.ucsd.edu)... 169.228.63.50\n",
      "Connecting to deepyeti.ucsd.edu (deepyeti.ucsd.edu)|169.228.63.50|:80... connected.\n",
      "HTTP request sent, awaiting response... 200 OK\n",
      "Length: 19408584 (19M) [application/octet-stream]\n",
      "Saving to: ‘data/Digital_Music_5.json.gz’\n",
      "\n",
      "Digital_Music_5.jso 100%[===================>]  18.51M   457KB/s    in 50s     \n",
      "\n",
      "2022-02-20 00:36:40 (376 KB/s) - ‘data/Digital_Music_5.json.gz’ saved [19408584/19408584]\n",
      "\n"
     ]
    }
   ],
   "source": [
    "# download the “small” 5-core dataset for the category \"Digital Music\"\n",
    "# dataset source: https://nijianmo.github.io/amazon/index.html\n",
    "\n",
    "!wget --backups=1 http://deepyeti.ucsd.edu/jianmo/amazon/categoryFilesSmall/Digital_Music_5.json.gz -P data/"
   ]
  },
  {
   "cell_type": "markdown",
   "id": "d1f6aafc",
   "metadata": {},
   "source": [
    "## Step B.1"
   ]
  },
  {
   "cell_type": "code",
   "execution_count": 3,
   "id": "fe5eaf30",
   "metadata": {},
   "outputs": [],
   "source": [
    "def inspect_df(df: pd.DataFrame, n: int = 5) -> pd.DataFrame:\n",
    "    \"\"\"Helper method to easily inspect DataFrames.\"\"\"\n",
    "\n",
    "    print(f\"shape: {df.shape}\")\n",
    "\n",
    "    return df.head(n)"
   ]
  },
  {
   "cell_type": "code",
   "execution_count": 4,
   "id": "eeed79c1",
   "metadata": {},
   "outputs": [],
   "source": [
    "def parse(filepath: str) -> Iterator[dict]:\n",
    "    file_obj = gzip.open(filepath, \"rb\")\n",
    "    for line in file_obj:\n",
    "        yield json.loads(line)"
   ]
  },
  {
   "cell_type": "code",
   "execution_count": 5,
   "id": "48517526",
   "metadata": {},
   "outputs": [],
   "source": [
    "def file_to_dataframe(filepath: str) -> pd.DataFrame:\n",
    "    i = 0\n",
    "    df = {}\n",
    "    for d in parse(filepath):\n",
    "        df[i] = {\n",
    "            \"user\": d[\"reviewerID\"],\n",
    "            \"item\": d[\"asin\"],\n",
    "            \"rating\": d[\"overall\"],\n",
    "            \"timestamp\": d[\"unixReviewTime\"],\n",
    "        }  # keep only the essential data\n",
    "        i += 1\n",
    "    return pd.DataFrame.from_dict(df, orient=\"index\")"
   ]
  },
  {
   "cell_type": "code",
   "execution_count": 6,
   "id": "15edc4ee",
   "metadata": {
    "scrolled": true
   },
   "outputs": [],
   "source": [
    "review_data = file_to_dataframe(\"data/Digital_Music_5.json.gz\")"
   ]
  },
  {
   "cell_type": "code",
   "execution_count": 7,
   "id": "76b31534",
   "metadata": {},
   "outputs": [],
   "source": [
    "reader = Reader(rating_scale=(1, 5))"
   ]
  },
  {
   "cell_type": "code",
   "execution_count": 8,
   "id": "08d215bf",
   "metadata": {
    "scrolled": true
   },
   "outputs": [
    {
     "name": "stdout",
     "output_type": "stream",
     "text": [
      "shape: (169781, 3)\n"
     ]
    },
    {
     "data": {
      "text/html": [
       "<div>\n",
       "<style scoped>\n",
       "    .dataframe tbody tr th:only-of-type {\n",
       "        vertical-align: middle;\n",
       "    }\n",
       "\n",
       "    .dataframe tbody tr th {\n",
       "        vertical-align: top;\n",
       "    }\n",
       "\n",
       "    .dataframe thead th {\n",
       "        text-align: right;\n",
       "    }\n",
       "</style>\n",
       "<table border=\"1\" class=\"dataframe\">\n",
       "  <thead>\n",
       "    <tr style=\"text-align: right;\">\n",
       "      <th></th>\n",
       "      <th>user</th>\n",
       "      <th>item</th>\n",
       "      <th>rating</th>\n",
       "    </tr>\n",
       "  </thead>\n",
       "  <tbody>\n",
       "    <tr>\n",
       "      <th>0</th>\n",
       "      <td>A2TYZ821XXK2YZ</td>\n",
       "      <td>3426958910</td>\n",
       "      <td>5.0</td>\n",
       "    </tr>\n",
       "    <tr>\n",
       "      <th>1</th>\n",
       "      <td>A3OFSREZADFUDY</td>\n",
       "      <td>3426958910</td>\n",
       "      <td>5.0</td>\n",
       "    </tr>\n",
       "    <tr>\n",
       "      <th>2</th>\n",
       "      <td>A2VAMODP8M77NG</td>\n",
       "      <td>3426958910</td>\n",
       "      <td>5.0</td>\n",
       "    </tr>\n",
       "    <tr>\n",
       "      <th>3</th>\n",
       "      <td>AAKSLZ9IDTEH0</td>\n",
       "      <td>3426958910</td>\n",
       "      <td>4.0</td>\n",
       "    </tr>\n",
       "    <tr>\n",
       "      <th>4</th>\n",
       "      <td>A3OH43OZJLKI09</td>\n",
       "      <td>5557706259</td>\n",
       "      <td>5.0</td>\n",
       "    </tr>\n",
       "    <tr>\n",
       "      <th>5</th>\n",
       "      <td>A6JP9YYJCK3WO</td>\n",
       "      <td>5557706259</td>\n",
       "      <td>4.0</td>\n",
       "    </tr>\n",
       "    <tr>\n",
       "      <th>6</th>\n",
       "      <td>A20Z0JD766DPG6</td>\n",
       "      <td>5557706259</td>\n",
       "      <td>5.0</td>\n",
       "    </tr>\n",
       "    <tr>\n",
       "      <th>7</th>\n",
       "      <td>AXQ89O6YRT7AX</td>\n",
       "      <td>5557706259</td>\n",
       "      <td>5.0</td>\n",
       "    </tr>\n",
       "    <tr>\n",
       "      <th>8</th>\n",
       "      <td>A1M379MK8MKGUF</td>\n",
       "      <td>5557706259</td>\n",
       "      <td>5.0</td>\n",
       "    </tr>\n",
       "    <tr>\n",
       "      <th>9</th>\n",
       "      <td>AA762OWLWCPQ2</td>\n",
       "      <td>5557706259</td>\n",
       "      <td>5.0</td>\n",
       "    </tr>\n",
       "  </tbody>\n",
       "</table>\n",
       "</div>"
      ],
      "text/plain": [
       "             user        item  rating\n",
       "0  A2TYZ821XXK2YZ  3426958910     5.0\n",
       "1  A3OFSREZADFUDY  3426958910     5.0\n",
       "2  A2VAMODP8M77NG  3426958910     5.0\n",
       "3   AAKSLZ9IDTEH0  3426958910     4.0\n",
       "4  A3OH43OZJLKI09  5557706259     5.0\n",
       "5   A6JP9YYJCK3WO  5557706259     4.0\n",
       "6  A20Z0JD766DPG6  5557706259     5.0\n",
       "7   AXQ89O6YRT7AX  5557706259     5.0\n",
       "8  A1M379MK8MKGUF  5557706259     5.0\n",
       "9   AA762OWLWCPQ2  5557706259     5.0"
      ]
     },
     "execution_count": 8,
     "metadata": {},
     "output_type": "execute_result"
    }
   ],
   "source": [
    "data = Dataset.load_from_df(review_data[[\"user\", \"item\", \"rating\"]], reader)\n",
    "\n",
    "inspect_df(data.df, 10)"
   ]
  },
  {
   "cell_type": "markdown",
   "id": "857b0d46",
   "metadata": {},
   "source": [
    "## Step B.2"
   ]
  },
  {
   "cell_type": "code",
   "execution_count": 9,
   "id": "6d488bd5",
   "metadata": {},
   "outputs": [],
   "source": [
    "cv_results = {}"
   ]
  },
  {
   "cell_type": "code",
   "execution_count": 10,
   "id": "0ab2359f",
   "metadata": {
    "scrolled": true
   },
   "outputs": [
    {
     "name": "stdout",
     "output_type": "stream",
     "text": [
      "Evaluating RMSE, MAE of algorithm NormalPredictor on 5 split(s).\n",
      "\n",
      "                  Fold 1  Fold 2  Fold 3  Fold 4  Fold 5  Mean    Std     \n",
      "RMSE (testset)    0.8940  0.8989  0.8961  0.8954  0.8927  0.8954  0.0021  \n",
      "MAE (testset)     0.5933  0.5951  0.5947  0.5932  0.5937  0.5940  0.0008  \n",
      "Fit time          0.13    0.18    0.19    0.17    0.17    0.17    0.02    \n",
      "Test time         0.21    0.20    0.27    0.20    0.19    0.22    0.03    \n"
     ]
    }
   ],
   "source": [
    "\"\"\"\n",
    "Algorithm predicting a random rating based on the distribution of the training set, \n",
    "which is assumed to be normal.\n",
    "\"\"\"\n",
    "cv_results[\"NormalPredictor\"] = cross_validate(\n",
    "    algo=NormalPredictor(), data=data, verbose=True, cv=5\n",
    ")"
   ]
  },
  {
   "cell_type": "code",
   "execution_count": 11,
   "id": "f4f6bbb8",
   "metadata": {
    "scrolled": true
   },
   "outputs": [
    {
     "name": "stdout",
     "output_type": "stream",
     "text": [
      "Estimating biases using als...\n",
      "Estimating biases using als...\n",
      "Estimating biases using als...\n",
      "Estimating biases using als...\n",
      "Estimating biases using als...\n",
      "Evaluating RMSE, MAE of algorithm BaselineOnly on 5 split(s).\n",
      "\n",
      "                  Fold 1  Fold 2  Fold 3  Fold 4  Fold 5  Mean    Std     \n",
      "RMSE (testset)    0.5943  0.5902  0.5990  0.5930  0.5820  0.5917  0.0056  \n",
      "MAE (testset)     0.3724  0.3704  0.3723  0.3695  0.3676  0.3704  0.0018  \n",
      "Fit time          0.42    0.42    0.48    0.41    0.47    0.44    0.03    \n",
      "Test time         0.14    0.15    0.15    0.14    0.15    0.15    0.01    \n"
     ]
    }
   ],
   "source": [
    "\"\"\"\n",
    "Algorithm predicting the baseline estimate for given user and item.\n",
    "\"\"\"\n",
    "cv_results[\"BaselineOnly\"] = cross_validate(\n",
    "    algo=BaselineOnly(), data=data, verbose=True, cv=5\n",
    ")"
   ]
  },
  {
   "cell_type": "code",
   "execution_count": 12,
   "id": "afc89272",
   "metadata": {},
   "outputs": [
    {
     "name": "stdout",
     "output_type": "stream",
     "text": [
      "Computing the cosine similarity matrix...\n",
      "Done computing similarity matrix.\n",
      "Computing the cosine similarity matrix...\n",
      "Done computing similarity matrix.\n",
      "Computing the cosine similarity matrix...\n",
      "Done computing similarity matrix.\n",
      "Computing the cosine similarity matrix...\n",
      "Done computing similarity matrix.\n",
      "Computing the cosine similarity matrix...\n",
      "Done computing similarity matrix.\n",
      "Evaluating RMSE, MAE of algorithm KNNBasic on 5 split(s).\n",
      "\n",
      "                  Fold 1  Fold 2  Fold 3  Fold 4  Fold 5  Mean    Std     \n",
      "RMSE (testset)    0.6131  0.6100  0.6162  0.6084  0.6049  0.6105  0.0039  \n",
      "MAE (testset)     0.3150  0.3139  0.3170  0.3146  0.3122  0.3145  0.0016  \n",
      "Fit time          4.89    4.73    5.06    4.75    4.78    4.84    0.12    \n",
      "Test time         0.86    0.74    0.66    0.67    0.60    0.71    0.09    \n"
     ]
    }
   ],
   "source": [
    "\"\"\"\n",
    "A basic item-item collaborative filtering algorithm.\n",
    "\"\"\"\n",
    "cv_results[\"KNNBasic (cosine) item-based\"] = cross_validate(\n",
    "    algo=KNNBasic(\n",
    "        sim_options={\n",
    "            \"name\": \"cosine\",\n",
    "            \"user_based\": False,\n",
    "        }\n",
    "    ),\n",
    "    data=data,\n",
    "    verbose=True,\n",
    "    cv=5,\n",
    ")"
   ]
  },
  {
   "cell_type": "code",
   "execution_count": 13,
   "id": "78a3e337",
   "metadata": {},
   "outputs": [
    {
     "name": "stdout",
     "output_type": "stream",
     "text": [
      "Evaluating RMSE, MAE of algorithm SlopeOne on 5 split(s).\n",
      "\n",
      "                  Fold 1  Fold 2  Fold 3  Fold 4  Fold 5  Mean    Std     \n",
      "RMSE (testset)    0.5785  0.5863  0.5874  0.5859  0.5768  0.5830  0.0044  \n",
      "MAE (testset)     0.2706  0.2746  0.2758  0.2756  0.2687  0.2730  0.0029  \n",
      "Fit time          2.59    2.70    2.60    2.84    2.84    2.71    0.11    \n",
      "Test time         0.54    0.55    0.53    0.54    0.55    0.54    0.01    \n"
     ]
    }
   ],
   "source": [
    "\"\"\"\n",
    "A simple yet accurate item-based collaborative filtering algorithm.\n",
    "\n",
    "This is a straightforward implementation of the SlopeOne algorithm: https://arxiv.org/abs/cs/0702144\n",
    "\"\"\"\n",
    "cv_results[\"SlopeOne\"] = cross_validate(\n",
    "    algo=SlopeOne(),\n",
    "    data=data,\n",
    "    verbose=True,\n",
    "    cv=5,\n",
    ")"
   ]
  },
  {
   "cell_type": "code",
   "execution_count": 14,
   "id": "65704620",
   "metadata": {},
   "outputs": [],
   "source": [
    "# \"\"\"\n",
    "# A basic user-user collaborative filtering algorithm.\n",
    "# \"\"\"\n",
    "# cv_results[\"KNNBasic (cosine) user-based\"] = cross_validate(\n",
    "#     algo=KNNBasic(\n",
    "#         sim_options={\n",
    "#             \"name\": \"cosine\",\n",
    "#             \"user_based\": True,\n",
    "#         }\n",
    "#     ),\n",
    "#     data=data,\n",
    "#     verbose=True,\n",
    "#     cv=5,\n",
    "# )"
   ]
  },
  {
   "cell_type": "code",
   "execution_count": null,
   "id": "276c6652",
   "metadata": {},
   "outputs": [],
   "source": []
  },
  {
   "cell_type": "code",
   "execution_count": null,
   "id": "f50c5847",
   "metadata": {},
   "outputs": [],
   "source": []
  },
  {
   "cell_type": "code",
   "execution_count": null,
   "id": "092def72",
   "metadata": {},
   "outputs": [],
   "source": []
  },
  {
   "cell_type": "code",
   "execution_count": null,
   "id": "95c43170",
   "metadata": {},
   "outputs": [],
   "source": []
  },
  {
   "cell_type": "code",
   "execution_count": 15,
   "id": "fee46eec",
   "metadata": {},
   "outputs": [
    {
     "name": "stdout",
     "output_type": "stream",
     "text": [
      "RMSE: 0.5611\n",
      "RMSE: 0.5651\n",
      "RMSE: 0.5572\n",
      "RMSE: 0.5657\n",
      "RMSE: 0.5604\n"
     ]
    }
   ],
   "source": [
    "kf = KFold(n_splits=5, random_state=123456789)\n",
    "\n",
    "algo = SVD()\n",
    "\n",
    "for trainset, testset in kf.split(data):\n",
    "\n",
    "    # train and test algorithm.\n",
    "    algo.fit(trainset)\n",
    "    predictions = algo.test(testset)\n",
    "\n",
    "    # Compute and print Root Mean Squared Error\n",
    "    accuracy.rmse(predictions, verbose=True)"
   ]
  },
  {
   "cell_type": "markdown",
   "id": "98496600",
   "metadata": {},
   "source": [
    "## Step B.3"
   ]
  },
  {
   "cell_type": "code",
   "execution_count": null,
   "id": "be58863d",
   "metadata": {},
   "outputs": [],
   "source": []
  },
  {
   "cell_type": "markdown",
   "id": "fb95ceaf",
   "metadata": {},
   "source": [
    "## Step B.4"
   ]
  },
  {
   "cell_type": "code",
   "execution_count": null,
   "id": "f394f061",
   "metadata": {},
   "outputs": [],
   "source": []
  },
  {
   "cell_type": "code",
   "execution_count": null,
   "id": "e29cff1e",
   "metadata": {},
   "outputs": [],
   "source": []
  },
  {
   "cell_type": "code",
   "execution_count": null,
   "id": "f33aaa02",
   "metadata": {},
   "outputs": [],
   "source": []
  },
  {
   "cell_type": "code",
   "execution_count": null,
   "id": "ce5fc7dd",
   "metadata": {},
   "outputs": [],
   "source": []
  },
  {
   "cell_type": "code",
   "execution_count": null,
   "id": "c180cc3b",
   "metadata": {},
   "outputs": [],
   "source": []
  },
  {
   "cell_type": "code",
   "execution_count": null,
   "id": "162a10a3",
   "metadata": {},
   "outputs": [],
   "source": []
  },
  {
   "cell_type": "code",
   "execution_count": null,
   "id": "aec53516",
   "metadata": {},
   "outputs": [],
   "source": []
  },
  {
   "cell_type": "code",
   "execution_count": null,
   "id": "44f5239e",
   "metadata": {},
   "outputs": [],
   "source": []
  }
 ],
 "metadata": {
  "kernelspec": {
   "display_name": "Python 3 (ipykernel)",
   "language": "python",
   "name": "python3"
  },
  "language_info": {
   "codemirror_mode": {
    "name": "ipython",
    "version": 3
   },
   "file_extension": ".py",
   "mimetype": "text/x-python",
   "name": "python",
   "nbconvert_exporter": "python",
   "pygments_lexer": "ipython3",
   "version": "3.8.10"
  }
 },
 "nbformat": 4,
 "nbformat_minor": 5
}
