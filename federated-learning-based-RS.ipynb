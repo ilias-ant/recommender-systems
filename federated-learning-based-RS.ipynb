{
 "cells": [
  {
   "cell_type": "code",
   "execution_count": 69,
   "id": "8f15be42",
   "metadata": {},
   "outputs": [],
   "source": [
    "import collections\n",
    "import statistics\n",
    "from typing import Iterator\n",
    "\n",
    "import pandas as pd\n",
    "import tensorflow as tf\n",
    "import tensorflow_federated as tff\n",
    "from plotnine import *\n",
    "from surprise import SVD\n",
    "from surprise import Dataset, Reader\n",
    "from surprise.model_selection import cross_validate"
   ]
  },
  {
   "cell_type": "markdown",
   "id": "9b810486",
   "metadata": {},
   "source": [
    "# Table of Contents\n",
    "\n",
    "- [Step 1](#Step-1)\n",
    "- [Step 2](#Step-2-+-Step-3)\n",
    "- [Step 3](#Step-2-+-Step-3)\n",
    "- [Step 4](#Step-4)\n",
    "- [Step 5](#Step-5)\n",
    "- [Step 6](#Step-6)\n",
    "- [Step 7](#Step-4)\n",
    "- [Step 8](#Step-5)\n",
    "- [Step 9](#Step-6)\n",
    "- [Step 10](#Step-10)"
   ]
  },
  {
   "cell_type": "code",
   "execution_count": 19,
   "id": "d2c97ce8",
   "metadata": {},
   "outputs": [],
   "source": [
    "def inspect_df(df: pd.DataFrame, n: int = 5) -> pd.DataFrame:\n",
    "    \"\"\"Helper method to easily inspect DataFrames.\"\"\"\n",
    "\n",
    "    print(f\"shape: {df.shape}\")\n",
    "\n",
    "    return df.head(n)"
   ]
  },
  {
   "cell_type": "code",
   "execution_count": 3,
   "id": "734ab202",
   "metadata": {},
   "outputs": [
    {
     "name": "stdout",
     "output_type": "stream",
     "text": [
      "--2022-03-18 15:31:01--  https://files.grouplens.org/datasets/movielens/ml-latest-small.zip\n",
      "Resolving files.grouplens.org (files.grouplens.org)... 128.101.65.152\n",
      "Connecting to files.grouplens.org (files.grouplens.org)|128.101.65.152|:443... connected.\n",
      "HTTP request sent, awaiting response... 200 OK\n",
      "Length: 978202 (955K) [application/zip]\n",
      "Failed to rename data/ml-latest-small.zip to data/ml-latest-small.zip.1: (2) No such file or directory\n",
      "Saving to: ‘data/ml-latest-small.zip’\n",
      "\n",
      "ml-latest-small.zip 100%[===================>] 955.28K   297KB/s    in 3.2s    \n",
      "\n",
      "2022-03-18 15:31:05 (297 KB/s) - ‘data/ml-latest-small.zip’ saved [978202/978202]\n",
      "\n"
     ]
    }
   ],
   "source": [
    "# dataset source: https://grouplens.org/datasets/movielens/\n",
    "!wget --backups=1 https://files.grouplens.org/datasets/movielens/ml-latest-small.zip -P data/"
   ]
  },
  {
   "cell_type": "code",
   "execution_count": 4,
   "id": "6bc846ed",
   "metadata": {},
   "outputs": [
    {
     "name": "stdout",
     "output_type": "stream",
     "text": [
      "Archive:  data/ml-latest-small.zip\r\n",
      "   creating: data/ml-latest-small/\r\n",
      "  inflating: data/ml-latest-small/links.csv  \r\n",
      "  inflating: data/ml-latest-small/tags.csv  \r\n",
      "  inflating: data/ml-latest-small/ratings.csv  \r\n",
      "  inflating: data/ml-latest-small/README.txt  \r\n",
      "  inflating: data/ml-latest-small/movies.csv  \r\n"
     ]
    }
   ],
   "source": [
    "# if `unzip` does not exist in your system: apt-get install unzip\n",
    "!unzip -o data/ml-latest-small.zip -d data/"
   ]
  },
  {
   "cell_type": "markdown",
   "id": "56f05686",
   "metadata": {},
   "source": [
    "## Step 1"
   ]
  },
  {
   "cell_type": "code",
   "execution_count": 4,
   "id": "1e0a335b",
   "metadata": {},
   "outputs": [],
   "source": [
    "# Formulate the optimization problem (similarly to the formulation in Unit 5). Your\n",
    "# optimization problem will relate to the prediction error in the training dataset.\n",
    "# Make sure you understand the unknowns of the problem, and what you are trying to optimize."
   ]
  },
  {
   "cell_type": "markdown",
   "id": "15066828",
   "metadata": {},
   "source": [
    "## Step 2 + Step 3"
   ]
  },
  {
   "cell_type": "code",
   "execution_count": 33,
   "id": "f9427823",
   "metadata": {},
   "outputs": [],
   "source": [
    "reader = Reader(\n",
    "    line_format=\"user item rating timestamp\", sep=\",\", skip_lines=1, rating_scale=(1, 5)\n",
    ")"
   ]
  },
  {
   "cell_type": "code",
   "execution_count": 34,
   "id": "9e3da310",
   "metadata": {},
   "outputs": [],
   "source": [
    "data = Dataset.load_from_file(\"data/ml-latest-small/ratings.csv\", reader=reader)"
   ]
  },
  {
   "cell_type": "markdown",
   "id": "e3abbe16",
   "metadata": {},
   "source": [
    "## Step 4"
   ]
  },
  {
   "cell_type": "code",
   "execution_count": 54,
   "id": "17c416bf",
   "metadata": {},
   "outputs": [],
   "source": [
    "recsys_small = SVD(\n",
    "    n_factors=4,\n",
    "    n_epochs=50,\n",
    "    biased=True,  # use baselines\n",
    "    random_state=123456,\n",
    ")"
   ]
  },
  {
   "cell_type": "code",
   "execution_count": 55,
   "id": "eea20aef",
   "metadata": {},
   "outputs": [],
   "source": [
    "recsys_large = SVD(\n",
    "    n_factors=20,\n",
    "    n_epochs=50,\n",
    "    biased=True,  # use baselines\n",
    "    random_state=123456,\n",
    ")"
   ]
  },
  {
   "cell_type": "code",
   "execution_count": 58,
   "id": "917b2e90",
   "metadata": {
    "scrolled": false
   },
   "outputs": [
    {
     "name": "stdout",
     "output_type": "stream",
     "text": [
      "Evaluating MSE, RMSE, MAE of algorithm SVD on 5 split(s).\n",
      "\n",
      "                  Fold 1  Fold 2  Fold 3  Fold 4  Fold 5  Mean    Std     \n",
      "MSE (testset)     0.7573  0.7585  0.7633  0.7525  0.7631  0.7589  0.0040  \n",
      "RMSE (testset)    0.8703  0.8709  0.8737  0.8675  0.8736  0.8712  0.0023  \n",
      "MAE (testset)     0.6659  0.6674  0.6683  0.6631  0.6678  0.6665  0.0019  \n",
      "MSE (trainset)    0.5110  0.5065  0.5063  0.5099  0.5052  0.5078  0.0023  \n",
      "RMSE (trainset)   0.7149  0.7117  0.7116  0.7141  0.7108  0.7126  0.0016  \n",
      "MAE (trainset)    0.5504  0.5476  0.5478  0.5495  0.5469  0.5484  0.0013  \n",
      "Fit time          1.81    1.77    1.88    1.95    1.86    1.85    0.06    \n",
      "Test time         0.12    0.13    0.12    0.12    0.16    0.13    0.01    \n"
     ]
    }
   ],
   "source": [
    "cv_results = {}\n",
    "\n",
    "cv_results[\"SVD w/ 4 factors\"] = cross_validate(\n",
    "    recsys_small,\n",
    "    data=data,\n",
    "    measures=[\"mse\", \"rmse\", \"mae\"],\n",
    "    return_train_measures=True,\n",
    "    verbose=True,\n",
    "    cv=5,\n",
    "    n_jobs=-1,\n",
    ")"
   ]
  },
  {
   "cell_type": "code",
   "execution_count": 59,
   "id": "1fcc3326",
   "metadata": {},
   "outputs": [
    {
     "name": "stdout",
     "output_type": "stream",
     "text": [
      "Evaluating MSE, RMSE, MAE of algorithm SVD on 5 split(s).\n",
      "\n",
      "                  Fold 1  Fold 2  Fold 3  Fold 4  Fold 5  Mean    Std     \n",
      "MSE (testset)     0.7928  0.7890  0.7790  0.7706  0.7700  0.7803  0.0093  \n",
      "RMSE (testset)    0.8904  0.8883  0.8826  0.8778  0.8775  0.8833  0.0053  \n",
      "MAE (testset)     0.6802  0.6815  0.6765  0.6723  0.6699  0.6761  0.0044  \n",
      "MSE (trainset)    0.3040  0.3026  0.3014  0.3028  0.3034  0.3028  0.0009  \n",
      "RMSE (trainset)   0.5513  0.5501  0.5490  0.5503  0.5508  0.5503  0.0008  \n",
      "MAE (trainset)    0.4255  0.4234  0.4229  0.4243  0.4248  0.4242  0.0009  \n",
      "Fit time          3.28    3.30    3.26    3.26    3.27    3.27    0.02    \n",
      "Test time         0.12    0.13    0.12    0.11    0.11    0.12    0.01    \n"
     ]
    }
   ],
   "source": [
    "cv_results[\"SVD w/ 20 factors\"] = cross_validate(\n",
    "    recsys_large,\n",
    "    data=data,\n",
    "    measures=[\"mse\", \"rmse\", \"mae\"],\n",
    "    return_train_measures=True,\n",
    "    verbose=True,\n",
    "    cv=5,\n",
    "    n_jobs=-1,\n",
    ")"
   ]
  },
  {
   "cell_type": "code",
   "execution_count": 64,
   "id": "28ceac08",
   "metadata": {},
   "outputs": [],
   "source": [
    "df = pd.DataFrame(cv_results).T.reset_index()\n",
    "\n",
    "df[\"mean RMSE (train)\"] = df[\"train_rmse\"].map(lambda x: statistics.mean(x))"
   ]
  },
  {
   "cell_type": "code",
   "execution_count": 65,
   "id": "596350da",
   "metadata": {},
   "outputs": [
    {
     "data": {
      "image/png": "[encoded data removed]",
      "text/plain": [
       "<Figure size 800x600 with 1 Axes>"
      ]
     },
     "metadata": {},
     "output_type": "display_data"
    },
    {
     "data": {
      "text/plain": [
       "<ggplot: (8761071990260)>"
      ]
     },
     "execution_count": 65,
     "metadata": {},
     "output_type": "execute_result"
    }
   ],
   "source": [
    "(\n",
    "    ggplot(df)\n",
    "    + geom_col(aes(x=\"index\", y=\"mean RMSE (train)\"), stat=\"identity\")\n",
    "    + theme(axis_text_x=element_text(rotation=45, hjust=1), figure_size=(8, 6))\n",
    "    + labs(x=\"\", y=\"mean RMSE (train)\")\n",
    "    + coord_flip()\n",
    ")"
   ]
  },
  {
   "cell_type": "markdown",
   "id": "02bf0f4f",
   "metadata": {},
   "source": [
    "## Step 5"
   ]
  },
  {
   "cell_type": "code",
   "execution_count": 83,
   "id": "0bdaf204",
   "metadata": {},
   "outputs": [
    {
     "name": "stdout",
     "output_type": "stream",
     "text": [
      "shape: (100836, 3)\n"
     ]
    },
    {
     "data": {
      "text/html": [
       "<div>\n",
       "<style scoped>\n",
       "    .dataframe tbody tr th:only-of-type {\n",
       "        vertical-align: middle;\n",
       "    }\n",
       "\n",
       "    .dataframe tbody tr th {\n",
       "        vertical-align: top;\n",
       "    }\n",
       "\n",
       "    .dataframe thead th {\n",
       "        text-align: right;\n",
       "    }\n",
       "</style>\n",
       "<table border=\"1\" class=\"dataframe\">\n",
       "  <thead>\n",
       "    <tr style=\"text-align: right;\">\n",
       "      <th></th>\n",
       "      <th>user</th>\n",
       "      <th>item</th>\n",
       "      <th>rating</th>\n",
       "    </tr>\n",
       "  </thead>\n",
       "  <tbody>\n",
       "    <tr>\n",
       "      <th>0</th>\n",
       "      <td>1</td>\n",
       "      <td>1</td>\n",
       "      <td>4.0</td>\n",
       "    </tr>\n",
       "    <tr>\n",
       "      <th>1</th>\n",
       "      <td>1</td>\n",
       "      <td>3</td>\n",
       "      <td>4.0</td>\n",
       "    </tr>\n",
       "    <tr>\n",
       "      <th>2</th>\n",
       "      <td>1</td>\n",
       "      <td>6</td>\n",
       "      <td>4.0</td>\n",
       "    </tr>\n",
       "    <tr>\n",
       "      <th>3</th>\n",
       "      <td>1</td>\n",
       "      <td>47</td>\n",
       "      <td>5.0</td>\n",
       "    </tr>\n",
       "    <tr>\n",
       "      <th>4</th>\n",
       "      <td>1</td>\n",
       "      <td>50</td>\n",
       "      <td>5.0</td>\n",
       "    </tr>\n",
       "  </tbody>\n",
       "</table>\n",
       "</div>"
      ],
      "text/plain": [
       "   user  item  rating\n",
       "0     1     1     4.0\n",
       "1     1     3     4.0\n",
       "2     1     6     4.0\n",
       "3     1    47     5.0\n",
       "4     1    50     5.0"
      ]
     },
     "execution_count": 83,
     "metadata": {},
     "output_type": "execute_result"
    }
   ],
   "source": [
    "ratings = pd.read_csv(\n",
    "    \"data/ml-latest-small/ratings.csv\",\n",
    "    usecols=[\"user\", \"item\", \"rating\"],\n",
    "    names=[\"user\", \"item\", \"rating\"],\n",
    "    skiprows=1,\n",
    ")\n",
    "\n",
    "inspect_df(ratings)"
   ]
  },
  {
   "cell_type": "code",
   "execution_count": 84,
   "id": "b9cf6e82",
   "metadata": {},
   "outputs": [],
   "source": [
    "ratings[\"user\"] = ratings.groupby(\"user\").ngroup()"
   ]
  },
  {
   "cell_type": "code",
   "execution_count": 86,
   "id": "6db13a0b",
   "metadata": {},
   "outputs": [],
   "source": [
    "ratings[\"item\"] = ratings.groupby(\"item\").ngroup()"
   ]
  },
  {
   "cell_type": "code",
   "execution_count": 70,
   "id": "6ecd6f4d",
   "metadata": {},
   "outputs": [],
   "source": [
    "def create_tf_datasets(\n",
    "    data: pd.DataFrame,\n",
    "    batch_size: int = 1,\n",
    "    max_clients: int = None,\n",
    "    max_items_per_user: int = None,\n",
    ") -> Iterator[tf.data.Dataset]:\n",
    "\n",
    "    n_users = len(data[\"userId\"].unique())\n",
    "\n",
    "    if max_clients is not None:\n",
    "        n_users = min(n_users, max_clients)\n",
    "\n",
    "    def transform_batch(batch: tf.Tensor) -> collections.OrderedDict:\n",
    "\n",
    "        return collections.OrderedDict(\n",
    "            x=tf.cast(batch[:, 0:2], tf.int64), y=tf.cast(batch[:, 2:3], tf.float32)\n",
    "        )\n",
    "\n",
    "    for _, user_ratings in data.groupby(\"userId\"):\n",
    "\n",
    "        if n_users < 0:\n",
    "            break\n",
    "\n",
    "        tf_dataset = tf.data.Dataset.from_tensor_slices(user_ratings)\n",
    "\n",
    "        yield (\n",
    "            tf_dataset.take(max_items_per_user)\n",
    "            .shuffle(buffer_size=max_items_per_user, seed=42)\n",
    "            .batch(batch_size)\n",
    "            .map(transform_batch, num_parallel_calls=tf.data.experimental.AUTOTUNE)\n",
    "        )\n",
    "\n",
    "        n_users -= 1"
   ]
  },
  {
   "cell_type": "markdown",
   "id": "2601cc29",
   "metadata": {},
   "source": [
    "## Step 6"
   ]
  },
  {
   "cell_type": "code",
   "execution_count": null,
   "id": "744d0c9b",
   "metadata": {},
   "outputs": [],
   "source": []
  },
  {
   "cell_type": "markdown",
   "id": "b4214ff3",
   "metadata": {},
   "source": [
    "## Step 7"
   ]
  },
  {
   "cell_type": "code",
   "execution_count": null,
   "id": "02c1e02c",
   "metadata": {},
   "outputs": [],
   "source": []
  },
  {
   "cell_type": "markdown",
   "id": "103c86a9",
   "metadata": {},
   "source": [
    "## Step 8"
   ]
  },
  {
   "cell_type": "code",
   "execution_count": null,
   "id": "3701e86e",
   "metadata": {},
   "outputs": [],
   "source": []
  },
  {
   "cell_type": "markdown",
   "id": "c1cdb703",
   "metadata": {},
   "source": [
    "## Step 9"
   ]
  },
  {
   "cell_type": "code",
   "execution_count": null,
   "id": "1e12276d",
   "metadata": {},
   "outputs": [],
   "source": []
  },
  {
   "cell_type": "markdown",
   "id": "54047244",
   "metadata": {},
   "source": [
    "## Step 10"
   ]
  },
  {
   "cell_type": "code",
   "execution_count": null,
   "id": "77882b06",
   "metadata": {},
   "outputs": [],
   "source": []
  }
 ],
 "metadata": {
  "kernelspec": {
   "display_name": "Python 3 (ipykernel)",
   "language": "python",
   "name": "python3"
  },
  "language_info": {
   "codemirror_mode": {
    "name": "ipython",
    "version": 3
   },
   "file_extension": ".py",
   "mimetype": "text/x-python",
   "name": "python",
   "nbconvert_exporter": "python",
   "pygments_lexer": "ipython3",
   "version": "3.8.10"
  }
 },
 "nbformat": 4,
 "nbformat_minor": 5
}
