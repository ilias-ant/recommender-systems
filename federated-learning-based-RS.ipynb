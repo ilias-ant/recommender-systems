{
 "cells": [
  {
   "cell_type": "code",
   "execution_count": 1,
   "id": "8f15be42",
   "metadata": {},
   "outputs": [],
   "source": [
    "import collections\n",
    "import functools\n",
    "import statistics\n",
    "from typing import Callable, Iterator, List, Optional, Tuple\n",
    "\n",
    "import matplotlib.pyplot as plt\n",
    "import nest_asyncio\n",
    "import numpy as np\n",
    "import pandas as pd\n",
    "import tensorflow as tf\n",
    "import tensorflow_federated as tff\n",
    "from plotnine import *\n",
    "from surprise import SVD\n",
    "from surprise import Dataset, Reader\n",
    "from surprise.model_selection import cross_validate"
   ]
  },
  {
   "cell_type": "markdown",
   "id": "59c513d5",
   "metadata": {},
   "source": [
    "# Table of Contents\n",
    "\n",
    "- [Step 1](#Step-1)\n",
    "- [Step 2](#Step-2-+-Step-3)\n",
    "- [Step 3](#Step-2-+-Step-3)\n",
    "- [Step 4](#Step-4)\n",
    "- [Step 5](#Step-5)\n",
    "- [Step 6](#Step-6)\n",
    "- [Step 7](#Step-4)\n",
    "- [Step 8](#Step-5)\n",
    "- [Step 9](#Step-6)\n",
    "- [Step 10](#Step-10)"
   ]
  },
  {
   "cell_type": "code",
   "execution_count": 2,
   "id": "d2c97ce8",
   "metadata": {},
   "outputs": [],
   "source": [
    "def inspect_df(df: pd.DataFrame, n: int = 5) -> pd.DataFrame:\n",
    "    \"\"\"Helper method to easily inspect DataFrames.\"\"\"\n",
    "\n",
    "    print(f\"shape: {df.shape}\")\n",
    "\n",
    "    return df.head(n)"
   ]
  },
  {
   "cell_type": "code",
   "execution_count": 3,
   "id": "734ab202",
   "metadata": {},
   "outputs": [
    {
     "name": "stdout",
     "output_type": "stream",
     "text": [
      "--2022-03-19 14:18:05--  https://files.grouplens.org/datasets/movielens/ml-latest-small.zip\n",
      "Resolving files.grouplens.org (files.grouplens.org)... 128.101.65.152\n",
      "Connecting to files.grouplens.org (files.grouplens.org)|128.101.65.152|:443... connected.\n",
      "HTTP request sent, awaiting response... 200 OK\n",
      "Length: 978202 (955K) [application/zip]\n",
      "Saving to: ‘data/ml-latest-small.zip’\n",
      "\n",
      "ml-latest-small.zip 100%[===================>] 955.28K   442KB/s    in 2.2s    \n",
      "\n",
      "2022-03-19 14:18:08 (442 KB/s) - ‘data/ml-latest-small.zip’ saved [978202/978202]\n",
      "\n"
     ]
    }
   ],
   "source": [
    "# disclaimer: may not work as is in Windows OS\n",
    "# dataset source: https://grouplens.org/datasets/movielens/\n",
    "!wget --backups=1 https://files.grouplens.org/datasets/movielens/ml-latest-small.zip -P data/"
   ]
  },
  {
   "cell_type": "code",
   "execution_count": 4,
   "id": "6bc846ed",
   "metadata": {},
   "outputs": [
    {
     "name": "stdout",
     "output_type": "stream",
     "text": [
      "Archive:  data/ml-latest-small.zip\r\n",
      "  inflating: data/ml-latest-small/links.csv  \r\n",
      "  inflating: data/ml-latest-small/tags.csv  \r\n",
      "  inflating: data/ml-latest-small/ratings.csv  \r\n",
      "  inflating: data/ml-latest-small/README.txt  \r\n",
      "  inflating: data/ml-latest-small/movies.csv  \r\n"
     ]
    }
   ],
   "source": [
    "# disclaimer: may not work as is in Windows OS\n",
    "# if `unzip` does not exist in your system: apt-get install unzip\n",
    "!unzip -o data/ml-latest-small.zip -d data/"
   ]
  },
  {
   "cell_type": "markdown",
   "id": "56f05686",
   "metadata": {},
   "source": [
    "## Step 1"
   ]
  },
  {
   "cell_type": "code",
   "execution_count": 5,
   "id": "1e0a335b",
   "metadata": {},
   "outputs": [],
   "source": [
    "# Formulate the optimization problem (similarly to the formulation in Unit 5). Your\n",
    "# optimization problem will relate to the prediction error in the training dataset.\n",
    "# Make sure you understand the unknowns of the problem, and what you are trying to optimize."
   ]
  },
  {
   "cell_type": "markdown",
   "id": "15066828",
   "metadata": {},
   "source": [
    "## Step 2 + Step 3"
   ]
  },
  {
   "cell_type": "code",
   "execution_count": 6,
   "id": "f9427823",
   "metadata": {},
   "outputs": [],
   "source": [
    "reader = Reader(\n",
    "    line_format=\"user item rating timestamp\", sep=\",\", skip_lines=1, rating_scale=(1, 5)\n",
    ")"
   ]
  },
  {
   "cell_type": "code",
   "execution_count": 7,
   "id": "9e3da310",
   "metadata": {},
   "outputs": [],
   "source": [
    "data = Dataset.load_from_file(\"data/ml-latest-small/ratings.csv\", reader=reader)"
   ]
  },
  {
   "cell_type": "markdown",
   "id": "e3abbe16",
   "metadata": {},
   "source": [
    "## Step 4"
   ]
  },
  {
   "cell_type": "code",
   "execution_count": 8,
   "id": "17c416bf",
   "metadata": {},
   "outputs": [],
   "source": [
    "recsys_small = SVD(\n",
    "    n_factors=4,\n",
    "    n_epochs=50,\n",
    "    biased=True,  # use baselines\n",
    "    random_state=123456,\n",
    ")"
   ]
  },
  {
   "cell_type": "code",
   "execution_count": 9,
   "id": "eea20aef",
   "metadata": {},
   "outputs": [],
   "source": [
    "recsys_large = SVD(\n",
    "    n_factors=20,\n",
    "    n_epochs=50,\n",
    "    biased=True,  # use baselines\n",
    "    random_state=123456,\n",
    ")"
   ]
  },
  {
   "cell_type": "code",
   "execution_count": 10,
   "id": "917b2e90",
   "metadata": {
    "scrolled": false
   },
   "outputs": [
    {
     "name": "stdout",
     "output_type": "stream",
     "text": [
      "Evaluating MSE, RMSE, MAE of algorithm SVD on 5 split(s).\n",
      "\n",
      "                  Fold 1  Fold 2  Fold 3  Fold 4  Fold 5  Mean    Std     \n",
      "MSE (testset)     0.7691  0.7530  0.7617  0.7507  0.7543  0.7577  0.0068  \n",
      "RMSE (testset)    0.8770  0.8677  0.8728  0.8665  0.8685  0.8705  0.0039  \n",
      "MAE (testset)     0.6731  0.6637  0.6659  0.6635  0.6628  0.6658  0.0038  \n",
      "MSE (trainset)    0.5129  0.5048  0.5043  0.5037  0.5019  0.5055  0.0038  \n",
      "RMSE (trainset)   0.7162  0.7105  0.7101  0.7097  0.7084  0.7110  0.0027  \n",
      "MAE (trainset)    0.5514  0.5466  0.5470  0.5457  0.5446  0.5470  0.0023  \n",
      "Fit time          1.75    1.79    1.74    1.75    1.77    1.76    0.02    \n",
      "Test time         0.09    0.10    0.10    0.12    0.10    0.10    0.01    \n"
     ]
    }
   ],
   "source": [
    "cv_results = {}\n",
    "\n",
    "cv_results[\"SVD w/ 4 factors\"] = cross_validate(\n",
    "    recsys_small,\n",
    "    data=data,\n",
    "    measures=[\"mse\", \"rmse\", \"mae\"],\n",
    "    return_train_measures=True,\n",
    "    verbose=True,\n",
    "    cv=5,\n",
    "    n_jobs=-1,\n",
    ")"
   ]
  },
  {
   "cell_type": "code",
   "execution_count": 11,
   "id": "1fcc3326",
   "metadata": {},
   "outputs": [
    {
     "name": "stdout",
     "output_type": "stream",
     "text": [
      "Evaluating MSE, RMSE, MAE of algorithm SVD on 5 split(s).\n",
      "\n",
      "                  Fold 1  Fold 2  Fold 3  Fold 4  Fold 5  Mean    Std     \n",
      "MSE (testset)     0.7775  0.7965  0.7813  0.7769  0.7741  0.7813  0.0079  \n",
      "RMSE (testset)    0.8817  0.8925  0.8839  0.8814  0.8799  0.8839  0.0045  \n",
      "MAE (testset)     0.6739  0.6805  0.6757  0.6756  0.6747  0.6761  0.0023  \n",
      "MSE (trainset)    0.3014  0.3002  0.3003  0.3015  0.3047  0.3016  0.0016  \n",
      "RMSE (trainset)   0.5490  0.5479  0.5480  0.5491  0.5520  0.5492  0.0015  \n",
      "MAE (trainset)    0.4233  0.4226  0.4224  0.4241  0.4251  0.4235  0.0010  \n",
      "Fit time          3.27    3.15    3.26    3.18    3.26    3.23    0.05    \n",
      "Test time         0.10    0.09    0.09    0.10    0.10    0.10    0.00    \n"
     ]
    }
   ],
   "source": [
    "cv_results[\"SVD w/ 20 factors\"] = cross_validate(\n",
    "    recsys_large,\n",
    "    data=data,\n",
    "    measures=[\"mse\", \"rmse\", \"mae\"],\n",
    "    return_train_measures=True,\n",
    "    verbose=True,\n",
    "    cv=5,\n",
    "    n_jobs=-1,\n",
    ")"
   ]
  },
  {
   "cell_type": "code",
   "execution_count": 12,
   "id": "28ceac08",
   "metadata": {},
   "outputs": [],
   "source": [
    "df = pd.DataFrame(cv_results).T.reset_index()\n",
    "\n",
    "df[\"mean RMSE (train)\"] = df[\"train_rmse\"].map(lambda x: statistics.mean(x))"
   ]
  },
  {
   "cell_type": "code",
   "execution_count": 13,
   "id": "596350da",
   "metadata": {},
   "outputs": [
    {
     "data": {
      "image/png": "[encoded data removed]",
      "text/plain": [
       "<Figure size 800x600 with 1 Axes>"
      ]
     },
     "metadata": {},
     "output_type": "display_data"
    },
    {
     "data": {
      "text/plain": [
       "<ggplot: (8761130467825)>"
      ]
     },
     "execution_count": 13,
     "metadata": {},
     "output_type": "execute_result"
    }
   ],
   "source": [
    "(\n",
    "    ggplot(df)\n",
    "    + geom_col(aes(x=\"index\", y=\"mean RMSE (train)\"), stat=\"identity\")\n",
    "    + theme(axis_text_x=element_text(rotation=45, hjust=1), figure_size=(8, 6))\n",
    "    + labs(x=\"\", y=\"mean RMSE (train)\")\n",
    "    + coord_flip()\n",
    ")"
   ]
  },
  {
   "cell_type": "markdown",
   "id": "02bf0f4f",
   "metadata": {},
   "source": [
    "## Step 5"
   ]
  },
  {
   "cell_type": "code",
   "execution_count": 14,
   "id": "0bdaf204",
   "metadata": {},
   "outputs": [
    {
     "name": "stdout",
     "output_type": "stream",
     "text": [
      "shape: (100836, 3)\n"
     ]
    },
    {
     "data": {
      "text/html": [
       "<div>\n",
       "<style scoped>\n",
       "    .dataframe tbody tr th:only-of-type {\n",
       "        vertical-align: middle;\n",
       "    }\n",
       "\n",
       "    .dataframe tbody tr th {\n",
       "        vertical-align: top;\n",
       "    }\n",
       "\n",
       "    .dataframe thead th {\n",
       "        text-align: right;\n",
       "    }\n",
       "</style>\n",
       "<table border=\"1\" class=\"dataframe\">\n",
       "  <thead>\n",
       "    <tr style=\"text-align: right;\">\n",
       "      <th></th>\n",
       "      <th>user</th>\n",
       "      <th>item</th>\n",
       "      <th>rating</th>\n",
       "    </tr>\n",
       "  </thead>\n",
       "  <tbody>\n",
       "    <tr>\n",
       "      <th>0</th>\n",
       "      <td>1</td>\n",
       "      <td>1</td>\n",
       "      <td>4.0</td>\n",
       "    </tr>\n",
       "    <tr>\n",
       "      <th>1</th>\n",
       "      <td>1</td>\n",
       "      <td>3</td>\n",
       "      <td>4.0</td>\n",
       "    </tr>\n",
       "    <tr>\n",
       "      <th>2</th>\n",
       "      <td>1</td>\n",
       "      <td>6</td>\n",
       "      <td>4.0</td>\n",
       "    </tr>\n",
       "    <tr>\n",
       "      <th>3</th>\n",
       "      <td>1</td>\n",
       "      <td>47</td>\n",
       "      <td>5.0</td>\n",
       "    </tr>\n",
       "    <tr>\n",
       "      <th>4</th>\n",
       "      <td>1</td>\n",
       "      <td>50</td>\n",
       "      <td>5.0</td>\n",
       "    </tr>\n",
       "  </tbody>\n",
       "</table>\n",
       "</div>"
      ],
      "text/plain": [
       "   user  item  rating\n",
       "0     1     1     4.0\n",
       "1     1     3     4.0\n",
       "2     1     6     4.0\n",
       "3     1    47     5.0\n",
       "4     1    50     5.0"
      ]
     },
     "execution_count": 14,
     "metadata": {},
     "output_type": "execute_result"
    }
   ],
   "source": [
    "ratings = pd.read_csv(\n",
    "    \"data/ml-latest-small/ratings.csv\",\n",
    "    usecols=[\"user\", \"item\", \"rating\"],\n",
    "    names=[\"user\", \"item\", \"rating\"],\n",
    "    skiprows=1,\n",
    ")\n",
    "\n",
    "inspect_df(ratings)"
   ]
  },
  {
   "cell_type": "code",
   "execution_count": 15,
   "id": "b9cf6e82",
   "metadata": {},
   "outputs": [],
   "source": [
    "ratings[\"user\"] = ratings.groupby(\"user\").ngroup()"
   ]
  },
  {
   "cell_type": "code",
   "execution_count": 16,
   "id": "6db13a0b",
   "metadata": {},
   "outputs": [],
   "source": [
    "ratings[\"item\"] = ratings.groupby(\"item\").ngroup()"
   ]
  },
  {
   "cell_type": "code",
   "execution_count": 17,
   "id": "f8a883f8",
   "metadata": {},
   "outputs": [],
   "source": [
    "def transform_batch(batch: tf.Tensor) -> collections.OrderedDict:\n",
    "    return collections.OrderedDict(\n",
    "        x=tf.cast(batch[:, 0:2], tf.int64), y=tf.cast(batch[:, 2:3], tf.float32)\n",
    "    )"
   ]
  },
  {
   "cell_type": "code",
   "execution_count": 18,
   "id": "6ecd6f4d",
   "metadata": {},
   "outputs": [],
   "source": [
    "def create_tf_datasets(\n",
    "    data: pd.DataFrame,\n",
    "    transform_func: Callable,\n",
    "    batch_size: int = 1,\n",
    "    max_clients: int = None,\n",
    "    max_items_per_client: int = None,\n",
    ") -> Iterator[tf.data.Dataset]:\n",
    "\n",
    "    n_users = len(data[\"user\"].unique())\n",
    "\n",
    "    if max_clients is not None:\n",
    "        n_users = min(n_users, max_clients)\n",
    "\n",
    "    for _, user_ratings in data.groupby(\"user\"):\n",
    "\n",
    "        if n_users < 0:\n",
    "            break\n",
    "\n",
    "        tf_dataset = tf.data.Dataset.from_tensor_slices(user_ratings)\n",
    "\n",
    "        yield (\n",
    "            tf_dataset.take(max_items_per_client)\n",
    "            .shuffle(buffer_size=max_items_per_client, seed=42)\n",
    "            .batch(batch_size)\n",
    "            .map(transform_func, num_parallel_calls=tf.data.experimental.AUTOTUNE)\n",
    "        )\n",
    "\n",
    "        n_users -= 1"
   ]
  },
  {
   "cell_type": "code",
   "execution_count": 19,
   "id": "ac77a7bf",
   "metadata": {},
   "outputs": [],
   "source": [
    "def split_tf_datasets(\n",
    "    tf_datasets: List[tf.data.Dataset],\n",
    "    train_fraction: float = 0.8,\n",
    "    val_fraction: float = 0.1,\n",
    ") -> Tuple[List[tf.data.Dataset], List[tf.data.Dataset], List[tf.data.Dataset]]:\n",
    "    \"\"\"Splits a list of user TF datasets into train/val/test by user.\"\"\"\n",
    "    np.random.seed(42)\n",
    "    np.random.shuffle(tf_datasets)\n",
    "\n",
    "    train_idx = int(len(tf_datasets) * train_fraction)\n",
    "    val_idx = int(len(tf_datasets) * (train_fraction + val_fraction))\n",
    "\n",
    "    # Note that the val and test data contains completely different users, not\n",
    "    # just unseen ratings from train users.\n",
    "    return (\n",
    "        tf_datasets[:train_idx],\n",
    "        tf_datasets[train_idx:val_idx],\n",
    "        tf_datasets[val_idx:],\n",
    "    )"
   ]
  },
  {
   "cell_type": "code",
   "execution_count": 20,
   "id": "b575fa05",
   "metadata": {},
   "outputs": [],
   "source": [
    "tf_datasets = [\n",
    "    *create_tf_datasets(\n",
    "        data=ratings,\n",
    "        transform_func=transform_batch,\n",
    "        batch_size=5,\n",
    "        max_clients=100,\n",
    "        max_items_per_client=3000,\n",
    "    )\n",
    "]"
   ]
  },
  {
   "cell_type": "code",
   "execution_count": 21,
   "id": "88d3e0e3",
   "metadata": {},
   "outputs": [],
   "source": [
    "tf_trainsets, tf_validationsets, tf_testsets = split_tf_datasets(\n",
    "    tf_datasets, train_fraction=0.8, val_fraction=0.1\n",
    ")"
   ]
  },
  {
   "cell_type": "markdown",
   "id": "2601cc29",
   "metadata": {},
   "source": [
    "## Step 6"
   ]
  },
  {
   "cell_type": "code",
   "execution_count": 22,
   "id": "744d0c9b",
   "metadata": {},
   "outputs": [],
   "source": [
    "nest_asyncio.apply()"
   ]
  },
  {
   "cell_type": "code",
   "execution_count": 23,
   "id": "2ea601d5",
   "metadata": {},
   "outputs": [],
   "source": [
    "n_users = len(ratings[\"user\"].unique())\n",
    "n_items = len(ratings[\"item\"].unique())"
   ]
  },
  {
   "cell_type": "code",
   "execution_count": 24,
   "id": "f6050674",
   "metadata": {},
   "outputs": [],
   "source": [
    "def matrix_factorization_model(\n",
    "    n_users: int,\n",
    "    n_items: int,\n",
    "    n_latent_factors: int,\n",
    ") -> tf.keras.Model:\n",
    "    \"\"\"A federation-friendly Matrix Factorization model.\"\"\"\n",
    "    combined_input = tf.keras.layers.Input(\n",
    "        shape=[2], dtype=\"int32\", name=\"combined_input\"\n",
    "    )\n",
    "    u = tf.keras.layers.Embedding(\n",
    "        input_dim=n_users + 1, output_dim=n_latent_factors, name=\"users_embedding\"\n",
    "    )(combined_input[:, 0])\n",
    "    u = tf.keras.layers.Flatten()(u)\n",
    "\n",
    "    i = tf.keras.layers.Embedding(\n",
    "        input_dim=n_items + 1, output_dim=n_latent_factors, name=\"items_embedding\"\n",
    "    )(combined_input[:, 1])\n",
    "    i = tf.keras.layers.Flatten()(i)\n",
    "\n",
    "    output = tf.output_layer = tf.keras.layers.Dot(1, normalize=False, name=\"Dot\")(\n",
    "        [i, u]\n",
    "    )\n",
    "\n",
    "    model = tf.keras.Model(inputs=combined_input, outputs=output)\n",
    "\n",
    "    input_spec = collections.OrderedDict(\n",
    "        x=tf.TensorSpec(shape=[None, 2], dtype=tf.int64),\n",
    "        y=tf.TensorSpec(shape=[None, 1], dtype=tf.float32),\n",
    "    )\n",
    "\n",
    "    return tff.learning.from_keras_model(\n",
    "        model,\n",
    "        input_spec=input_spec,\n",
    "        loss=tf.keras.losses.MeanSquaredError(),\n",
    "        metrics=[tf.keras.metrics.RootMeanSquaredError()],\n",
    "    )"
   ]
  },
  {
   "cell_type": "code",
   "execution_count": 25,
   "id": "2fb19c41",
   "metadata": {},
   "outputs": [],
   "source": [
    "model_fn = functools.partial(\n",
    "    matrix_factorization_model,\n",
    "    n_users=n_users,\n",
    "    n_items=n_items,\n",
    "    n_latent_factors=20,\n",
    ")"
   ]
  },
  {
   "cell_type": "code",
   "execution_count": 26,
   "id": "5cec8717",
   "metadata": {},
   "outputs": [],
   "source": [
    "iterative_process = tff.learning.build_federated_averaging_process(\n",
    "    model_fn,\n",
    "    client_optimizer_fn=lambda: tf.keras.optimizers.SGD(learning_rate=0.02),\n",
    "    server_optimizer_fn=lambda: tf.keras.optimizers.SGD(learning_rate=1.0),\n",
    ")"
   ]
  },
  {
   "cell_type": "code",
   "execution_count": 27,
   "id": "c9244c9b",
   "metadata": {},
   "outputs": [
    {
     "data": {
      "text/plain": [
       "'( -> <model=<trainable=<float32[9725,20],float32[611,20]>,non_trainable=<>>,optimizer_state=<int64>,delta_aggregate_state=<value_sum_process=<>,weight_sum_process=<>>,model_broadcast_state=<>>@SERVER)'"
      ]
     },
     "execution_count": 27,
     "metadata": {},
     "output_type": "execute_result"
    }
   ],
   "source": [
    "str(iterative_process.initialize.type_signature)"
   ]
  },
  {
   "cell_type": "code",
   "execution_count": 28,
   "id": "eb31d2d2",
   "metadata": {},
   "outputs": [
    {
     "name": "stdout",
     "output_type": "stream",
     "text": [
      "ModelWeights(trainable=[array([[-0.00051475, -0.03923521,  0.0380096 , ..., -0.0242507 ,\n",
      "        -0.00735567, -0.02480301],\n",
      "       [ 0.04517196,  0.03750285,  0.01580024, ...,  0.00361302,\n",
      "         0.00452825,  0.00405937],\n",
      "       [-0.04479007, -0.01460163, -0.04977452, ..., -0.0036037 ,\n",
      "         0.02457781, -0.04132881],\n",
      "       ...,\n",
      "       [-0.03332539, -0.03820357,  0.00830475, ...,  0.03004745,\n",
      "        -0.01733143, -0.01621709],\n",
      "       [ 0.03824946, -0.01059832,  0.03777036, ...,  0.02196756,\n",
      "         0.0143757 , -0.03346175],\n",
      "       [-0.04405874, -0.02982587,  0.04588595, ..., -0.03103762,\n",
      "         0.03289815,  0.04341545]], dtype=float32), array([[ 0.03793615,  0.03210909, -0.04344249, ...,  0.01623377,\n",
      "         0.01605311,  0.03168881],\n",
      "       [-0.02221237, -0.00162975,  0.02959912, ...,  0.03247248,\n",
      "        -0.03304863, -0.01248006],\n",
      "       [ 0.027017  , -0.03611232, -0.04679282, ...,  0.01751877,\n",
      "         0.04078141, -0.00199645],\n",
      "       ...,\n",
      "       [ 0.00265165, -0.0018364 ,  0.03326178, ...,  0.00972844,\n",
      "        -0.0186935 ,  0.0150083 ],\n",
      "       [ 0.02509333,  0.02711632,  0.00348569, ..., -0.02680472,\n",
      "        -0.04050052, -0.03854696],\n",
      "       [-0.03072727, -0.01284592, -0.0083903 , ...,  0.01668276,\n",
      "        -0.04943799,  0.0486739 ]], dtype=float32)], non_trainable=[])\n"
     ]
    }
   ],
   "source": [
    "state = iterative_process.initialize()\n",
    "\n",
    "print(state.model)"
   ]
  },
  {
   "cell_type": "code",
   "execution_count": 29,
   "id": "d2af493a",
   "metadata": {},
   "outputs": [
    {
     "name": "stdout",
     "output_type": "stream",
     "text": [
      "User variables shape: (611, 20)\n"
     ]
    }
   ],
   "source": [
    "print(\"User variables shape:\", state.model.trainable[1].shape)"
   ]
  },
  {
   "cell_type": "code",
   "execution_count": 30,
   "id": "cdfb5694",
   "metadata": {},
   "outputs": [
    {
     "name": "stdout",
     "output_type": "stream",
     "text": [
      "Item variables shape: (9725, 20)\n"
     ]
    }
   ],
   "source": [
    "print(\"Item variables shape:\", state.model.trainable[0].shape)"
   ]
  },
  {
   "cell_type": "code",
   "execution_count": 31,
   "id": "a8d5c961",
   "metadata": {},
   "outputs": [],
   "source": [
    "evaluation_computation = tff.learning.build_federated_evaluation(model_fn)"
   ]
  },
  {
   "cell_type": "code",
   "execution_count": 32,
   "id": "b8e7b6ef",
   "metadata": {},
   "outputs": [],
   "source": [
    "NUM_ROUNDS = 30  # we will set up a training loop to train over multiple rounds."
   ]
  },
  {
   "cell_type": "code",
   "execution_count": 33,
   "id": "29cfe58b",
   "metadata": {},
   "outputs": [
    {
     "name": "stdout",
     "output_type": "stream",
     "text": [
      "Train round 0: OrderedDict([('root_mean_squared_error', 3.659179), ('loss', 13.389591), ('num_examples', 8644), ('num_batches', 1751)])\n",
      "Train round 1: OrderedDict([('root_mean_squared_error', 3.620355), ('loss', 13.106969), ('num_examples', 8908), ('num_batches', 1806)])\n",
      "Train round 2: OrderedDict([('root_mean_squared_error', 3.6474833), ('loss', 13.304135), ('num_examples', 9100), ('num_batches', 1842)])\n",
      "Train round 3: OrderedDict([('root_mean_squared_error', 3.6927645), ('loss', 13.63651), ('num_examples', 7853), ('num_batches', 1595)])\n",
      "Train round 4: OrderedDict([('root_mean_squared_error', 3.6222594), ('loss', 13.120764), ('num_examples', 9232), ('num_batches', 1867)])\n",
      "Train round 5: OrderedDict([('root_mean_squared_error', 3.68215), ('loss', 13.5582285), ('num_examples', 8628), ('num_batches', 1749)])\n",
      "Train round 6: OrderedDict([('root_mean_squared_error', 3.714579), ('loss', 13.798099), ('num_examples', 9198), ('num_batches', 1861)])\n",
      "Train round 7: OrderedDict([('root_mean_squared_error', 3.6331167), ('loss', 13.199537), ('num_examples', 8964), ('num_batches', 1814)])\n",
      "Train round 8: OrderedDict([('root_mean_squared_error', 3.7395458), ('loss', 13.984203), ('num_examples', 8255), ('num_batches', 1673)])\n",
      "Train round 9: OrderedDict([('root_mean_squared_error', 3.723339), ('loss', 13.863255), ('num_examples', 8955), ('num_batches', 1811)])\n",
      "Train round 10: OrderedDict([('root_mean_squared_error', 3.6535306), ('loss', 13.348286), ('num_examples', 9013), ('num_batches', 1825)])\n",
      "Train round 11: OrderedDict([('root_mean_squared_error', 3.687894), ('loss', 13.600563), ('num_examples', 8700), ('num_batches', 1760)])\n",
      "Train round 12: OrderedDict([('root_mean_squared_error', 3.7169), ('loss', 13.815348), ('num_examples', 7784), ('num_batches', 1576)])\n",
      "Train round 13: OrderedDict([('root_mean_squared_error', 3.810576), ('loss', 14.52049), ('num_examples', 6809), ('num_batches', 1385)])\n",
      "Train round 14: OrderedDict([('root_mean_squared_error', 3.74777), ('loss', 14.045782), ('num_examples', 6496), ('num_batches', 1323)])\n",
      "Train round 15: OrderedDict([('root_mean_squared_error', 3.736974), ('loss', 13.964974), ('num_examples', 7801), ('num_batches', 1584)])\n",
      "Train round 16: OrderedDict([('root_mean_squared_error', 3.6643274), ('loss', 13.427296), ('num_examples', 8958), ('num_batches', 1814)])\n",
      "Train round 17: OrderedDict([('root_mean_squared_error', 3.6637495), ('loss', 13.423062), ('num_examples', 8425), ('num_batches', 1707)])\n",
      "Train round 18: OrderedDict([('root_mean_squared_error', 3.6864033), ('loss', 13.589569), ('num_examples', 7861), ('num_batches', 1592)])\n",
      "Train round 19: OrderedDict([('root_mean_squared_error', 3.6433277), ('loss', 13.273837), ('num_examples', 8687), ('num_batches', 1759)])\n",
      "Train round 20: OrderedDict([('root_mean_squared_error', 3.96102), ('loss', 15.689679), ('num_examples', 5689), ('num_batches', 1160)])\n",
      "Train round 21: OrderedDict([('root_mean_squared_error', 3.746668), ('loss', 14.037522), ('num_examples', 8108), ('num_batches', 1644)])\n",
      "Train round 22: OrderedDict([('root_mean_squared_error', 3.7313192), ('loss', 13.922743), ('num_examples', 6601), ('num_batches', 1342)])\n",
      "Train round 23: OrderedDict([('root_mean_squared_error', 3.6550972), ('loss', 13.3597355), ('num_examples', 9762), ('num_batches', 1975)])\n",
      "Train round 24: OrderedDict([('root_mean_squared_error', 3.6687603), ('loss', 13.459803), ('num_examples', 9136), ('num_batches', 1850)])\n",
      "Train round 25: OrderedDict([('root_mean_squared_error', 3.8048909), ('loss', 14.477195), ('num_examples', 7066), ('num_batches', 1437)])\n",
      "Train round 26: OrderedDict([('root_mean_squared_error', 3.677478), ('loss', 13.523846), ('num_examples', 7223), ('num_batches', 1467)])\n",
      "Train round 27: OrderedDict([('root_mean_squared_error', 3.795957), ('loss', 14.409291), ('num_examples', 6879), ('num_batches', 1399)])\n",
      "Train round 28: OrderedDict([('root_mean_squared_error', 3.644631), ('loss', 13.283335), ('num_examples', 9590), ('num_batches', 1941)])\n",
      "Train round 29: OrderedDict([('root_mean_squared_error', 3.6940486), ('loss', 13.645996), ('num_examples', 8166), ('num_batches', 1655)])\n"
     ]
    }
   ],
   "source": [
    "train_losses, train_accs = [], []\n",
    "\n",
    "state = iterative_process.initialize()\n",
    "\n",
    "for i in range(NUM_ROUNDS):\n",
    "    federated_train_data = np.random.choice(\n",
    "        tf_trainsets, size=50, replace=False\n",
    "    ).tolist()\n",
    "    state, metrics = iterative_process.next(state, federated_train_data)\n",
    "    print(f\"Train round {i}:\", metrics[\"train\"])\n",
    "    train_losses.append(metrics[\"train\"][\"loss\"])\n",
    "    train_accs.append(metrics[\"train\"][\"root_mean_squared_error\"])"
   ]
  },
  {
   "cell_type": "code",
   "execution_count": 34,
   "id": "12ef3191",
   "metadata": {},
   "outputs": [
    {
     "data": {
      "image/png": "[encoded data removed]",
      "text/plain": [
       "<Figure size 720x576 with 1 Axes>"
      ]
     },
     "metadata": {},
     "output_type": "display_data"
    }
   ],
   "source": [
    "plt.style.use(\"dark_background\")\n",
    "plt.rcParams[\"figure.figsize\"] = [10, 8]\n",
    "plt.plot(range(NUM_ROUNDS), train_losses)\n",
    "plt.ylabel(\"Train Loss\")\n",
    "plt.xlabel(\"Round\")\n",
    "plt.title(\"Train Loss\")\n",
    "plt.show()"
   ]
  },
  {
   "cell_type": "code",
   "execution_count": 35,
   "id": "3caacef2",
   "metadata": {},
   "outputs": [
    {
     "data": {
      "image/png": "[encoded data removed]",
      "text/plain": [
       "<Figure size 720x576 with 1 Axes>"
      ]
     },
     "metadata": {},
     "output_type": "display_data"
    }
   ],
   "source": [
    "plt.style.use(\"dark_background\")\n",
    "plt.rcParams[\"figure.figsize\"] = [10, 8]\n",
    "plt.plot(range(NUM_ROUNDS), train_accs)\n",
    "plt.ylabel(\"Train RSME\")\n",
    "plt.xlabel(\"Round\")\n",
    "plt.title(\"Train RMSE\")\n",
    "plt.show()"
   ]
  },
  {
   "cell_type": "code",
   "execution_count": 36,
   "id": "77e49cb6",
   "metadata": {},
   "outputs": [
    {
     "name": "stdout",
     "output_type": "stream",
     "text": [
      "Final Eval: OrderedDict([('root_mean_squared_error', 3.7573693), ('loss', 14.117824), ('num_examples', 1038), ('num_batches', 210)])\n"
     ]
    }
   ],
   "source": [
    "eval_metrics = evaluation_computation(state.model, tf_validationsets)\n",
    "print(\"Final Eval:\", eval_metrics[\"eval\"])"
   ]
  },
  {
   "cell_type": "code",
   "execution_count": 37,
   "id": "87a60c71",
   "metadata": {},
   "outputs": [
    {
     "name": "stdout",
     "output_type": "stream",
     "text": [
      "Final Test: OrderedDict([('root_mean_squared_error', 3.8081481), ('loss', 14.501992), ('num_examples', 1301), ('num_batches', 264)])\n"
     ]
    }
   ],
   "source": [
    "eval_metrics = evaluation_computation(state.model, tf_testsets)\n",
    "print(\"Final Test:\", eval_metrics[\"eval\"])"
   ]
  },
  {
   "cell_type": "markdown",
   "id": "b4214ff3",
   "metadata": {},
   "source": [
    "## Step 7"
   ]
  },
  {
   "cell_type": "code",
   "execution_count": 38,
   "id": "e1263cd8",
   "metadata": {},
   "outputs": [],
   "source": [
    "def transform_batch_for_fed_prox(batch: tf.Tensor) -> collections.OrderedDict:\n",
    "    \"\"\"we do not need the user since each client will only look at their own data.\"\"\"\n",
    "    return collections.OrderedDict(\n",
    "        x=tf.cast(batch[:, 1:2], tf.int64), y=tf.cast(batch[:, 2:3], tf.float32)\n",
    "    )"
   ]
  },
  {
   "cell_type": "code",
   "execution_count": 39,
   "id": "c20803e9",
   "metadata": {},
   "outputs": [],
   "source": [
    "tf_datasets = [\n",
    "    *create_tf_datasets(\n",
    "        data=ratings,\n",
    "        transform_func=transform_batch_for_fed_prox,\n",
    "        batch_size=5,\n",
    "        max_clients=100,\n",
    "        max_items_per_client=3000,\n",
    "    )\n",
    "]"
   ]
  },
  {
   "cell_type": "code",
   "execution_count": 40,
   "id": "fdbe3944",
   "metadata": {},
   "outputs": [],
   "source": [
    "tf_trainsets, tf_validationsets, tf_testsets = split_tf_datasets(\n",
    "    tf_datasets, train_fraction=0.8, val_fraction=0.1\n",
    ")"
   ]
  },
  {
   "cell_type": "code",
   "execution_count": 41,
   "id": "15b853ac",
   "metadata": {},
   "outputs": [],
   "source": [
    "class UserEmbedding(tf.keras.layers.Layer):\n",
    "    \"\"\"Keras layer representing an embedding for a single user.\"\"\"\n",
    "\n",
    "    def __init__(self, num_latent_factors, **kwargs):\n",
    "        super().__init__(**kwargs)\n",
    "        self.num_latent_factors = num_latent_factors\n",
    "\n",
    "    def build(self, input_shape):\n",
    "        self.embedding = self.add_weight(\n",
    "            shape=(1, self.num_latent_factors),\n",
    "            initializer=\"uniform\",\n",
    "            dtype=tf.float32,\n",
    "            name=\"UserEmbeddingKernel\",\n",
    "        )\n",
    "        super().build(input_shape)\n",
    "\n",
    "    def call(self, inputs):\n",
    "        return self.embedding\n",
    "\n",
    "    def compute_output_shape(self):\n",
    "        return (1, self.num_latent_factors)"
   ]
  },
  {
   "cell_type": "code",
   "execution_count": 42,
   "id": "02c1e02c",
   "metadata": {},
   "outputs": [],
   "source": [
    "def matrix_factorization_model_with_user_embedding(\n",
    "    n_items: int, n_latent_factors: int\n",
    ") -> tff.learning.Model:\n",
    "\n",
    "    item_input = tf.keras.layers.Input(shape=[1], name=\"Item\")\n",
    "    item_embedding_layer = tf.keras.layers.Embedding(\n",
    "        n_items, n_latent_factors, name=\"ItemEmbedding\"\n",
    "    )\n",
    "    flat_item_vec = tf.keras.layers.Flatten(name=\"FlattenItems\")(\n",
    "        item_embedding_layer(item_input)\n",
    "    )\n",
    "\n",
    "    user_embedding_layer = UserEmbedding(n_latent_factors, name=\"UserEmbedding\")\n",
    "\n",
    "    flat_user_vec = user_embedding_layer(item_input)\n",
    "\n",
    "    pred = tf.keras.layers.Dot(1, normalize=False, name=\"Dot\")(\n",
    "        [flat_user_vec, flat_item_vec]\n",
    "    )\n",
    "\n",
    "    input_spec = collections.OrderedDict(\n",
    "        x=tf.TensorSpec(shape=[None, 1], dtype=tf.int64),\n",
    "        y=tf.TensorSpec(shape=[None, 1], dtype=tf.float32),\n",
    "    )\n",
    "\n",
    "    model = tf.keras.Model(inputs=item_input, outputs=pred)\n",
    "\n",
    "    return tff.learning.from_keras_model(\n",
    "        model,\n",
    "        input_spec=input_spec,\n",
    "        loss=tf.keras.losses.MeanSquaredError(),\n",
    "        metrics=[tf.keras.metrics.RootMeanSquaredError()],\n",
    "    )"
   ]
  },
  {
   "cell_type": "code",
   "execution_count": 43,
   "id": "0f061c36",
   "metadata": {},
   "outputs": [],
   "source": [
    "model_fn = functools.partial(\n",
    "    matrix_factorization_model_with_user_embedding,\n",
    "    n_items=n_items,\n",
    "    n_latent_factors=20,\n",
    ")"
   ]
  },
  {
   "cell_type": "code",
   "execution_count": 44,
   "id": "f970ff30",
   "metadata": {},
   "outputs": [
    {
     "name": "stderr",
     "output_type": "stream",
     "text": [
      "/home/iantonopoulos/.cache/pypoetry/virtualenvs/recommender-systems-rVb3Y5Fg-py3.8/lib/python3.8/site-packages/tensorflow/python/framework/indexed_slices.py:444: UserWarning: Converting sparse IndexedSlices(IndexedSlices(indices=Tensor(\"PartitionedCall:2\", shape=(None,), dtype=int32), values=Tensor(\"PartitionedCall:1\", shape=(None, 20), dtype=float32), dense_shape=Tensor(\"PartitionedCall:3\", shape=(2,), dtype=int32))) to a dense Tensor of unknown shape. This may consume a large amount of memory.\n"
     ]
    }
   ],
   "source": [
    "fedprox_learning_process = tff.learning.algorithms.build_unweighted_fed_prox(\n",
    "    model_fn,\n",
    "    proximal_strength=0.1,\n",
    "    server_optimizer_fn=lambda: tf.keras.optimizers.SGD(1.0),\n",
    "    client_optimizer_fn=lambda: tf.keras.optimizers.SGD(0.5),\n",
    ")"
   ]
  },
  {
   "cell_type": "code",
   "execution_count": 45,
   "id": "2fe7efd7",
   "metadata": {},
   "outputs": [
    {
     "data": {
      "text/plain": [
       "'( -> <global_model_weights=<trainable=<float32[9724,20],float32[1,20]>,non_trainable=<>>,distributor=<>,client_work=<>,aggregator=<<>,<>>,finalizer=<int64>>@SERVER)'"
      ]
     },
     "execution_count": 45,
     "metadata": {},
     "output_type": "execute_result"
    }
   ],
   "source": [
    "str(fedprox_learning_process.initialize.type_signature)"
   ]
  },
  {
   "cell_type": "code",
   "execution_count": 46,
   "id": "f5bf191d",
   "metadata": {},
   "outputs": [],
   "source": [
    "evaluation_computation = tff.learning.build_federated_evaluation(\n",
    "    model_fn,\n",
    ")"
   ]
  },
  {
   "cell_type": "code",
   "execution_count": 47,
   "id": "9f807bfb",
   "metadata": {},
   "outputs": [],
   "source": [
    "train_losses, train_mses = [], []\n",
    "\n",
    "state = fedprox_learning_process.initialize()\n",
    "\n",
    "# This may take a couple minutes to run.\n",
    "for i in range(NUM_ROUNDS):\n",
    "    federated_train_data = np.random.choice(\n",
    "        tf_trainsets, size=50, replace=False\n",
    "    ).tolist()\n",
    "    next_state = fedprox_learning_process.next(state, federated_train_data)\n",
    "    train_losses.append(next_state.metrics[\"client_work\"][\"train\"][\"loss\"])\n",
    "    train_mses.append(\n",
    "        next_state.metrics[\"client_work\"][\"train\"][\"root_mean_squared_error\"]\n",
    "    )\n",
    "\n",
    "model_final_weights = next_state.state.global_model_weights"
   ]
  },
  {
   "cell_type": "code",
   "execution_count": 48,
   "id": "d4d5a1f9",
   "metadata": {},
   "outputs": [
    {
     "name": "stdout",
     "output_type": "stream",
     "text": [
      "Final Eval: OrderedDict([('root_mean_squared_error', 70.919655), ('loss', 5029.597), ('num_examples', 1038), ('num_batches', 210)])\n"
     ]
    }
   ],
   "source": [
    "eval_metrics = evaluation_computation(model_final_weights, tf_validationsets)\n",
    "print(\"Final Eval:\", eval_metrics[\"eval\"])"
   ]
  },
  {
   "cell_type": "code",
   "execution_count": 49,
   "id": "cf6dd46f",
   "metadata": {},
   "outputs": [
    {
     "name": "stdout",
     "output_type": "stream",
     "text": [
      "Final Test: OrderedDict([('root_mean_squared_error', 62.07035), ('loss', 3852.7283), ('num_examples', 1301), ('num_batches', 264)])\n"
     ]
    }
   ],
   "source": [
    "eval_metrics = evaluation_computation(model_final_weights, tf_testsets)\n",
    "print(\"Final Test:\", eval_metrics[\"eval\"])"
   ]
  },
  {
   "cell_type": "code",
   "execution_count": 50,
   "id": "a98c988f",
   "metadata": {},
   "outputs": [
    {
     "data": {
      "image/png": "[encoded data removed]",
      "text/plain": [
       "<Figure size 720x576 with 1 Axes>"
      ]
     },
     "metadata": {},
     "output_type": "display_data"
    }
   ],
   "source": [
    "plt.style.use(\"dark_background\")\n",
    "plt.rcParams[\"figure.figsize\"] = [10, 8]\n",
    "plt.plot(range(NUM_ROUNDS), train_losses)\n",
    "plt.ylabel(\"Train Loss\")\n",
    "plt.xlabel(\"Round\")\n",
    "plt.title(\"Train Loss\")\n",
    "plt.show()"
   ]
  },
  {
   "cell_type": "code",
   "execution_count": 51,
   "id": "ea95ad1a",
   "metadata": {},
   "outputs": [
    {
     "data": {
      "image/png": "[encoded data removed]",
      "text/plain": [
       "<Figure size 720x576 with 1 Axes>"
      ]
     },
     "metadata": {},
     "output_type": "display_data"
    }
   ],
   "source": [
    "plt.style.use(\"dark_background\")\n",
    "plt.rcParams[\"figure.figsize\"] = [10, 8]\n",
    "plt.plot(range(NUM_ROUNDS), train_mses)\n",
    "plt.ylabel(\"Train SME\")\n",
    "plt.xlabel(\"Round\")\n",
    "plt.title(\"Train MSE\")\n",
    "plt.show()"
   ]
  },
  {
   "cell_type": "markdown",
   "id": "103c86a9",
   "metadata": {},
   "source": [
    "## Step 8"
   ]
  },
  {
   "cell_type": "code",
   "execution_count": 52,
   "id": "3701e86e",
   "metadata": {},
   "outputs": [],
   "source": [
    "def get_matrix_factorization_reconstruction_model(\n",
    "    n_items: int, n_latent_factors: int\n",
    ") -> tff.learning.reconstruction.Model:\n",
    "    \"\"\"Defines a Keras matrix factorization model.\"\"\"\n",
    "    # layers with variables will be partitioned into global and local layers.\n",
    "    global_layers = []\n",
    "    local_layers = []\n",
    "\n",
    "    item_input = tf.keras.layers.Input(shape=[1], name=\"Item\")\n",
    "    item_embedding_layer = tf.keras.layers.Embedding(\n",
    "        n_items, n_latent_factors, name=\"ItemEmbedding\"\n",
    "    )\n",
    "    global_layers.append(item_embedding_layer)\n",
    "    flat_item_vec = tf.keras.layers.Flatten(name=\"FlattenItems\")(\n",
    "        item_embedding_layer(item_input)\n",
    "    )\n",
    "\n",
    "    user_embedding_layer = UserEmbedding(n_latent_factors, name=\"UserEmbedding\")\n",
    "    local_layers.append(user_embedding_layer)\n",
    "\n",
    "    flat_user_vec = user_embedding_layer(item_input)\n",
    "\n",
    "    pred = tf.keras.layers.Dot(1, normalize=False, name=\"Dot\")(\n",
    "        [flat_user_vec, flat_item_vec]\n",
    "    )\n",
    "\n",
    "    input_spec = collections.OrderedDict(\n",
    "        x=tf.TensorSpec(shape=[None, 1], dtype=tf.int64),\n",
    "        y=tf.TensorSpec(shape=[None, 1], dtype=tf.float32),\n",
    "    )\n",
    "\n",
    "    model = tf.keras.Model(inputs=item_input, outputs=pred)\n",
    "\n",
    "    return tff.learning.reconstruction.from_keras_model(\n",
    "        keras_model=model,\n",
    "        global_layers=global_layers,\n",
    "        local_layers=local_layers,\n",
    "        input_spec=input_spec,\n",
    "    )"
   ]
  },
  {
   "cell_type": "code",
   "execution_count": 53,
   "id": "fdc73aa9",
   "metadata": {},
   "outputs": [],
   "source": [
    "model_fn = functools.partial(\n",
    "    get_matrix_factorization_reconstruction_model, n_items=n_items, n_latent_factors=20\n",
    ")"
   ]
  },
  {
   "cell_type": "code",
   "execution_count": 56,
   "id": "7f34dfa4",
   "metadata": {},
   "outputs": [],
   "source": [
    "class RatingAccuracy(tf.keras.metrics.Mean):\n",
    "    \"\"\"Keras metric computing accuracy of reconstructed ratings.\"\"\"\n",
    "\n",
    "    def __init__(self, name: str = \"rating_accuracy\", **kwargs):\n",
    "        super().__init__(name=name, **kwargs)\n",
    "\n",
    "    def update_state(\n",
    "        self,\n",
    "        y_true: tf.Tensor,\n",
    "        y_pred: tf.Tensor,\n",
    "        sample_weight: Optional[tf.Tensor] = None,\n",
    "    ):\n",
    "        absolute_diffs = tf.abs(y_true - y_pred)\n",
    "        # A [batch_size, 1] tf.bool tensor indicating correctness within the\n",
    "        # threshold for each example in a batch. A 0.5 threshold corresponds\n",
    "        # to correctness when predictions are rounded to the nearest whole\n",
    "        # number.\n",
    "        example_accuracies = tf.less_equal(absolute_diffs, 0.5)\n",
    "        super().update_state(example_accuracies, sample_weight=sample_weight)"
   ]
  },
  {
   "cell_type": "code",
   "execution_count": 57,
   "id": "9a3dda33",
   "metadata": {},
   "outputs": [],
   "source": [
    "loss_fn = lambda: tf.keras.losses.MeanSquaredError()\n",
    "metrics_fn = lambda: [RatingAccuracy()]"
   ]
  },
  {
   "cell_type": "code",
   "execution_count": 58,
   "id": "694b574f",
   "metadata": {},
   "outputs": [],
   "source": [
    "training_process = tff.learning.reconstruction.build_training_process(\n",
    "    model_fn=model_fn,\n",
    "    loss_fn=loss_fn,\n",
    "    metrics_fn=metrics_fn,\n",
    "    server_optimizer_fn=lambda: tf.keras.optimizers.SGD(1.0),\n",
    "    client_optimizer_fn=lambda: tf.keras.optimizers.SGD(0.5),\n",
    "    reconstruction_optimizer_fn=lambda: tf.keras.optimizers.SGD(0.1),\n",
    ")"
   ]
  },
  {
   "cell_type": "code",
   "execution_count": 59,
   "id": "45369923",
   "metadata": {},
   "outputs": [],
   "source": [
    "evaluation_computation = tff.learning.reconstruction.build_federated_evaluation(\n",
    "    model_fn,\n",
    "    loss_fn=loss_fn,\n",
    "    metrics_fn=metrics_fn,\n",
    "    reconstruction_optimizer_fn=functools.partial(tf.keras.optimizers.SGD, 0.1),\n",
    ")"
   ]
  },
  {
   "cell_type": "code",
   "execution_count": 60,
   "id": "30ce7aff",
   "metadata": {},
   "outputs": [
    {
     "name": "stdout",
     "output_type": "stream",
     "text": [
      "ModelWeights(trainable=[array([[-0.01458404,  0.01861094,  0.00514778, ..., -0.04393119,\n",
      "         0.00270237, -0.01020726],\n",
      "       [ 0.02744814, -0.03383245,  0.02488384, ..., -0.02998006,\n",
      "        -0.0110489 , -0.03595704],\n",
      "       [ 0.03576255,  0.04597631,  0.01059598, ..., -0.04483577,\n",
      "        -0.02835159, -0.03331989],\n",
      "       ...,\n",
      "       [-0.02035489,  0.03605418, -0.02124712, ..., -0.04814229,\n",
      "        -0.01996189,  0.04671769],\n",
      "       [-0.00461477,  0.04110129, -0.0068982 , ..., -0.04025917,\n",
      "        -0.04994818, -0.00656503],\n",
      "       [-0.01403391,  0.00106847,  0.02874054, ..., -0.01940159,\n",
      "         0.02457477, -0.04475471]], dtype=float32)], non_trainable=[])\n"
     ]
    }
   ],
   "source": [
    "state = training_process.initialize()\n",
    "\n",
    "print(state.model)"
   ]
  },
  {
   "cell_type": "code",
   "execution_count": 61,
   "id": "8bce0b02",
   "metadata": {},
   "outputs": [
    {
     "name": "stdout",
     "output_type": "stream",
     "text": [
      "Item variables shape: (9724, 20)\n"
     ]
    }
   ],
   "source": [
    "print(\"Item variables shape:\", state.model.trainable[0].shape)"
   ]
  },
  {
   "cell_type": "code",
   "execution_count": 62,
   "id": "6c9968ca",
   "metadata": {},
   "outputs": [],
   "source": [
    "eval_metrics = evaluation_computation(state.model, tf_validationsets)"
   ]
  },
  {
   "cell_type": "code",
   "execution_count": 63,
   "id": "f936c2cf",
   "metadata": {},
   "outputs": [
    {
     "name": "stdout",
     "output_type": "stream",
     "text": [
      "Initial Eval: OrderedDict([('loss', 14.365189), ('rating_accuracy', 0.0234375)])\n"
     ]
    }
   ],
   "source": [
    "print(\"Initial Eval:\", eval_metrics[\"eval\"])"
   ]
  },
  {
   "cell_type": "code",
   "execution_count": 64,
   "id": "5637b12b",
   "metadata": {},
   "outputs": [],
   "source": [
    "federated_train_data = np.random.choice(tf_trainsets, size=50, replace=False).tolist()\n",
    "state, metrics = training_process.next(state, federated_train_data)"
   ]
  },
  {
   "cell_type": "code",
   "execution_count": 65,
   "id": "44f11481",
   "metadata": {},
   "outputs": [
    {
     "name": "stdout",
     "output_type": "stream",
     "text": [
      "Train metrics: OrderedDict([('rating_accuracy', 0.0052083335), ('loss', 13.021151)])\n"
     ]
    }
   ],
   "source": [
    "print(f\"Train metrics:\", metrics[\"train\"])"
   ]
  },
  {
   "cell_type": "code",
   "execution_count": 66,
   "id": "301748aa",
   "metadata": {},
   "outputs": [
    {
     "name": "stdout",
     "output_type": "stream",
     "text": [
      "Train round 0: OrderedDict([('rating_accuracy', 0.0043363045), ('loss', 13.534419)])\n",
      "Train round 1: OrderedDict([('rating_accuracy', 0.0044623883), ('loss', 13.311725)])\n",
      "Train round 2: OrderedDict([('rating_accuracy', 0.008062274), ('loss', 12.4470215)])\n",
      "Train round 3: OrderedDict([('rating_accuracy', 0.048518226), ('loss', 9.629387)])\n",
      "Train round 4: OrderedDict([('rating_accuracy', 0.11830024), ('loss', 6.101593)])\n",
      "Train round 5: OrderedDict([('rating_accuracy', 0.19407482), ('loss', 5.478102)])\n",
      "Train round 6: OrderedDict([('rating_accuracy', 0.24655788), ('loss', 4.220058)])\n",
      "Train round 7: OrderedDict([('rating_accuracy', 0.2785657), ('loss', 3.5762491)])\n",
      "Train round 8: OrderedDict([('rating_accuracy', 0.21022384), ('loss', 3.8560605)])\n",
      "Train round 9: OrderedDict([('rating_accuracy', 0.3159664), ('loss', 2.9219882)])\n",
      "Train round 10: OrderedDict([('rating_accuracy', 0.36239848), ('loss', 2.49117)])\n",
      "Train round 11: OrderedDict([('rating_accuracy', 0.30989724), ('loss', 2.4670267)])\n",
      "Train round 12: OrderedDict([('rating_accuracy', 0.34829444), ('loss', 2.3682978)])\n",
      "Train round 13: OrderedDict([('rating_accuracy', 0.38016018), ('loss', 2.0603187)])\n",
      "Train round 14: OrderedDict([('rating_accuracy', 0.31437376), ('loss', 2.3226633)])\n",
      "Train round 15: OrderedDict([('rating_accuracy', 0.36826897), ('loss', 2.1515555)])\n",
      "Train round 16: OrderedDict([('rating_accuracy', 0.39618137), ('loss', 1.9053893)])\n",
      "Train round 17: OrderedDict([('rating_accuracy', 0.32670215), ('loss', 2.1942458)])\n",
      "Train round 18: OrderedDict([('rating_accuracy', 0.30861604), ('loss', 2.3298416)])\n",
      "Train round 19: OrderedDict([('rating_accuracy', 0.41484505), ('loss', 1.6859599)])\n",
      "Train round 20: OrderedDict([('rating_accuracy', 0.4389107), ('loss', 1.6373869)])\n",
      "Train round 21: OrderedDict([('rating_accuracy', 0.40729266), ('loss', 1.6521273)])\n",
      "Train round 22: OrderedDict([('rating_accuracy', 0.47298297), ('loss', 1.5062815)])\n",
      "Train round 23: OrderedDict([('rating_accuracy', 0.38649812), ('loss', 1.7474728)])\n",
      "Train round 24: OrderedDict([('rating_accuracy', 0.48156577), ('loss', 1.4432776)])\n",
      "Train round 25: OrderedDict([('rating_accuracy', 0.46440437), ('loss', 1.5047207)])\n",
      "Train round 26: OrderedDict([('rating_accuracy', 0.4794194), ('loss', 1.3560207)])\n",
      "Train round 27: OrderedDict([('rating_accuracy', 0.34111583), ('loss', 1.9526981)])\n",
      "Train round 28: OrderedDict([('rating_accuracy', 0.43446854), ('loss', 1.4457394)])\n",
      "Train round 29: OrderedDict([('rating_accuracy', 0.44795102), ('loss', 1.3662158)])\n"
     ]
    }
   ],
   "source": [
    "train_losses, train_accs = [], []\n",
    "\n",
    "state = training_process.initialize()\n",
    "\n",
    "# This may take a couple minutes to run.\n",
    "for i in range(NUM_ROUNDS):\n",
    "    federated_train_data = np.random.choice(\n",
    "        tf_trainsets, size=50, replace=False\n",
    "    ).tolist()\n",
    "    state, metrics = training_process.next(state, federated_train_data)\n",
    "    print(f\"Train round {i}:\", metrics[\"train\"])\n",
    "    train_losses.append(metrics[\"train\"][\"loss\"])\n",
    "    train_accs.append(metrics[\"train\"][\"rating_accuracy\"])"
   ]
  },
  {
   "cell_type": "code",
   "execution_count": 67,
   "id": "5f7b7e88",
   "metadata": {},
   "outputs": [
    {
     "data": {
      "image/png": "[encoded data removed]",
      "text/plain": [
       "<Figure size 720x576 with 1 Axes>"
      ]
     },
     "metadata": {},
     "output_type": "display_data"
    }
   ],
   "source": [
    "plt.style.use(\"dark_background\")\n",
    "plt.rcParams[\"figure.figsize\"] = [10, 8]\n",
    "plt.plot(range(NUM_ROUNDS), train_losses)\n",
    "plt.ylabel(\"Train Loss\")\n",
    "plt.xlabel(\"Round\")\n",
    "plt.title(\"Train Loss\")\n",
    "plt.show()"
   ]
  },
  {
   "cell_type": "code",
   "execution_count": 68,
   "id": "bae5a02a",
   "metadata": {},
   "outputs": [
    {
     "data": {
      "image/png": "[encoded data removed]",
      "text/plain": [
       "<Figure size 720x576 with 1 Axes>"
      ]
     },
     "metadata": {},
     "output_type": "display_data"
    }
   ],
   "source": [
    "plt.style.use(\"dark_background\")\n",
    "plt.rcParams[\"figure.figsize\"] = [10, 8]\n",
    "plt.plot(range(NUM_ROUNDS), train_accs)\n",
    "plt.ylabel(\"Train RSME\")\n",
    "plt.xlabel(\"Round\")\n",
    "plt.title(\"Train RMSE\")\n",
    "plt.show()"
   ]
  },
  {
   "cell_type": "code",
   "execution_count": 69,
   "id": "b966e6bf",
   "metadata": {},
   "outputs": [
    {
     "name": "stdout",
     "output_type": "stream",
     "text": [
      "Final Eval: OrderedDict([('loss', 3.1013365), ('rating_accuracy', 0.2890625)])\n"
     ]
    }
   ],
   "source": [
    "eval_metrics = evaluation_computation(state.model, tf_validationsets)\n",
    "print(\"Final Eval:\", eval_metrics[\"eval\"])"
   ]
  },
  {
   "cell_type": "code",
   "execution_count": 70,
   "id": "3b49fe7c",
   "metadata": {},
   "outputs": [
    {
     "name": "stdout",
     "output_type": "stream",
     "text": [
      "Final Test: OrderedDict([('loss', 2.7783215), ('rating_accuracy', 0.2354788)])\n"
     ]
    }
   ],
   "source": [
    "eval_metrics = evaluation_computation(state.model, tf_testsets)\n",
    "print(\"Final Test:\", eval_metrics[\"eval\"])"
   ]
  },
  {
   "cell_type": "markdown",
   "id": "c1cdb703",
   "metadata": {},
   "source": [
    "## Step 9"
   ]
  },
  {
   "cell_type": "code",
   "execution_count": null,
   "id": "1e12276d",
   "metadata": {},
   "outputs": [],
   "source": [
    "# already incorporated in previous steps"
   ]
  },
  {
   "cell_type": "markdown",
   "id": "54047244",
   "metadata": {},
   "source": [
    "## Step 10"
   ]
  },
  {
   "cell_type": "code",
   "execution_count": null,
   "id": "84b80ca6",
   "metadata": {},
   "outputs": [],
   "source": []
  }
 ],
 "metadata": {
  "kernelspec": {
   "display_name": "Python 3 (ipykernel)",
   "language": "python",
   "name": "python3"
  },
  "language_info": {
   "codemirror_mode": {
    "name": "ipython",
    "version": 3
   },
   "file_extension": ".py",
   "mimetype": "text/x-python",
   "name": "python",
   "nbconvert_exporter": "python",
   "pygments_lexer": "ipython3",
   "version": "3.8.10"
  }
 },
 "nbformat": 4,
 "nbformat_minor": 5
}
