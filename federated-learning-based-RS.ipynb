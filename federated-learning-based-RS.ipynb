{
 "cells": [
  {
   "cell_type": "code",
   "execution_count": 61,
   "id": "8f15be42",
   "metadata": {},
   "outputs": [],
   "source": [
    "import collections\n",
    "import functools\n",
    "import statistics\n",
    "from typing import Callable, Iterator, List, Tuple\n",
    "\n",
    "import matplotlib.pyplot as plt\n",
    "import nest_asyncio\n",
    "import numpy as np\n",
    "import pandas as pd\n",
    "import tensorflow as tf\n",
    "import tensorflow_federated as tff\n",
    "from plotnine import *\n",
    "from surprise import SVD\n",
    "from surprise import Dataset, Reader\n",
    "from surprise.model_selection import cross_validate"
   ]
  },
  {
   "cell_type": "markdown",
   "id": "59c513d5",
   "metadata": {},
   "source": [
    "# Table of Contents\n",
    "\n",
    "- [Step 1](#Step-1)\n",
    "- [Step 2](#Step-2-+-Step-3)\n",
    "- [Step 3](#Step-2-+-Step-3)\n",
    "- [Step 4](#Step-4)\n",
    "- [Step 5](#Step-5)\n",
    "- [Step 6](#Step-6)\n",
    "- [Step 7](#Step-4)\n",
    "- [Step 8](#Step-5)\n",
    "- [Step 9](#Step-6)\n",
    "- [Step 10](#Step-10)"
   ]
  },
  {
   "cell_type": "code",
   "execution_count": 3,
   "id": "d2c97ce8",
   "metadata": {},
   "outputs": [],
   "source": [
    "def inspect_df(df: pd.DataFrame, n: int = 5) -> pd.DataFrame:\n",
    "    \"\"\"Helper method to easily inspect DataFrames.\"\"\"\n",
    "\n",
    "    print(f\"shape: {df.shape}\")\n",
    "\n",
    "    return df.head(n)"
   ]
  },
  {
   "cell_type": "code",
   "execution_count": 4,
   "id": "734ab202",
   "metadata": {},
   "outputs": [
    {
     "name": "stdout",
     "output_type": "stream",
     "text": [
      "--2022-03-19 11:01:48--  https://files.grouplens.org/datasets/movielens/ml-latest-small.zip\n",
      "Resolving files.grouplens.org (files.grouplens.org)... 128.101.65.152\n",
      "Connecting to files.grouplens.org (files.grouplens.org)|128.101.65.152|:443... connected.\n",
      "HTTP request sent, awaiting response... 200 OK\n",
      "Length: 978202 (955K) [application/zip]\n",
      "Saving to: ‘data/ml-latest-small.zip’\n",
      "\n",
      "ml-latest-small.zip 100%[===================>] 955.28K   391KB/s    in 2.4s    \n",
      "\n",
      "2022-03-19 11:01:51 (391 KB/s) - ‘data/ml-latest-small.zip’ saved [978202/978202]\n",
      "\n"
     ]
    }
   ],
   "source": [
    "# dataset source: https://grouplens.org/datasets/movielens/\n",
    "!wget --backups=1 https://files.grouplens.org/datasets/movielens/ml-latest-small.zip -P data/"
   ]
  },
  {
   "cell_type": "code",
   "execution_count": 5,
   "id": "6bc846ed",
   "metadata": {},
   "outputs": [
    {
     "name": "stdout",
     "output_type": "stream",
     "text": [
      "Archive:  data/ml-latest-small.zip\r\n",
      "  inflating: data/ml-latest-small/links.csv  \r\n",
      "  inflating: data/ml-latest-small/tags.csv  \r\n",
      "  inflating: data/ml-latest-small/ratings.csv  \r\n",
      "  inflating: data/ml-latest-small/README.txt  \r\n",
      "  inflating: data/ml-latest-small/movies.csv  \r\n"
     ]
    }
   ],
   "source": [
    "# if `unzip` does not exist in your system: apt-get install unzip\n",
    "!unzip -o data/ml-latest-small.zip -d data/"
   ]
  },
  {
   "cell_type": "markdown",
   "id": "56f05686",
   "metadata": {},
   "source": [
    "## Step 1"
   ]
  },
  {
   "cell_type": "code",
   "execution_count": 6,
   "id": "1e0a335b",
   "metadata": {},
   "outputs": [],
   "source": [
    "# Formulate the optimization problem (similarly to the formulation in Unit 5). Your\n",
    "# optimization problem will relate to the prediction error in the training dataset.\n",
    "# Make sure you understand the unknowns of the problem, and what you are trying to optimize."
   ]
  },
  {
   "cell_type": "markdown",
   "id": "15066828",
   "metadata": {},
   "source": [
    "## Step 2 + Step 3"
   ]
  },
  {
   "cell_type": "code",
   "execution_count": 7,
   "id": "f9427823",
   "metadata": {},
   "outputs": [],
   "source": [
    "reader = Reader(\n",
    "    line_format=\"user item rating timestamp\", sep=\",\", skip_lines=1, rating_scale=(1, 5)\n",
    ")"
   ]
  },
  {
   "cell_type": "code",
   "execution_count": 8,
   "id": "9e3da310",
   "metadata": {},
   "outputs": [],
   "source": [
    "data = Dataset.load_from_file(\"data/ml-latest-small/ratings.csv\", reader=reader)"
   ]
  },
  {
   "cell_type": "markdown",
   "id": "e3abbe16",
   "metadata": {},
   "source": [
    "## Step 4"
   ]
  },
  {
   "cell_type": "code",
   "execution_count": 9,
   "id": "17c416bf",
   "metadata": {},
   "outputs": [],
   "source": [
    "recsys_small = SVD(\n",
    "    n_factors=4,\n",
    "    n_epochs=50,\n",
    "    biased=True,  # use baselines\n",
    "    random_state=123456,\n",
    ")"
   ]
  },
  {
   "cell_type": "code",
   "execution_count": 10,
   "id": "eea20aef",
   "metadata": {},
   "outputs": [],
   "source": [
    "recsys_large = SVD(\n",
    "    n_factors=20,\n",
    "    n_epochs=50,\n",
    "    biased=True,  # use baselines\n",
    "    random_state=123456,\n",
    ")"
   ]
  },
  {
   "cell_type": "code",
   "execution_count": 11,
   "id": "917b2e90",
   "metadata": {
    "scrolled": false
   },
   "outputs": [
    {
     "name": "stdout",
     "output_type": "stream",
     "text": [
      "Evaluating MSE, RMSE, MAE of algorithm SVD on 5 split(s).\n",
      "\n",
      "                  Fold 1  Fold 2  Fold 3  Fold 4  Fold 5  Mean    Std     \n",
      "MSE (testset)     0.7770  0.7617  0.7722  0.7573  0.7638  0.7664  0.0072  \n",
      "RMSE (testset)    0.8815  0.8728  0.8788  0.8703  0.8739  0.8754  0.0041  \n",
      "MAE (testset)     0.6737  0.6668  0.6690  0.6674  0.6696  0.6693  0.0024  \n",
      "MSE (trainset)    0.5148  0.5113  0.5128  0.5153  0.5109  0.5130  0.0018  \n",
      "RMSE (trainset)   0.7175  0.7150  0.7161  0.7178  0.7148  0.7162  0.0012  \n",
      "MAE (trainset)    0.5516  0.5497  0.5513  0.5522  0.5494  0.5508  0.0011  \n",
      "Fit time          1.56    1.55    1.61    1.53    1.54    1.56    0.03    \n",
      "Test time         0.09    0.09    0.09    0.09    0.09    0.09    0.00    \n"
     ]
    }
   ],
   "source": [
    "cv_results = {}\n",
    "\n",
    "cv_results[\"SVD w/ 4 factors\"] = cross_validate(\n",
    "    recsys_small,\n",
    "    data=data,\n",
    "    measures=[\"mse\", \"rmse\", \"mae\"],\n",
    "    return_train_measures=True,\n",
    "    verbose=True,\n",
    "    cv=5,\n",
    "    n_jobs=-1,\n",
    ")"
   ]
  },
  {
   "cell_type": "code",
   "execution_count": 12,
   "id": "1fcc3326",
   "metadata": {},
   "outputs": [
    {
     "name": "stdout",
     "output_type": "stream",
     "text": [
      "Evaluating MSE, RMSE, MAE of algorithm SVD on 5 split(s).\n",
      "\n",
      "                  Fold 1  Fold 2  Fold 3  Fold 4  Fold 5  Mean    Std     \n",
      "MSE (testset)     0.7873  0.7731  0.7704  0.7893  0.7799  0.7800  0.0075  \n",
      "RMSE (testset)    0.8873  0.8793  0.8777  0.8884  0.8831  0.8832  0.0042  \n",
      "MAE (testset)     0.6796  0.6688  0.6707  0.6821  0.6751  0.6753  0.0051  \n",
      "MSE (trainset)    0.3012  0.3024  0.2977  0.3015  0.3025  0.3010  0.0018  \n",
      "RMSE (trainset)   0.5488  0.5499  0.5456  0.5491  0.5500  0.5487  0.0016  \n",
      "MAE (trainset)    0.4229  0.4249  0.4214  0.4245  0.4243  0.4236  0.0013  \n",
      "Fit time          3.08    3.01    3.01    2.98    3.04    3.02    0.03    \n",
      "Test time         0.10    0.10    0.13    0.11    0.11    0.11    0.01    \n"
     ]
    }
   ],
   "source": [
    "cv_results[\"SVD w/ 20 factors\"] = cross_validate(\n",
    "    recsys_large,\n",
    "    data=data,\n",
    "    measures=[\"mse\", \"rmse\", \"mae\"],\n",
    "    return_train_measures=True,\n",
    "    verbose=True,\n",
    "    cv=5,\n",
    "    n_jobs=-1,\n",
    ")"
   ]
  },
  {
   "cell_type": "code",
   "execution_count": 13,
   "id": "28ceac08",
   "metadata": {},
   "outputs": [],
   "source": [
    "df = pd.DataFrame(cv_results).T.reset_index()\n",
    "\n",
    "df[\"mean RMSE (train)\"] = df[\"train_rmse\"].map(lambda x: statistics.mean(x))"
   ]
  },
  {
   "cell_type": "code",
   "execution_count": 14,
   "id": "596350da",
   "metadata": {},
   "outputs": [
    {
     "data": {
      "image/png": "[encoded data removed]",
      "text/plain": [
       "<Figure size 800x600 with 1 Axes>"
      ]
     },
     "metadata": {},
     "output_type": "display_data"
    },
    {
     "data": {
      "text/plain": [
       "<ggplot: (8751012044508)>"
      ]
     },
     "execution_count": 14,
     "metadata": {},
     "output_type": "execute_result"
    }
   ],
   "source": [
    "(\n",
    "    ggplot(df)\n",
    "    + geom_col(aes(x=\"index\", y=\"mean RMSE (train)\"), stat=\"identity\")\n",
    "    + theme(axis_text_x=element_text(rotation=45, hjust=1), figure_size=(8, 6))\n",
    "    + labs(x=\"\", y=\"mean RMSE (train)\")\n",
    "    + coord_flip()\n",
    ")"
   ]
  },
  {
   "cell_type": "markdown",
   "id": "02bf0f4f",
   "metadata": {},
   "source": [
    "## Step 5"
   ]
  },
  {
   "cell_type": "code",
   "execution_count": 15,
   "id": "0bdaf204",
   "metadata": {},
   "outputs": [
    {
     "name": "stdout",
     "output_type": "stream",
     "text": [
      "shape: (100836, 3)\n"
     ]
    },
    {
     "data": {
      "text/html": [
       "<div>\n",
       "<style scoped>\n",
       "    .dataframe tbody tr th:only-of-type {\n",
       "        vertical-align: middle;\n",
       "    }\n",
       "\n",
       "    .dataframe tbody tr th {\n",
       "        vertical-align: top;\n",
       "    }\n",
       "\n",
       "    .dataframe thead th {\n",
       "        text-align: right;\n",
       "    }\n",
       "</style>\n",
       "<table border=\"1\" class=\"dataframe\">\n",
       "  <thead>\n",
       "    <tr style=\"text-align: right;\">\n",
       "      <th></th>\n",
       "      <th>user</th>\n",
       "      <th>item</th>\n",
       "      <th>rating</th>\n",
       "    </tr>\n",
       "  </thead>\n",
       "  <tbody>\n",
       "    <tr>\n",
       "      <th>0</th>\n",
       "      <td>1</td>\n",
       "      <td>1</td>\n",
       "      <td>4.0</td>\n",
       "    </tr>\n",
       "    <tr>\n",
       "      <th>1</th>\n",
       "      <td>1</td>\n",
       "      <td>3</td>\n",
       "      <td>4.0</td>\n",
       "    </tr>\n",
       "    <tr>\n",
       "      <th>2</th>\n",
       "      <td>1</td>\n",
       "      <td>6</td>\n",
       "      <td>4.0</td>\n",
       "    </tr>\n",
       "    <tr>\n",
       "      <th>3</th>\n",
       "      <td>1</td>\n",
       "      <td>47</td>\n",
       "      <td>5.0</td>\n",
       "    </tr>\n",
       "    <tr>\n",
       "      <th>4</th>\n",
       "      <td>1</td>\n",
       "      <td>50</td>\n",
       "      <td>5.0</td>\n",
       "    </tr>\n",
       "  </tbody>\n",
       "</table>\n",
       "</div>"
      ],
      "text/plain": [
       "   user  item  rating\n",
       "0     1     1     4.0\n",
       "1     1     3     4.0\n",
       "2     1     6     4.0\n",
       "3     1    47     5.0\n",
       "4     1    50     5.0"
      ]
     },
     "execution_count": 15,
     "metadata": {},
     "output_type": "execute_result"
    }
   ],
   "source": [
    "ratings = pd.read_csv(\n",
    "    \"data/ml-latest-small/ratings.csv\",\n",
    "    usecols=[\"user\", \"item\", \"rating\"],\n",
    "    names=[\"user\", \"item\", \"rating\"],\n",
    "    skiprows=1,\n",
    ")\n",
    "\n",
    "inspect_df(ratings)"
   ]
  },
  {
   "cell_type": "code",
   "execution_count": 16,
   "id": "b9cf6e82",
   "metadata": {},
   "outputs": [],
   "source": [
    "ratings[\"user\"] = ratings.groupby(\"user\").ngroup()"
   ]
  },
  {
   "cell_type": "code",
   "execution_count": 17,
   "id": "6db13a0b",
   "metadata": {},
   "outputs": [],
   "source": [
    "ratings[\"item\"] = ratings.groupby(\"item\").ngroup()"
   ]
  },
  {
   "cell_type": "code",
   "execution_count": 65,
   "id": "f8a883f8",
   "metadata": {},
   "outputs": [],
   "source": [
    "def transform_batch(batch: tf.Tensor) -> collections.OrderedDict:\n",
    "    return collections.OrderedDict(\n",
    "        x=tf.cast(batch[:, 0:2], tf.int64), y=tf.cast(batch[:, 2:3], tf.float32)\n",
    "    )"
   ]
  },
  {
   "cell_type": "code",
   "execution_count": 63,
   "id": "6ecd6f4d",
   "metadata": {},
   "outputs": [],
   "source": [
    "def create_tf_datasets(\n",
    "    data: pd.DataFrame,\n",
    "    transform_func: Callable,\n",
    "    batch_size: int = 1,\n",
    "    max_clients: int = None,\n",
    "    max_items_per_client: int = None,\n",
    ") -> Iterator[tf.data.Dataset]:\n",
    "\n",
    "    n_users = len(data[\"user\"].unique())\n",
    "\n",
    "    if max_clients is not None:\n",
    "        n_users = min(n_users, max_clients)\n",
    "\n",
    "    for _, user_ratings in data.groupby(\"user\"):\n",
    "\n",
    "        if n_users < 0:\n",
    "            break\n",
    "\n",
    "        tf_dataset = tf.data.Dataset.from_tensor_slices(user_ratings)\n",
    "\n",
    "        yield (\n",
    "            tf_dataset.take(max_items_per_client)\n",
    "            .shuffle(buffer_size=max_items_per_client, seed=42)\n",
    "            .batch(batch_size)\n",
    "            .map(transform_func, num_parallel_calls=tf.data.experimental.AUTOTUNE)\n",
    "        )\n",
    "\n",
    "        n_users -= 1"
   ]
  },
  {
   "cell_type": "code",
   "execution_count": 64,
   "id": "ac77a7bf",
   "metadata": {},
   "outputs": [],
   "source": [
    "def split_tf_datasets(\n",
    "    tf_datasets: List[tf.data.Dataset],\n",
    "    train_fraction: float = 0.8,\n",
    "    val_fraction: float = 0.1,\n",
    ") -> Tuple[List[tf.data.Dataset], List[tf.data.Dataset], List[tf.data.Dataset]]:\n",
    "    \"\"\"Splits a list of user TF datasets into train/val/test by user.\"\"\"\n",
    "    np.random.seed(42)\n",
    "    np.random.shuffle(tf_datasets)\n",
    "\n",
    "    train_idx = int(len(tf_datasets) * train_fraction)\n",
    "    val_idx = int(len(tf_datasets) * (train_fraction + val_fraction))\n",
    "\n",
    "    # Note that the val and test data contains completely different users, not\n",
    "    # just unseen ratings from train users.\n",
    "    return (\n",
    "        tf_datasets[:train_idx],\n",
    "        tf_datasets[train_idx:val_idx],\n",
    "        tf_datasets[val_idx:],\n",
    "    )"
   ]
  },
  {
   "cell_type": "code",
   "execution_count": 66,
   "id": "b575fa05",
   "metadata": {},
   "outputs": [],
   "source": [
    "tf_datasets = [\n",
    "    *create_tf_datasets(\n",
    "        data=ratings,\n",
    "        transform_func=transform_batch,\n",
    "        batch_size=5,\n",
    "        max_clients=100,\n",
    "        max_items_per_client=3000,\n",
    "    )\n",
    "]"
   ]
  },
  {
   "cell_type": "code",
   "execution_count": 67,
   "id": "88d3e0e3",
   "metadata": {},
   "outputs": [],
   "source": [
    "tf_trainsets, tf_validationsets, tf_testsets = split_tf_datasets(\n",
    "    tf_datasets, train_fraction=0.8, val_fraction=0.1\n",
    ")"
   ]
  },
  {
   "cell_type": "markdown",
   "id": "2601cc29",
   "metadata": {},
   "source": [
    "## Step 6"
   ]
  },
  {
   "cell_type": "code",
   "execution_count": 68,
   "id": "744d0c9b",
   "metadata": {},
   "outputs": [],
   "source": [
    "nest_asyncio.apply()"
   ]
  },
  {
   "cell_type": "code",
   "execution_count": 69,
   "id": "2ea601d5",
   "metadata": {},
   "outputs": [],
   "source": [
    "n_users = len(ratings[\"user\"].unique())\n",
    "n_items = len(ratings[\"item\"].unique())"
   ]
  },
  {
   "cell_type": "code",
   "execution_count": 70,
   "id": "f6050674",
   "metadata": {},
   "outputs": [],
   "source": [
    "def matrix_factorization_model(\n",
    "    n_users: int,\n",
    "    n_items: int,\n",
    "    n_latent_factors: int,\n",
    ") -> tf.keras.Model:\n",
    "    \"\"\"A federation-friendly Matrix Factorization model.\"\"\"\n",
    "    combined_input = tf.keras.layers.Input(\n",
    "        shape=[2], dtype=\"int32\", name=\"combined_input\"\n",
    "    )\n",
    "    u = tf.keras.layers.Embedding(\n",
    "        input_dim=n_users + 1, output_dim=n_latent_factors, name=\"users_embedding\"\n",
    "    )(combined_input[:, 0])\n",
    "    u = tf.keras.layers.Flatten()(u)\n",
    "\n",
    "    i = tf.keras.layers.Embedding(\n",
    "        input_dim=n_items + 1, output_dim=n_latent_factors, name=\"items_embedding\"\n",
    "    )(combined_input[:, 1])\n",
    "    i = tf.keras.layers.Flatten()(i)\n",
    "\n",
    "    output = tf.output_layer = tf.keras.layers.Dot(1, normalize=False, name=\"Dot\")(\n",
    "        [i, u]\n",
    "    )\n",
    "\n",
    "    return tf.keras.Model(inputs=combined_input, outputs=output)"
   ]
  },
  {
   "cell_type": "code",
   "execution_count": 71,
   "id": "2fb19c41",
   "metadata": {},
   "outputs": [],
   "source": [
    "def model_fn():\n",
    "    model = matrix_factorization_model(\n",
    "        n_users=n_users,\n",
    "        n_items=n_items,\n",
    "        n_latent_factors=20,\n",
    "    )\n",
    "\n",
    "    input_spec = collections.OrderedDict(\n",
    "        x=tf.TensorSpec(shape=[None, 2], dtype=tf.int64),\n",
    "        y=tf.TensorSpec(shape=[None, 1], dtype=tf.float32),\n",
    "    )\n",
    "\n",
    "    return tff.learning.from_keras_model(\n",
    "        model,\n",
    "        input_spec=input_spec,\n",
    "        loss=tf.keras.losses.MeanSquaredError(),\n",
    "        metrics=[tf.keras.metrics.RootMeanSquaredError()],\n",
    "    )"
   ]
  },
  {
   "cell_type": "code",
   "execution_count": 72,
   "id": "5cec8717",
   "metadata": {},
   "outputs": [],
   "source": [
    "iterative_process = tff.learning.build_federated_averaging_process(\n",
    "    model_fn,\n",
    "    client_optimizer_fn=lambda: tf.keras.optimizers.SGD(learning_rate=0.02),\n",
    "    server_optimizer_fn=lambda: tf.keras.optimizers.SGD(learning_rate=1.0),\n",
    ")"
   ]
  },
  {
   "cell_type": "code",
   "execution_count": 73,
   "id": "c9244c9b",
   "metadata": {},
   "outputs": [
    {
     "data": {
      "text/plain": [
       "'( -> <model=<trainable=<float32[9725,20],float32[611,20]>,non_trainable=<>>,optimizer_state=<int64>,delta_aggregate_state=<value_sum_process=<>,weight_sum_process=<>>,model_broadcast_state=<>>@SERVER)'"
      ]
     },
     "execution_count": 73,
     "metadata": {},
     "output_type": "execute_result"
    }
   ],
   "source": [
    "str(iterative_process.initialize.type_signature)"
   ]
  },
  {
   "cell_type": "code",
   "execution_count": 74,
   "id": "eb31d2d2",
   "metadata": {},
   "outputs": [
    {
     "name": "stdout",
     "output_type": "stream",
     "text": [
      "ModelWeights(trainable=[array([[ 0.0310169 ,  0.04509212,  0.00365401, ..., -0.00834718,\n",
      "        -0.00669435,  0.02797886],\n",
      "       [ 0.00108213, -0.03593155, -0.04765055, ...,  0.02005494,\n",
      "         0.04606282, -0.01107187],\n",
      "       [ 0.02724767, -0.04563444,  0.02653909, ...,  0.00607463,\n",
      "         0.01219218, -0.01340135],\n",
      "       ...,\n",
      "       [ 0.00904124,  0.01276108,  0.03112502, ..., -0.02201513,\n",
      "         0.01846855,  0.00732607],\n",
      "       [-0.00947016, -0.0215515 , -0.04898968, ..., -0.04825068,\n",
      "         0.02342453,  0.01144099],\n",
      "       [-0.04393561,  0.00824939,  0.00529315, ...,  0.04098518,\n",
      "        -0.01691638, -0.00058628]], dtype=float32), array([[-0.00462379, -0.03034519, -0.01370989, ..., -0.01160241,\n",
      "        -0.04344605, -0.00297526],\n",
      "       [ 0.02742388, -0.02630171, -0.04841193, ..., -0.0076882 ,\n",
      "        -0.02982068, -0.01449519],\n",
      "       [-0.03497065, -0.03998072, -0.02631594, ..., -0.03517219,\n",
      "         0.01700756, -0.01408612],\n",
      "       ...,\n",
      "       [ 0.03518326,  0.03195579,  0.01508692, ..., -0.02712059,\n",
      "         0.044423  ,  0.01625475],\n",
      "       [-0.04439713,  0.01582091,  0.03496617, ...,  0.04363358,\n",
      "        -0.00144204,  0.0061347 ],\n",
      "       [-0.02976403,  0.01406752, -0.03336207, ...,  0.01090317,\n",
      "        -0.00345548,  0.03879335]], dtype=float32)], non_trainable=[])\n"
     ]
    }
   ],
   "source": [
    "state = iterative_process.initialize()\n",
    "\n",
    "print(state.model)"
   ]
  },
  {
   "cell_type": "code",
   "execution_count": 75,
   "id": "d2af493a",
   "metadata": {},
   "outputs": [
    {
     "name": "stdout",
     "output_type": "stream",
     "text": [
      "User variables shape: (611, 20)\n"
     ]
    }
   ],
   "source": [
    "print(\"User variables shape:\", state.model.trainable[1].shape)"
   ]
  },
  {
   "cell_type": "code",
   "execution_count": 76,
   "id": "cdfb5694",
   "metadata": {},
   "outputs": [
    {
     "name": "stdout",
     "output_type": "stream",
     "text": [
      "Item variables shape: (9725, 20)\n"
     ]
    }
   ],
   "source": [
    "print(\"Item variables shape:\", state.model.trainable[0].shape)"
   ]
  },
  {
   "cell_type": "code",
   "execution_count": 77,
   "id": "a8d5c961",
   "metadata": {},
   "outputs": [],
   "source": [
    "evaluation_computation = tff.learning.build_federated_evaluation(model_fn)"
   ]
  },
  {
   "cell_type": "code",
   "execution_count": 78,
   "id": "29cfe58b",
   "metadata": {},
   "outputs": [
    {
     "name": "stdout",
     "output_type": "stream",
     "text": [
      "Train round 0: OrderedDict([('root_mean_squared_error', 3.6591358), ('loss', 13.389276), ('num_examples', 8644), ('num_batches', 1751)])\n",
      "Train round 1: OrderedDict([('root_mean_squared_error', 3.620245), ('loss', 13.106174), ('num_examples', 8908), ('num_batches', 1806)])\n",
      "Train round 2: OrderedDict([('root_mean_squared_error', 3.6473908), ('loss', 13.303461), ('num_examples', 9100), ('num_batches', 1842)])\n",
      "Train round 3: OrderedDict([('root_mean_squared_error', 3.692652), ('loss', 13.635678), ('num_examples', 7853), ('num_batches', 1595)])\n",
      "Train round 4: OrderedDict([('root_mean_squared_error', 3.6221085), ('loss', 13.119669), ('num_examples', 9232), ('num_batches', 1867)])\n",
      "Train round 5: OrderedDict([('root_mean_squared_error', 3.6819549), ('loss', 13.556791), ('num_examples', 8628), ('num_batches', 1749)])\n",
      "Train round 6: OrderedDict([('root_mean_squared_error', 3.7143133), ('loss', 13.796123), ('num_examples', 9198), ('num_batches', 1861)])\n",
      "Train round 7: OrderedDict([('root_mean_squared_error', 3.6327057), ('loss', 13.19655), ('num_examples', 8964), ('num_batches', 1814)])\n",
      "Train round 8: OrderedDict([('root_mean_squared_error', 3.7394507), ('loss', 13.983491), ('num_examples', 8255), ('num_batches', 1673)])\n",
      "Train round 9: OrderedDict([('root_mean_squared_error', 3.722905), ('loss', 13.860021), ('num_examples', 8955), ('num_batches', 1811)])\n",
      "Train round 10: OrderedDict([('root_mean_squared_error', 3.6534014), ('loss', 13.347341), ('num_examples', 9013), ('num_batches', 1825)])\n",
      "Train round 11: OrderedDict([('root_mean_squared_error', 3.6873007), ('loss', 13.596187), ('num_examples', 8700), ('num_batches', 1760)])\n",
      "Train round 12: OrderedDict([('root_mean_squared_error', 3.716751), ('loss', 13.814239), ('num_examples', 7784), ('num_batches', 1576)])\n",
      "Train round 13: OrderedDict([('root_mean_squared_error', 3.809626), ('loss', 14.513251), ('num_examples', 6809), ('num_batches', 1385)])\n",
      "Train round 14: OrderedDict([('root_mean_squared_error', 3.7476122), ('loss', 14.044598), ('num_examples', 6496), ('num_batches', 1323)])\n",
      "Train round 15: OrderedDict([('root_mean_squared_error', 3.7366476), ('loss', 13.962535), ('num_examples', 7801), ('num_batches', 1584)])\n",
      "Train round 16: OrderedDict([('root_mean_squared_error', 3.6628356), ('loss', 13.416365), ('num_examples', 8958), ('num_batches', 1814)])\n",
      "Train round 17: OrderedDict([('root_mean_squared_error', 3.6633253), ('loss', 13.419952), ('num_examples', 8425), ('num_batches', 1707)])\n",
      "Train round 18: OrderedDict([('root_mean_squared_error', 3.6857584), ('loss', 13.584814), ('num_examples', 7861), ('num_batches', 1592)])\n",
      "Train round 19: OrderedDict([('root_mean_squared_error', 3.6410937), ('loss', 13.257565), ('num_examples', 8687), ('num_batches', 1759)])\n",
      "Train round 20: OrderedDict([('root_mean_squared_error', 3.9604337), ('loss', 15.685035), ('num_examples', 5689), ('num_batches', 1160)])\n",
      "Train round 21: OrderedDict([('root_mean_squared_error', 3.7432683), ('loss', 14.012058), ('num_examples', 8108), ('num_batches', 1644)])\n",
      "Train round 22: OrderedDict([('root_mean_squared_error', 3.7299716), ('loss', 13.912688), ('num_examples', 6601), ('num_batches', 1342)])\n",
      "Train round 23: OrderedDict([('root_mean_squared_error', 3.650607), ('loss', 13.326933), ('num_examples', 9762), ('num_batches', 1975)])\n",
      "Train round 24: OrderedDict([('root_mean_squared_error', 3.6625545), ('loss', 13.414306), ('num_examples', 9136), ('num_batches', 1850)])\n",
      "Train round 25: OrderedDict([('root_mean_squared_error', 3.8023705), ('loss', 14.458022), ('num_examples', 7066), ('num_batches', 1437)])\n",
      "Train round 26: OrderedDict([('root_mean_squared_error', 3.674144), ('loss', 13.499333), ('num_examples', 7223), ('num_batches', 1467)])\n",
      "Train round 27: OrderedDict([('root_mean_squared_error', 3.7926977), ('loss', 14.384557), ('num_examples', 6879), ('num_batches', 1399)])\n",
      "Train round 28: OrderedDict([('root_mean_squared_error', 3.635754), ('loss', 13.218707), ('num_examples', 9590), ('num_batches', 1941)])\n",
      "Train round 29: OrderedDict([('root_mean_squared_error', 3.6886995), ('loss', 13.6065035), ('num_examples', 8166), ('num_batches', 1655)])\n"
     ]
    }
   ],
   "source": [
    "NUM_ROUNDS = 30\n",
    "\n",
    "train_losses, train_accs = [], []\n",
    "\n",
    "state = iterative_process.initialize()\n",
    "\n",
    "for i in range(NUM_ROUNDS):\n",
    "    federated_train_data = np.random.choice(\n",
    "        tf_trainsets, size=50, replace=False\n",
    "    ).tolist()\n",
    "    state, metrics = iterative_process.next(state, federated_train_data)\n",
    "    print(f\"Train round {i}:\", metrics[\"train\"])\n",
    "    train_losses.append(metrics[\"train\"][\"loss\"])\n",
    "    train_accs.append(metrics[\"train\"][\"root_mean_squared_error\"])"
   ]
  },
  {
   "cell_type": "code",
   "execution_count": 79,
   "id": "12ef3191",
   "metadata": {},
   "outputs": [
    {
     "data": {
      "image/png": "[encoded data removed]",
      "text/plain": [
       "<Figure size 720x576 with 1 Axes>"
      ]
     },
     "metadata": {},
     "output_type": "display_data"
    }
   ],
   "source": [
    "plt.style.use(\"dark_background\")\n",
    "plt.rcParams[\"figure.figsize\"] = [10, 8]\n",
    "plt.plot(range(NUM_ROUNDS), train_losses)\n",
    "plt.ylabel(\"Train Loss\")\n",
    "plt.xlabel(\"Round\")\n",
    "plt.title(\"Train Loss\")\n",
    "plt.show()"
   ]
  },
  {
   "cell_type": "code",
   "execution_count": 80,
   "id": "3caacef2",
   "metadata": {},
   "outputs": [
    {
     "data": {
      "image/png": "[encoded data removed]",
      "text/plain": [
       "<Figure size 720x576 with 1 Axes>"
      ]
     },
     "metadata": {},
     "output_type": "display_data"
    }
   ],
   "source": [
    "plt.style.use(\"dark_background\")\n",
    "plt.rcParams[\"figure.figsize\"] = [10, 8]\n",
    "plt.plot(range(NUM_ROUNDS), train_accs)\n",
    "plt.ylabel(\"Train RSME\")\n",
    "plt.xlabel(\"Round\")\n",
    "plt.title(\"Train RMSE\")\n",
    "plt.show()"
   ]
  },
  {
   "cell_type": "code",
   "execution_count": 81,
   "id": "77e49cb6",
   "metadata": {},
   "outputs": [
    {
     "name": "stdout",
     "output_type": "stream",
     "text": [
      "Final Eval: OrderedDict([('root_mean_squared_error', 3.757247), ('loss', 14.116905), ('num_examples', 1038), ('num_batches', 210)])\n"
     ]
    }
   ],
   "source": [
    "eval_metrics = evaluation_computation(state.model, tf_validationsets)\n",
    "print(\"Final Eval:\", eval_metrics[\"eval\"])"
   ]
  },
  {
   "cell_type": "code",
   "execution_count": 82,
   "id": "87a60c71",
   "metadata": {},
   "outputs": [
    {
     "name": "stdout",
     "output_type": "stream",
     "text": [
      "Final Test: OrderedDict([('root_mean_squared_error', 3.8083603), ('loss', 14.503609), ('num_examples', 1301), ('num_batches', 264)])\n"
     ]
    }
   ],
   "source": [
    "eval_metrics = evaluation_computation(state.model, tf_testsets)\n",
    "print(\"Final Test:\", eval_metrics[\"eval\"])"
   ]
  },
  {
   "cell_type": "markdown",
   "id": "b4214ff3",
   "metadata": {},
   "source": [
    "## Step 7"
   ]
  },
  {
   "cell_type": "code",
   "execution_count": 84,
   "id": "e1263cd8",
   "metadata": {},
   "outputs": [],
   "source": [
    "def transform_batch_for_fed_prox(batch: tf.Tensor) -> collections.OrderedDict:\n",
    "    \"\"\"we do not need the user since each client will only look at their own data.\"\"\"\n",
    "    return collections.OrderedDict(\n",
    "        x=tf.cast(batch[:, 1:2], tf.int64), y=tf.cast(batch[:, 2:3], tf.float32)\n",
    "    )"
   ]
  },
  {
   "cell_type": "code",
   "execution_count": 85,
   "id": "c20803e9",
   "metadata": {},
   "outputs": [],
   "source": [
    "tf_datasets = [\n",
    "    *create_tf_datasets(\n",
    "        data=ratings,\n",
    "        transform_func=transform_batch_for_fed_prox,\n",
    "        batch_size=5,\n",
    "        max_clients=100,\n",
    "        max_items_per_client=3000,\n",
    "    )\n",
    "]"
   ]
  },
  {
   "cell_type": "code",
   "execution_count": 86,
   "id": "fdbe3944",
   "metadata": {},
   "outputs": [],
   "source": [
    "tf_trainsets, tf_validationsets, tf_testsets = split_tf_datasets(\n",
    "    tf_datasets, train_fraction=0.8, val_fraction=0.1\n",
    ")"
   ]
  },
  {
   "cell_type": "code",
   "execution_count": 87,
   "id": "15b853ac",
   "metadata": {},
   "outputs": [],
   "source": [
    "class UserEmbedding(tf.keras.layers.Layer):\n",
    "    \"\"\"Keras layer representing an embedding for a single user.\"\"\"\n",
    "\n",
    "    def __init__(self, num_latent_factors, **kwargs):\n",
    "        super().__init__(**kwargs)\n",
    "        self.num_latent_factors = num_latent_factors\n",
    "\n",
    "    def build(self, input_shape):\n",
    "        self.embedding = self.add_weight(\n",
    "            shape=(1, self.num_latent_factors),\n",
    "            initializer=\"uniform\",\n",
    "            dtype=tf.float32,\n",
    "            name=\"UserEmbeddingKernel\",\n",
    "        )\n",
    "        super().build(input_shape)\n",
    "\n",
    "    def call(self, inputs):\n",
    "        return self.embedding\n",
    "\n",
    "    def compute_output_shape(self):\n",
    "        return (1, self.num_latent_factors)"
   ]
  },
  {
   "cell_type": "code",
   "execution_count": 88,
   "id": "02c1e02c",
   "metadata": {},
   "outputs": [],
   "source": [
    "def matrix_factorization_model_with_user_embedding(\n",
    "    num_items: int, num_latent_factors: int\n",
    ") -> tff.learning.Model:\n",
    "\n",
    "    item_input = tf.keras.layers.Input(shape=[1], name=\"Item\")\n",
    "    item_embedding_layer = tf.keras.layers.Embedding(\n",
    "        num_items, num_latent_factors, name=\"ItemEmbedding\"\n",
    "    )\n",
    "    flat_item_vec = tf.keras.layers.Flatten(name=\"FlattenItems\")(\n",
    "        item_embedding_layer(item_input)\n",
    "    )\n",
    "\n",
    "    user_embedding_layer = UserEmbedding(num_latent_factors, name=\"UserEmbedding\")\n",
    "\n",
    "    flat_user_vec = user_embedding_layer(item_input)\n",
    "\n",
    "    pred = tf.keras.layers.Dot(1, normalize=False, name=\"Dot\")(\n",
    "        [flat_user_vec, flat_item_vec]\n",
    "    )\n",
    "\n",
    "    input_spec = collections.OrderedDict(\n",
    "        x=tf.TensorSpec(shape=[None, 1], dtype=tf.int64),\n",
    "        y=tf.TensorSpec(shape=[None, 1], dtype=tf.float32),\n",
    "    )\n",
    "\n",
    "    model = tf.keras.Model(inputs=item_input, outputs=pred)\n",
    "\n",
    "    return tff.learning.from_keras_model(\n",
    "        model,\n",
    "        input_spec=input_spec,\n",
    "        loss=tf.keras.losses.MeanSquaredError(),\n",
    "        metrics=[tf.keras.metrics.RootMeanSquaredError()],\n",
    "    )"
   ]
  },
  {
   "cell_type": "code",
   "execution_count": 89,
   "id": "0f061c36",
   "metadata": {},
   "outputs": [],
   "source": [
    "model_fn = functools.partial(\n",
    "    matrix_factorization_model_with_user_embedding,\n",
    "    num_items=n_items,\n",
    "    num_latent_factors=50,\n",
    ")"
   ]
  },
  {
   "cell_type": "code",
   "execution_count": 90,
   "id": "f970ff30",
   "metadata": {},
   "outputs": [
    {
     "name": "stderr",
     "output_type": "stream",
     "text": [
      "/home/iantonopoulos/.cache/pypoetry/virtualenvs/recommender-systems-rVb3Y5Fg-py3.8/lib/python3.8/site-packages/tensorflow/python/framework/indexed_slices.py:444: UserWarning: Converting sparse IndexedSlices(IndexedSlices(indices=Tensor(\"PartitionedCall:2\", shape=(None,), dtype=int32), values=Tensor(\"PartitionedCall:1\", shape=(None, 50), dtype=float32), dense_shape=Tensor(\"PartitionedCall:3\", shape=(2,), dtype=int32))) to a dense Tensor of unknown shape. This may consume a large amount of memory.\n"
     ]
    }
   ],
   "source": [
    "fedprox_learning_process = tff.learning.algorithms.build_unweighted_fed_prox(\n",
    "    model_fn,\n",
    "    proximal_strength=0.1,\n",
    "    server_optimizer_fn=lambda: tf.keras.optimizers.SGD(1.0),\n",
    "    client_optimizer_fn=lambda: tf.keras.optimizers.SGD(0.5),\n",
    ")"
   ]
  },
  {
   "cell_type": "code",
   "execution_count": 91,
   "id": "2fe7efd7",
   "metadata": {},
   "outputs": [
    {
     "data": {
      "text/plain": [
       "'( -> <global_model_weights=<trainable=<float32[9724,50],float32[1,50]>,non_trainable=<>>,distributor=<>,client_work=<>,aggregator=<<>,<>>,finalizer=<int64>>@SERVER)'"
      ]
     },
     "execution_count": 91,
     "metadata": {},
     "output_type": "execute_result"
    }
   ],
   "source": [
    "str(fedprox_learning_process.initialize.type_signature)"
   ]
  },
  {
   "cell_type": "code",
   "execution_count": 92,
   "id": "f5bf191d",
   "metadata": {},
   "outputs": [],
   "source": [
    "evaluation_computation = tff.learning.build_federated_evaluation(\n",
    "    model_fn,\n",
    ")"
   ]
  },
  {
   "cell_type": "code",
   "execution_count": 93,
   "id": "9f807bfb",
   "metadata": {},
   "outputs": [],
   "source": [
    "NUM_ROUNDS = 20\n",
    "\n",
    "train_losses, train_mses = [], []\n",
    "\n",
    "state = fedprox_learning_process.initialize()\n",
    "\n",
    "# This may take a couple minutes to run.\n",
    "for i in range(NUM_ROUNDS):\n",
    "    federated_train_data = np.random.choice(\n",
    "        tf_trainsets, size=50, replace=False\n",
    "    ).tolist()\n",
    "    next_state = fedprox_learning_process.next(state, federated_train_data)\n",
    "    train_losses.append(next_state.metrics[\"client_work\"][\"train\"][\"loss\"])\n",
    "    train_mses.append(\n",
    "        next_state.metrics[\"client_work\"][\"train\"][\"root_mean_squared_error\"]\n",
    "    )\n",
    "\n",
    "model_final_weights = next_state.state.global_model_weights"
   ]
  },
  {
   "cell_type": "code",
   "execution_count": 96,
   "id": "d4d5a1f9",
   "metadata": {},
   "outputs": [
    {
     "name": "stdout",
     "output_type": "stream",
     "text": [
      "Final Eval: OrderedDict([('root_mean_squared_error', 2720578600.0), ('loss', 7.4015467e+18), ('num_examples', 1038), ('num_batches', 210)])\n"
     ]
    }
   ],
   "source": [
    "eval_metrics = evaluation_computation(model_final_weights, tf_validationsets)\n",
    "print(\"Final Eval:\", eval_metrics[\"eval\"])"
   ]
  },
  {
   "cell_type": "code",
   "execution_count": 97,
   "id": "cf6dd46f",
   "metadata": {},
   "outputs": [
    {
     "name": "stdout",
     "output_type": "stream",
     "text": [
      "Final Test: OrderedDict([('root_mean_squared_error', 2721068000.0), ('loss', 7.4042114e+18), ('num_examples', 1301), ('num_batches', 264)])\n"
     ]
    }
   ],
   "source": [
    "eval_metrics = evaluation_computation(model_final_weights, tf_testsets)\n",
    "print(\"Final Test:\", eval_metrics[\"eval\"])"
   ]
  },
  {
   "cell_type": "code",
   "execution_count": 98,
   "id": "a98c988f",
   "metadata": {},
   "outputs": [
    {
     "data": {
      "image/png": "[encoded data removed]",
      "text/plain": [
       "<Figure size 720x576 with 1 Axes>"
      ]
     },
     "metadata": {},
     "output_type": "display_data"
    }
   ],
   "source": [
    "plt.style.use(\"dark_background\")\n",
    "plt.rcParams[\"figure.figsize\"] = [10, 8]\n",
    "plt.plot(range(NUM_ROUNDS), train_losses)\n",
    "plt.ylabel(\"Train Loss\")\n",
    "plt.xlabel(\"Round\")\n",
    "plt.title(\"Train Loss\")\n",
    "plt.show()"
   ]
  },
  {
   "cell_type": "code",
   "execution_count": 99,
   "id": "ea95ad1a",
   "metadata": {},
   "outputs": [
    {
     "data": {
      "image/png": "[encoded data removed]",
      "text/plain": [
       "<Figure size 720x576 with 1 Axes>"
      ]
     },
     "metadata": {},
     "output_type": "display_data"
    }
   ],
   "source": [
    "plt.style.use(\"dark_background\")\n",
    "plt.rcParams[\"figure.figsize\"] = [10, 8]\n",
    "plt.plot(range(NUM_ROUNDS), train_mses)\n",
    "plt.ylabel(\"Train SME\")\n",
    "plt.xlabel(\"Round\")\n",
    "plt.title(\"Train MSE\")\n",
    "plt.show()"
   ]
  },
  {
   "cell_type": "markdown",
   "id": "103c86a9",
   "metadata": {},
   "source": [
    "## Step 8"
   ]
  },
  {
   "cell_type": "code",
   "execution_count": null,
   "id": "3701e86e",
   "metadata": {},
   "outputs": [],
   "source": []
  },
  {
   "cell_type": "markdown",
   "id": "c1cdb703",
   "metadata": {},
   "source": [
    "## Step 9"
   ]
  },
  {
   "cell_type": "code",
   "execution_count": null,
   "id": "1e12276d",
   "metadata": {},
   "outputs": [],
   "source": []
  },
  {
   "cell_type": "markdown",
   "id": "54047244",
   "metadata": {},
   "source": [
    "## Step 10"
   ]
  },
  {
   "cell_type": "code",
   "execution_count": null,
   "id": "77882b06",
   "metadata": {},
   "outputs": [],
   "source": []
  }
 ],
 "metadata": {
  "kernelspec": {
   "display_name": "Python 3 (ipykernel)",
   "language": "python",
   "name": "python3"
  },
  "language_info": {
   "codemirror_mode": {
    "name": "ipython",
    "version": 3
   },
   "file_extension": ".py",
   "mimetype": "text/x-python",
   "name": "python",
   "nbconvert_exporter": "python",
   "pygments_lexer": "ipython3",
   "version": "3.8.10"
  }
 },
 "nbformat": 4,
 "nbformat_minor": 5
}
