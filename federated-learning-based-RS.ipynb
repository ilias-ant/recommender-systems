{
 "cells": [
  {
   "cell_type": "code",
   "execution_count": 42,
   "id": "8f15be42",
   "metadata": {},
   "outputs": [],
   "source": [
    "import collections\n",
    "import statistics\n",
    "from typing import Iterator, List, Tuple\n",
    "\n",
    "import matplotlib.pyplot as plt\n",
    "import nest_asyncio\n",
    "import numpy as np\n",
    "import pandas as pd\n",
    "import tensorflow as tf\n",
    "import tensorflow_federated as tff\n",
    "from plotnine import *\n",
    "from surprise import SVD\n",
    "from surprise import Dataset, Reader\n",
    "from surprise.model_selection import cross_validate"
   ]
  },
  {
   "cell_type": "markdown",
   "id": "59c513d5",
   "metadata": {},
   "source": [
    "# Table of Contents\n",
    "\n",
    "- [Step 1](#Step-1)\n",
    "- [Step 2](#Step-2-+-Step-3)\n",
    "- [Step 3](#Step-2-+-Step-3)\n",
    "- [Step 4](#Step-4)\n",
    "- [Step 5](#Step-5)\n",
    "- [Step 6](#Step-6)\n",
    "- [Step 7](#Step-4)\n",
    "- [Step 8](#Step-5)\n",
    "- [Step 9](#Step-6)\n",
    "- [Step 10](#Step-10)"
   ]
  },
  {
   "cell_type": "code",
   "execution_count": 3,
   "id": "d2c97ce8",
   "metadata": {},
   "outputs": [],
   "source": [
    "def inspect_df(df: pd.DataFrame, n: int = 5) -> pd.DataFrame:\n",
    "    \"\"\"Helper method to easily inspect DataFrames.\"\"\"\n",
    "\n",
    "    print(f\"shape: {df.shape}\")\n",
    "\n",
    "    return df.head(n)"
   ]
  },
  {
   "cell_type": "code",
   "execution_count": 4,
   "id": "734ab202",
   "metadata": {},
   "outputs": [
    {
     "name": "stdout",
     "output_type": "stream",
     "text": [
      "--2022-03-19 11:01:48--  https://files.grouplens.org/datasets/movielens/ml-latest-small.zip\n",
      "Resolving files.grouplens.org (files.grouplens.org)... 128.101.65.152\n",
      "Connecting to files.grouplens.org (files.grouplens.org)|128.101.65.152|:443... connected.\n",
      "HTTP request sent, awaiting response... 200 OK\n",
      "Length: 978202 (955K) [application/zip]\n",
      "Saving to: ‘data/ml-latest-small.zip’\n",
      "\n",
      "ml-latest-small.zip 100%[===================>] 955.28K   391KB/s    in 2.4s    \n",
      "\n",
      "2022-03-19 11:01:51 (391 KB/s) - ‘data/ml-latest-small.zip’ saved [978202/978202]\n",
      "\n"
     ]
    }
   ],
   "source": [
    "# dataset source: https://grouplens.org/datasets/movielens/\n",
    "!wget --backups=1 https://files.grouplens.org/datasets/movielens/ml-latest-small.zip -P data/"
   ]
  },
  {
   "cell_type": "code",
   "execution_count": 5,
   "id": "6bc846ed",
   "metadata": {},
   "outputs": [
    {
     "name": "stdout",
     "output_type": "stream",
     "text": [
      "Archive:  data/ml-latest-small.zip\r\n",
      "  inflating: data/ml-latest-small/links.csv  \r\n",
      "  inflating: data/ml-latest-small/tags.csv  \r\n",
      "  inflating: data/ml-latest-small/ratings.csv  \r\n",
      "  inflating: data/ml-latest-small/README.txt  \r\n",
      "  inflating: data/ml-latest-small/movies.csv  \r\n"
     ]
    }
   ],
   "source": [
    "# if `unzip` does not exist in your system: apt-get install unzip\n",
    "!unzip -o data/ml-latest-small.zip -d data/"
   ]
  },
  {
   "cell_type": "markdown",
   "id": "56f05686",
   "metadata": {},
   "source": [
    "## Step 1"
   ]
  },
  {
   "cell_type": "code",
   "execution_count": 6,
   "id": "1e0a335b",
   "metadata": {},
   "outputs": [],
   "source": [
    "# Formulate the optimization problem (similarly to the formulation in Unit 5). Your\n",
    "# optimization problem will relate to the prediction error in the training dataset.\n",
    "# Make sure you understand the unknowns of the problem, and what you are trying to optimize."
   ]
  },
  {
   "cell_type": "markdown",
   "id": "15066828",
   "metadata": {},
   "source": [
    "## Step 2 + Step 3"
   ]
  },
  {
   "cell_type": "code",
   "execution_count": 7,
   "id": "f9427823",
   "metadata": {},
   "outputs": [],
   "source": [
    "reader = Reader(\n",
    "    line_format=\"user item rating timestamp\", sep=\",\", skip_lines=1, rating_scale=(1, 5)\n",
    ")"
   ]
  },
  {
   "cell_type": "code",
   "execution_count": 8,
   "id": "9e3da310",
   "metadata": {},
   "outputs": [],
   "source": [
    "data = Dataset.load_from_file(\"data/ml-latest-small/ratings.csv\", reader=reader)"
   ]
  },
  {
   "cell_type": "markdown",
   "id": "e3abbe16",
   "metadata": {},
   "source": [
    "## Step 4"
   ]
  },
  {
   "cell_type": "code",
   "execution_count": 9,
   "id": "17c416bf",
   "metadata": {},
   "outputs": [],
   "source": [
    "recsys_small = SVD(\n",
    "    n_factors=4,\n",
    "    n_epochs=50,\n",
    "    biased=True,  # use baselines\n",
    "    random_state=123456,\n",
    ")"
   ]
  },
  {
   "cell_type": "code",
   "execution_count": 10,
   "id": "eea20aef",
   "metadata": {},
   "outputs": [],
   "source": [
    "recsys_large = SVD(\n",
    "    n_factors=20,\n",
    "    n_epochs=50,\n",
    "    biased=True,  # use baselines\n",
    "    random_state=123456,\n",
    ")"
   ]
  },
  {
   "cell_type": "code",
   "execution_count": 11,
   "id": "917b2e90",
   "metadata": {
    "scrolled": false
   },
   "outputs": [
    {
     "name": "stdout",
     "output_type": "stream",
     "text": [
      "Evaluating MSE, RMSE, MAE of algorithm SVD on 5 split(s).\n",
      "\n",
      "                  Fold 1  Fold 2  Fold 3  Fold 4  Fold 5  Mean    Std     \n",
      "MSE (testset)     0.7770  0.7617  0.7722  0.7573  0.7638  0.7664  0.0072  \n",
      "RMSE (testset)    0.8815  0.8728  0.8788  0.8703  0.8739  0.8754  0.0041  \n",
      "MAE (testset)     0.6737  0.6668  0.6690  0.6674  0.6696  0.6693  0.0024  \n",
      "MSE (trainset)    0.5148  0.5113  0.5128  0.5153  0.5109  0.5130  0.0018  \n",
      "RMSE (trainset)   0.7175  0.7150  0.7161  0.7178  0.7148  0.7162  0.0012  \n",
      "MAE (trainset)    0.5516  0.5497  0.5513  0.5522  0.5494  0.5508  0.0011  \n",
      "Fit time          1.56    1.55    1.61    1.53    1.54    1.56    0.03    \n",
      "Test time         0.09    0.09    0.09    0.09    0.09    0.09    0.00    \n"
     ]
    }
   ],
   "source": [
    "cv_results = {}\n",
    "\n",
    "cv_results[\"SVD w/ 4 factors\"] = cross_validate(\n",
    "    recsys_small,\n",
    "    data=data,\n",
    "    measures=[\"mse\", \"rmse\", \"mae\"],\n",
    "    return_train_measures=True,\n",
    "    verbose=True,\n",
    "    cv=5,\n",
    "    n_jobs=-1,\n",
    ")"
   ]
  },
  {
   "cell_type": "code",
   "execution_count": 12,
   "id": "1fcc3326",
   "metadata": {},
   "outputs": [
    {
     "name": "stdout",
     "output_type": "stream",
     "text": [
      "Evaluating MSE, RMSE, MAE of algorithm SVD on 5 split(s).\n",
      "\n",
      "                  Fold 1  Fold 2  Fold 3  Fold 4  Fold 5  Mean    Std     \n",
      "MSE (testset)     0.7873  0.7731  0.7704  0.7893  0.7799  0.7800  0.0075  \n",
      "RMSE (testset)    0.8873  0.8793  0.8777  0.8884  0.8831  0.8832  0.0042  \n",
      "MAE (testset)     0.6796  0.6688  0.6707  0.6821  0.6751  0.6753  0.0051  \n",
      "MSE (trainset)    0.3012  0.3024  0.2977  0.3015  0.3025  0.3010  0.0018  \n",
      "RMSE (trainset)   0.5488  0.5499  0.5456  0.5491  0.5500  0.5487  0.0016  \n",
      "MAE (trainset)    0.4229  0.4249  0.4214  0.4245  0.4243  0.4236  0.0013  \n",
      "Fit time          3.08    3.01    3.01    2.98    3.04    3.02    0.03    \n",
      "Test time         0.10    0.10    0.13    0.11    0.11    0.11    0.01    \n"
     ]
    }
   ],
   "source": [
    "cv_results[\"SVD w/ 20 factors\"] = cross_validate(\n",
    "    recsys_large,\n",
    "    data=data,\n",
    "    measures=[\"mse\", \"rmse\", \"mae\"],\n",
    "    return_train_measures=True,\n",
    "    verbose=True,\n",
    "    cv=5,\n",
    "    n_jobs=-1,\n",
    ")"
   ]
  },
  {
   "cell_type": "code",
   "execution_count": 13,
   "id": "28ceac08",
   "metadata": {},
   "outputs": [],
   "source": [
    "df = pd.DataFrame(cv_results).T.reset_index()\n",
    "\n",
    "df[\"mean RMSE (train)\"] = df[\"train_rmse\"].map(lambda x: statistics.mean(x))"
   ]
  },
  {
   "cell_type": "code",
   "execution_count": 14,
   "id": "596350da",
   "metadata": {},
   "outputs": [
    {
     "data": {
      "image/png": "[encoded data removed]",
      "text/plain": [
       "<Figure size 800x600 with 1 Axes>"
      ]
     },
     "metadata": {},
     "output_type": "display_data"
    },
    {
     "data": {
      "text/plain": [
       "<ggplot: (8751012044508)>"
      ]
     },
     "execution_count": 14,
     "metadata": {},
     "output_type": "execute_result"
    }
   ],
   "source": [
    "(\n",
    "    ggplot(df)\n",
    "    + geom_col(aes(x=\"index\", y=\"mean RMSE (train)\"), stat=\"identity\")\n",
    "    + theme(axis_text_x=element_text(rotation=45, hjust=1), figure_size=(8, 6))\n",
    "    + labs(x=\"\", y=\"mean RMSE (train)\")\n",
    "    + coord_flip()\n",
    ")"
   ]
  },
  {
   "cell_type": "markdown",
   "id": "02bf0f4f",
   "metadata": {},
   "source": [
    "## Step 5"
   ]
  },
  {
   "cell_type": "code",
   "execution_count": 15,
   "id": "0bdaf204",
   "metadata": {},
   "outputs": [
    {
     "name": "stdout",
     "output_type": "stream",
     "text": [
      "shape: (100836, 3)\n"
     ]
    },
    {
     "data": {
      "text/html": [
       "<div>\n",
       "<style scoped>\n",
       "    .dataframe tbody tr th:only-of-type {\n",
       "        vertical-align: middle;\n",
       "    }\n",
       "\n",
       "    .dataframe tbody tr th {\n",
       "        vertical-align: top;\n",
       "    }\n",
       "\n",
       "    .dataframe thead th {\n",
       "        text-align: right;\n",
       "    }\n",
       "</style>\n",
       "<table border=\"1\" class=\"dataframe\">\n",
       "  <thead>\n",
       "    <tr style=\"text-align: right;\">\n",
       "      <th></th>\n",
       "      <th>user</th>\n",
       "      <th>item</th>\n",
       "      <th>rating</th>\n",
       "    </tr>\n",
       "  </thead>\n",
       "  <tbody>\n",
       "    <tr>\n",
       "      <th>0</th>\n",
       "      <td>1</td>\n",
       "      <td>1</td>\n",
       "      <td>4.0</td>\n",
       "    </tr>\n",
       "    <tr>\n",
       "      <th>1</th>\n",
       "      <td>1</td>\n",
       "      <td>3</td>\n",
       "      <td>4.0</td>\n",
       "    </tr>\n",
       "    <tr>\n",
       "      <th>2</th>\n",
       "      <td>1</td>\n",
       "      <td>6</td>\n",
       "      <td>4.0</td>\n",
       "    </tr>\n",
       "    <tr>\n",
       "      <th>3</th>\n",
       "      <td>1</td>\n",
       "      <td>47</td>\n",
       "      <td>5.0</td>\n",
       "    </tr>\n",
       "    <tr>\n",
       "      <th>4</th>\n",
       "      <td>1</td>\n",
       "      <td>50</td>\n",
       "      <td>5.0</td>\n",
       "    </tr>\n",
       "  </tbody>\n",
       "</table>\n",
       "</div>"
      ],
      "text/plain": [
       "   user  item  rating\n",
       "0     1     1     4.0\n",
       "1     1     3     4.0\n",
       "2     1     6     4.0\n",
       "3     1    47     5.0\n",
       "4     1    50     5.0"
      ]
     },
     "execution_count": 15,
     "metadata": {},
     "output_type": "execute_result"
    }
   ],
   "source": [
    "ratings = pd.read_csv(\n",
    "    \"data/ml-latest-small/ratings.csv\",\n",
    "    usecols=[\"user\", \"item\", \"rating\"],\n",
    "    names=[\"user\", \"item\", \"rating\"],\n",
    "    skiprows=1,\n",
    ")\n",
    "\n",
    "inspect_df(ratings)"
   ]
  },
  {
   "cell_type": "code",
   "execution_count": 16,
   "id": "b9cf6e82",
   "metadata": {},
   "outputs": [],
   "source": [
    "ratings[\"user\"] = ratings.groupby(\"user\").ngroup()"
   ]
  },
  {
   "cell_type": "code",
   "execution_count": 17,
   "id": "6db13a0b",
   "metadata": {},
   "outputs": [],
   "source": [
    "ratings[\"item\"] = ratings.groupby(\"item\").ngroup()"
   ]
  },
  {
   "cell_type": "code",
   "execution_count": 18,
   "id": "6ecd6f4d",
   "metadata": {},
   "outputs": [],
   "source": [
    "def create_tf_datasets(\n",
    "    data: pd.DataFrame,\n",
    "    batch_size: int = 1,\n",
    "    max_clients: int = None,\n",
    "    max_items_per_client: int = None,\n",
    ") -> Iterator[tf.data.Dataset]:\n",
    "\n",
    "    n_users = len(data[\"user\"].unique())\n",
    "\n",
    "    if max_clients is not None:\n",
    "        n_users = min(n_users, max_clients)\n",
    "\n",
    "    def transform_batch(batch: tf.Tensor) -> collections.OrderedDict:\n",
    "\n",
    "        return collections.OrderedDict(\n",
    "            x=tf.cast(batch[:, 0:2], tf.int64), y=tf.cast(batch[:, 2:3], tf.float32)\n",
    "        )\n",
    "\n",
    "    for _, user_ratings in data.groupby(\"user\"):\n",
    "\n",
    "        if n_users < 0:\n",
    "            break\n",
    "\n",
    "        tf_dataset = tf.data.Dataset.from_tensor_slices(user_ratings)\n",
    "\n",
    "        yield (\n",
    "            tf_dataset.take(max_items_per_client)\n",
    "            .shuffle(buffer_size=max_items_per_client, seed=42)\n",
    "            .batch(batch_size)\n",
    "            .map(transform_batch, num_parallel_calls=tf.data.experimental.AUTOTUNE)\n",
    "        )\n",
    "\n",
    "        n_users -= 1"
   ]
  },
  {
   "cell_type": "code",
   "execution_count": 19,
   "id": "ac77a7bf",
   "metadata": {},
   "outputs": [],
   "source": [
    "def split_tf_datasets(\n",
    "    tf_datasets: List[tf.data.Dataset],\n",
    "    train_fraction: float = 0.8,\n",
    "    val_fraction: float = 0.1,\n",
    ") -> Tuple[List[tf.data.Dataset], List[tf.data.Dataset], List[tf.data.Dataset]]:\n",
    "    \"\"\"Splits a list of user TF datasets into train/val/test by user.\"\"\"\n",
    "    np.random.seed(42)\n",
    "    np.random.shuffle(tf_datasets)\n",
    "\n",
    "    train_idx = int(len(tf_datasets) * train_fraction)\n",
    "    val_idx = int(len(tf_datasets) * (train_fraction + val_fraction))\n",
    "\n",
    "    # Note that the val and test data contains completely different users, not\n",
    "    # just unseen ratings from train users.\n",
    "    return (\n",
    "        tf_datasets[:train_idx],\n",
    "        tf_datasets[train_idx:val_idx],\n",
    "        tf_datasets[val_idx:],\n",
    "    )"
   ]
  },
  {
   "cell_type": "code",
   "execution_count": 20,
   "id": "b575fa05",
   "metadata": {},
   "outputs": [],
   "source": [
    "tf_datasets = [\n",
    "    *create_tf_datasets(\n",
    "        data=ratings,\n",
    "        batch_size=5,\n",
    "        max_clients=100,\n",
    "        max_items_per_client=3000,\n",
    "    )\n",
    "]"
   ]
  },
  {
   "cell_type": "code",
   "execution_count": 21,
   "id": "88d3e0e3",
   "metadata": {},
   "outputs": [],
   "source": [
    "tf_trainsets, tf_validationsets, tf_testsets = split_tf_datasets(\n",
    "    tf_datasets, train_fraction=0.8, val_fraction=0.1\n",
    ")"
   ]
  },
  {
   "cell_type": "markdown",
   "id": "2601cc29",
   "metadata": {},
   "source": [
    "## Step 6"
   ]
  },
  {
   "cell_type": "code",
   "execution_count": 23,
   "id": "744d0c9b",
   "metadata": {},
   "outputs": [],
   "source": [
    "nest_asyncio.apply()"
   ]
  },
  {
   "cell_type": "code",
   "execution_count": 30,
   "id": "2ea601d5",
   "metadata": {},
   "outputs": [],
   "source": [
    "n_users = len(ratings[\"user\"].unique())\n",
    "n_items = len(ratings[\"item\"].unique())"
   ]
  },
  {
   "cell_type": "code",
   "execution_count": 31,
   "id": "f6050674",
   "metadata": {},
   "outputs": [],
   "source": [
    "def matrix_factorization_model(\n",
    "    n_users: int,\n",
    "    n_items: int,\n",
    "    n_latent_factors: int,\n",
    ") -> tf.keras.Model:\n",
    "    \"\"\"A federation-friendly Matrix Factorization model.\"\"\"\n",
    "    combined_input = tf.keras.layers.Input(\n",
    "        shape=[2], dtype=\"int32\", name=\"combined_input\"\n",
    "    )\n",
    "    u = tf.keras.layers.Embedding(\n",
    "        input_dim=n_users + 1, output_dim=n_latent_factors, name=\"users_embedding\"\n",
    "    )(combined_input[:, 0])\n",
    "    u = tf.keras.layers.Flatten()(u)\n",
    "\n",
    "    i = tf.keras.layers.Embedding(\n",
    "        input_dim=n_items + 1, output_dim=n_latent_factors, name=\"items_embedding\"\n",
    "    )(combined_input[:, 1])\n",
    "    i = tf.keras.layers.Flatten()(i)\n",
    "\n",
    "    output = tf.output_layer = tf.keras.layers.Dot(1, normalize=False, name=\"Dot\")(\n",
    "        [i, u]\n",
    "    )\n",
    "\n",
    "    return tf.keras.Model(inputs=combined_input, outputs=output)"
   ]
  },
  {
   "cell_type": "code",
   "execution_count": 32,
   "id": "2fb19c41",
   "metadata": {},
   "outputs": [],
   "source": [
    "def model_fn():\n",
    "    model = matrix_factorization_model(\n",
    "        n_users=n_users,\n",
    "        n_items=n_items,\n",
    "        n_latent_factors=20,\n",
    "    )\n",
    "\n",
    "    input_spec = collections.OrderedDict(\n",
    "        x=tf.TensorSpec(shape=[None, 2], dtype=tf.int64),\n",
    "        y=tf.TensorSpec(shape=[None, 1], dtype=tf.float32),\n",
    "    )\n",
    "\n",
    "    return tff.learning.from_keras_model(\n",
    "        model,\n",
    "        input_spec=input_spec,\n",
    "        loss=tf.keras.losses.MeanSquaredError(),\n",
    "        metrics=[tf.keras.metrics.RootMeanSquaredError()],\n",
    "    )"
   ]
  },
  {
   "cell_type": "code",
   "execution_count": 33,
   "id": "5cec8717",
   "metadata": {},
   "outputs": [],
   "source": [
    "iterative_process = tff.learning.build_federated_averaging_process(\n",
    "    model_fn,\n",
    "    client_optimizer_fn=lambda: tf.keras.optimizers.SGD(learning_rate=0.02),\n",
    "    server_optimizer_fn=lambda: tf.keras.optimizers.SGD(learning_rate=1.0),\n",
    ")"
   ]
  },
  {
   "cell_type": "code",
   "execution_count": 34,
   "id": "c9244c9b",
   "metadata": {},
   "outputs": [
    {
     "data": {
      "text/plain": [
       "'( -> <model=<trainable=<float32[9725,20],float32[611,20]>,non_trainable=<>>,optimizer_state=<int64>,delta_aggregate_state=<value_sum_process=<>,weight_sum_process=<>>,model_broadcast_state=<>>@SERVER)'"
      ]
     },
     "execution_count": 34,
     "metadata": {},
     "output_type": "execute_result"
    }
   ],
   "source": [
    "str(iterative_process.initialize.type_signature)"
   ]
  },
  {
   "cell_type": "code",
   "execution_count": 35,
   "id": "eb31d2d2",
   "metadata": {},
   "outputs": [
    {
     "name": "stdout",
     "output_type": "stream",
     "text": [
      "ModelWeights(trainable=[array([[ 0.00449531, -0.00261959, -0.00832176, ..., -0.02959056,\n",
      "        -0.01731151, -0.00890594],\n",
      "       [ 0.00254009,  0.01087872,  0.00375149, ...,  0.01110788,\n",
      "        -0.003428  , -0.01929864],\n",
      "       [-0.04495741,  0.02589368,  0.03868851, ...,  0.04061517,\n",
      "         0.03942777, -0.03821265],\n",
      "       ...,\n",
      "       [ 0.03911779, -0.00377908, -0.01929331, ..., -0.0455562 ,\n",
      "         0.03307593,  0.04017692],\n",
      "       [ 0.03798349, -0.00108527, -0.02169795, ..., -0.02899946,\n",
      "         0.02521763,  0.04309293],\n",
      "       [ 0.03123071, -0.0343964 ,  0.00554594, ..., -0.04396687,\n",
      "         0.00045417, -0.03207802]], dtype=float32), array([[ 0.01219307, -0.01272322,  0.01501726, ..., -0.01826163,\n",
      "        -0.0257524 , -0.02350754],\n",
      "       [-0.00827932, -0.04239985,  0.03963881, ...,  0.03283193,\n",
      "         0.04460869,  0.00797957],\n",
      "       [-0.01271596,  0.03416767,  0.0261735 , ..., -0.00777305,\n",
      "         0.04715302,  0.0031972 ],\n",
      "       ...,\n",
      "       [ 0.03180457, -0.04895198, -0.00697255, ...,  0.04193843,\n",
      "        -0.01010668, -0.02416413],\n",
      "       [ 0.0188908 , -0.00287278,  0.00988322, ...,  0.01413448,\n",
      "         0.0146271 ,  0.01910486],\n",
      "       [-0.03274493,  0.02562333,  0.03864468, ..., -0.0151507 ,\n",
      "         0.04816917, -0.04680903]], dtype=float32)], non_trainable=[])\n"
     ]
    }
   ],
   "source": [
    "state = iterative_process.initialize()\n",
    "\n",
    "print(state.model)"
   ]
  },
  {
   "cell_type": "code",
   "execution_count": 38,
   "id": "d2af493a",
   "metadata": {},
   "outputs": [
    {
     "name": "stdout",
     "output_type": "stream",
     "text": [
      "User variables shape: (611, 20)\n"
     ]
    }
   ],
   "source": [
    "print(\"User variables shape:\", state.model.trainable[1].shape)"
   ]
  },
  {
   "cell_type": "code",
   "execution_count": 37,
   "id": "cdfb5694",
   "metadata": {},
   "outputs": [
    {
     "name": "stdout",
     "output_type": "stream",
     "text": [
      "Item variables shape: (9725, 20)\n"
     ]
    }
   ],
   "source": [
    "print(\"Item variables shape:\", state.model.trainable[0].shape)"
   ]
  },
  {
   "cell_type": "code",
   "execution_count": 39,
   "id": "a8d5c961",
   "metadata": {},
   "outputs": [],
   "source": [
    "evaluation_computation = tff.learning.build_federated_evaluation(model_fn)"
   ]
  },
  {
   "cell_type": "code",
   "execution_count": 40,
   "id": "29cfe58b",
   "metadata": {},
   "outputs": [
    {
     "name": "stdout",
     "output_type": "stream",
     "text": [
      "Train round 0: OrderedDict([('root_mean_squared_error', 3.659201), ('loss', 13.389752), ('num_examples', 8644), ('num_batches', 1751)])\n",
      "Train round 1: OrderedDict([('root_mean_squared_error', 3.6203878), ('loss', 13.107207), ('num_examples', 8908), ('num_batches', 1806)])\n",
      "Train round 2: OrderedDict([('root_mean_squared_error', 3.6475377), ('loss', 13.304531), ('num_examples', 9100), ('num_batches', 1842)])\n",
      "Train round 3: OrderedDict([('root_mean_squared_error', 3.6927018), ('loss', 13.636047), ('num_examples', 7853), ('num_batches', 1595)])\n",
      "Train round 4: OrderedDict([('root_mean_squared_error', 3.6221838), ('loss', 13.120215), ('num_examples', 9232), ('num_batches', 1867)])\n",
      "Train round 5: OrderedDict([('root_mean_squared_error', 3.682055), ('loss', 13.5575285), ('num_examples', 8628), ('num_batches', 1749)])\n",
      "Train round 6: OrderedDict([('root_mean_squared_error', 3.714388), ('loss', 13.796678), ('num_examples', 9198), ('num_batches', 1861)])\n",
      "Train round 7: OrderedDict([('root_mean_squared_error', 3.6328804), ('loss', 13.197821), ('num_examples', 8964), ('num_batches', 1814)])\n",
      "Train round 8: OrderedDict([('root_mean_squared_error', 3.7394118), ('loss', 13.983202), ('num_examples', 8255), ('num_batches', 1673)])\n",
      "Train round 9: OrderedDict([('root_mean_squared_error', 3.7228806), ('loss', 13.859839), ('num_examples', 8955), ('num_batches', 1811)])\n",
      "Train round 10: OrderedDict([('root_mean_squared_error', 3.6534321), ('loss', 13.347566), ('num_examples', 9013), ('num_batches', 1825)])\n",
      "Train round 11: OrderedDict([('root_mean_squared_error', 3.6872804), ('loss', 13.596036), ('num_examples', 8700), ('num_batches', 1760)])\n",
      "Train round 12: OrderedDict([('root_mean_squared_error', 3.7166727), ('loss', 13.813657), ('num_examples', 7784), ('num_batches', 1576)])\n",
      "Train round 13: OrderedDict([('root_mean_squared_error', 3.8096588), ('loss', 14.513501), ('num_examples', 6809), ('num_batches', 1385)])\n",
      "Train round 14: OrderedDict([('root_mean_squared_error', 3.7473485), ('loss', 14.042622), ('num_examples', 6496), ('num_batches', 1323)])\n",
      "Train round 15: OrderedDict([('root_mean_squared_error', 3.736501), ('loss', 13.961438), ('num_examples', 7801), ('num_batches', 1584)])\n",
      "Train round 16: OrderedDict([('root_mean_squared_error', 3.6625133), ('loss', 13.414004), ('num_examples', 8958), ('num_batches', 1814)])\n",
      "Train round 17: OrderedDict([('root_mean_squared_error', 3.662954), ('loss', 13.417232), ('num_examples', 8425), ('num_batches', 1707)])\n",
      "Train round 18: OrderedDict([('root_mean_squared_error', 3.6853518), ('loss', 13.581818), ('num_examples', 7861), ('num_batches', 1592)])\n",
      "Train round 19: OrderedDict([('root_mean_squared_error', 3.6405244), ('loss', 13.253418), ('num_examples', 8687), ('num_batches', 1759)])\n",
      "Train round 20: OrderedDict([('root_mean_squared_error', 3.960183), ('loss', 15.683048), ('num_examples', 5689), ('num_batches', 1160)])\n",
      "Train round 21: OrderedDict([('root_mean_squared_error', 3.7432), ('loss', 14.011548), ('num_examples', 8108), ('num_batches', 1644)])\n",
      "Train round 22: OrderedDict([('root_mean_squared_error', 3.7293441), ('loss', 13.908009), ('num_examples', 6601), ('num_batches', 1342)])\n",
      "Train round 23: OrderedDict([('root_mean_squared_error', 3.649661), ('loss', 13.320026), ('num_examples', 9762), ('num_batches', 1975)])\n",
      "Train round 24: OrderedDict([('root_mean_squared_error', 3.6610897), ('loss', 13.403578), ('num_examples', 9136), ('num_batches', 1850)])\n",
      "Train round 25: OrderedDict([('root_mean_squared_error', 3.802241), ('loss', 14.457038), ('num_examples', 7066), ('num_batches', 1437)])\n",
      "Train round 26: OrderedDict([('root_mean_squared_error', 3.672844), ('loss', 13.489781), ('num_examples', 7223), ('num_batches', 1467)])\n",
      "Train round 27: OrderedDict([('root_mean_squared_error', 3.7920506), ('loss', 14.379647), ('num_examples', 6879), ('num_batches', 1399)])\n",
      "Train round 28: OrderedDict([('root_mean_squared_error', 3.633645), ('loss', 13.203376), ('num_examples', 9590), ('num_batches', 1941)])\n",
      "Train round 29: OrderedDict([('root_mean_squared_error', 3.6866047), ('loss', 13.591054), ('num_examples', 8166), ('num_batches', 1655)])\n"
     ]
    }
   ],
   "source": [
    "NUM_ROUNDS = 30\n",
    "\n",
    "train_losses, train_accs = [], []\n",
    "\n",
    "state = iterative_process.initialize()\n",
    "\n",
    "for i in range(NUM_ROUNDS):\n",
    "    federated_train_data = np.random.choice(\n",
    "        tf_trainsets, size=50, replace=False\n",
    "    ).tolist()\n",
    "    state, metrics = iterative_process.next(state, federated_train_data)\n",
    "    print(f\"Train round {i}:\", metrics[\"train\"])\n",
    "    train_losses.append(metrics[\"train\"][\"loss\"])\n",
    "    train_accs.append(metrics[\"train\"][\"root_mean_squared_error\"])"
   ]
  },
  {
   "cell_type": "code",
   "execution_count": 43,
   "id": "12ef3191",
   "metadata": {},
   "outputs": [
    {
     "data": {
      "image/png": "[encoded data removed]",
      "text/plain": [
       "<Figure size 720x576 with 1 Axes>"
      ]
     },
     "metadata": {},
     "output_type": "display_data"
    }
   ],
   "source": [
    "plt.style.use(\"dark_background\")\n",
    "plt.rcParams[\"figure.figsize\"] = [10, 8]\n",
    "plt.plot(range(NUM_ROUNDS), train_losses)\n",
    "plt.ylabel(\"Train Loss\")\n",
    "plt.xlabel(\"Round\")\n",
    "plt.title(\"Train Loss\")\n",
    "plt.show()"
   ]
  },
  {
   "cell_type": "code",
   "execution_count": 44,
   "id": "3caacef2",
   "metadata": {},
   "outputs": [
    {
     "data": {
      "image/png": "[encoded data removed]",
      "text/plain": [
       "<Figure size 720x576 with 1 Axes>"
      ]
     },
     "metadata": {},
     "output_type": "display_data"
    }
   ],
   "source": [
    "plt.style.use(\"dark_background\")\n",
    "plt.rcParams[\"figure.figsize\"] = [10, 8]\n",
    "plt.plot(range(NUM_ROUNDS), train_accs)\n",
    "plt.ylabel(\"Train RSME\")\n",
    "plt.xlabel(\"Round\")\n",
    "plt.title(\"Train RMSE\")\n",
    "plt.show()"
   ]
  },
  {
   "cell_type": "code",
   "execution_count": 45,
   "id": "77e49cb6",
   "metadata": {},
   "outputs": [
    {
     "name": "stdout",
     "output_type": "stream",
     "text": [
      "Final Eval: OrderedDict([('root_mean_squared_error', 3.757149), ('loss', 14.116168), ('num_examples', 1038), ('num_batches', 210)])\n"
     ]
    }
   ],
   "source": [
    "eval_metrics = evaluation_computation(state.model, tf_validationsets)\n",
    "print(\"Final Eval:\", eval_metrics[\"eval\"])"
   ]
  },
  {
   "cell_type": "code",
   "execution_count": 46,
   "id": "87a60c71",
   "metadata": {},
   "outputs": [
    {
     "name": "stdout",
     "output_type": "stream",
     "text": [
      "Final Test: OrderedDict([('root_mean_squared_error', 3.807275), ('loss', 14.495344), ('num_examples', 1301), ('num_batches', 264)])\n"
     ]
    }
   ],
   "source": [
    "eval_metrics = evaluation_computation(state.model, tf_testsets)\n",
    "print(\"Final Test:\", eval_metrics[\"eval\"])"
   ]
  },
  {
   "cell_type": "markdown",
   "id": "b4214ff3",
   "metadata": {},
   "source": [
    "## Step 7"
   ]
  },
  {
   "cell_type": "code",
   "execution_count": null,
   "id": "15b853ac",
   "metadata": {},
   "outputs": [],
   "source": []
  },
  {
   "cell_type": "code",
   "execution_count": null,
   "id": "02c1e02c",
   "metadata": {},
   "outputs": [],
   "source": []
  },
  {
   "cell_type": "markdown",
   "id": "103c86a9",
   "metadata": {},
   "source": [
    "## Step 8"
   ]
  },
  {
   "cell_type": "code",
   "execution_count": null,
   "id": "3701e86e",
   "metadata": {},
   "outputs": [],
   "source": []
  },
  {
   "cell_type": "markdown",
   "id": "c1cdb703",
   "metadata": {},
   "source": [
    "## Step 9"
   ]
  },
  {
   "cell_type": "code",
   "execution_count": null,
   "id": "1e12276d",
   "metadata": {},
   "outputs": [],
   "source": []
  },
  {
   "cell_type": "markdown",
   "id": "54047244",
   "metadata": {},
   "source": [
    "## Step 10"
   ]
  },
  {
   "cell_type": "code",
   "execution_count": null,
   "id": "77882b06",
   "metadata": {},
   "outputs": [],
   "source": []
  }
 ],
 "metadata": {
  "kernelspec": {
   "display_name": "Python 3 (ipykernel)",
   "language": "python",
   "name": "python3"
  },
  "language_info": {
   "codemirror_mode": {
    "name": "ipython",
    "version": 3
   },
   "file_extension": ".py",
   "mimetype": "text/x-python",
   "name": "python",
   "nbconvert_exporter": "python",
   "pygments_lexer": "ipython3",
   "version": "3.8.10"
  }
 },
 "nbformat": 4,
 "nbformat_minor": 5
}
