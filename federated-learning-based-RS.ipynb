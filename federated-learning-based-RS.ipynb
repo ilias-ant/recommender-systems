{
 "cells": [
  {
   "cell_type": "code",
   "execution_count": 1,
   "id": "8f15be42",
   "metadata": {},
   "outputs": [
    {
     "name": "stderr",
     "output_type": "stream",
     "text": [
      "2022-03-13 16:49:52.687464: W tensorflow/stream_executor/platform/default/dso_loader.cc:64] Could not load dynamic library 'libcudart.so.11.0'; dlerror: libcudart.so.11.0: cannot open shared object file: No such file or directory\n",
      "2022-03-13 16:49:52.687479: I tensorflow/stream_executor/cuda/cudart_stub.cc:29] Ignore above cudart dlerror if you do not have a GPU set up on your machine.\n"
     ]
    }
   ],
   "source": [
    "import collections\n",
    "import gc\n",
    "from typing import Iterator, List\n",
    "\n",
    "import nest_asyncio\n",
    "import numpy as np\n",
    "import pandas as pd\n",
    "import tensorflow as tf\n",
    "import tensorflow_federated as tff\n",
    "import matplotlib.pyplot as plt\n",
    "from sklearn.model_selection import train_test_split"
   ]
  },
  {
   "cell_type": "markdown",
   "id": "9b810486",
   "metadata": {},
   "source": [
    "# Table of Contents\n",
    "\n",
    "- [Step 1](#Step-1)\n",
    "- [Step 2](#Step-2-+-Step-3)\n",
    "- [Step 3](#Step-2-+-Step-3)\n",
    "- [Step 4](#Step-4)\n",
    "- [Step 5](#Step-5)\n",
    "- [Step 6](#Step-6)\n",
    "- [Step 7](#Step-4)\n",
    "- [Step 8](#Step-5)\n",
    "- [Step 9](#Step-6)\n",
    "- [Step 10](#Step-10)"
   ]
  },
  {
   "cell_type": "code",
   "execution_count": 2,
   "id": "bb7ae565",
   "metadata": {
    "scrolled": false
   },
   "outputs": [],
   "source": [
    "# dataset source: https://grouplens.org/datasets/movielens/\n",
    "# !wget --backups=1 https://files.grouplens.org/datasets/movielens/ml-latest-small.zip -P data/"
   ]
  },
  {
   "cell_type": "code",
   "execution_count": 3,
   "id": "52bf131a",
   "metadata": {},
   "outputs": [],
   "source": [
    "# if `unzip` does not exist in your system: apt-get install unzip\n",
    "# !unzip data/ml-latest-small.zip -d data/"
   ]
  },
  {
   "cell_type": "code",
   "execution_count": 4,
   "id": "d2c97ce8",
   "metadata": {},
   "outputs": [],
   "source": [
    "def inspect_df(df: pd.DataFrame, n: int = 5) -> pd.DataFrame:\n",
    "    \"\"\"Helper method to easily inspect DataFrames.\"\"\"\n",
    "\n",
    "    print(f\"shape: {df.shape}\")\n",
    "\n",
    "    return df.head(n)"
   ]
  },
  {
   "cell_type": "markdown",
   "id": "56f05686",
   "metadata": {},
   "source": [
    "## Step 1"
   ]
  },
  {
   "cell_type": "code",
   "execution_count": 5,
   "id": "1e0a335b",
   "metadata": {},
   "outputs": [],
   "source": [
    "# Formulate the optimization problem (similarly to the formulation in Unit 5). Your\n",
    "# optimization problem will relate to the prediction error in the training dataset.\n",
    "# Make sure you understand the unknowns of the problem, and what you are trying to optimize."
   ]
  },
  {
   "cell_type": "markdown",
   "id": "15066828",
   "metadata": {},
   "source": [
    "## Step 2 + Step 3"
   ]
  },
  {
   "cell_type": "code",
   "execution_count": 6,
   "id": "7d20aafa",
   "metadata": {},
   "outputs": [
    {
     "name": "stdout",
     "output_type": "stream",
     "text": [
      "shape: (100836, 4)\n"
     ]
    },
    {
     "data": {
      "text/html": [
       "<div>\n",
       "<style scoped>\n",
       "    .dataframe tbody tr th:only-of-type {\n",
       "        vertical-align: middle;\n",
       "    }\n",
       "\n",
       "    .dataframe tbody tr th {\n",
       "        vertical-align: top;\n",
       "    }\n",
       "\n",
       "    .dataframe thead th {\n",
       "        text-align: right;\n",
       "    }\n",
       "</style>\n",
       "<table border=\"1\" class=\"dataframe\">\n",
       "  <thead>\n",
       "    <tr style=\"text-align: right;\">\n",
       "      <th></th>\n",
       "      <th>userId</th>\n",
       "      <th>movieId</th>\n",
       "      <th>rating</th>\n",
       "      <th>timestamp</th>\n",
       "    </tr>\n",
       "  </thead>\n",
       "  <tbody>\n",
       "    <tr>\n",
       "      <th>0</th>\n",
       "      <td>1</td>\n",
       "      <td>1</td>\n",
       "      <td>4.0</td>\n",
       "      <td>964982703</td>\n",
       "    </tr>\n",
       "    <tr>\n",
       "      <th>1</th>\n",
       "      <td>1</td>\n",
       "      <td>3</td>\n",
       "      <td>4.0</td>\n",
       "      <td>964981247</td>\n",
       "    </tr>\n",
       "    <tr>\n",
       "      <th>2</th>\n",
       "      <td>1</td>\n",
       "      <td>6</td>\n",
       "      <td>4.0</td>\n",
       "      <td>964982224</td>\n",
       "    </tr>\n",
       "    <tr>\n",
       "      <th>3</th>\n",
       "      <td>1</td>\n",
       "      <td>47</td>\n",
       "      <td>5.0</td>\n",
       "      <td>964983815</td>\n",
       "    </tr>\n",
       "    <tr>\n",
       "      <th>4</th>\n",
       "      <td>1</td>\n",
       "      <td>50</td>\n",
       "      <td>5.0</td>\n",
       "      <td>964982931</td>\n",
       "    </tr>\n",
       "  </tbody>\n",
       "</table>\n",
       "</div>"
      ],
      "text/plain": [
       "   userId  movieId  rating  timestamp\n",
       "0       1        1     4.0  964982703\n",
       "1       1        3     4.0  964981247\n",
       "2       1        6     4.0  964982224\n",
       "3       1       47     5.0  964983815\n",
       "4       1       50     5.0  964982931"
      ]
     },
     "execution_count": 6,
     "metadata": {},
     "output_type": "execute_result"
    }
   ],
   "source": [
    "ratings = pd.read_csv(\"data/ml-latest-small/ratings.csv\")\n",
    "\n",
    "inspect_df(ratings)"
   ]
  },
  {
   "cell_type": "code",
   "execution_count": 7,
   "id": "458026fa",
   "metadata": {},
   "outputs": [],
   "source": [
    "ratings[\"movieId\"] = ratings.groupby(\"movieId\").ngroup()"
   ]
  },
  {
   "cell_type": "code",
   "execution_count": 8,
   "id": "77b146da",
   "metadata": {},
   "outputs": [],
   "source": [
    "trainset, testset = train_test_split(ratings, test_size=0.2, shuffle=True)"
   ]
  },
  {
   "cell_type": "code",
   "execution_count": 9,
   "id": "16f92b2b",
   "metadata": {},
   "outputs": [],
   "source": [
    "trainset, validationset = train_test_split(trainset, test_size=0.1, shuffle=True)"
   ]
  },
  {
   "cell_type": "code",
   "execution_count": 10,
   "id": "b44c6224",
   "metadata": {},
   "outputs": [
    {
     "data": {
      "text/plain": [
       "(72601, 4)"
      ]
     },
     "execution_count": 10,
     "metadata": {},
     "output_type": "execute_result"
    }
   ],
   "source": [
    "trainset.shape"
   ]
  },
  {
   "cell_type": "code",
   "execution_count": 11,
   "id": "8973d01b",
   "metadata": {},
   "outputs": [
    {
     "data": {
      "text/plain": [
       "(20168, 4)"
      ]
     },
     "execution_count": 11,
     "metadata": {},
     "output_type": "execute_result"
    }
   ],
   "source": [
    "testset.shape"
   ]
  },
  {
   "cell_type": "code",
   "execution_count": 12,
   "id": "9218c5fa",
   "metadata": {},
   "outputs": [
    {
     "data": {
      "text/plain": [
       "(8067, 4)"
      ]
     },
     "execution_count": 12,
     "metadata": {},
     "output_type": "execute_result"
    }
   ],
   "source": [
    "validationset.shape"
   ]
  },
  {
   "cell_type": "markdown",
   "id": "e3abbe16",
   "metadata": {},
   "source": [
    "## Step 4"
   ]
  },
  {
   "cell_type": "code",
   "execution_count": 13,
   "id": "708af1f6",
   "metadata": {},
   "outputs": [],
   "source": [
    "def clean_up(model_):\n",
    "    tf.keras.backend.clear_session()\n",
    "    del model_\n",
    "    gc.collect()"
   ]
  },
  {
   "cell_type": "code",
   "execution_count": 14,
   "id": "e7effb00",
   "metadata": {},
   "outputs": [],
   "source": [
    "n_users = len(ratings[\"userId\"].unique())\n",
    "n_items = len(ratings[\"movieId\"].unique())"
   ]
  },
  {
   "cell_type": "code",
   "execution_count": 15,
   "id": "7e894de3",
   "metadata": {},
   "outputs": [],
   "source": [
    "users_vector = np.asarray(ratings[\"userId\"]).astype(np.int32)\n",
    "items_vector = np.asarray(ratings[\"movieId\"]).astype(np.int32)"
   ]
  },
  {
   "cell_type": "code",
   "execution_count": 16,
   "id": "94bc3787",
   "metadata": {},
   "outputs": [
    {
     "data": {
      "text/plain": [
       "610"
      ]
     },
     "execution_count": 16,
     "metadata": {},
     "output_type": "execute_result"
    }
   ],
   "source": [
    "n_users"
   ]
  },
  {
   "cell_type": "code",
   "execution_count": 17,
   "id": "cbfcef8e",
   "metadata": {},
   "outputs": [
    {
     "data": {
      "text/plain": [
       "9724"
      ]
     },
     "execution_count": 17,
     "metadata": {},
     "output_type": "execute_result"
    }
   ],
   "source": [
    "n_items"
   ]
  },
  {
   "cell_type": "code",
   "execution_count": 18,
   "id": "8d55b091",
   "metadata": {},
   "outputs": [
    {
     "data": {
      "text/plain": [
       "(100836,)"
      ]
     },
     "execution_count": 18,
     "metadata": {},
     "output_type": "execute_result"
    }
   ],
   "source": [
    "users_vector.shape"
   ]
  },
  {
   "cell_type": "code",
   "execution_count": 19,
   "id": "8bcfd058",
   "metadata": {},
   "outputs": [
    {
     "data": {
      "text/plain": [
       "(100836,)"
      ]
     },
     "execution_count": 19,
     "metadata": {},
     "output_type": "execute_result"
    }
   ],
   "source": [
    "items_vector.shape"
   ]
  },
  {
   "cell_type": "code",
   "execution_count": 20,
   "id": "1e9dcb78",
   "metadata": {},
   "outputs": [
    {
     "data": {
      "text/plain": [
       "(100836, 2)"
      ]
     },
     "execution_count": 20,
     "metadata": {},
     "output_type": "execute_result"
    }
   ],
   "source": [
    "X = np.array([users_vector, items_vector]).T\n",
    "\n",
    "X.shape"
   ]
  },
  {
   "cell_type": "code",
   "execution_count": 21,
   "id": "4ccb5abe",
   "metadata": {},
   "outputs": [
    {
     "data": {
      "text/plain": [
       "(100836,)"
      ]
     },
     "execution_count": 21,
     "metadata": {},
     "output_type": "execute_result"
    }
   ],
   "source": [
    "y = ratings[\"rating\"].values\n",
    "\n",
    "y.shape"
   ]
  },
  {
   "cell_type": "code",
   "execution_count": 22,
   "id": "ec0bc9be",
   "metadata": {},
   "outputs": [],
   "source": [
    "X_train, X_test, y_train, y_test = train_test_split(X, y, test_size=0.2, shuffle=True)"
   ]
  },
  {
   "cell_type": "code",
   "execution_count": 23,
   "id": "d2b99507",
   "metadata": {},
   "outputs": [],
   "source": [
    "tf.keras.backend.clear_session()"
   ]
  },
  {
   "cell_type": "code",
   "execution_count": 24,
   "id": "8b371565",
   "metadata": {},
   "outputs": [],
   "source": [
    "def mf_model(\n",
    "    n_users: int,\n",
    "    n_items: int,\n",
    "    n_latent_factors: int,\n",
    ") -> tf.keras.Model:\n",
    "    \"\"\"A Matrix Factorization model.\"\"\"\n",
    "    users_input = tf.keras.layers.Input(shape=[1], dtype=\"int32\", name=\"users_input\")\n",
    "    u = tf.keras.layers.Embedding(\n",
    "        input_dim=n_users + 1, output_dim=n_latent_factors, name=\"users_embedding\"\n",
    "    )(users_input)\n",
    "    u = tf.keras.layers.Flatten()(u)\n",
    "\n",
    "    items_input = tf.keras.layers.Input(shape=[1], dtype=\"int32\", name=\"items_input\")\n",
    "    i = tf.keras.layers.Embedding(\n",
    "        input_dim=n_items + 1, output_dim=n_latent_factors, name=\"items_embedding\"\n",
    "    )(items_input)\n",
    "    i = tf.keras.layers.Flatten()(i)\n",
    "\n",
    "    output = tf.output_layer = tf.keras.layers.Dot(1, normalize=False, name=\"Dot\")(\n",
    "        [i, u]\n",
    "    )\n",
    "\n",
    "    return tf.keras.Model(inputs=[users_input, items_input], outputs=output)"
   ]
  },
  {
   "cell_type": "code",
   "execution_count": 25,
   "id": "8310e460",
   "metadata": {},
   "outputs": [
    {
     "name": "stderr",
     "output_type": "stream",
     "text": [
      "2022-03-13 16:49:54.965138: I tensorflow/stream_executor/cuda/cuda_gpu_executor.cc:936] successful NUMA node read from SysFS had negative value (-1), but there must be at least one NUMA node, so returning NUMA node zero\n",
      "2022-03-13 16:49:54.965495: W tensorflow/stream_executor/platform/default/dso_loader.cc:64] Could not load dynamic library 'libcudart.so.11.0'; dlerror: libcudart.so.11.0: cannot open shared object file: No such file or directory\n",
      "2022-03-13 16:49:54.965590: W tensorflow/stream_executor/platform/default/dso_loader.cc:64] Could not load dynamic library 'libcublas.so.11'; dlerror: libcublas.so.11: cannot open shared object file: No such file or directory\n",
      "2022-03-13 16:49:54.965679: W tensorflow/stream_executor/platform/default/dso_loader.cc:64] Could not load dynamic library 'libcublasLt.so.11'; dlerror: libcublasLt.so.11: cannot open shared object file: No such file or directory\n",
      "2022-03-13 16:49:54.967736: W tensorflow/stream_executor/platform/default/dso_loader.cc:64] Could not load dynamic library 'libcusolver.so.11'; dlerror: libcusolver.so.11: cannot open shared object file: No such file or directory\n",
      "2022-03-13 16:49:54.967782: W tensorflow/stream_executor/platform/default/dso_loader.cc:64] Could not load dynamic library 'libcusparse.so.11'; dlerror: libcusparse.so.11: cannot open shared object file: No such file or directory\n",
      "2022-03-13 16:49:54.967878: W tensorflow/core/common_runtime/gpu/gpu_device.cc:1850] Cannot dlopen some GPU libraries. Please make sure the missing libraries mentioned above are installed properly if you would like to use GPU. Follow the guide at https://www.tensorflow.org/install/gpu for how to download and setup the required libraries for your platform.\n",
      "Skipping registering GPU devices...\n",
      "2022-03-13 16:49:54.968292: I tensorflow/core/platform/cpu_feature_guard.cc:151] This TensorFlow binary is optimized with oneAPI Deep Neural Network Library (oneDNN) to use the following CPU instructions in performance-critical operations:  AVX2 FMA\n",
      "To enable them in other operations, rebuild TensorFlow with the appropriate compiler flags.\n"
     ]
    }
   ],
   "source": [
    "mf_model_small = mf_model(\n",
    "    n_users=n_users,\n",
    "    n_items=n_items,\n",
    "    n_latent_factors=4,\n",
    ")"
   ]
  },
  {
   "cell_type": "code",
   "execution_count": 26,
   "id": "b2f225c7",
   "metadata": {},
   "outputs": [],
   "source": [
    "mf_model_small.compile(\n",
    "    loss=\"mean_squared_error\",\n",
    "    optimizer=tf.keras.optimizers.SGD(),\n",
    "    metrics=[tf.keras.metrics.RootMeanSquaredError()],\n",
    ")"
   ]
  },
  {
   "cell_type": "code",
   "execution_count": 27,
   "id": "683efe97",
   "metadata": {},
   "outputs": [
    {
     "name": "stdout",
     "output_type": "stream",
     "text": [
      "Model: \"model\"\n",
      "__________________________________________________________________________________________________\n",
      " Layer (type)                   Output Shape         Param #     Connected to                     \n",
      "==================================================================================================\n",
      " items_input (InputLayer)       [(None, 1)]          0           []                               \n",
      "                                                                                                  \n",
      " users_input (InputLayer)       [(None, 1)]          0           []                               \n",
      "                                                                                                  \n",
      " items_embedding (Embedding)    (None, 1, 4)         38900       ['items_input[0][0]']            \n",
      "                                                                                                  \n",
      " users_embedding (Embedding)    (None, 1, 4)         2444        ['users_input[0][0]']            \n",
      "                                                                                                  \n",
      " flatten_1 (Flatten)            (None, 4)            0           ['items_embedding[0][0]']        \n",
      "                                                                                                  \n",
      " flatten (Flatten)              (None, 4)            0           ['users_embedding[0][0]']        \n",
      "                                                                                                  \n",
      " Dot (Dot)                      (None, 1)            0           ['flatten_1[0][0]',              \n",
      "                                                                  'flatten[0][0]']                \n",
      "                                                                                                  \n",
      "==================================================================================================\n",
      "Total params: 41,344\n",
      "Trainable params: 41,344\n",
      "Non-trainable params: 0\n",
      "__________________________________________________________________________________________________\n"
     ]
    }
   ],
   "source": [
    "mf_model_small.summary()"
   ]
  },
  {
   "cell_type": "code",
   "execution_count": 28,
   "id": "07462b49",
   "metadata": {},
   "outputs": [],
   "source": [
    "callback = tf.keras.callbacks.EarlyStopping(\n",
    "    monitor=\"val_loss\", patience=20, restore_best_weights=True\n",
    ")"
   ]
  },
  {
   "cell_type": "code",
   "execution_count": 29,
   "id": "d234684e",
   "metadata": {
    "scrolled": false
   },
   "outputs": [
    {
     "name": "stdout",
     "output_type": "stream",
     "text": [
      "Epoch 1/100\n",
      "142/142 [==============================] - 1s 2ms/step - loss: 13.3622 - root_mean_squared_error: 3.6554 - val_loss: 13.3347 - val_root_mean_squared_error: 3.6517\n",
      "Epoch 2/100\n",
      "142/142 [==============================] - 0s 1ms/step - loss: 13.3622 - root_mean_squared_error: 3.6554 - val_loss: 13.3347 - val_root_mean_squared_error: 3.6517\n",
      "Epoch 3/100\n",
      "142/142 [==============================] - 0s 1ms/step - loss: 13.3622 - root_mean_squared_error: 3.6554 - val_loss: 13.3347 - val_root_mean_squared_error: 3.6517\n",
      "Epoch 4/100\n",
      "142/142 [==============================] - 0s 1ms/step - loss: 13.3622 - root_mean_squared_error: 3.6554 - val_loss: 13.3347 - val_root_mean_squared_error: 3.6517\n",
      "Epoch 5/100\n",
      "142/142 [==============================] - 0s 1ms/step - loss: 13.3622 - root_mean_squared_error: 3.6554 - val_loss: 13.3347 - val_root_mean_squared_error: 3.6517\n",
      "Epoch 6/100\n",
      "142/142 [==============================] - 0s 1ms/step - loss: 13.3622 - root_mean_squared_error: 3.6554 - val_loss: 13.3347 - val_root_mean_squared_error: 3.6517\n",
      "Epoch 7/100\n",
      "142/142 [==============================] - 0s 1ms/step - loss: 13.3622 - root_mean_squared_error: 3.6554 - val_loss: 13.3347 - val_root_mean_squared_error: 3.6517\n",
      "Epoch 8/100\n",
      "142/142 [==============================] - 0s 1ms/step - loss: 13.3621 - root_mean_squared_error: 3.6554 - val_loss: 13.3347 - val_root_mean_squared_error: 3.6517\n",
      "Epoch 9/100\n",
      "142/142 [==============================] - 0s 1ms/step - loss: 13.3621 - root_mean_squared_error: 3.6554 - val_loss: 13.3347 - val_root_mean_squared_error: 3.6517\n",
      "Epoch 10/100\n",
      "142/142 [==============================] - 0s 1ms/step - loss: 13.3621 - root_mean_squared_error: 3.6554 - val_loss: 13.3347 - val_root_mean_squared_error: 3.6517\n",
      "Epoch 11/100\n",
      "142/142 [==============================] - 0s 1ms/step - loss: 13.3621 - root_mean_squared_error: 3.6554 - val_loss: 13.3347 - val_root_mean_squared_error: 3.6517\n",
      "Epoch 12/100\n",
      "142/142 [==============================] - 0s 1ms/step - loss: 13.3621 - root_mean_squared_error: 3.6554 - val_loss: 13.3347 - val_root_mean_squared_error: 3.6517\n",
      "Epoch 13/100\n",
      "142/142 [==============================] - 0s 1ms/step - loss: 13.3621 - root_mean_squared_error: 3.6554 - val_loss: 13.3347 - val_root_mean_squared_error: 3.6517\n",
      "Epoch 14/100\n",
      "142/142 [==============================] - 0s 1ms/step - loss: 13.3621 - root_mean_squared_error: 3.6554 - val_loss: 13.3347 - val_root_mean_squared_error: 3.6517\n",
      "Epoch 15/100\n",
      "142/142 [==============================] - 0s 1ms/step - loss: 13.3621 - root_mean_squared_error: 3.6554 - val_loss: 13.3347 - val_root_mean_squared_error: 3.6517\n",
      "Epoch 16/100\n",
      "142/142 [==============================] - 0s 1ms/step - loss: 13.3621 - root_mean_squared_error: 3.6554 - val_loss: 13.3347 - val_root_mean_squared_error: 3.6517\n",
      "Epoch 17/100\n",
      "142/142 [==============================] - 0s 1ms/step - loss: 13.3621 - root_mean_squared_error: 3.6554 - val_loss: 13.3347 - val_root_mean_squared_error: 3.6517\n",
      "Epoch 18/100\n",
      "142/142 [==============================] - 0s 1ms/step - loss: 13.3621 - root_mean_squared_error: 3.6554 - val_loss: 13.3347 - val_root_mean_squared_error: 3.6517\n",
      "Epoch 19/100\n",
      "142/142 [==============================] - 0s 1ms/step - loss: 13.3621 - root_mean_squared_error: 3.6554 - val_loss: 13.3347 - val_root_mean_squared_error: 3.6517\n",
      "Epoch 20/100\n",
      "142/142 [==============================] - 0s 1ms/step - loss: 13.3621 - root_mean_squared_error: 3.6554 - val_loss: 13.3347 - val_root_mean_squared_error: 3.6517\n",
      "Epoch 21/100\n",
      "142/142 [==============================] - 0s 1ms/step - loss: 13.3620 - root_mean_squared_error: 3.6554 - val_loss: 13.3347 - val_root_mean_squared_error: 3.6517\n"
     ]
    }
   ],
   "source": [
    "history = mf_model_small.fit(\n",
    "    [X_train[:, 0], X_train[:, 1]],\n",
    "    y_train,\n",
    "    epochs=100,\n",
    "    validation_split=0.1,\n",
    "    batch_size=512,\n",
    "    callbacks=[callback],\n",
    ")"
   ]
  },
  {
   "cell_type": "code",
   "execution_count": 30,
   "id": "74b51339",
   "metadata": {
    "scrolled": false
   },
   "outputs": [
    {
     "data": {
      "image/png": "[encoded data removed]",
      "text/plain": [
       "<Figure size 720x576 with 1 Axes>"
      ]
     },
     "metadata": {},
     "output_type": "display_data"
    }
   ],
   "source": [
    "plt.style.use(\"dark_background\")\n",
    "plt.rcParams[\"figure.figsize\"] = [10, 8]\n",
    "plt.plot(history.history[\"loss\"], label=\"train\")\n",
    "plt.plot(history.history[\"val_loss\"], label=\"validation\")\n",
    "plt.title(\"model loss\")\n",
    "plt.ylabel(\"loss\")\n",
    "plt.xlabel(\"epoch\")\n",
    "plt.legend([\"train\", \"validation\"], loc=\"upper right\")\n",
    "plt.show()"
   ]
  },
  {
   "cell_type": "code",
   "execution_count": 31,
   "id": "1f120903",
   "metadata": {},
   "outputs": [
    {
     "name": "stdout",
     "output_type": "stream",
     "text": [
      "631/631 [==============================] - 0s 695us/step - loss: 13.3011 - root_mean_squared_error: 3.6471\n"
     ]
    }
   ],
   "source": [
    "evaluation = mf_model_small.evaluate(\n",
    "    x=[X_test[:, 0], X_test[:, 1]], y=y_test, verbose=1\n",
    ")"
   ]
  },
  {
   "cell_type": "code",
   "execution_count": 32,
   "id": "924d0f15",
   "metadata": {},
   "outputs": [
    {
     "name": "stdout",
     "output_type": "stream",
     "text": [
      "Test MSE = 13.301095962524414\n",
      "Test RMSE = 3.647066831588745\n"
     ]
    }
   ],
   "source": [
    "mse = evaluation[0]\n",
    "rmse = evaluation[1]\n",
    "\n",
    "print(\"Test MSE = \" + str(mse))\n",
    "print(\"Test RMSE = \" + str(rmse))"
   ]
  },
  {
   "cell_type": "code",
   "execution_count": 33,
   "id": "ec9dd6c6",
   "metadata": {},
   "outputs": [],
   "source": [
    "clean_up(model_=mf_model_small)"
   ]
  },
  {
   "cell_type": "code",
   "execution_count": 34,
   "id": "cc797d99",
   "metadata": {},
   "outputs": [],
   "source": [
    "mf_model_big = mf_model(\n",
    "    n_users=n_users,\n",
    "    n_items=n_items,\n",
    "    n_latent_factors=20,\n",
    ")"
   ]
  },
  {
   "cell_type": "code",
   "execution_count": 35,
   "id": "3d869ba0",
   "metadata": {},
   "outputs": [],
   "source": [
    "mf_model_big.compile(\n",
    "    loss=\"mean_squared_error\",\n",
    "    optimizer=tf.keras.optimizers.SGD(),\n",
    "    metrics=[tf.keras.metrics.RootMeanSquaredError()],\n",
    ")"
   ]
  },
  {
   "cell_type": "code",
   "execution_count": 36,
   "id": "07212bde",
   "metadata": {},
   "outputs": [
    {
     "name": "stdout",
     "output_type": "stream",
     "text": [
      "Model: \"model\"\n",
      "__________________________________________________________________________________________________\n",
      " Layer (type)                   Output Shape         Param #     Connected to                     \n",
      "==================================================================================================\n",
      " items_input (InputLayer)       [(None, 1)]          0           []                               \n",
      "                                                                                                  \n",
      " users_input (InputLayer)       [(None, 1)]          0           []                               \n",
      "                                                                                                  \n",
      " items_embedding (Embedding)    (None, 1, 20)        194500      ['items_input[0][0]']            \n",
      "                                                                                                  \n",
      " users_embedding (Embedding)    (None, 1, 20)        12220       ['users_input[0][0]']            \n",
      "                                                                                                  \n",
      " flatten_1 (Flatten)            (None, 20)           0           ['items_embedding[0][0]']        \n",
      "                                                                                                  \n",
      " flatten (Flatten)              (None, 20)           0           ['users_embedding[0][0]']        \n",
      "                                                                                                  \n",
      " Dot (Dot)                      (None, 1)            0           ['flatten_1[0][0]',              \n",
      "                                                                  'flatten[0][0]']                \n",
      "                                                                                                  \n",
      "==================================================================================================\n",
      "Total params: 206,720\n",
      "Trainable params: 206,720\n",
      "Non-trainable params: 0\n",
      "__________________________________________________________________________________________________\n"
     ]
    }
   ],
   "source": [
    "mf_model_big.summary()"
   ]
  },
  {
   "cell_type": "code",
   "execution_count": 37,
   "id": "082b1a4c",
   "metadata": {
    "scrolled": false
   },
   "outputs": [
    {
     "name": "stdout",
     "output_type": "stream",
     "text": [
      "Epoch 1/100\n",
      "142/142 [==============================] - 0s 2ms/step - loss: 13.3622 - root_mean_squared_error: 3.6554 - val_loss: 13.3345 - val_root_mean_squared_error: 3.6516\n",
      "Epoch 2/100\n",
      "142/142 [==============================] - 0s 1ms/step - loss: 13.3621 - root_mean_squared_error: 3.6554 - val_loss: 13.3345 - val_root_mean_squared_error: 3.6516\n",
      "Epoch 3/100\n",
      "142/142 [==============================] - 0s 1ms/step - loss: 13.3621 - root_mean_squared_error: 3.6554 - val_loss: 13.3345 - val_root_mean_squared_error: 3.6516\n",
      "Epoch 4/100\n",
      "142/142 [==============================] - 0s 1ms/step - loss: 13.3621 - root_mean_squared_error: 3.6554 - val_loss: 13.3345 - val_root_mean_squared_error: 3.6516\n",
      "Epoch 5/100\n",
      "142/142 [==============================] - 0s 1ms/step - loss: 13.3620 - root_mean_squared_error: 3.6554 - val_loss: 13.3345 - val_root_mean_squared_error: 3.6516\n",
      "Epoch 6/100\n",
      "142/142 [==============================] - 0s 1ms/step - loss: 13.3620 - root_mean_squared_error: 3.6554 - val_loss: 13.3345 - val_root_mean_squared_error: 3.6516\n",
      "Epoch 7/100\n",
      "142/142 [==============================] - 0s 1ms/step - loss: 13.3620 - root_mean_squared_error: 3.6554 - val_loss: 13.3345 - val_root_mean_squared_error: 3.6516\n",
      "Epoch 8/100\n",
      "142/142 [==============================] - 0s 1ms/step - loss: 13.3619 - root_mean_squared_error: 3.6554 - val_loss: 13.3345 - val_root_mean_squared_error: 3.6516\n",
      "Epoch 9/100\n",
      "142/142 [==============================] - 0s 1ms/step - loss: 13.3619 - root_mean_squared_error: 3.6554 - val_loss: 13.3345 - val_root_mean_squared_error: 3.6516\n",
      "Epoch 10/100\n",
      "142/142 [==============================] - 0s 1ms/step - loss: 13.3619 - root_mean_squared_error: 3.6554 - val_loss: 13.3345 - val_root_mean_squared_error: 3.6516\n",
      "Epoch 11/100\n",
      "142/142 [==============================] - 0s 1ms/step - loss: 13.3618 - root_mean_squared_error: 3.6554 - val_loss: 13.3345 - val_root_mean_squared_error: 3.6516\n",
      "Epoch 12/100\n",
      "142/142 [==============================] - 0s 1ms/step - loss: 13.3618 - root_mean_squared_error: 3.6554 - val_loss: 13.3345 - val_root_mean_squared_error: 3.6516\n",
      "Epoch 13/100\n",
      "142/142 [==============================] - 0s 1ms/step - loss: 13.3618 - root_mean_squared_error: 3.6554 - val_loss: 13.3345 - val_root_mean_squared_error: 3.6516\n",
      "Epoch 14/100\n",
      "142/142 [==============================] - 0s 1ms/step - loss: 13.3617 - root_mean_squared_error: 3.6554 - val_loss: 13.3345 - val_root_mean_squared_error: 3.6516\n",
      "Epoch 15/100\n",
      "142/142 [==============================] - 0s 1ms/step - loss: 13.3617 - root_mean_squared_error: 3.6554 - val_loss: 13.3345 - val_root_mean_squared_error: 3.6516\n",
      "Epoch 16/100\n",
      "142/142 [==============================] - 0s 1ms/step - loss: 13.3616 - root_mean_squared_error: 3.6554 - val_loss: 13.3345 - val_root_mean_squared_error: 3.6516\n",
      "Epoch 17/100\n",
      "142/142 [==============================] - 0s 1ms/step - loss: 13.3616 - root_mean_squared_error: 3.6554 - val_loss: 13.3345 - val_root_mean_squared_error: 3.6516\n",
      "Epoch 18/100\n",
      "142/142 [==============================] - 0s 1ms/step - loss: 13.3616 - root_mean_squared_error: 3.6553 - val_loss: 13.3345 - val_root_mean_squared_error: 3.6516\n",
      "Epoch 19/100\n",
      "142/142 [==============================] - 0s 1ms/step - loss: 13.3615 - root_mean_squared_error: 3.6553 - val_loss: 13.3345 - val_root_mean_squared_error: 3.6516\n",
      "Epoch 20/100\n",
      "142/142 [==============================] - 0s 1ms/step - loss: 13.3615 - root_mean_squared_error: 3.6553 - val_loss: 13.3345 - val_root_mean_squared_error: 3.6516\n",
      "Epoch 21/100\n",
      "142/142 [==============================] - 0s 1ms/step - loss: 13.3615 - root_mean_squared_error: 3.6553 - val_loss: 13.3345 - val_root_mean_squared_error: 3.6516\n"
     ]
    }
   ],
   "source": [
    "history = mf_model_big.fit(\n",
    "    [X_train[:, 0], X_train[:, 1]],\n",
    "    y_train,\n",
    "    epochs=100,\n",
    "    validation_split=0.1,\n",
    "    batch_size=512,\n",
    "    callbacks=[callback],\n",
    ")"
   ]
  },
  {
   "cell_type": "code",
   "execution_count": 38,
   "id": "af0cbf77",
   "metadata": {
    "scrolled": false
   },
   "outputs": [
    {
     "data": {
      "image/png": "[encoded data removed]",
      "text/plain": [
       "<Figure size 720x576 with 1 Axes>"
      ]
     },
     "metadata": {},
     "output_type": "display_data"
    }
   ],
   "source": [
    "plt.style.use(\"dark_background\")\n",
    "plt.rcParams[\"figure.figsize\"] = [10, 8]\n",
    "plt.plot(history.history[\"loss\"], label=\"train\")\n",
    "plt.plot(history.history[\"val_loss\"], label=\"validation\")\n",
    "plt.title(\"model loss\")\n",
    "plt.ylabel(\"loss\")\n",
    "plt.xlabel(\"epoch\")\n",
    "plt.legend([\"train\", \"validation\"], loc=\"upper right\")\n",
    "plt.show()"
   ]
  },
  {
   "cell_type": "code",
   "execution_count": 39,
   "id": "0c0f1704",
   "metadata": {},
   "outputs": [
    {
     "name": "stdout",
     "output_type": "stream",
     "text": [
      "631/631 [==============================] - 0s 733us/step - loss: 13.3011 - root_mean_squared_error: 3.6471\n"
     ]
    }
   ],
   "source": [
    "evaluation = mf_model_big.evaluate(x=[X_test[:, 0], X_test[:, 1]], y=y_test, verbose=1)"
   ]
  },
  {
   "cell_type": "code",
   "execution_count": 40,
   "id": "e2e58905",
   "metadata": {},
   "outputs": [
    {
     "name": "stdout",
     "output_type": "stream",
     "text": [
      "Test MSE = 13.301148414611816\n",
      "Test RMSE = 3.647073984146118\n"
     ]
    }
   ],
   "source": [
    "mse = evaluation[0]\n",
    "rmse = evaluation[1]\n",
    "\n",
    "print(\"Test MSE = \" + str(mse))\n",
    "print(\"Test RMSE = \" + str(rmse))"
   ]
  },
  {
   "cell_type": "code",
   "execution_count": 41,
   "id": "f9df2a19",
   "metadata": {},
   "outputs": [],
   "source": [
    "clean_up(model_=mf_model_big)"
   ]
  },
  {
   "cell_type": "markdown",
   "id": "02bf0f4f",
   "metadata": {},
   "source": [
    "## Step 5"
   ]
  },
  {
   "cell_type": "code",
   "execution_count": 42,
   "id": "474a8746",
   "metadata": {},
   "outputs": [],
   "source": [
    "def create_tf_datasets(\n",
    "    data: pd.DataFrame,\n",
    "    batch_size: int = 1,\n",
    "    max_clients: int = None,\n",
    "    max_items_per_user: int = None,\n",
    ") -> Iterator[tf.data.Dataset]:\n",
    "\n",
    "    n_users = len(data[\"userId\"].unique())\n",
    "\n",
    "    if max_clients is not None:\n",
    "        n_users = min(n_users, max_clients)\n",
    "\n",
    "    def transform_batch(batch: tf.Tensor) -> collections.OrderedDict:\n",
    "\n",
    "        return collections.OrderedDict(\n",
    "            x=tf.cast(batch[:, 0:2], tf.int64), y=tf.cast(batch[:, 2:3], tf.float32)\n",
    "        )\n",
    "\n",
    "    for _, user_ratings in data.groupby(\"userId\"):\n",
    "\n",
    "        if n_users < 0:\n",
    "            break\n",
    "\n",
    "        tf_dataset = tf.data.Dataset.from_tensor_slices(user_ratings)\n",
    "\n",
    "        yield (\n",
    "            tf_dataset.take(max_items_per_user)\n",
    "            .shuffle(buffer_size=max_items_per_user, seed=42)\n",
    "            .batch(batch_size)\n",
    "            .map(transform_batch, num_parallel_calls=tf.data.experimental.AUTOTUNE)\n",
    "        )\n",
    "\n",
    "        n_users -= 1"
   ]
  },
  {
   "cell_type": "code",
   "execution_count": 43,
   "id": "5e268b14",
   "metadata": {
    "scrolled": false
   },
   "outputs": [],
   "source": [
    "tf_trainsets = [\n",
    "    *create_tf_datasets(\n",
    "        data=trainset,\n",
    "        batch_size=10,\n",
    "        max_items_per_user=100,\n",
    "        max_clients=75,\n",
    "    )\n",
    "]"
   ]
  },
  {
   "cell_type": "code",
   "execution_count": 44,
   "id": "9391e334",
   "metadata": {},
   "outputs": [],
   "source": [
    "tf_testsets = [\n",
    "    *create_tf_datasets(\n",
    "        data=testset,\n",
    "        batch_size=10,\n",
    "        max_items_per_user=100,\n",
    "        max_clients=75,\n",
    "    )\n",
    "]"
   ]
  },
  {
   "cell_type": "code",
   "execution_count": 45,
   "id": "5a3eea4b",
   "metadata": {},
   "outputs": [],
   "source": [
    "tf_validationsets = [\n",
    "    *create_tf_datasets(\n",
    "        data=validationset,\n",
    "        batch_size=10,\n",
    "        max_items_per_user=100,\n",
    "        max_clients=75,\n",
    "    )\n",
    "]"
   ]
  },
  {
   "cell_type": "code",
   "execution_count": 46,
   "id": "85480e29",
   "metadata": {
    "scrolled": false
   },
   "outputs": [
    {
     "name": "stdout",
     "output_type": "stream",
     "text": [
      "OrderedDict([('x', <tf.Tensor: shape=(10, 2), dtype=int64, numpy=\n",
      "array([[   1, 2670],\n",
      "       [   1,  968],\n",
      "       [   1, 1690],\n",
      "       [   1,  819],\n",
      "       [   1,  257],\n",
      "       [   1,  910],\n",
      "       [   1, 1075],\n",
      "       [   1,  510],\n",
      "       [   1,  632],\n",
      "       [   1,  919]])>), ('y', <tf.Tensor: shape=(10, 1), dtype=float32, numpy=\n",
      "array([[5.],\n",
      "       [5.],\n",
      "       [4.],\n",
      "       [5.],\n",
      "       [3.],\n",
      "       [5.],\n",
      "       [3.],\n",
      "       [4.],\n",
      "       [4.],\n",
      "       [2.]], dtype=float32)>)])\n"
     ]
    }
   ],
   "source": [
    "print(next(iter(tf_trainsets[0])))"
   ]
  },
  {
   "cell_type": "markdown",
   "id": "2601cc29",
   "metadata": {},
   "source": [
    "## Step 6"
   ]
  },
  {
   "cell_type": "code",
   "execution_count": 47,
   "id": "2d62db8d",
   "metadata": {},
   "outputs": [],
   "source": [
    "nest_asyncio.apply()"
   ]
  },
  {
   "cell_type": "code",
   "execution_count": 48,
   "id": "35693da8",
   "metadata": {},
   "outputs": [
    {
     "data": {
      "text/plain": [
       "b'Hello, World!'"
      ]
     },
     "execution_count": 48,
     "metadata": {},
     "output_type": "execute_result"
    }
   ],
   "source": [
    "tff.federated_computation(lambda: \"Hello, World!\")()"
   ]
  },
  {
   "cell_type": "code",
   "execution_count": 51,
   "id": "050b2fcb",
   "metadata": {},
   "outputs": [],
   "source": [
    "def mf_model_federated_friendly(\n",
    "    n_users: int,\n",
    "    n_items: int,\n",
    "    n_latent_factors: int,\n",
    ") -> tf.keras.Model:\n",
    "    \"\"\"A Matrix Factorization model.\"\"\"\n",
    "    users_input = tf.keras.layers.Input(shape=[1], dtype=\"int32\", name=\"users_input\")\n",
    "    u = tf.keras.layers.Embedding(\n",
    "        input_dim=n_users + 1, output_dim=n_latent_factors, name=\"users_embedding\"\n",
    "    )(users_input)\n",
    "    u = tf.keras.layers.Flatten()(u)\n",
    "\n",
    "    items_input = tf.keras.layers.Input(shape=[1], dtype=\"int32\", name=\"items_input\")\n",
    "    i = tf.keras.layers.Embedding(\n",
    "        input_dim=n_items + 1, output_dim=n_latent_factors, name=\"items_embedding\"\n",
    "    )(items_input)\n",
    "    i = tf.keras.layers.Flatten()(i)\n",
    "\n",
    "    output = tf.output_layer = tf.keras.layers.Dot(1, normalize=False, name=\"Dot\")(\n",
    "        [i, u]\n",
    "    )\n",
    "\n",
    "    return tf.keras.Model(inputs={\"u\": users_input, \"i\": items_input}, outputs=output)"
   ]
  },
  {
   "cell_type": "code",
   "execution_count": 52,
   "id": "3065f59a",
   "metadata": {},
   "outputs": [],
   "source": [
    "def model_fn():\n",
    "    model = mf_model_federated_friendly(\n",
    "        n_users=n_users,\n",
    "        n_items=n_items,\n",
    "        n_latent_factors=20,\n",
    "    )\n",
    "\n",
    "    input_spec = collections.OrderedDict(\n",
    "        x=collections.OrderedDict(\n",
    "            u=tf.TensorSpec(shape=[None, 1], dtype=tf.float32),\n",
    "            i=tf.TensorSpec(shape=[1, 1], dtype=tf.float32),\n",
    "        ),\n",
    "        y=tf.TensorSpec(shape=[None, 1], dtype=tf.float32),\n",
    "    )\n",
    "\n",
    "    return tff.learning.from_keras_model(\n",
    "        model,\n",
    "        input_spec=input_spec,\n",
    "        loss=tf.keras.losses.MeanSquaredError(),\n",
    "        metrics=[tf.keras.metrics.RootMeanSquaredError()],\n",
    "    )"
   ]
  },
  {
   "cell_type": "code",
   "execution_count": 53,
   "id": "e279ea4c",
   "metadata": {
    "scrolled": false
   },
   "outputs": [],
   "source": [
    "iterative_process = tff.learning.build_federated_averaging_process(\n",
    "    model_fn,\n",
    "    client_optimizer_fn=lambda: tf.keras.optimizers.SGD(learning_rate=0.02),\n",
    "    server_optimizer_fn=lambda: tf.keras.optimizers.SGD(learning_rate=1.0),\n",
    ")"
   ]
  },
  {
   "cell_type": "code",
   "execution_count": 54,
   "id": "62e634ec",
   "metadata": {},
   "outputs": [
    {
     "data": {
      "text/plain": [
       "'( -> <model=<trainable=<float32[9725,20],float32[611,20]>,non_trainable=<>>,optimizer_state=<int64>,delta_aggregate_state=<value_sum_process=<>,weight_sum_process=<>>,model_broadcast_state=<>>@SERVER)'"
      ]
     },
     "execution_count": 54,
     "metadata": {},
     "output_type": "execute_result"
    }
   ],
   "source": [
    "str(iterative_process.initialize.type_signature)"
   ]
  },
  {
   "cell_type": "code",
   "execution_count": 56,
   "id": "e67f9336",
   "metadata": {},
   "outputs": [
    {
     "name": "stdout",
     "output_type": "stream",
     "text": [
      "ModelWeights(trainable=[array([[-0.04319402,  0.0325467 ,  0.04190444, ..., -0.04072454,\n",
      "         0.04408764, -0.00631542],\n",
      "       [-0.04419247, -0.00166304,  0.04124964, ..., -0.0327394 ,\n",
      "        -0.01975687,  0.04468674],\n",
      "       [ 0.02966041, -0.04290048, -0.02223184, ...,  0.02098917,\n",
      "        -0.03825725,  0.02397263],\n",
      "       ...,\n",
      "       [-0.042977  , -0.01563779,  0.02137892, ..., -0.01634755,\n",
      "         0.03314411, -0.04458243],\n",
      "       [-0.00998217, -0.01574504,  0.03182587, ...,  0.04922159,\n",
      "         0.04833105,  0.01125025],\n",
      "       [ 0.03817749, -0.00263134,  0.01658211, ..., -0.03023446,\n",
      "         0.01356489, -0.04812864]], dtype=float32), array([[-0.03514512,  0.04169538,  0.02672187, ...,  0.0343145 ,\n",
      "        -0.03441912,  0.01694508],\n",
      "       [ 0.04120226, -0.01954865, -0.04891283, ...,  0.00281511,\n",
      "        -0.0271348 , -0.00950992],\n",
      "       [-0.0418179 , -0.03312612, -0.01767952, ..., -0.02524296,\n",
      "        -0.0304273 ,  0.04699684],\n",
      "       ...,\n",
      "       [ 0.02079207, -0.01911771,  0.03480648, ..., -0.0156965 ,\n",
      "         0.04374239,  0.00702645],\n",
      "       [ 0.04973296,  0.04142309, -0.03570521, ...,  0.00180304,\n",
      "        -0.03500701,  0.01008362],\n",
      "       [-0.00079719,  0.03441839,  0.0299545 , ...,  0.02887857,\n",
      "        -0.04050137, -0.03502107]], dtype=float32)], non_trainable=[])\n"
     ]
    }
   ],
   "source": [
    "state = iterative_process.initialize()\n",
    "\n",
    "\n",
    "print(state.model)"
   ]
  },
  {
   "cell_type": "markdown",
   "id": "b4214ff3",
   "metadata": {},
   "source": [
    "## Step 7"
   ]
  },
  {
   "cell_type": "code",
   "execution_count": 57,
   "id": "3f322273",
   "metadata": {},
   "outputs": [
    {
     "name": "stdout",
     "output_type": "stream",
     "text": [
      "Item variables shape: (9725, 20)\n",
      "User variables shape: (611, 20)\n"
     ]
    }
   ],
   "source": [
    "print(\"Item variables shape:\", state.model.trainable[0].shape)\n",
    "print(\"User variables shape:\", state.model.trainable[1].shape)"
   ]
  },
  {
   "cell_type": "code",
   "execution_count": null,
   "id": "8a2e770c",
   "metadata": {},
   "outputs": [],
   "source": []
  },
  {
   "cell_type": "code",
   "execution_count": null,
   "id": "eb142676",
   "metadata": {},
   "outputs": [],
   "source": []
  },
  {
   "cell_type": "code",
   "execution_count": null,
   "id": "3c121461",
   "metadata": {},
   "outputs": [],
   "source": []
  },
  {
   "cell_type": "code",
   "execution_count": null,
   "id": "f3ca55b1",
   "metadata": {},
   "outputs": [],
   "source": []
  },
  {
   "cell_type": "markdown",
   "id": "103c86a9",
   "metadata": {},
   "source": [
    "## Step 8"
   ]
  },
  {
   "cell_type": "code",
   "execution_count": null,
   "id": "74d38116",
   "metadata": {},
   "outputs": [],
   "source": []
  },
  {
   "cell_type": "markdown",
   "id": "c1cdb703",
   "metadata": {},
   "source": [
    "## Step 9"
   ]
  },
  {
   "cell_type": "code",
   "execution_count": null,
   "id": "16a284a3",
   "metadata": {},
   "outputs": [],
   "source": []
  },
  {
   "cell_type": "markdown",
   "id": "54047244",
   "metadata": {},
   "source": [
    "## Step 10"
   ]
  },
  {
   "cell_type": "code",
   "execution_count": null,
   "id": "77882b06",
   "metadata": {},
   "outputs": [],
   "source": []
  }
 ],
 "metadata": {
  "kernelspec": {
   "display_name": "Python 3 (ipykernel)",
   "language": "python",
   "name": "python3"
  },
  "language_info": {
   "codemirror_mode": {
    "name": "ipython",
    "version": 3
   },
   "file_extension": ".py",
   "mimetype": "text/x-python",
   "name": "python",
   "nbconvert_exporter": "python",
   "pygments_lexer": "ipython3",
   "version": "3.8.10"
  }
 },
 "nbformat": 4,
 "nbformat_minor": 5
}
