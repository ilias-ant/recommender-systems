{
 "cells": [
  {
   "cell_type": "code",
   "execution_count": 1,
   "id": "1f82f6da",
   "metadata": {},
   "outputs": [],
   "source": [
    "import gzip\n",
    "import json\n",
    "from typing import Any, Iterator\n",
    "\n",
    "import numpy as np\n",
    "import pandas as pd\n",
    "from sklearn.feature_extraction.text import TfidfVectorizer\n",
    "from sklearn.metrics.pairwise import linear_kernel\n",
    "from sklearn.pipeline import FeatureUnion, Pipeline\n",
    "from sklearn.preprocessing import FunctionTransformer"
   ]
  },
  {
   "cell_type": "markdown",
   "id": "a563a416",
   "metadata": {},
   "source": [
    "# Table of Contents\n",
    "\n",
    "- [Step A.1](#Step-A.1)\n",
    "- [Step A.2](#Step-A.2)\n",
    "- [Step A.3](#Step-A.3)"
   ]
  },
  {
   "cell_type": "code",
   "execution_count": 2,
   "id": "f7a9b826",
   "metadata": {},
   "outputs": [
    {
     "name": "stdout",
     "output_type": "stream",
     "text": [
      "--2022-02-10 20:51:39--  http://deepyeti.ucsd.edu/jianmo/amazon/categoryFilesSmall/Digital_Music_5.json.gz\n",
      "Resolving deepyeti.ucsd.edu (deepyeti.ucsd.edu)... 169.228.63.50\n",
      "Connecting to deepyeti.ucsd.edu (deepyeti.ucsd.edu)|169.228.63.50|:80... connected.\n",
      "HTTP request sent, awaiting response... 200 OK\n",
      "Length: 19408584 (19M) [application/octet-stream]\n",
      "Saving to: ‘data/Digital_Music_5.json.gz’\n",
      "\n",
      "Digital_Music_5.jso 100%[===================>]  18.51M  1.58MB/s    in 14s     \n",
      "\n",
      "2022-02-10 20:51:53 (1.28 MB/s) - ‘data/Digital_Music_5.json.gz’ saved [19408584/19408584]\n",
      "\n"
     ]
    }
   ],
   "source": [
    "# download the “small” 5-core dataset for the category \"Digital Music\"\n",
    "# dataset source: https://nijianmo.github.io/amazon/index.html\n",
    "\n",
    "!wget http://deepyeti.ucsd.edu/jianmo/amazon/categoryFilesSmall/Digital_Music_5.json.gz -P data/"
   ]
  },
  {
   "cell_type": "code",
   "execution_count": 3,
   "id": "85200259",
   "metadata": {},
   "outputs": [
    {
     "name": "stdout",
     "output_type": "stream",
     "text": [
      "--2022-02-10 20:51:54--  http://deepyeti.ucsd.edu/jianmo/amazon/metaFiles2/meta_Digital_Music.json.gz\n",
      "Resolving deepyeti.ucsd.edu (deepyeti.ucsd.edu)... 169.228.63.50\n",
      "Connecting to deepyeti.ucsd.edu (deepyeti.ucsd.edu)|169.228.63.50|:80... connected.\n",
      "HTTP request sent, awaiting response... 200 OK\n",
      "Length: 12367273 (12M) [application/octet-stream]\n",
      "Saving to: ‘data/meta_Digital_Music.json.gz’\n",
      "\n",
      "meta_Digital_Music. 100%[===================>]  11.79M  1.80MB/s    in 9.0s    \n",
      "\n",
      "2022-02-10 20:52:03 (1.30 MB/s) - ‘data/meta_Digital_Music.json.gz’ saved [12367273/12367273]\n",
      "\n"
     ]
    }
   ],
   "source": [
    "# download the metadata for this dataset\n",
    "# dataset source: https://nijianmo.github.io/amazon/index.html\n",
    "\n",
    "!wget http://deepyeti.ucsd.edu/jianmo/amazon/metaFiles2/meta_Digital_Music.json.gz -P data/"
   ]
  },
  {
   "cell_type": "markdown",
   "id": "91de4d90",
   "metadata": {},
   "source": [
    "## Step A.1"
   ]
  },
  {
   "cell_type": "markdown",
   "id": "dd33bf1d",
   "metadata": {},
   "source": [
    "The 5-core dataset for the category \"Digital Music\" subset of the [Amazon Review data](https://nijianmo.github.io/amazon/index.html) in which all users and items have at least 5 reviews.\n",
    "\n",
    "The format is one-review-per-line in JSON, with the following attributes:\n",
    "\n",
    "- `reviewerID` - ID of the reviewer, e.g. A2SUAM1J3GNN3B\n",
    "- `asin` - ID of the product, e.g. 0000013714\n",
    "- `reviewerName` - name of the reviewer\n",
    "- `vote` - helpful votes of the review\n",
    "- `style` - a disctionary of the product metadata, e.g., \"Format\" is \"Hardcover\"\n",
    "- `reviewText` - text of the review\n",
    "- `overall` - rating of the product\n",
    "- `summary` - summary of the review\n",
    "- `verified`- whether the review has been verified (boolean)\n",
    "- `unixReviewTime` - time of the review (unix time)\n",
    "- `reviewTime` - time of the review (raw)\n",
    "- `image` - images that users post after they have received the product\n",
    "\n",
    "Metadata includes descriptions, price, sales-rank, brand info, and co-purchasing links:\n",
    "\n",
    "- `asin` - ID of the product, e.g. 0000031852\n",
    "- `title` - name of the product\n",
    "- `feature` - bullet-point format features of the product\n",
    "- `description` - description of the product\n",
    "- `price` - price in US dollars (at time of crawl)\n",
    "- `imageURL` - url of the product image\n",
    "- `imageURLHighRes` - url of the high resolution product image\n",
    "- `related` - related products (also bought, also viewed, bought together, buy after viewing)\n",
    "- `salesRank` - sales rank information\n",
    "- `brand` - brand name\n",
    "- `categories` - list of categories the product belongs to\n",
    "- `tech1` - the first technical detail table of the product\n",
    "- `tech2` - the second technical detail table of the product\n",
    "- `similar_item` - similar product table\n",
    "- $\\dots$"
   ]
  },
  {
   "cell_type": "code",
   "execution_count": 4,
   "id": "1602a572",
   "metadata": {},
   "outputs": [],
   "source": [
    "def inspect_df(df: pd.DataFrame, n: int = 5) -> pd.DataFrame:\n",
    "    \"\"\"Helper method to easily inspect DataFrames.\"\"\"\n",
    "\n",
    "    print(f\"shape: {df.shape}\")\n",
    "\n",
    "    return df.head(n)"
   ]
  },
  {
   "cell_type": "code",
   "execution_count": 5,
   "id": "21972f29",
   "metadata": {},
   "outputs": [],
   "source": [
    "def parse(filepath: str) -> Iterator[dict]:\n",
    "    file_obj = gzip.open(filepath, \"rb\")\n",
    "    for line in file_obj:\n",
    "        yield json.loads(line)"
   ]
  },
  {
   "cell_type": "code",
   "execution_count": 6,
   "id": "84a53691",
   "metadata": {},
   "outputs": [],
   "source": [
    "def file_to_dataframe(filepath: str) -> pd.DataFrame:\n",
    "    i = 0\n",
    "    df = {}\n",
    "    for d in parse(filepath):\n",
    "        df[i] = d\n",
    "        i += 1\n",
    "    return pd.DataFrame.from_dict(df, orient=\"index\")"
   ]
  },
  {
   "cell_type": "code",
   "execution_count": 7,
   "id": "f3ce10de",
   "metadata": {
    "scrolled": true
   },
   "outputs": [
    {
     "name": "stdout",
     "output_type": "stream",
     "text": [
      "shape: (169781, 12)\n"
     ]
    },
    {
     "data": {
      "text/html": [
       "<div>\n",
       "<style scoped>\n",
       "    .dataframe tbody tr th:only-of-type {\n",
       "        vertical-align: middle;\n",
       "    }\n",
       "\n",
       "    .dataframe tbody tr th {\n",
       "        vertical-align: top;\n",
       "    }\n",
       "\n",
       "    .dataframe thead th {\n",
       "        text-align: right;\n",
       "    }\n",
       "</style>\n",
       "<table border=\"1\" class=\"dataframe\">\n",
       "  <thead>\n",
       "    <tr style=\"text-align: right;\">\n",
       "      <th></th>\n",
       "      <th>overall</th>\n",
       "      <th>vote</th>\n",
       "      <th>verified</th>\n",
       "      <th>reviewTime</th>\n",
       "      <th>reviewerID</th>\n",
       "      <th>asin</th>\n",
       "      <th>style</th>\n",
       "      <th>reviewerName</th>\n",
       "      <th>reviewText</th>\n",
       "      <th>summary</th>\n",
       "      <th>unixReviewTime</th>\n",
       "      <th>image</th>\n",
       "    </tr>\n",
       "  </thead>\n",
       "  <tbody>\n",
       "    <tr>\n",
       "      <th>0</th>\n",
       "      <td>5.0</td>\n",
       "      <td>3</td>\n",
       "      <td>True</td>\n",
       "      <td>06 3, 2013</td>\n",
       "      <td>A2TYZ821XXK2YZ</td>\n",
       "      <td>3426958910</td>\n",
       "      <td>{'Format:': ' Audio CD'}</td>\n",
       "      <td>Garrett</td>\n",
       "      <td>This is awesome to listen to, A must-have for ...</td>\n",
       "      <td>Slayer Rules!</td>\n",
       "      <td>1370217600</td>\n",
       "      <td>NaN</td>\n",
       "    </tr>\n",
       "    <tr>\n",
       "      <th>1</th>\n",
       "      <td>5.0</td>\n",
       "      <td>NaN</td>\n",
       "      <td>True</td>\n",
       "      <td>10 11, 2014</td>\n",
       "      <td>A3OFSREZADFUDY</td>\n",
       "      <td>3426958910</td>\n",
       "      <td>{'Format:': ' Audio CD'}</td>\n",
       "      <td>Ad</td>\n",
       "      <td>bien</td>\n",
       "      <td>Five Stars</td>\n",
       "      <td>1412985600</td>\n",
       "      <td>NaN</td>\n",
       "    </tr>\n",
       "    <tr>\n",
       "      <th>2</th>\n",
       "      <td>5.0</td>\n",
       "      <td>NaN</td>\n",
       "      <td>True</td>\n",
       "      <td>02 11, 2014</td>\n",
       "      <td>A2VAMODP8M77NG</td>\n",
       "      <td>3426958910</td>\n",
       "      <td>{'Format:': ' Audio CD'}</td>\n",
       "      <td>JTGabq</td>\n",
       "      <td>It was great to hear the old stuff again and I...</td>\n",
       "      <td>SLAYER!!!!!!!!!!!!!!!!!!!!!</td>\n",
       "      <td>1392076800</td>\n",
       "      <td>NaN</td>\n",
       "    </tr>\n",
       "    <tr>\n",
       "      <th>3</th>\n",
       "      <td>4.0</td>\n",
       "      <td>3</td>\n",
       "      <td>False</td>\n",
       "      <td>12 7, 2013</td>\n",
       "      <td>AAKSLZ9IDTEH0</td>\n",
       "      <td>3426958910</td>\n",
       "      <td>{'Format:': ' Audio CD'}</td>\n",
       "      <td>john F&amp;#039;n doe</td>\n",
       "      <td>well best of's are a bit poison normally but t...</td>\n",
       "      <td>slayer greatest hits! you mean everything righ...</td>\n",
       "      <td>1386374400</td>\n",
       "      <td>NaN</td>\n",
       "    </tr>\n",
       "    <tr>\n",
       "      <th>4</th>\n",
       "      <td>5.0</td>\n",
       "      <td>NaN</td>\n",
       "      <td>True</td>\n",
       "      <td>06 12, 2016</td>\n",
       "      <td>A3OH43OZJLKI09</td>\n",
       "      <td>5557706259</td>\n",
       "      <td>{'Format:': ' Audio CD'}</td>\n",
       "      <td>melinda a goodman</td>\n",
       "      <td>What can I say? This is Casting Crowns!!!This ...</td>\n",
       "      <td>This is a good, blessing filled</td>\n",
       "      <td>1465689600</td>\n",
       "      <td>NaN</td>\n",
       "    </tr>\n",
       "  </tbody>\n",
       "</table>\n",
       "</div>"
      ],
      "text/plain": [
       "   overall vote  verified   reviewTime      reviewerID        asin  \\\n",
       "0      5.0    3      True   06 3, 2013  A2TYZ821XXK2YZ  3426958910   \n",
       "1      5.0  NaN      True  10 11, 2014  A3OFSREZADFUDY  3426958910   \n",
       "2      5.0  NaN      True  02 11, 2014  A2VAMODP8M77NG  3426958910   \n",
       "3      4.0    3     False   12 7, 2013   AAKSLZ9IDTEH0  3426958910   \n",
       "4      5.0  NaN      True  06 12, 2016  A3OH43OZJLKI09  5557706259   \n",
       "\n",
       "                      style       reviewerName  \\\n",
       "0  {'Format:': ' Audio CD'}            Garrett   \n",
       "1  {'Format:': ' Audio CD'}                 Ad   \n",
       "2  {'Format:': ' Audio CD'}             JTGabq   \n",
       "3  {'Format:': ' Audio CD'}  john F&#039;n doe   \n",
       "4  {'Format:': ' Audio CD'}  melinda a goodman   \n",
       "\n",
       "                                          reviewText  \\\n",
       "0  This is awesome to listen to, A must-have for ...   \n",
       "1                                               bien   \n",
       "2  It was great to hear the old stuff again and I...   \n",
       "3  well best of's are a bit poison normally but t...   \n",
       "4  What can I say? This is Casting Crowns!!!This ...   \n",
       "\n",
       "                                             summary  unixReviewTime image  \n",
       "0                                      Slayer Rules!      1370217600   NaN  \n",
       "1                                         Five Stars      1412985600   NaN  \n",
       "2                        SLAYER!!!!!!!!!!!!!!!!!!!!!      1392076800   NaN  \n",
       "3  slayer greatest hits! you mean everything righ...      1386374400   NaN  \n",
       "4                    This is a good, blessing filled      1465689600   NaN  "
      ]
     },
     "execution_count": 7,
     "metadata": {},
     "output_type": "execute_result"
    }
   ],
   "source": [
    "review_data = file_to_dataframe(\"data/Digital_Music_5.json.gz\")\n",
    "\n",
    "inspect_df(review_data)"
   ]
  },
  {
   "cell_type": "code",
   "execution_count": 8,
   "id": "0358eeb3",
   "metadata": {},
   "outputs": [
    {
     "data": {
      "text/plain": [
       "['overall',\n",
       " 'vote',\n",
       " 'verified',\n",
       " 'reviewTime',\n",
       " 'reviewerID',\n",
       " 'asin',\n",
       " 'style',\n",
       " 'reviewerName',\n",
       " 'reviewText',\n",
       " 'summary',\n",
       " 'unixReviewTime',\n",
       " 'image']"
      ]
     },
     "execution_count": 8,
     "metadata": {},
     "output_type": "execute_result"
    }
   ],
   "source": [
    "list(review_data.columns)"
   ]
  },
  {
   "cell_type": "code",
   "execution_count": 9,
   "id": "fcf04ba5",
   "metadata": {},
   "outputs": [
    {
     "data": {
      "text/plain": [
       "overall                                                         5.0\n",
       "vote                                                            NaN\n",
       "verified                                                       True\n",
       "reviewTime                                              02 11, 2014\n",
       "reviewerID                                           A2VAMODP8M77NG\n",
       "asin                                                     3426958910\n",
       "style                                      {'Format:': ' Audio CD'}\n",
       "reviewerName                                                 JTGabq\n",
       "reviewText        It was great to hear the old stuff again and I...\n",
       "summary                                 SLAYER!!!!!!!!!!!!!!!!!!!!!\n",
       "unixReviewTime                                           1392076800\n",
       "image                                                           NaN\n",
       "Name: 2, dtype: object"
      ]
     },
     "execution_count": 9,
     "metadata": {},
     "output_type": "execute_result"
    }
   ],
   "source": [
    "review_data.loc[2]"
   ]
  },
  {
   "cell_type": "code",
   "execution_count": 10,
   "id": "e3b037fc",
   "metadata": {
    "scrolled": true
   },
   "outputs": [
    {
     "name": "stdout",
     "output_type": "stream",
     "text": [
      "shape: (74347, 19)\n"
     ]
    },
    {
     "data": {
      "text/html": [
       "<div>\n",
       "<style scoped>\n",
       "    .dataframe tbody tr th:only-of-type {\n",
       "        vertical-align: middle;\n",
       "    }\n",
       "\n",
       "    .dataframe tbody tr th {\n",
       "        vertical-align: top;\n",
       "    }\n",
       "\n",
       "    .dataframe thead th {\n",
       "        text-align: right;\n",
       "    }\n",
       "</style>\n",
       "<table border=\"1\" class=\"dataframe\">\n",
       "  <thead>\n",
       "    <tr style=\"text-align: right;\">\n",
       "      <th></th>\n",
       "      <th>category</th>\n",
       "      <th>tech1</th>\n",
       "      <th>description</th>\n",
       "      <th>fit</th>\n",
       "      <th>title</th>\n",
       "      <th>also_buy</th>\n",
       "      <th>tech2</th>\n",
       "      <th>brand</th>\n",
       "      <th>feature</th>\n",
       "      <th>rank</th>\n",
       "      <th>also_view</th>\n",
       "      <th>main_cat</th>\n",
       "      <th>similar_item</th>\n",
       "      <th>date</th>\n",
       "      <th>price</th>\n",
       "      <th>asin</th>\n",
       "      <th>imageURL</th>\n",
       "      <th>imageURLHighRes</th>\n",
       "      <th>details</th>\n",
       "    </tr>\n",
       "  </thead>\n",
       "  <tbody>\n",
       "    <tr>\n",
       "      <th>0</th>\n",
       "      <td>[]</td>\n",
       "      <td></td>\n",
       "      <td>[]</td>\n",
       "      <td></td>\n",
       "      <td>Master Collection Volume One</td>\n",
       "      <td>[B000002UEN, B000008LD5, B01J804JKE, 747403435...</td>\n",
       "      <td></td>\n",
       "      <td>John Michael Talbot</td>\n",
       "      <td>[]</td>\n",
       "      <td>58,291 in CDs &amp; Vinyl (</td>\n",
       "      <td>[B000002UEN, B000008LD5, 7474034352, B000008LD...</td>\n",
       "      <td>&lt;img src=\"https://images-na.ssl-images-amazon....</td>\n",
       "      <td></td>\n",
       "      <td></td>\n",
       "      <td>$18.99</td>\n",
       "      <td>0001377647</td>\n",
       "      <td>[]</td>\n",
       "      <td>[]</td>\n",
       "      <td>NaN</td>\n",
       "    </tr>\n",
       "    <tr>\n",
       "      <th>1</th>\n",
       "      <td>[]</td>\n",
       "      <td></td>\n",
       "      <td>[]</td>\n",
       "      <td></td>\n",
       "      <td>Hymns Collection: Hymns 1 &amp;amp; 2</td>\n",
       "      <td>[5558154950, B00014K5V4]</td>\n",
       "      <td></td>\n",
       "      <td>Second Chapter of Acts</td>\n",
       "      <td>[]</td>\n",
       "      <td>93,164 in CDs &amp; Vinyl (</td>\n",
       "      <td>[B000008KJ3, B000008KJ0, 5558154950, B000UN8KZ...</td>\n",
       "      <td>&lt;img src=\"https://images-na.ssl-images-amazon....</td>\n",
       "      <td></td>\n",
       "      <td></td>\n",
       "      <td></td>\n",
       "      <td>0001529145</td>\n",
       "      <td>[]</td>\n",
       "      <td>[]</td>\n",
       "      <td>NaN</td>\n",
       "    </tr>\n",
       "    <tr>\n",
       "      <th>2</th>\n",
       "      <td>[]</td>\n",
       "      <td></td>\n",
       "      <td>[]</td>\n",
       "      <td></td>\n",
       "      <td>Early Works - Don Francisco</td>\n",
       "      <td>[B00004RC05, B003H8F4NA, B003ZFVHPO, B003JMP1Z...</td>\n",
       "      <td></td>\n",
       "      <td>Don Francisco</td>\n",
       "      <td>[]</td>\n",
       "      <td>875,825 in CDs &amp; Vinyl (</td>\n",
       "      <td>[B003H8F4NA, B003ZFVHPO, B003JMP1ZK, B00004RC0...</td>\n",
       "      <td>&lt;img src=\"https://images-na.ssl-images-amazon....</td>\n",
       "      <td></td>\n",
       "      <td></td>\n",
       "      <td></td>\n",
       "      <td>0001527134</td>\n",
       "      <td>[]</td>\n",
       "      <td>[]</td>\n",
       "      <td>NaN</td>\n",
       "    </tr>\n",
       "    <tr>\n",
       "      <th>3</th>\n",
       "      <td>[]</td>\n",
       "      <td></td>\n",
       "      <td>[]</td>\n",
       "      <td></td>\n",
       "      <td>So You Wanna Go Back to Egypt</td>\n",
       "      <td>[B0000275QQ, 0001393774, 0001388312, B0016CP2G...</td>\n",
       "      <td></td>\n",
       "      <td>Keith Green</td>\n",
       "      <td>[]</td>\n",
       "      <td>203,263 in CDs &amp; Vinyl (</td>\n",
       "      <td>[B00000I7JO, B0016CP2GS, 0001393774, B0000275Q...</td>\n",
       "      <td>&lt;img src=\"https://images-na.ssl-images-amazon....</td>\n",
       "      <td></td>\n",
       "      <td></td>\n",
       "      <td>$13.01</td>\n",
       "      <td>0001388703</td>\n",
       "      <td>[]</td>\n",
       "      <td>[]</td>\n",
       "      <td>NaN</td>\n",
       "    </tr>\n",
       "    <tr>\n",
       "      <th>4</th>\n",
       "      <td>[]</td>\n",
       "      <td></td>\n",
       "      <td>[1. Losing Game 2. I Can't Wait 3. Didn't He S...</td>\n",
       "      <td></td>\n",
       "      <td>Early Works - Dallas Holm</td>\n",
       "      <td>[B0002N4JP2, 0760131694, B00002EQ79, B00150K8J...</td>\n",
       "      <td></td>\n",
       "      <td>Dallas Holm</td>\n",
       "      <td>[]</td>\n",
       "      <td>399,269 in CDs &amp; Vinyl (</td>\n",
       "      <td>[B0002N4JP2, 0760131694, B00150K8JC, B003MTXNV...</td>\n",
       "      <td>&lt;img src=\"https://images-na.ssl-images-amazon....</td>\n",
       "      <td></td>\n",
       "      <td></td>\n",
       "      <td></td>\n",
       "      <td>0001526146</td>\n",
       "      <td>[]</td>\n",
       "      <td>[]</td>\n",
       "      <td>NaN</td>\n",
       "    </tr>\n",
       "  </tbody>\n",
       "</table>\n",
       "</div>"
      ],
      "text/plain": [
       "  category tech1                                        description fit  \\\n",
       "0       []                                                       []       \n",
       "1       []                                                       []       \n",
       "2       []                                                       []       \n",
       "3       []                                                       []       \n",
       "4       []        [1. Losing Game 2. I Can't Wait 3. Didn't He S...       \n",
       "\n",
       "                               title  \\\n",
       "0       Master Collection Volume One   \n",
       "1  Hymns Collection: Hymns 1 &amp; 2   \n",
       "2        Early Works - Don Francisco   \n",
       "3      So You Wanna Go Back to Egypt   \n",
       "4          Early Works - Dallas Holm   \n",
       "\n",
       "                                            also_buy tech2  \\\n",
       "0  [B000002UEN, B000008LD5, B01J804JKE, 747403435...         \n",
       "1                           [5558154950, B00014K5V4]         \n",
       "2  [B00004RC05, B003H8F4NA, B003ZFVHPO, B003JMP1Z...         \n",
       "3  [B0000275QQ, 0001393774, 0001388312, B0016CP2G...         \n",
       "4  [B0002N4JP2, 0760131694, B00002EQ79, B00150K8J...         \n",
       "\n",
       "                    brand feature                      rank  \\\n",
       "0     John Michael Talbot      []   58,291 in CDs & Vinyl (   \n",
       "1  Second Chapter of Acts      []   93,164 in CDs & Vinyl (   \n",
       "2           Don Francisco      []  875,825 in CDs & Vinyl (   \n",
       "3             Keith Green      []  203,263 in CDs & Vinyl (   \n",
       "4             Dallas Holm      []  399,269 in CDs & Vinyl (   \n",
       "\n",
       "                                           also_view  \\\n",
       "0  [B000002UEN, B000008LD5, 7474034352, B000008LD...   \n",
       "1  [B000008KJ3, B000008KJ0, 5558154950, B000UN8KZ...   \n",
       "2  [B003H8F4NA, B003ZFVHPO, B003JMP1ZK, B00004RC0...   \n",
       "3  [B00000I7JO, B0016CP2GS, 0001393774, B0000275Q...   \n",
       "4  [B0002N4JP2, 0760131694, B00150K8JC, B003MTXNV...   \n",
       "\n",
       "                                            main_cat similar_item date  \\\n",
       "0  <img src=\"https://images-na.ssl-images-amazon....                     \n",
       "1  <img src=\"https://images-na.ssl-images-amazon....                     \n",
       "2  <img src=\"https://images-na.ssl-images-amazon....                     \n",
       "3  <img src=\"https://images-na.ssl-images-amazon....                     \n",
       "4  <img src=\"https://images-na.ssl-images-amazon....                     \n",
       "\n",
       "    price        asin imageURL imageURLHighRes details  \n",
       "0  $18.99  0001377647       []              []     NaN  \n",
       "1          0001529145       []              []     NaN  \n",
       "2          0001527134       []              []     NaN  \n",
       "3  $13.01  0001388703       []              []     NaN  \n",
       "4          0001526146       []              []     NaN  "
      ]
     },
     "execution_count": 10,
     "metadata": {},
     "output_type": "execute_result"
    }
   ],
   "source": [
    "metadata = file_to_dataframe(\"data/meta_Digital_Music.json.gz\")\n",
    "\n",
    "inspect_df(metadata)"
   ]
  },
  {
   "cell_type": "code",
   "execution_count": 11,
   "id": "370e631d",
   "metadata": {},
   "outputs": [
    {
     "data": {
      "text/plain": [
       "['category',\n",
       " 'tech1',\n",
       " 'description',\n",
       " 'fit',\n",
       " 'title',\n",
       " 'also_buy',\n",
       " 'tech2',\n",
       " 'brand',\n",
       " 'feature',\n",
       " 'rank',\n",
       " 'also_view',\n",
       " 'main_cat',\n",
       " 'similar_item',\n",
       " 'date',\n",
       " 'price',\n",
       " 'asin',\n",
       " 'imageURL',\n",
       " 'imageURLHighRes',\n",
       " 'details']"
      ]
     },
     "execution_count": 11,
     "metadata": {},
     "output_type": "execute_result"
    }
   ],
   "source": [
    "list(metadata.columns)"
   ]
  },
  {
   "cell_type": "code",
   "execution_count": 12,
   "id": "4eec3c84",
   "metadata": {
    "scrolled": true
   },
   "outputs": [
    {
     "data": {
      "text/html": [
       "<div>\n",
       "<style scoped>\n",
       "    .dataframe tbody tr th:only-of-type {\n",
       "        vertical-align: middle;\n",
       "    }\n",
       "\n",
       "    .dataframe tbody tr th {\n",
       "        vertical-align: top;\n",
       "    }\n",
       "\n",
       "    .dataframe thead th {\n",
       "        text-align: right;\n",
       "    }\n",
       "</style>\n",
       "<table border=\"1\" class=\"dataframe\">\n",
       "  <thead>\n",
       "    <tr style=\"text-align: right;\">\n",
       "      <th></th>\n",
       "      <th>category</th>\n",
       "      <th>tech1</th>\n",
       "      <th>description</th>\n",
       "      <th>fit</th>\n",
       "      <th>title</th>\n",
       "      <th>also_buy</th>\n",
       "      <th>tech2</th>\n",
       "      <th>brand</th>\n",
       "      <th>feature</th>\n",
       "      <th>rank</th>\n",
       "      <th>also_view</th>\n",
       "      <th>main_cat</th>\n",
       "      <th>similar_item</th>\n",
       "      <th>date</th>\n",
       "      <th>price</th>\n",
       "      <th>asin</th>\n",
       "      <th>imageURL</th>\n",
       "      <th>imageURLHighRes</th>\n",
       "      <th>details</th>\n",
       "    </tr>\n",
       "  </thead>\n",
       "  <tbody>\n",
       "    <tr>\n",
       "      <th>343</th>\n",
       "      <td>[]</td>\n",
       "      <td></td>\n",
       "      <td>[]</td>\n",
       "      <td></td>\n",
       "      <td>Slayer - Greatest Hits 2 CD Set</td>\n",
       "      <td>[]</td>\n",
       "      <td></td>\n",
       "      <td>Slayer</td>\n",
       "      <td>[]</td>\n",
       "      <td>231,252 in CDs &amp;amp; Vinyl (</td>\n",
       "      <td>[B00EBJ62GC, B00BV0W7ZE, B000062YAY, B00EBWHW5...</td>\n",
       "      <td>&lt;img src=\"https://images-na.ssl-images-amazon....</td>\n",
       "      <td></td>\n",
       "      <td></td>\n",
       "      <td></td>\n",
       "      <td>3426958910</td>\n",
       "      <td>[https://images-na.ssl-images-amazon.com/image...</td>\n",
       "      <td>[https://images-na.ssl-images-amazon.com/image...</td>\n",
       "      <td>NaN</td>\n",
       "    </tr>\n",
       "  </tbody>\n",
       "</table>\n",
       "</div>"
      ],
      "text/plain": [
       "    category tech1 description fit                            title also_buy  \\\n",
       "343       []                []      Slayer - Greatest Hits 2 CD Set       []   \n",
       "\n",
       "    tech2   brand feature                          rank  \\\n",
       "343        Slayer      []  231,252 in CDs &amp; Vinyl (   \n",
       "\n",
       "                                             also_view  \\\n",
       "343  [B00EBJ62GC, B00BV0W7ZE, B000062YAY, B00EBWHW5...   \n",
       "\n",
       "                                              main_cat similar_item date  \\\n",
       "343  <img src=\"https://images-na.ssl-images-amazon....                     \n",
       "\n",
       "    price        asin                                           imageURL  \\\n",
       "343        3426958910  [https://images-na.ssl-images-amazon.com/image...   \n",
       "\n",
       "                                       imageURLHighRes details  \n",
       "343  [https://images-na.ssl-images-amazon.com/image...     NaN  "
      ]
     },
     "execution_count": 12,
     "metadata": {},
     "output_type": "execute_result"
    }
   ],
   "source": [
    "metadata[metadata[\"asin\"] == review_data.loc[2][\"asin\"]]"
   ]
  },
  {
   "cell_type": "code",
   "execution_count": 13,
   "id": "05ae1a34",
   "metadata": {
    "scrolled": true
   },
   "outputs": [
    {
     "name": "stdout",
     "output_type": "stream",
     "text": [
      "shape: (2431, 30)\n"
     ]
    },
    {
     "data": {
      "text/html": [
       "<div>\n",
       "<style scoped>\n",
       "    .dataframe tbody tr th:only-of-type {\n",
       "        vertical-align: middle;\n",
       "    }\n",
       "\n",
       "    .dataframe tbody tr th {\n",
       "        vertical-align: top;\n",
       "    }\n",
       "\n",
       "    .dataframe thead th {\n",
       "        text-align: right;\n",
       "    }\n",
       "</style>\n",
       "<table border=\"1\" class=\"dataframe\">\n",
       "  <thead>\n",
       "    <tr style=\"text-align: right;\">\n",
       "      <th></th>\n",
       "      <th>overall</th>\n",
       "      <th>vote</th>\n",
       "      <th>verified</th>\n",
       "      <th>reviewTime</th>\n",
       "      <th>reviewerID</th>\n",
       "      <th>asin</th>\n",
       "      <th>style</th>\n",
       "      <th>reviewerName</th>\n",
       "      <th>reviewText</th>\n",
       "      <th>summary</th>\n",
       "      <th>...</th>\n",
       "      <th>feature</th>\n",
       "      <th>rank</th>\n",
       "      <th>also_view</th>\n",
       "      <th>main_cat</th>\n",
       "      <th>similar_item</th>\n",
       "      <th>date</th>\n",
       "      <th>price</th>\n",
       "      <th>imageURL</th>\n",
       "      <th>imageURLHighRes</th>\n",
       "      <th>details</th>\n",
       "    </tr>\n",
       "  </thead>\n",
       "  <tbody>\n",
       "    <tr>\n",
       "      <th>0</th>\n",
       "      <td>5.0</td>\n",
       "      <td>3</td>\n",
       "      <td>True</td>\n",
       "      <td>06 3, 2013</td>\n",
       "      <td>A2TYZ821XXK2YZ</td>\n",
       "      <td>3426958910</td>\n",
       "      <td>{'Format:': ' Audio CD'}</td>\n",
       "      <td>Garrett</td>\n",
       "      <td>This is awesome to listen to, A must-have for ...</td>\n",
       "      <td>Slayer Rules!</td>\n",
       "      <td>...</td>\n",
       "      <td>[]</td>\n",
       "      <td>231,252 in CDs &amp;amp; Vinyl (</td>\n",
       "      <td>[B00EBJ62GC, B00BV0W7ZE, B000062YAY, B00EBWHW5...</td>\n",
       "      <td>&lt;img src=\"https://images-na.ssl-images-amazon....</td>\n",
       "      <td></td>\n",
       "      <td></td>\n",
       "      <td></td>\n",
       "      <td>[https://images-na.ssl-images-amazon.com/image...</td>\n",
       "      <td>[https://images-na.ssl-images-amazon.com/image...</td>\n",
       "      <td>NaN</td>\n",
       "    </tr>\n",
       "    <tr>\n",
       "      <th>1</th>\n",
       "      <td>5.0</td>\n",
       "      <td>NaN</td>\n",
       "      <td>True</td>\n",
       "      <td>10 11, 2014</td>\n",
       "      <td>A3OFSREZADFUDY</td>\n",
       "      <td>3426958910</td>\n",
       "      <td>{'Format:': ' Audio CD'}</td>\n",
       "      <td>Ad</td>\n",
       "      <td>bien</td>\n",
       "      <td>Five Stars</td>\n",
       "      <td>...</td>\n",
       "      <td>[]</td>\n",
       "      <td>231,252 in CDs &amp;amp; Vinyl (</td>\n",
       "      <td>[B00EBJ62GC, B00BV0W7ZE, B000062YAY, B00EBWHW5...</td>\n",
       "      <td>&lt;img src=\"https://images-na.ssl-images-amazon....</td>\n",
       "      <td></td>\n",
       "      <td></td>\n",
       "      <td></td>\n",
       "      <td>[https://images-na.ssl-images-amazon.com/image...</td>\n",
       "      <td>[https://images-na.ssl-images-amazon.com/image...</td>\n",
       "      <td>NaN</td>\n",
       "    </tr>\n",
       "    <tr>\n",
       "      <th>2</th>\n",
       "      <td>5.0</td>\n",
       "      <td>NaN</td>\n",
       "      <td>True</td>\n",
       "      <td>02 11, 2014</td>\n",
       "      <td>A2VAMODP8M77NG</td>\n",
       "      <td>3426958910</td>\n",
       "      <td>{'Format:': ' Audio CD'}</td>\n",
       "      <td>JTGabq</td>\n",
       "      <td>It was great to hear the old stuff again and I...</td>\n",
       "      <td>SLAYER!!!!!!!!!!!!!!!!!!!!!</td>\n",
       "      <td>...</td>\n",
       "      <td>[]</td>\n",
       "      <td>231,252 in CDs &amp;amp; Vinyl (</td>\n",
       "      <td>[B00EBJ62GC, B00BV0W7ZE, B000062YAY, B00EBWHW5...</td>\n",
       "      <td>&lt;img src=\"https://images-na.ssl-images-amazon....</td>\n",
       "      <td></td>\n",
       "      <td></td>\n",
       "      <td></td>\n",
       "      <td>[https://images-na.ssl-images-amazon.com/image...</td>\n",
       "      <td>[https://images-na.ssl-images-amazon.com/image...</td>\n",
       "      <td>NaN</td>\n",
       "    </tr>\n",
       "    <tr>\n",
       "      <th>3</th>\n",
       "      <td>4.0</td>\n",
       "      <td>3</td>\n",
       "      <td>False</td>\n",
       "      <td>12 7, 2013</td>\n",
       "      <td>AAKSLZ9IDTEH0</td>\n",
       "      <td>3426958910</td>\n",
       "      <td>{'Format:': ' Audio CD'}</td>\n",
       "      <td>john F&amp;#039;n doe</td>\n",
       "      <td>well best of's are a bit poison normally but t...</td>\n",
       "      <td>slayer greatest hits! you mean everything righ...</td>\n",
       "      <td>...</td>\n",
       "      <td>[]</td>\n",
       "      <td>231,252 in CDs &amp;amp; Vinyl (</td>\n",
       "      <td>[B00EBJ62GC, B00BV0W7ZE, B000062YAY, B00EBWHW5...</td>\n",
       "      <td>&lt;img src=\"https://images-na.ssl-images-amazon....</td>\n",
       "      <td></td>\n",
       "      <td></td>\n",
       "      <td></td>\n",
       "      <td>[https://images-na.ssl-images-amazon.com/image...</td>\n",
       "      <td>[https://images-na.ssl-images-amazon.com/image...</td>\n",
       "      <td>NaN</td>\n",
       "    </tr>\n",
       "    <tr>\n",
       "      <th>4</th>\n",
       "      <td>5.0</td>\n",
       "      <td>NaN</td>\n",
       "      <td>True</td>\n",
       "      <td>01 7, 2015</td>\n",
       "      <td>A3HUD6U7RWX8E8</td>\n",
       "      <td>3426958910</td>\n",
       "      <td>{'Format:': ' Audio CD'}</td>\n",
       "      <td>Kevin Ross</td>\n",
       "      <td>Excellent.</td>\n",
       "      <td>Five Stars</td>\n",
       "      <td>...</td>\n",
       "      <td>[]</td>\n",
       "      <td>231,252 in CDs &amp;amp; Vinyl (</td>\n",
       "      <td>[B00EBJ62GC, B00BV0W7ZE, B000062YAY, B00EBWHW5...</td>\n",
       "      <td>&lt;img src=\"https://images-na.ssl-images-amazon....</td>\n",
       "      <td></td>\n",
       "      <td></td>\n",
       "      <td></td>\n",
       "      <td>[https://images-na.ssl-images-amazon.com/image...</td>\n",
       "      <td>[https://images-na.ssl-images-amazon.com/image...</td>\n",
       "      <td>NaN</td>\n",
       "    </tr>\n",
       "  </tbody>\n",
       "</table>\n",
       "<p>5 rows × 30 columns</p>\n",
       "</div>"
      ],
      "text/plain": [
       "   overall vote  verified   reviewTime      reviewerID        asin  \\\n",
       "0      5.0    3      True   06 3, 2013  A2TYZ821XXK2YZ  3426958910   \n",
       "1      5.0  NaN      True  10 11, 2014  A3OFSREZADFUDY  3426958910   \n",
       "2      5.0  NaN      True  02 11, 2014  A2VAMODP8M77NG  3426958910   \n",
       "3      4.0    3     False   12 7, 2013   AAKSLZ9IDTEH0  3426958910   \n",
       "4      5.0  NaN      True   01 7, 2015  A3HUD6U7RWX8E8  3426958910   \n",
       "\n",
       "                      style       reviewerName  \\\n",
       "0  {'Format:': ' Audio CD'}            Garrett   \n",
       "1  {'Format:': ' Audio CD'}                 Ad   \n",
       "2  {'Format:': ' Audio CD'}             JTGabq   \n",
       "3  {'Format:': ' Audio CD'}  john F&#039;n doe   \n",
       "4  {'Format:': ' Audio CD'}         Kevin Ross   \n",
       "\n",
       "                                          reviewText  \\\n",
       "0  This is awesome to listen to, A must-have for ...   \n",
       "1                                               bien   \n",
       "2  It was great to hear the old stuff again and I...   \n",
       "3  well best of's are a bit poison normally but t...   \n",
       "4                                         Excellent.   \n",
       "\n",
       "                                             summary  ...  feature  \\\n",
       "0                                      Slayer Rules!  ...       []   \n",
       "1                                         Five Stars  ...       []   \n",
       "2                        SLAYER!!!!!!!!!!!!!!!!!!!!!  ...       []   \n",
       "3  slayer greatest hits! you mean everything righ...  ...       []   \n",
       "4                                         Five Stars  ...       []   \n",
       "\n",
       "                           rank  \\\n",
       "0  231,252 in CDs &amp; Vinyl (   \n",
       "1  231,252 in CDs &amp; Vinyl (   \n",
       "2  231,252 in CDs &amp; Vinyl (   \n",
       "3  231,252 in CDs &amp; Vinyl (   \n",
       "4  231,252 in CDs &amp; Vinyl (   \n",
       "\n",
       "                                           also_view  \\\n",
       "0  [B00EBJ62GC, B00BV0W7ZE, B000062YAY, B00EBWHW5...   \n",
       "1  [B00EBJ62GC, B00BV0W7ZE, B000062YAY, B00EBWHW5...   \n",
       "2  [B00EBJ62GC, B00BV0W7ZE, B000062YAY, B00EBWHW5...   \n",
       "3  [B00EBJ62GC, B00BV0W7ZE, B000062YAY, B00EBWHW5...   \n",
       "4  [B00EBJ62GC, B00BV0W7ZE, B000062YAY, B00EBWHW5...   \n",
       "\n",
       "                                            main_cat similar_item date price  \\\n",
       "0  <img src=\"https://images-na.ssl-images-amazon....                           \n",
       "1  <img src=\"https://images-na.ssl-images-amazon....                           \n",
       "2  <img src=\"https://images-na.ssl-images-amazon....                           \n",
       "3  <img src=\"https://images-na.ssl-images-amazon....                           \n",
       "4  <img src=\"https://images-na.ssl-images-amazon....                           \n",
       "\n",
       "                                            imageURL  \\\n",
       "0  [https://images-na.ssl-images-amazon.com/image...   \n",
       "1  [https://images-na.ssl-images-amazon.com/image...   \n",
       "2  [https://images-na.ssl-images-amazon.com/image...   \n",
       "3  [https://images-na.ssl-images-amazon.com/image...   \n",
       "4  [https://images-na.ssl-images-amazon.com/image...   \n",
       "\n",
       "                                     imageURLHighRes details  \n",
       "0  [https://images-na.ssl-images-amazon.com/image...     NaN  \n",
       "1  [https://images-na.ssl-images-amazon.com/image...     NaN  \n",
       "2  [https://images-na.ssl-images-amazon.com/image...     NaN  \n",
       "3  [https://images-na.ssl-images-amazon.com/image...     NaN  \n",
       "4  [https://images-na.ssl-images-amazon.com/image...     NaN  \n",
       "\n",
       "[5 rows x 30 columns]"
      ]
     },
     "execution_count": 13,
     "metadata": {},
     "output_type": "execute_result"
    }
   ],
   "source": [
    "# for the content-based RecSys, we need both the review rating & title, description attrs - so an inner join\n",
    "data = pd.merge(review_data, metadata, how=\"inner\", on=\"asin\")\n",
    "\n",
    "inspect_df(data)"
   ]
  },
  {
   "cell_type": "markdown",
   "id": "f1b928d1",
   "metadata": {},
   "source": [
    "## Step A.2"
   ]
  },
  {
   "cell_type": "markdown",
   "id": "cbc621d7",
   "metadata": {},
   "source": [
    "All users (aka reviewers) and items (aka products) have at least 5 reviews.\n",
    "\n",
    "Our objective is to construct “item profiles” for the items, based on information available on their metadata."
   ]
  },
  {
   "cell_type": "code",
   "execution_count": 14,
   "id": "ea113aa7",
   "metadata": {},
   "outputs": [],
   "source": [
    "content = data.copy()"
   ]
  },
  {
   "cell_type": "code",
   "execution_count": 15,
   "id": "f39602d4",
   "metadata": {
    "scrolled": true
   },
   "outputs": [
    {
     "data": {
      "text/plain": [
       "True    2431\n",
       "Name: title, dtype: int64"
      ]
     },
     "execution_count": 15,
     "metadata": {},
     "output_type": "execute_result"
    }
   ],
   "source": [
    "content[\"title\"].map(lambda x: isinstance(x, str)).value_counts()"
   ]
  },
  {
   "cell_type": "code",
   "execution_count": 16,
   "id": "719e7168",
   "metadata": {
    "scrolled": true
   },
   "outputs": [
    {
     "data": {
      "text/plain": [
       "True    2431\n",
       "Name: description, dtype: int64"
      ]
     },
     "execution_count": 16,
     "metadata": {},
     "output_type": "execute_result"
    }
   ],
   "source": [
    "content[\"description\"].map(lambda x: isinstance(x, list)).value_counts()"
   ]
  },
  {
   "cell_type": "code",
   "execution_count": 17,
   "id": "fb38776b",
   "metadata": {},
   "outputs": [
    {
     "data": {
      "text/plain": [
       "0                []\n",
       "1                []\n",
       "2                []\n",
       "3                []\n",
       "4                []\n",
       "           ...     \n",
       "2426    [Brand new]\n",
       "2427    [Brand new]\n",
       "2428    [Brand new]\n",
       "2429    [Brand new]\n",
       "2430    [Brand new]\n",
       "Name: description, Length: 2431, dtype: object"
      ]
     },
     "execution_count": 17,
     "metadata": {},
     "output_type": "execute_result"
    }
   ],
   "source": [
    "content[\"description\"]"
   ]
  },
  {
   "cell_type": "code",
   "execution_count": 18,
   "id": "1bf3d015",
   "metadata": {},
   "outputs": [
    {
     "data": {
      "text/plain": [
       "15                                          [Book by, , ]\n",
       "16                                          [Book by, , ]\n",
       "17                                          [Book by, , ]\n",
       "18                                          [Book by, , ]\n",
       "19                                          [Book by, , ]\n",
       "                              ...                        \n",
       "1489    [2 complete shows, once missing reels filled w...\n",
       "1490    [2 complete shows, once missing reels filled w...\n",
       "1491    [2 complete shows, once missing reels filled w...\n",
       "1492    [2 complete shows, once missing reels filled w...\n",
       "1493    [2 complete shows, once missing reels filled w...\n",
       "Name: description, Length: 202, dtype: object"
      ]
     },
     "execution_count": 18,
     "metadata": {},
     "output_type": "execute_result"
    }
   ],
   "source": [
    "content[content[\"description\"].map(len) > 1][\"description\"]"
   ]
  },
  {
   "cell_type": "code",
   "execution_count": 19,
   "id": "cd248048",
   "metadata": {},
   "outputs": [
    {
     "data": {
      "text/plain": [
       "['2 complete shows, once missing reels filled with never-before-heard material, a previously unheard and quite majestic 1969 \"Dark Star,\" a first-ever version of \"New Speedway Boogie,\" a second-ever version of \"Mason\\'s Children\". The first major return of material to the vault since 2005\\'s Houseboat Tapes, <i>Dave\\'s Picks Volume 6</i> features 2 complete shows with never-before-heard material from 2/2/70 Fox Theater, St. Louis, MO and 12/20/69 Fillmore Auditorium, San Francisco, CA. Long a mystery, the riddle of the 2/2/70 set list has now been solved and the music restored to its proper - and spectacular - sequence. Pigpen fiends, ask and you shall receive. Both shows feature loads of Pigpen including a major 35+ minute \"Lovelight\" from 12/20/69. Recorded by Bear with an excellent mix and sound quality, this very special release feels like a return to the classics.',\n",
       " '<b>Track listing:</b>',\n",
       " '<b>Disc 1:</b>',\n",
       " '<i>Fox Theatre, St. Louis, MO 2/2/70:</i>',\n",
       " '1. Casey Jones',\n",
       " '2. Mama Tried',\n",
       " '3. Hard To Handle',\n",
       " '4. Cold Rain and Snow',\n",
       " '5. Black Peter',\n",
       " '6. Cumberland Blues',\n",
       " '7. Dark Star>',\n",
       " '8. St. Stephen>',\n",
       " \"9. Mason's Children\",\n",
       " \"10. Good Lovin'\",\n",
       " \"11. Uncle John's Band\",\n",
       " '<b>Disc 2:</b>',\n",
       " '1. Turn On Your Lovelight>',\n",
       " '2. Not Fade Away',\n",
       " '3. Turn On Your Lovelight',\n",
       " '4. And We Bid You Goodnight',\n",
       " '<i>Fillmore Auditorium, San Francisco, CA 12/20/69:</i>',\n",
       " '5. Dark Star>',\n",
       " '6. St. Stephen>',\n",
       " '7. The Eleven>',\n",
       " '8. New Speedway Boogie',\n",
       " '<b>Disc 3:</b>',\n",
       " '1. Turn On Your Lovelight',\n",
       " \"2. Mason's Children\",\n",
       " '3. China Cat Sunflower>',\n",
       " '4. I Know You Rider',\n",
       " '5. High Time',\n",
       " '6. Me And My Uncle',\n",
       " '7. Hard To Handle',\n",
       " '8. Cumberland Blues']"
      ]
     },
     "execution_count": 19,
     "metadata": {},
     "output_type": "execute_result"
    }
   ],
   "source": [
    "content.loc[1490][\"description\"]"
   ]
  },
  {
   "cell_type": "code",
   "execution_count": 20,
   "id": "f83d0c92",
   "metadata": {},
   "outputs": [],
   "source": [
    "def concatenate_list_field(field: list) -> str:\n",
    "\n",
    "    if not isinstance(field, list):\n",
    "        return TypeError\n",
    "\n",
    "    return \" \".join(field)"
   ]
  },
  {
   "cell_type": "code",
   "execution_count": 21,
   "id": "87988ec7",
   "metadata": {},
   "outputs": [],
   "source": [
    "content[\"description\"] = content[\"description\"].map(concatenate_list_field)"
   ]
  },
  {
   "cell_type": "code",
   "execution_count": 22,
   "id": "2fcd2696",
   "metadata": {},
   "outputs": [],
   "source": [
    "transformer = FeatureUnion(\n",
    "    [\n",
    "        (\n",
    "            \"title_tfidf\",\n",
    "            Pipeline(\n",
    "                [\n",
    "                    (\n",
    "                        \"extract_field\",\n",
    "                        FunctionTransformer(lambda x: x[\"title\"], validate=False),\n",
    "                    ),\n",
    "                    (\"tfidf\", TfidfVectorizer()),\n",
    "                ]\n",
    "            ),\n",
    "        ),\n",
    "        (\n",
    "            \"description_tfidf\",\n",
    "            Pipeline(\n",
    "                [\n",
    "                    (\n",
    "                        \"extract_field\",\n",
    "                        FunctionTransformer(lambda x: x[\"description\"], validate=False),\n",
    "                    ),\n",
    "                    (\"tfidf\", TfidfVectorizer()),\n",
    "                ]\n",
    "            ),\n",
    "        ),\n",
    "    ]\n",
    ")"
   ]
  },
  {
   "cell_type": "code",
   "execution_count": 23,
   "id": "5427e7c8",
   "metadata": {},
   "outputs": [
    {
     "data": {
      "text/plain": [
       "FeatureUnion(transformer_list=[('title_tfidf',\n",
       "                                Pipeline(steps=[('extract_field',\n",
       "                                                 FunctionTransformer(func=<function <lambda> at 0x7f8264d78820>)),\n",
       "                                                ('tfidf', TfidfVectorizer())])),\n",
       "                               ('description_tfidf',\n",
       "                                Pipeline(steps=[('extract_field',\n",
       "                                                 FunctionTransformer(func=<function <lambda> at 0x7f8264d78790>)),\n",
       "                                                ('tfidf',\n",
       "                                                 TfidfVectorizer())]))])"
      ]
     },
     "execution_count": 23,
     "metadata": {},
     "output_type": "execute_result"
    }
   ],
   "source": [
    "transformer.fit(content)"
   ]
  },
  {
   "cell_type": "code",
   "execution_count": 24,
   "id": "b2b510ac",
   "metadata": {},
   "outputs": [],
   "source": [
    "title_vocab = transformer.transformer_list[0][1].steps[1][1].get_feature_names_out()\n",
    "description_vocab = (\n",
    "    transformer.transformer_list[1][1].steps[1][1].get_feature_names_out()\n",
    ")"
   ]
  },
  {
   "cell_type": "code",
   "execution_count": 25,
   "id": "2516252a",
   "metadata": {},
   "outputs": [
    {
     "data": {
      "text/plain": [
       "array(['02', '04', '05', '09', '10', '11', '11086', '12', '13', '17',\n",
       "       '1953', '1954', '1955', '1956', '1957', '1960', '1961', '1978',\n",
       "       '1983', '1986', '1987', '2002', '2003', '2009', '2010', '2011',\n",
       "       '2012', '2013', '2014', '2015'], dtype=object)"
      ]
     },
     "execution_count": 25,
     "metadata": {},
     "output_type": "execute_result"
    }
   ],
   "source": [
    "title_vocab[:30]"
   ]
  },
  {
   "cell_type": "code",
   "execution_count": 26,
   "id": "5cb684ba",
   "metadata": {},
   "outputs": [
    {
     "data": {
      "text/plain": [
       "array(['00', '000', '01', '02', '03', '039', '04', '05', '06', '07', '08',\n",
       "       '09', '10', '100', '101', '11', '1143', '12', '12060', '13', '14',\n",
       "       '15', '16', '17', '18', '19', '1960', '1964', '1967', '1969'],\n",
       "      dtype=object)"
      ]
     },
     "execution_count": 26,
     "metadata": {},
     "output_type": "execute_result"
    }
   ],
   "source": [
    "description_vocab[:30]"
   ]
  },
  {
   "cell_type": "code",
   "execution_count": 27,
   "id": "b42b001c",
   "metadata": {},
   "outputs": [
    {
     "data": {
      "text/plain": [
       "(2431, 3093)"
      ]
     },
     "execution_count": 27,
     "metadata": {},
     "output_type": "execute_result"
    }
   ],
   "source": [
    "content_tfidf = transformer.transform(content).toarray()\n",
    "\n",
    "content_tfidf.shape"
   ]
  },
  {
   "cell_type": "markdown",
   "id": "da70506c",
   "metadata": {},
   "source": [
    "## Step A.3"
   ]
  },
  {
   "cell_type": "code",
   "execution_count": 28,
   "id": "89142530",
   "metadata": {},
   "outputs": [
    {
     "data": {
      "text/plain": [
       "(2431, 2431)"
      ]
     },
     "execution_count": 28,
     "metadata": {},
     "output_type": "execute_result"
    }
   ],
   "source": [
    "# Note that the tf-idf functionality in sklearn.feature_extraction.text can produce normalized vectors,\n",
    "# in which case cosine_similarity is equivalent to linear_kernel, only slower.\n",
    "\n",
    "cosine_sims = linear_kernel(content_tfidf, content_tfidf)\n",
    "\n",
    "cosine_sims.shape"
   ]
  },
  {
   "cell_type": "code",
   "execution_count": 29,
   "id": "8cbf7c28",
   "metadata": {},
   "outputs": [
    {
     "data": {
      "text/plain": [
       "numpy.ndarray"
      ]
     },
     "execution_count": 29,
     "metadata": {},
     "output_type": "execute_result"
    }
   ],
   "source": [
    "type(cosine_sims)"
   ]
  },
  {
   "cell_type": "code",
   "execution_count": 30,
   "id": "da3a48fb",
   "metadata": {},
   "outputs": [],
   "source": [
    "def get_recommendations(\n",
    "    df: pd.DataFrame,\n",
    "    column: str,\n",
    "    value: str,\n",
    "    cosine_similarities: np.ndarray,\n",
    "    limit: int = 10,\n",
    ") -> pd.DataFrame:\n",
    "    \"\"\"Return a dataframe of content recommendations based on TF-IDF cosine similarity.\n",
    "\n",
    "    Args:\n",
    "        df (object): Pandas dataframe containing the text data.\n",
    "        column (string): Name of column used, i.e. 'title'.\n",
    "        value (string): Name of title to get recommendations for.\n",
    "        cosine_similarities (array): matrix with cosine similarities.\n",
    "        limit (int, optional): Optional limit on number of recommendations to return.\n",
    "\n",
    "    Returns:\n",
    "        Pandas dataframe.\n",
    "    \"\"\"\n",
    "\n",
    "    # Return indices for the target dataframe column and drop any duplicates\n",
    "    indices = pd.Series(df.index, index=df[column]).drop_duplicates()\n",
    "\n",
    "    # Get the index for the target value\n",
    "    target_index = indices[value]\n",
    "\n",
    "    # Get the cosine similarity scores for the target value\n",
    "    cosine_similarity_scores = list(enumerate(cosine_similarities[target_index]))\n",
    "\n",
    "    # Sort the cosine similarities in order of closest similarity\n",
    "    cosine_similarity_scores = sorted(cosine_similarity_scores, key=lambda x: x[1], reverse=True)\n",
    "\n",
    "    # Return tuple of the requested closest scores excluding the target item and index\n",
    "    cosine_similarity_scores = cosine_similarity_scores[1 : limit + 1]\n",
    "\n",
    "    # Extract the tuple values\n",
    "    index = (x[0] for x in cosine_similarity_scores)\n",
    "    scores = (x[1] for x in cosine_similarity_scores)\n",
    "\n",
    "    # Get the indices for the closest items\n",
    "    recommendation_indices = [i[0] for i in cosine_similarity_scores]\n",
    "\n",
    "    # Get the actutal recommendations\n",
    "    recommendations = df[column].iloc[recommendation_indices]\n",
    "\n",
    "    # Return a dataframe\n",
    "    df = pd.DataFrame(\n",
    "        list(zip(index, recommendations, scores)),\n",
    "        columns=[\"index\", \"recommendation\", \"cosine_similarity_score\"],\n",
    "    )\n",
    "\n",
    "    return df"
   ]
  },
  {
   "cell_type": "code",
   "execution_count": 31,
   "id": "512fa244",
   "metadata": {},
   "outputs": [
    {
     "data": {
      "text/html": [
       "<div>\n",
       "<style scoped>\n",
       "    .dataframe tbody tr th:only-of-type {\n",
       "        vertical-align: middle;\n",
       "    }\n",
       "\n",
       "    .dataframe tbody tr th {\n",
       "        vertical-align: top;\n",
       "    }\n",
       "\n",
       "    .dataframe thead th {\n",
       "        text-align: right;\n",
       "    }\n",
       "</style>\n",
       "<table border=\"1\" class=\"dataframe\">\n",
       "  <thead>\n",
       "    <tr style=\"text-align: right;\">\n",
       "      <th></th>\n",
       "      <th>index</th>\n",
       "      <th>recommendation</th>\n",
       "      <th>cosine_similarity_score</th>\n",
       "    </tr>\n",
       "  </thead>\n",
       "  <tbody>\n",
       "    <tr>\n",
       "      <th>0</th>\n",
       "      <td>1266</td>\n",
       "      <td>AT THE BBC</td>\n",
       "      <td>0.339637</td>\n",
       "    </tr>\n",
       "    <tr>\n",
       "      <th>1</th>\n",
       "      <td>1267</td>\n",
       "      <td>AT THE BBC</td>\n",
       "      <td>0.339637</td>\n",
       "    </tr>\n",
       "    <tr>\n",
       "      <th>2</th>\n",
       "      <td>1268</td>\n",
       "      <td>AT THE BBC</td>\n",
       "      <td>0.339637</td>\n",
       "    </tr>\n",
       "    <tr>\n",
       "      <th>3</th>\n",
       "      <td>1269</td>\n",
       "      <td>AT THE BBC</td>\n",
       "      <td>0.339637</td>\n",
       "    </tr>\n",
       "    <tr>\n",
       "      <th>4</th>\n",
       "      <td>1270</td>\n",
       "      <td>AT THE BBC</td>\n",
       "      <td>0.339637</td>\n",
       "    </tr>\n",
       "    <tr>\n",
       "      <th>5</th>\n",
       "      <td>1261</td>\n",
       "      <td>Queen - A Night At the Opera - The Prophet's Song</td>\n",
       "      <td>0.221807</td>\n",
       "    </tr>\n",
       "    <tr>\n",
       "      <th>6</th>\n",
       "      <td>1262</td>\n",
       "      <td>Queen - A Night At the Opera - The Prophet's Song</td>\n",
       "      <td>0.221807</td>\n",
       "    </tr>\n",
       "    <tr>\n",
       "      <th>7</th>\n",
       "      <td>1263</td>\n",
       "      <td>Queen - A Night At the Opera - The Prophet's Song</td>\n",
       "      <td>0.221807</td>\n",
       "    </tr>\n",
       "    <tr>\n",
       "      <th>8</th>\n",
       "      <td>1264</td>\n",
       "      <td>Queen - A Night At the Opera - The Prophet's Song</td>\n",
       "      <td>0.221807</td>\n",
       "    </tr>\n",
       "    <tr>\n",
       "      <th>9</th>\n",
       "      <td>1265</td>\n",
       "      <td>Queen - A Night At the Opera - The Prophet's Song</td>\n",
       "      <td>0.221807</td>\n",
       "    </tr>\n",
       "  </tbody>\n",
       "</table>\n",
       "</div>"
      ],
      "text/plain": [
       "   index                                     recommendation  \\\n",
       "0   1266                                         AT THE BBC   \n",
       "1   1267                                         AT THE BBC   \n",
       "2   1268                                         AT THE BBC   \n",
       "3   1269                                         AT THE BBC   \n",
       "4   1270                                         AT THE BBC   \n",
       "5   1261  Queen - A Night At the Opera - The Prophet's Song   \n",
       "6   1262  Queen - A Night At the Opera - The Prophet's Song   \n",
       "7   1263  Queen - A Night At the Opera - The Prophet's Song   \n",
       "8   1264  Queen - A Night At the Opera - The Prophet's Song   \n",
       "9   1265  Queen - A Night At the Opera - The Prophet's Song   \n",
       "\n",
       "   cosine_similarity_score  \n",
       "0                 0.339637  \n",
       "1                 0.339637  \n",
       "2                 0.339637  \n",
       "3                 0.339637  \n",
       "4                 0.339637  \n",
       "5                 0.221807  \n",
       "6                 0.221807  \n",
       "7                 0.221807  \n",
       "8                 0.221807  \n",
       "9                 0.221807  "
      ]
     },
     "execution_count": 31,
     "metadata": {},
     "output_type": "execute_result"
    }
   ],
   "source": [
    "get_recommendations(data, 'title', 'Live At The El Mocambo', cosine_sims)"
   ]
  }
 ],
 "metadata": {
  "kernelspec": {
   "display_name": "Python 3 (ipykernel)",
   "language": "python",
   "name": "python3"
  },
  "language_info": {
   "codemirror_mode": {
    "name": "ipython",
    "version": 3
   },
   "file_extension": ".py",
   "mimetype": "text/x-python",
   "name": "python",
   "nbconvert_exporter": "python",
   "pygments_lexer": "ipython3",
   "version": "3.8.10"
  }
 },
 "nbformat": 4,
 "nbformat_minor": 5
}
