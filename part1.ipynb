{
 "cells": [
  {
   "cell_type": "code",
   "execution_count": 1,
   "id": "1f82f6da",
   "metadata": {},
   "outputs": [],
   "source": [
    "import gzip\n",
    "import json\n",
    "from typing import Iterator\n",
    "\n",
    "import numpy as np\n",
    "import pandas as pd\n",
    "from mizani.breaks import date_breaks\n",
    "from mizani.formatters import date_format\n",
    "from plotnine import *\n",
    "from sklearn.feature_extraction.text import TfidfVectorizer\n",
    "from sklearn.metrics.pairwise import linear_kernel, pairwise_distances\n",
    "from sklearn.pipeline import FeatureUnion, Pipeline\n",
    "from sklearn.preprocessing import FunctionTransformer"
   ]
  },
  {
   "cell_type": "markdown",
   "id": "a563a416",
   "metadata": {},
   "source": [
    "# Table of Contents\n",
    "\n",
    "- [Step A.1](#Step-A.1)\n",
    " * [Substep: EDA](#Substep:-EDA)\n",
    "- [Step A.2](#Step-A.2)\n",
    "- [Step A.3](#Step-A.3)\n",
    "- [Step A.4](#Step-A.4)"
   ]
  },
  {
   "cell_type": "code",
   "execution_count": 2,
   "id": "f7a9b826",
   "metadata": {},
   "outputs": [
    {
     "name": "stdout",
     "output_type": "stream",
     "text": [
      "--2022-02-13 20:29:07--  http://deepyeti.ucsd.edu/jianmo/amazon/categoryFilesSmall/Digital_Music_5.json.gz\n",
      "Resolving deepyeti.ucsd.edu (deepyeti.ucsd.edu)... 169.228.63.50\n",
      "Connecting to deepyeti.ucsd.edu (deepyeti.ucsd.edu)|169.228.63.50|:80... connected.\n",
      "HTTP request sent, awaiting response... 200 OK\n",
      "Length: 19408584 (19M) [application/octet-stream]\n",
      "Saving to: ‘data/Digital_Music_5.json.gz’\n",
      "\n",
      "Digital_Music_5.jso 100%[===================>]  18.51M   287KB/s    in 64s     \n",
      "\n",
      "2022-02-13 20:30:11 (298 KB/s) - ‘data/Digital_Music_5.json.gz’ saved [19408584/19408584]\n",
      "\n"
     ]
    }
   ],
   "source": [
    "# download the “small” 5-core dataset for the category \"Digital Music\"\n",
    "# dataset source: https://nijianmo.github.io/amazon/index.html\n",
    "\n",
    "!wget http://deepyeti.ucsd.edu/jianmo/amazon/categoryFilesSmall/Digital_Music_5.json.gz -P data/"
   ]
  },
  {
   "cell_type": "code",
   "execution_count": 3,
   "id": "85200259",
   "metadata": {},
   "outputs": [
    {
     "name": "stdout",
     "output_type": "stream",
     "text": [
      "--2022-02-13 20:30:11--  http://deepyeti.ucsd.edu/jianmo/amazon/metaFiles2/meta_Digital_Music.json.gz\n",
      "Resolving deepyeti.ucsd.edu (deepyeti.ucsd.edu)... 169.228.63.50\n",
      "Connecting to deepyeti.ucsd.edu (deepyeti.ucsd.edu)|169.228.63.50|:80... connected.\n",
      "HTTP request sent, awaiting response... 200 OK\n",
      "Length: 12367273 (12M) [application/octet-stream]\n",
      "Saving to: ‘data/meta_Digital_Music.json.gz’\n",
      "\n",
      "meta_Digital_Music. 100%[===================>]  11.79M   292KB/s    in 41s     \n",
      "\n",
      "2022-02-13 20:30:53 (295 KB/s) - ‘data/meta_Digital_Music.json.gz’ saved [12367273/12367273]\n",
      "\n"
     ]
    }
   ],
   "source": [
    "# download the metadata for this dataset\n",
    "# dataset source: https://nijianmo.github.io/amazon/index.html\n",
    "\n",
    "!wget http://deepyeti.ucsd.edu/jianmo/amazon/metaFiles2/meta_Digital_Music.json.gz -P data/"
   ]
  },
  {
   "cell_type": "markdown",
   "id": "91de4d90",
   "metadata": {},
   "source": [
    "## Step A.1"
   ]
  },
  {
   "cell_type": "markdown",
   "id": "dd33bf1d",
   "metadata": {},
   "source": [
    "The 5-core dataset for the category \"Digital Music\" subset of the [Amazon Review data](https://nijianmo.github.io/amazon/index.html) in which all users and items have at least 5 reviews.\n",
    "\n",
    "The format is one-review-per-line in JSON, with the following attributes:\n",
    "\n",
    "- `reviewerID` - ID of the reviewer, e.g. A2SUAM1J3GNN3B\n",
    "- `asin` - ID of the product, e.g. 0000013714\n",
    "- `reviewerName` - name of the reviewer\n",
    "- `vote` - helpful votes of the review\n",
    "- `style` - a disctionary of the product metadata, e.g., \"Format\" is \"Hardcover\"\n",
    "- `reviewText` - text of the review\n",
    "- `overall` - rating of the product\n",
    "- `summary` - summary of the review\n",
    "- `verified`- whether the review has been verified (boolean)\n",
    "- `unixReviewTime` - time of the review (unix time)\n",
    "- `reviewTime` - time of the review (raw)\n",
    "- `image` - images that users post after they have received the product\n",
    "\n",
    "Metadata includes descriptions, price, sales-rank, brand info, and co-purchasing links:\n",
    "\n",
    "- `asin` - ID of the product, e.g. 0000031852\n",
    "- `title` - name of the product\n",
    "- `feature` - bullet-point format features of the product\n",
    "- `description` - description of the product\n",
    "- `price` - price in US dollars (at time of crawl)\n",
    "- `imageURL` - url of the product image\n",
    "- `imageURLHighRes` - url of the high resolution product image\n",
    "- `related` - related products (also bought, also viewed, bought together, buy after viewing)\n",
    "- `salesRank` - sales rank information\n",
    "- `brand` - brand name\n",
    "- `categories` - list of categories the product belongs to\n",
    "- `tech1` - the first technical detail table of the product\n",
    "- `tech2` - the second technical detail table of the product\n",
    "- `similar_item` - similar product table\n",
    "- $\\dots$"
   ]
  },
  {
   "cell_type": "code",
   "execution_count": 4,
   "id": "1602a572",
   "metadata": {},
   "outputs": [],
   "source": [
    "def inspect_df(df: pd.DataFrame, n: int = 5) -> pd.DataFrame:\n",
    "    \"\"\"Helper method to easily inspect DataFrames.\"\"\"\n",
    "\n",
    "    print(f\"shape: {df.shape}\")\n",
    "\n",
    "    return df.head(n)"
   ]
  },
  {
   "cell_type": "code",
   "execution_count": 5,
   "id": "21972f29",
   "metadata": {},
   "outputs": [],
   "source": [
    "def parse(filepath: str) -> Iterator[dict]:\n",
    "    file_obj = gzip.open(filepath, \"rb\")\n",
    "    for line in file_obj:\n",
    "        yield json.loads(line)"
   ]
  },
  {
   "cell_type": "code",
   "execution_count": 6,
   "id": "84a53691",
   "metadata": {},
   "outputs": [],
   "source": [
    "def file_to_dataframe(filepath: str) -> pd.DataFrame:\n",
    "    i = 0\n",
    "    df = {}\n",
    "    for d in parse(filepath):\n",
    "        df[i] = d\n",
    "        i += 1\n",
    "    return pd.DataFrame.from_dict(df, orient=\"index\")"
   ]
  },
  {
   "cell_type": "code",
   "execution_count": 7,
   "id": "f3ce10de",
   "metadata": {
    "scrolled": true
   },
   "outputs": [
    {
     "name": "stdout",
     "output_type": "stream",
     "text": [
      "shape: (169781, 12)\n"
     ]
    },
    {
     "data": {
      "text/html": [
       "<div>\n",
       "<style scoped>\n",
       "    .dataframe tbody tr th:only-of-type {\n",
       "        vertical-align: middle;\n",
       "    }\n",
       "\n",
       "    .dataframe tbody tr th {\n",
       "        vertical-align: top;\n",
       "    }\n",
       "\n",
       "    .dataframe thead th {\n",
       "        text-align: right;\n",
       "    }\n",
       "</style>\n",
       "<table border=\"1\" class=\"dataframe\">\n",
       "  <thead>\n",
       "    <tr style=\"text-align: right;\">\n",
       "      <th></th>\n",
       "      <th>overall</th>\n",
       "      <th>vote</th>\n",
       "      <th>verified</th>\n",
       "      <th>reviewTime</th>\n",
       "      <th>reviewerID</th>\n",
       "      <th>asin</th>\n",
       "      <th>style</th>\n",
       "      <th>reviewerName</th>\n",
       "      <th>reviewText</th>\n",
       "      <th>summary</th>\n",
       "      <th>unixReviewTime</th>\n",
       "      <th>image</th>\n",
       "    </tr>\n",
       "  </thead>\n",
       "  <tbody>\n",
       "    <tr>\n",
       "      <th>0</th>\n",
       "      <td>5.0</td>\n",
       "      <td>3</td>\n",
       "      <td>True</td>\n",
       "      <td>06 3, 2013</td>\n",
       "      <td>A2TYZ821XXK2YZ</td>\n",
       "      <td>3426958910</td>\n",
       "      <td>{'Format:': ' Audio CD'}</td>\n",
       "      <td>Garrett</td>\n",
       "      <td>This is awesome to listen to, A must-have for ...</td>\n",
       "      <td>Slayer Rules!</td>\n",
       "      <td>1370217600</td>\n",
       "      <td>NaN</td>\n",
       "    </tr>\n",
       "    <tr>\n",
       "      <th>1</th>\n",
       "      <td>5.0</td>\n",
       "      <td>NaN</td>\n",
       "      <td>True</td>\n",
       "      <td>10 11, 2014</td>\n",
       "      <td>A3OFSREZADFUDY</td>\n",
       "      <td>3426958910</td>\n",
       "      <td>{'Format:': ' Audio CD'}</td>\n",
       "      <td>Ad</td>\n",
       "      <td>bien</td>\n",
       "      <td>Five Stars</td>\n",
       "      <td>1412985600</td>\n",
       "      <td>NaN</td>\n",
       "    </tr>\n",
       "    <tr>\n",
       "      <th>2</th>\n",
       "      <td>5.0</td>\n",
       "      <td>NaN</td>\n",
       "      <td>True</td>\n",
       "      <td>02 11, 2014</td>\n",
       "      <td>A2VAMODP8M77NG</td>\n",
       "      <td>3426958910</td>\n",
       "      <td>{'Format:': ' Audio CD'}</td>\n",
       "      <td>JTGabq</td>\n",
       "      <td>It was great to hear the old stuff again and I...</td>\n",
       "      <td>SLAYER!!!!!!!!!!!!!!!!!!!!!</td>\n",
       "      <td>1392076800</td>\n",
       "      <td>NaN</td>\n",
       "    </tr>\n",
       "    <tr>\n",
       "      <th>3</th>\n",
       "      <td>4.0</td>\n",
       "      <td>3</td>\n",
       "      <td>False</td>\n",
       "      <td>12 7, 2013</td>\n",
       "      <td>AAKSLZ9IDTEH0</td>\n",
       "      <td>3426958910</td>\n",
       "      <td>{'Format:': ' Audio CD'}</td>\n",
       "      <td>john F&amp;#039;n doe</td>\n",
       "      <td>well best of's are a bit poison normally but t...</td>\n",
       "      <td>slayer greatest hits! you mean everything righ...</td>\n",
       "      <td>1386374400</td>\n",
       "      <td>NaN</td>\n",
       "    </tr>\n",
       "    <tr>\n",
       "      <th>4</th>\n",
       "      <td>5.0</td>\n",
       "      <td>NaN</td>\n",
       "      <td>True</td>\n",
       "      <td>06 12, 2016</td>\n",
       "      <td>A3OH43OZJLKI09</td>\n",
       "      <td>5557706259</td>\n",
       "      <td>{'Format:': ' Audio CD'}</td>\n",
       "      <td>melinda a goodman</td>\n",
       "      <td>What can I say? This is Casting Crowns!!!This ...</td>\n",
       "      <td>This is a good, blessing filled</td>\n",
       "      <td>1465689600</td>\n",
       "      <td>NaN</td>\n",
       "    </tr>\n",
       "  </tbody>\n",
       "</table>\n",
       "</div>"
      ],
      "text/plain": [
       "   overall vote  verified   reviewTime      reviewerID        asin  \\\n",
       "0      5.0    3      True   06 3, 2013  A2TYZ821XXK2YZ  3426958910   \n",
       "1      5.0  NaN      True  10 11, 2014  A3OFSREZADFUDY  3426958910   \n",
       "2      5.0  NaN      True  02 11, 2014  A2VAMODP8M77NG  3426958910   \n",
       "3      4.0    3     False   12 7, 2013   AAKSLZ9IDTEH0  3426958910   \n",
       "4      5.0  NaN      True  06 12, 2016  A3OH43OZJLKI09  5557706259   \n",
       "\n",
       "                      style       reviewerName  \\\n",
       "0  {'Format:': ' Audio CD'}            Garrett   \n",
       "1  {'Format:': ' Audio CD'}                 Ad   \n",
       "2  {'Format:': ' Audio CD'}             JTGabq   \n",
       "3  {'Format:': ' Audio CD'}  john F&#039;n doe   \n",
       "4  {'Format:': ' Audio CD'}  melinda a goodman   \n",
       "\n",
       "                                          reviewText  \\\n",
       "0  This is awesome to listen to, A must-have for ...   \n",
       "1                                               bien   \n",
       "2  It was great to hear the old stuff again and I...   \n",
       "3  well best of's are a bit poison normally but t...   \n",
       "4  What can I say? This is Casting Crowns!!!This ...   \n",
       "\n",
       "                                             summary  unixReviewTime image  \n",
       "0                                      Slayer Rules!      1370217600   NaN  \n",
       "1                                         Five Stars      1412985600   NaN  \n",
       "2                        SLAYER!!!!!!!!!!!!!!!!!!!!!      1392076800   NaN  \n",
       "3  slayer greatest hits! you mean everything righ...      1386374400   NaN  \n",
       "4                    This is a good, blessing filled      1465689600   NaN  "
      ]
     },
     "execution_count": 7,
     "metadata": {},
     "output_type": "execute_result"
    }
   ],
   "source": [
    "review_data = file_to_dataframe(\"data/Digital_Music_5.json.gz\")\n",
    "\n",
    "inspect_df(review_data)"
   ]
  },
  {
   "cell_type": "code",
   "execution_count": 8,
   "id": "0358eeb3",
   "metadata": {},
   "outputs": [
    {
     "data": {
      "text/plain": [
       "['overall',\n",
       " 'vote',\n",
       " 'verified',\n",
       " 'reviewTime',\n",
       " 'reviewerID',\n",
       " 'asin',\n",
       " 'style',\n",
       " 'reviewerName',\n",
       " 'reviewText',\n",
       " 'summary',\n",
       " 'unixReviewTime',\n",
       " 'image']"
      ]
     },
     "execution_count": 8,
     "metadata": {},
     "output_type": "execute_result"
    }
   ],
   "source": [
    "list(review_data.columns)"
   ]
  },
  {
   "cell_type": "code",
   "execution_count": 9,
   "id": "fcf04ba5",
   "metadata": {
    "scrolled": false
   },
   "outputs": [
    {
     "data": {
      "text/plain": [
       "overall                                                         5.0\n",
       "vote                                                            NaN\n",
       "verified                                                       True\n",
       "reviewTime                                              02 11, 2014\n",
       "reviewerID                                           A2VAMODP8M77NG\n",
       "asin                                                     3426958910\n",
       "style                                      {'Format:': ' Audio CD'}\n",
       "reviewerName                                                 JTGabq\n",
       "reviewText        It was great to hear the old stuff again and I...\n",
       "summary                                 SLAYER!!!!!!!!!!!!!!!!!!!!!\n",
       "unixReviewTime                                           1392076800\n",
       "image                                                           NaN\n",
       "Name: 2, dtype: object"
      ]
     },
     "execution_count": 9,
     "metadata": {},
     "output_type": "execute_result"
    }
   ],
   "source": [
    "review_data.loc[2]"
   ]
  },
  {
   "cell_type": "code",
   "execution_count": 10,
   "id": "e3b037fc",
   "metadata": {
    "scrolled": false
   },
   "outputs": [
    {
     "name": "stdout",
     "output_type": "stream",
     "text": [
      "shape: (74347, 19)\n"
     ]
    },
    {
     "data": {
      "text/html": [
       "<div>\n",
       "<style scoped>\n",
       "    .dataframe tbody tr th:only-of-type {\n",
       "        vertical-align: middle;\n",
       "    }\n",
       "\n",
       "    .dataframe tbody tr th {\n",
       "        vertical-align: top;\n",
       "    }\n",
       "\n",
       "    .dataframe thead th {\n",
       "        text-align: right;\n",
       "    }\n",
       "</style>\n",
       "<table border=\"1\" class=\"dataframe\">\n",
       "  <thead>\n",
       "    <tr style=\"text-align: right;\">\n",
       "      <th></th>\n",
       "      <th>category</th>\n",
       "      <th>tech1</th>\n",
       "      <th>description</th>\n",
       "      <th>fit</th>\n",
       "      <th>title</th>\n",
       "      <th>also_buy</th>\n",
       "      <th>tech2</th>\n",
       "      <th>brand</th>\n",
       "      <th>feature</th>\n",
       "      <th>rank</th>\n",
       "      <th>also_view</th>\n",
       "      <th>main_cat</th>\n",
       "      <th>similar_item</th>\n",
       "      <th>date</th>\n",
       "      <th>price</th>\n",
       "      <th>asin</th>\n",
       "      <th>imageURL</th>\n",
       "      <th>imageURLHighRes</th>\n",
       "      <th>details</th>\n",
       "    </tr>\n",
       "  </thead>\n",
       "  <tbody>\n",
       "    <tr>\n",
       "      <th>0</th>\n",
       "      <td>[]</td>\n",
       "      <td></td>\n",
       "      <td>[]</td>\n",
       "      <td></td>\n",
       "      <td>Master Collection Volume One</td>\n",
       "      <td>[B000002UEN, B000008LD5, B01J804JKE, 747403435...</td>\n",
       "      <td></td>\n",
       "      <td>John Michael Talbot</td>\n",
       "      <td>[]</td>\n",
       "      <td>58,291 in CDs &amp; Vinyl (</td>\n",
       "      <td>[B000002UEN, B000008LD5, 7474034352, B000008LD...</td>\n",
       "      <td>&lt;img src=\"https://images-na.ssl-images-amazon....</td>\n",
       "      <td></td>\n",
       "      <td></td>\n",
       "      <td>$18.99</td>\n",
       "      <td>0001377647</td>\n",
       "      <td>[]</td>\n",
       "      <td>[]</td>\n",
       "      <td>NaN</td>\n",
       "    </tr>\n",
       "    <tr>\n",
       "      <th>1</th>\n",
       "      <td>[]</td>\n",
       "      <td></td>\n",
       "      <td>[]</td>\n",
       "      <td></td>\n",
       "      <td>Hymns Collection: Hymns 1 &amp;amp; 2</td>\n",
       "      <td>[5558154950, B00014K5V4]</td>\n",
       "      <td></td>\n",
       "      <td>Second Chapter of Acts</td>\n",
       "      <td>[]</td>\n",
       "      <td>93,164 in CDs &amp; Vinyl (</td>\n",
       "      <td>[B000008KJ3, B000008KJ0, 5558154950, B000UN8KZ...</td>\n",
       "      <td>&lt;img src=\"https://images-na.ssl-images-amazon....</td>\n",
       "      <td></td>\n",
       "      <td></td>\n",
       "      <td></td>\n",
       "      <td>0001529145</td>\n",
       "      <td>[]</td>\n",
       "      <td>[]</td>\n",
       "      <td>NaN</td>\n",
       "    </tr>\n",
       "    <tr>\n",
       "      <th>2</th>\n",
       "      <td>[]</td>\n",
       "      <td></td>\n",
       "      <td>[]</td>\n",
       "      <td></td>\n",
       "      <td>Early Works - Don Francisco</td>\n",
       "      <td>[B00004RC05, B003H8F4NA, B003ZFVHPO, B003JMP1Z...</td>\n",
       "      <td></td>\n",
       "      <td>Don Francisco</td>\n",
       "      <td>[]</td>\n",
       "      <td>875,825 in CDs &amp; Vinyl (</td>\n",
       "      <td>[B003H8F4NA, B003ZFVHPO, B003JMP1ZK, B00004RC0...</td>\n",
       "      <td>&lt;img src=\"https://images-na.ssl-images-amazon....</td>\n",
       "      <td></td>\n",
       "      <td></td>\n",
       "      <td></td>\n",
       "      <td>0001527134</td>\n",
       "      <td>[]</td>\n",
       "      <td>[]</td>\n",
       "      <td>NaN</td>\n",
       "    </tr>\n",
       "    <tr>\n",
       "      <th>3</th>\n",
       "      <td>[]</td>\n",
       "      <td></td>\n",
       "      <td>[]</td>\n",
       "      <td></td>\n",
       "      <td>So You Wanna Go Back to Egypt</td>\n",
       "      <td>[B0000275QQ, 0001393774, 0001388312, B0016CP2G...</td>\n",
       "      <td></td>\n",
       "      <td>Keith Green</td>\n",
       "      <td>[]</td>\n",
       "      <td>203,263 in CDs &amp; Vinyl (</td>\n",
       "      <td>[B00000I7JO, B0016CP2GS, 0001393774, B0000275Q...</td>\n",
       "      <td>&lt;img src=\"https://images-na.ssl-images-amazon....</td>\n",
       "      <td></td>\n",
       "      <td></td>\n",
       "      <td>$13.01</td>\n",
       "      <td>0001388703</td>\n",
       "      <td>[]</td>\n",
       "      <td>[]</td>\n",
       "      <td>NaN</td>\n",
       "    </tr>\n",
       "    <tr>\n",
       "      <th>4</th>\n",
       "      <td>[]</td>\n",
       "      <td></td>\n",
       "      <td>[1. Losing Game 2. I Can't Wait 3. Didn't He S...</td>\n",
       "      <td></td>\n",
       "      <td>Early Works - Dallas Holm</td>\n",
       "      <td>[B0002N4JP2, 0760131694, B00002EQ79, B00150K8J...</td>\n",
       "      <td></td>\n",
       "      <td>Dallas Holm</td>\n",
       "      <td>[]</td>\n",
       "      <td>399,269 in CDs &amp; Vinyl (</td>\n",
       "      <td>[B0002N4JP2, 0760131694, B00150K8JC, B003MTXNV...</td>\n",
       "      <td>&lt;img src=\"https://images-na.ssl-images-amazon....</td>\n",
       "      <td></td>\n",
       "      <td></td>\n",
       "      <td></td>\n",
       "      <td>0001526146</td>\n",
       "      <td>[]</td>\n",
       "      <td>[]</td>\n",
       "      <td>NaN</td>\n",
       "    </tr>\n",
       "  </tbody>\n",
       "</table>\n",
       "</div>"
      ],
      "text/plain": [
       "  category tech1                                        description fit  \\\n",
       "0       []                                                       []       \n",
       "1       []                                                       []       \n",
       "2       []                                                       []       \n",
       "3       []                                                       []       \n",
       "4       []        [1. Losing Game 2. I Can't Wait 3. Didn't He S...       \n",
       "\n",
       "                               title  \\\n",
       "0       Master Collection Volume One   \n",
       "1  Hymns Collection: Hymns 1 &amp; 2   \n",
       "2        Early Works - Don Francisco   \n",
       "3      So You Wanna Go Back to Egypt   \n",
       "4          Early Works - Dallas Holm   \n",
       "\n",
       "                                            also_buy tech2  \\\n",
       "0  [B000002UEN, B000008LD5, B01J804JKE, 747403435...         \n",
       "1                           [5558154950, B00014K5V4]         \n",
       "2  [B00004RC05, B003H8F4NA, B003ZFVHPO, B003JMP1Z...         \n",
       "3  [B0000275QQ, 0001393774, 0001388312, B0016CP2G...         \n",
       "4  [B0002N4JP2, 0760131694, B00002EQ79, B00150K8J...         \n",
       "\n",
       "                    brand feature                      rank  \\\n",
       "0     John Michael Talbot      []   58,291 in CDs & Vinyl (   \n",
       "1  Second Chapter of Acts      []   93,164 in CDs & Vinyl (   \n",
       "2           Don Francisco      []  875,825 in CDs & Vinyl (   \n",
       "3             Keith Green      []  203,263 in CDs & Vinyl (   \n",
       "4             Dallas Holm      []  399,269 in CDs & Vinyl (   \n",
       "\n",
       "                                           also_view  \\\n",
       "0  [B000002UEN, B000008LD5, 7474034352, B000008LD...   \n",
       "1  [B000008KJ3, B000008KJ0, 5558154950, B000UN8KZ...   \n",
       "2  [B003H8F4NA, B003ZFVHPO, B003JMP1ZK, B00004RC0...   \n",
       "3  [B00000I7JO, B0016CP2GS, 0001393774, B0000275Q...   \n",
       "4  [B0002N4JP2, 0760131694, B00150K8JC, B003MTXNV...   \n",
       "\n",
       "                                            main_cat similar_item date  \\\n",
       "0  <img src=\"https://images-na.ssl-images-amazon....                     \n",
       "1  <img src=\"https://images-na.ssl-images-amazon....                     \n",
       "2  <img src=\"https://images-na.ssl-images-amazon....                     \n",
       "3  <img src=\"https://images-na.ssl-images-amazon....                     \n",
       "4  <img src=\"https://images-na.ssl-images-amazon....                     \n",
       "\n",
       "    price        asin imageURL imageURLHighRes details  \n",
       "0  $18.99  0001377647       []              []     NaN  \n",
       "1          0001529145       []              []     NaN  \n",
       "2          0001527134       []              []     NaN  \n",
       "3  $13.01  0001388703       []              []     NaN  \n",
       "4          0001526146       []              []     NaN  "
      ]
     },
     "execution_count": 10,
     "metadata": {},
     "output_type": "execute_result"
    }
   ],
   "source": [
    "metadata = file_to_dataframe(\"data/meta_Digital_Music.json.gz\")\n",
    "\n",
    "inspect_df(metadata)"
   ]
  },
  {
   "cell_type": "code",
   "execution_count": 11,
   "id": "370e631d",
   "metadata": {},
   "outputs": [
    {
     "data": {
      "text/plain": [
       "['category',\n",
       " 'tech1',\n",
       " 'description',\n",
       " 'fit',\n",
       " 'title',\n",
       " 'also_buy',\n",
       " 'tech2',\n",
       " 'brand',\n",
       " 'feature',\n",
       " 'rank',\n",
       " 'also_view',\n",
       " 'main_cat',\n",
       " 'similar_item',\n",
       " 'date',\n",
       " 'price',\n",
       " 'asin',\n",
       " 'imageURL',\n",
       " 'imageURLHighRes',\n",
       " 'details']"
      ]
     },
     "execution_count": 11,
     "metadata": {},
     "output_type": "execute_result"
    }
   ],
   "source": [
    "list(metadata.columns)"
   ]
  },
  {
   "cell_type": "code",
   "execution_count": 12,
   "id": "4eec3c84",
   "metadata": {
    "scrolled": true
   },
   "outputs": [
    {
     "data": {
      "text/html": [
       "<div>\n",
       "<style scoped>\n",
       "    .dataframe tbody tr th:only-of-type {\n",
       "        vertical-align: middle;\n",
       "    }\n",
       "\n",
       "    .dataframe tbody tr th {\n",
       "        vertical-align: top;\n",
       "    }\n",
       "\n",
       "    .dataframe thead th {\n",
       "        text-align: right;\n",
       "    }\n",
       "</style>\n",
       "<table border=\"1\" class=\"dataframe\">\n",
       "  <thead>\n",
       "    <tr style=\"text-align: right;\">\n",
       "      <th></th>\n",
       "      <th>category</th>\n",
       "      <th>tech1</th>\n",
       "      <th>description</th>\n",
       "      <th>fit</th>\n",
       "      <th>title</th>\n",
       "      <th>also_buy</th>\n",
       "      <th>tech2</th>\n",
       "      <th>brand</th>\n",
       "      <th>feature</th>\n",
       "      <th>rank</th>\n",
       "      <th>also_view</th>\n",
       "      <th>main_cat</th>\n",
       "      <th>similar_item</th>\n",
       "      <th>date</th>\n",
       "      <th>price</th>\n",
       "      <th>asin</th>\n",
       "      <th>imageURL</th>\n",
       "      <th>imageURLHighRes</th>\n",
       "      <th>details</th>\n",
       "    </tr>\n",
       "  </thead>\n",
       "  <tbody>\n",
       "    <tr>\n",
       "      <th>343</th>\n",
       "      <td>[]</td>\n",
       "      <td></td>\n",
       "      <td>[]</td>\n",
       "      <td></td>\n",
       "      <td>Slayer - Greatest Hits 2 CD Set</td>\n",
       "      <td>[]</td>\n",
       "      <td></td>\n",
       "      <td>Slayer</td>\n",
       "      <td>[]</td>\n",
       "      <td>231,252 in CDs &amp;amp; Vinyl (</td>\n",
       "      <td>[B00EBJ62GC, B00BV0W7ZE, B000062YAY, B00EBWHW5...</td>\n",
       "      <td>&lt;img src=\"https://images-na.ssl-images-amazon....</td>\n",
       "      <td></td>\n",
       "      <td></td>\n",
       "      <td></td>\n",
       "      <td>3426958910</td>\n",
       "      <td>[https://images-na.ssl-images-amazon.com/image...</td>\n",
       "      <td>[https://images-na.ssl-images-amazon.com/image...</td>\n",
       "      <td>NaN</td>\n",
       "    </tr>\n",
       "  </tbody>\n",
       "</table>\n",
       "</div>"
      ],
      "text/plain": [
       "    category tech1 description fit                            title also_buy  \\\n",
       "343       []                []      Slayer - Greatest Hits 2 CD Set       []   \n",
       "\n",
       "    tech2   brand feature                          rank  \\\n",
       "343        Slayer      []  231,252 in CDs &amp; Vinyl (   \n",
       "\n",
       "                                             also_view  \\\n",
       "343  [B00EBJ62GC, B00BV0W7ZE, B000062YAY, B00EBWHW5...   \n",
       "\n",
       "                                              main_cat similar_item date  \\\n",
       "343  <img src=\"https://images-na.ssl-images-amazon....                     \n",
       "\n",
       "    price        asin                                           imageURL  \\\n",
       "343        3426958910  [https://images-na.ssl-images-amazon.com/image...   \n",
       "\n",
       "                                       imageURLHighRes details  \n",
       "343  [https://images-na.ssl-images-amazon.com/image...     NaN  "
      ]
     },
     "execution_count": 12,
     "metadata": {},
     "output_type": "execute_result"
    }
   ],
   "source": [
    "metadata[metadata[\"asin\"] == review_data.loc[2][\"asin\"]]"
   ]
  },
  {
   "cell_type": "code",
   "execution_count": 13,
   "id": "ef1e60ce",
   "metadata": {
    "scrolled": true
   },
   "outputs": [
    {
     "data": {
      "text/plain": [
       "B000091JWJ    2\n",
       "B0000631GK    2\n",
       "B00005YTB0    2\n",
       "B00005YUG3    2\n",
       "B00005YUJP    2\n",
       "             ..\n",
       "B0013V1TLO    1\n",
       "B0013V6TG4    1\n",
       "B0013VANYI    1\n",
       "B0013V9Q6E    1\n",
       "B01HIT3KZC    1\n",
       "Name: asin, Length: 66013, dtype: int64"
      ]
     },
     "execution_count": 13,
     "metadata": {},
     "output_type": "execute_result"
    }
   ],
   "source": [
    "metadata[\"asin\"].value_counts()"
   ]
  },
  {
   "cell_type": "code",
   "execution_count": 14,
   "id": "15c7128b",
   "metadata": {},
   "outputs": [],
   "source": [
    "metadata.drop_duplicates(subset=\"asin\", keep=\"first\", inplace=True)"
   ]
  },
  {
   "cell_type": "code",
   "execution_count": 15,
   "id": "05ae1a34",
   "metadata": {
    "scrolled": false
   },
   "outputs": [
    {
     "name": "stdout",
     "output_type": "stream",
     "text": [
      "shape: (2383, 30)\n"
     ]
    },
    {
     "data": {
      "text/html": [
       "<div>\n",
       "<style scoped>\n",
       "    .dataframe tbody tr th:only-of-type {\n",
       "        vertical-align: middle;\n",
       "    }\n",
       "\n",
       "    .dataframe tbody tr th {\n",
       "        vertical-align: top;\n",
       "    }\n",
       "\n",
       "    .dataframe thead th {\n",
       "        text-align: right;\n",
       "    }\n",
       "</style>\n",
       "<table border=\"1\" class=\"dataframe\">\n",
       "  <thead>\n",
       "    <tr style=\"text-align: right;\">\n",
       "      <th></th>\n",
       "      <th>overall</th>\n",
       "      <th>vote</th>\n",
       "      <th>verified</th>\n",
       "      <th>reviewTime</th>\n",
       "      <th>reviewerID</th>\n",
       "      <th>asin</th>\n",
       "      <th>style</th>\n",
       "      <th>reviewerName</th>\n",
       "      <th>reviewText</th>\n",
       "      <th>summary</th>\n",
       "      <th>...</th>\n",
       "      <th>feature</th>\n",
       "      <th>rank</th>\n",
       "      <th>also_view</th>\n",
       "      <th>main_cat</th>\n",
       "      <th>similar_item</th>\n",
       "      <th>date</th>\n",
       "      <th>price</th>\n",
       "      <th>imageURL</th>\n",
       "      <th>imageURLHighRes</th>\n",
       "      <th>details</th>\n",
       "    </tr>\n",
       "  </thead>\n",
       "  <tbody>\n",
       "    <tr>\n",
       "      <th>0</th>\n",
       "      <td>5.0</td>\n",
       "      <td>3</td>\n",
       "      <td>True</td>\n",
       "      <td>06 3, 2013</td>\n",
       "      <td>A2TYZ821XXK2YZ</td>\n",
       "      <td>3426958910</td>\n",
       "      <td>{'Format:': ' Audio CD'}</td>\n",
       "      <td>Garrett</td>\n",
       "      <td>This is awesome to listen to, A must-have for ...</td>\n",
       "      <td>Slayer Rules!</td>\n",
       "      <td>...</td>\n",
       "      <td>[]</td>\n",
       "      <td>231,252 in CDs &amp;amp; Vinyl (</td>\n",
       "      <td>[B00EBJ62GC, B00BV0W7ZE, B000062YAY, B00EBWHW5...</td>\n",
       "      <td>&lt;img src=\"https://images-na.ssl-images-amazon....</td>\n",
       "      <td></td>\n",
       "      <td></td>\n",
       "      <td></td>\n",
       "      <td>[https://images-na.ssl-images-amazon.com/image...</td>\n",
       "      <td>[https://images-na.ssl-images-amazon.com/image...</td>\n",
       "      <td>NaN</td>\n",
       "    </tr>\n",
       "    <tr>\n",
       "      <th>1</th>\n",
       "      <td>5.0</td>\n",
       "      <td>NaN</td>\n",
       "      <td>True</td>\n",
       "      <td>10 11, 2014</td>\n",
       "      <td>A3OFSREZADFUDY</td>\n",
       "      <td>3426958910</td>\n",
       "      <td>{'Format:': ' Audio CD'}</td>\n",
       "      <td>Ad</td>\n",
       "      <td>bien</td>\n",
       "      <td>Five Stars</td>\n",
       "      <td>...</td>\n",
       "      <td>[]</td>\n",
       "      <td>231,252 in CDs &amp;amp; Vinyl (</td>\n",
       "      <td>[B00EBJ62GC, B00BV0W7ZE, B000062YAY, B00EBWHW5...</td>\n",
       "      <td>&lt;img src=\"https://images-na.ssl-images-amazon....</td>\n",
       "      <td></td>\n",
       "      <td></td>\n",
       "      <td></td>\n",
       "      <td>[https://images-na.ssl-images-amazon.com/image...</td>\n",
       "      <td>[https://images-na.ssl-images-amazon.com/image...</td>\n",
       "      <td>NaN</td>\n",
       "    </tr>\n",
       "    <tr>\n",
       "      <th>2</th>\n",
       "      <td>5.0</td>\n",
       "      <td>NaN</td>\n",
       "      <td>True</td>\n",
       "      <td>02 11, 2014</td>\n",
       "      <td>A2VAMODP8M77NG</td>\n",
       "      <td>3426958910</td>\n",
       "      <td>{'Format:': ' Audio CD'}</td>\n",
       "      <td>JTGabq</td>\n",
       "      <td>It was great to hear the old stuff again and I...</td>\n",
       "      <td>SLAYER!!!!!!!!!!!!!!!!!!!!!</td>\n",
       "      <td>...</td>\n",
       "      <td>[]</td>\n",
       "      <td>231,252 in CDs &amp;amp; Vinyl (</td>\n",
       "      <td>[B00EBJ62GC, B00BV0W7ZE, B000062YAY, B00EBWHW5...</td>\n",
       "      <td>&lt;img src=\"https://images-na.ssl-images-amazon....</td>\n",
       "      <td></td>\n",
       "      <td></td>\n",
       "      <td></td>\n",
       "      <td>[https://images-na.ssl-images-amazon.com/image...</td>\n",
       "      <td>[https://images-na.ssl-images-amazon.com/image...</td>\n",
       "      <td>NaN</td>\n",
       "    </tr>\n",
       "    <tr>\n",
       "      <th>3</th>\n",
       "      <td>4.0</td>\n",
       "      <td>3</td>\n",
       "      <td>False</td>\n",
       "      <td>12 7, 2013</td>\n",
       "      <td>AAKSLZ9IDTEH0</td>\n",
       "      <td>3426958910</td>\n",
       "      <td>{'Format:': ' Audio CD'}</td>\n",
       "      <td>john F&amp;#039;n doe</td>\n",
       "      <td>well best of's are a bit poison normally but t...</td>\n",
       "      <td>slayer greatest hits! you mean everything righ...</td>\n",
       "      <td>...</td>\n",
       "      <td>[]</td>\n",
       "      <td>231,252 in CDs &amp;amp; Vinyl (</td>\n",
       "      <td>[B00EBJ62GC, B00BV0W7ZE, B000062YAY, B00EBWHW5...</td>\n",
       "      <td>&lt;img src=\"https://images-na.ssl-images-amazon....</td>\n",
       "      <td></td>\n",
       "      <td></td>\n",
       "      <td></td>\n",
       "      <td>[https://images-na.ssl-images-amazon.com/image...</td>\n",
       "      <td>[https://images-na.ssl-images-amazon.com/image...</td>\n",
       "      <td>NaN</td>\n",
       "    </tr>\n",
       "    <tr>\n",
       "      <th>4</th>\n",
       "      <td>5.0</td>\n",
       "      <td>NaN</td>\n",
       "      <td>True</td>\n",
       "      <td>01 7, 2015</td>\n",
       "      <td>A3HUD6U7RWX8E8</td>\n",
       "      <td>3426958910</td>\n",
       "      <td>{'Format:': ' Audio CD'}</td>\n",
       "      <td>Kevin Ross</td>\n",
       "      <td>Excellent.</td>\n",
       "      <td>Five Stars</td>\n",
       "      <td>...</td>\n",
       "      <td>[]</td>\n",
       "      <td>231,252 in CDs &amp;amp; Vinyl (</td>\n",
       "      <td>[B00EBJ62GC, B00BV0W7ZE, B000062YAY, B00EBWHW5...</td>\n",
       "      <td>&lt;img src=\"https://images-na.ssl-images-amazon....</td>\n",
       "      <td></td>\n",
       "      <td></td>\n",
       "      <td></td>\n",
       "      <td>[https://images-na.ssl-images-amazon.com/image...</td>\n",
       "      <td>[https://images-na.ssl-images-amazon.com/image...</td>\n",
       "      <td>NaN</td>\n",
       "    </tr>\n",
       "  </tbody>\n",
       "</table>\n",
       "<p>5 rows × 30 columns</p>\n",
       "</div>"
      ],
      "text/plain": [
       "   overall vote  verified   reviewTime      reviewerID        asin  \\\n",
       "0      5.0    3      True   06 3, 2013  A2TYZ821XXK2YZ  3426958910   \n",
       "1      5.0  NaN      True  10 11, 2014  A3OFSREZADFUDY  3426958910   \n",
       "2      5.0  NaN      True  02 11, 2014  A2VAMODP8M77NG  3426958910   \n",
       "3      4.0    3     False   12 7, 2013   AAKSLZ9IDTEH0  3426958910   \n",
       "4      5.0  NaN      True   01 7, 2015  A3HUD6U7RWX8E8  3426958910   \n",
       "\n",
       "                      style       reviewerName  \\\n",
       "0  {'Format:': ' Audio CD'}            Garrett   \n",
       "1  {'Format:': ' Audio CD'}                 Ad   \n",
       "2  {'Format:': ' Audio CD'}             JTGabq   \n",
       "3  {'Format:': ' Audio CD'}  john F&#039;n doe   \n",
       "4  {'Format:': ' Audio CD'}         Kevin Ross   \n",
       "\n",
       "                                          reviewText  \\\n",
       "0  This is awesome to listen to, A must-have for ...   \n",
       "1                                               bien   \n",
       "2  It was great to hear the old stuff again and I...   \n",
       "3  well best of's are a bit poison normally but t...   \n",
       "4                                         Excellent.   \n",
       "\n",
       "                                             summary  ...  feature  \\\n",
       "0                                      Slayer Rules!  ...       []   \n",
       "1                                         Five Stars  ...       []   \n",
       "2                        SLAYER!!!!!!!!!!!!!!!!!!!!!  ...       []   \n",
       "3  slayer greatest hits! you mean everything righ...  ...       []   \n",
       "4                                         Five Stars  ...       []   \n",
       "\n",
       "                           rank  \\\n",
       "0  231,252 in CDs &amp; Vinyl (   \n",
       "1  231,252 in CDs &amp; Vinyl (   \n",
       "2  231,252 in CDs &amp; Vinyl (   \n",
       "3  231,252 in CDs &amp; Vinyl (   \n",
       "4  231,252 in CDs &amp; Vinyl (   \n",
       "\n",
       "                                           also_view  \\\n",
       "0  [B00EBJ62GC, B00BV0W7ZE, B000062YAY, B00EBWHW5...   \n",
       "1  [B00EBJ62GC, B00BV0W7ZE, B000062YAY, B00EBWHW5...   \n",
       "2  [B00EBJ62GC, B00BV0W7ZE, B000062YAY, B00EBWHW5...   \n",
       "3  [B00EBJ62GC, B00BV0W7ZE, B000062YAY, B00EBWHW5...   \n",
       "4  [B00EBJ62GC, B00BV0W7ZE, B000062YAY, B00EBWHW5...   \n",
       "\n",
       "                                            main_cat similar_item date price  \\\n",
       "0  <img src=\"https://images-na.ssl-images-amazon....                           \n",
       "1  <img src=\"https://images-na.ssl-images-amazon....                           \n",
       "2  <img src=\"https://images-na.ssl-images-amazon....                           \n",
       "3  <img src=\"https://images-na.ssl-images-amazon....                           \n",
       "4  <img src=\"https://images-na.ssl-images-amazon....                           \n",
       "\n",
       "                                            imageURL  \\\n",
       "0  [https://images-na.ssl-images-amazon.com/image...   \n",
       "1  [https://images-na.ssl-images-amazon.com/image...   \n",
       "2  [https://images-na.ssl-images-amazon.com/image...   \n",
       "3  [https://images-na.ssl-images-amazon.com/image...   \n",
       "4  [https://images-na.ssl-images-amazon.com/image...   \n",
       "\n",
       "                                     imageURLHighRes details  \n",
       "0  [https://images-na.ssl-images-amazon.com/image...     NaN  \n",
       "1  [https://images-na.ssl-images-amazon.com/image...     NaN  \n",
       "2  [https://images-na.ssl-images-amazon.com/image...     NaN  \n",
       "3  [https://images-na.ssl-images-amazon.com/image...     NaN  \n",
       "4  [https://images-na.ssl-images-amazon.com/image...     NaN  \n",
       "\n",
       "[5 rows x 30 columns]"
      ]
     },
     "execution_count": 15,
     "metadata": {},
     "output_type": "execute_result"
    }
   ],
   "source": [
    "# for the content-based RecSys, we need both the review rating & title, description attrs - so an inner join\n",
    "data = pd.merge(review_data, metadata, how=\"inner\", on=\"asin\")\n",
    "\n",
    "inspect_df(data)"
   ]
  },
  {
   "cell_type": "code",
   "execution_count": 16,
   "id": "3a105f0d",
   "metadata": {},
   "outputs": [
    {
     "data": {
      "text/html": [
       "<div>\n",
       "<style scoped>\n",
       "    .dataframe tbody tr th:only-of-type {\n",
       "        vertical-align: middle;\n",
       "    }\n",
       "\n",
       "    .dataframe tbody tr th {\n",
       "        vertical-align: top;\n",
       "    }\n",
       "\n",
       "    .dataframe thead th {\n",
       "        text-align: right;\n",
       "    }\n",
       "</style>\n",
       "<table border=\"1\" class=\"dataframe\">\n",
       "  <thead>\n",
       "    <tr style=\"text-align: right;\">\n",
       "      <th></th>\n",
       "      <th>category</th>\n",
       "      <th>tech1</th>\n",
       "      <th>description</th>\n",
       "      <th>fit</th>\n",
       "      <th>title</th>\n",
       "      <th>also_buy</th>\n",
       "      <th>tech2</th>\n",
       "      <th>brand</th>\n",
       "      <th>feature</th>\n",
       "      <th>rank</th>\n",
       "      <th>also_view</th>\n",
       "      <th>main_cat</th>\n",
       "      <th>similar_item</th>\n",
       "      <th>date</th>\n",
       "      <th>price</th>\n",
       "      <th>asin</th>\n",
       "      <th>imageURL</th>\n",
       "      <th>imageURLHighRes</th>\n",
       "      <th>details</th>\n",
       "    </tr>\n",
       "  </thead>\n",
       "  <tbody>\n",
       "    <tr>\n",
       "      <th>7771</th>\n",
       "      <td>[]</td>\n",
       "      <td></td>\n",
       "      <td>[CD Rare 1989 15Trks]</td>\n",
       "      <td></td>\n",
       "      <td>This Is Music 6</td>\n",
       "      <td>[]</td>\n",
       "      <td></td>\n",
       "      <td>VARIOUS ARTISTS</td>\n",
       "      <td>[]</td>\n",
       "      <td>1,661,837 in CDs &amp; Vinyl (</td>\n",
       "      <td>[]</td>\n",
       "      <td>&lt;img src=\"https://images-na.ssl-images-amazon....</td>\n",
       "      <td></td>\n",
       "      <td></td>\n",
       "      <td>$2.89</td>\n",
       "      <td>B000091JWJ</td>\n",
       "      <td>[https://images-na.ssl-images-amazon.com/image...</td>\n",
       "      <td>[https://images-na.ssl-images-amazon.com/image...</td>\n",
       "      <td>{'Audio CD': '(February 2, 2018)', 'Number of ...</td>\n",
       "    </tr>\n",
       "  </tbody>\n",
       "</table>\n",
       "</div>"
      ],
      "text/plain": [
       "     category tech1            description fit            title also_buy  \\\n",
       "7771       []        [CD Rare 1989 15Trks]      This Is Music 6       []   \n",
       "\n",
       "     tech2            brand feature                        rank also_view  \\\n",
       "7771        VARIOUS ARTISTS      []  1,661,837 in CDs & Vinyl (        []   \n",
       "\n",
       "                                               main_cat similar_item date  \\\n",
       "7771  <img src=\"https://images-na.ssl-images-amazon....                     \n",
       "\n",
       "      price        asin                                           imageURL  \\\n",
       "7771  $2.89  B000091JWJ  [https://images-na.ssl-images-amazon.com/image...   \n",
       "\n",
       "                                        imageURLHighRes  \\\n",
       "7771  [https://images-na.ssl-images-amazon.com/image...   \n",
       "\n",
       "                                                details  \n",
       "7771  {'Audio CD': '(February 2, 2018)', 'Number of ...  "
      ]
     },
     "execution_count": 16,
     "metadata": {},
     "output_type": "execute_result"
    }
   ],
   "source": [
    "metadata[metadata[\"asin\"] == \"B000091JWJ\"]"
   ]
  },
  {
   "cell_type": "markdown",
   "id": "c0849191",
   "metadata": {},
   "source": [
    "### Substep: EDA"
   ]
  },
  {
   "cell_type": "code",
   "execution_count": 17,
   "id": "002c86b3",
   "metadata": {},
   "outputs": [],
   "source": [
    "data[\"created_at\"] = pd.to_datetime(data[\"unixReviewTime\"], unit=\"s\")\n",
    "data[\"created_at\"] = pd.to_datetime(data[\"created_at\"], format=\"%Y-%m\")"
   ]
  },
  {
   "cell_type": "code",
   "execution_count": 18,
   "id": "6b74ee93",
   "metadata": {},
   "outputs": [
    {
     "data": {
      "image/png": "[encoded data removed]",
      "text/plain": [
       "<Figure size 640x480 with 1 Axes>"
      ]
     },
     "metadata": {},
     "output_type": "display_data"
    },
    {
     "data": {
      "text/plain": [
       "<ggplot: (8775291758050)>"
      ]
     },
     "execution_count": 18,
     "metadata": {},
     "output_type": "execute_result"
    }
   ],
   "source": [
    "(\n",
    "    ggplot(data, aes(x=\"overall\"))\n",
    "    + geom_bar(color=\"black\")\n",
    "    + labs(x=\"rating\", title=\"distribution of ratings\")\n",
    ")"
   ]
  },
  {
   "cell_type": "code",
   "execution_count": 19,
   "id": "200f459a",
   "metadata": {},
   "outputs": [
    {
     "data": {
      "image/png": "[encoded data removed]",
      "text/plain": [
       "<Figure size 1400x700 with 1 Axes>"
      ]
     },
     "metadata": {},
     "output_type": "display_data"
    },
    {
     "data": {
      "text/plain": [
       "<ggplot: (8775291834161)>"
      ]
     },
     "execution_count": 19,
     "metadata": {},
     "output_type": "execute_result"
    }
   ],
   "source": [
    "(\n",
    "    ggplot(data.groupby(pd.Grouper(key=\"created_at\", freq=\"M\")).count().reset_index())\n",
    "    + geom_line(aes(x=\"created_at\", y=\"asin\"), color=\"crimson\")\n",
    "    + labs(x=\"date\", y=\"count\", title=\"#reviews: evolution through the years\")\n",
    "    + scale_x_datetime(breaks=date_breaks(\"6 months\"), labels=date_format(\"%Y/%m\"))\n",
    "    + theme(axis_text_x=element_text(rotation=45, hjust=1), figure_size=(14, 7))\n",
    ")"
   ]
  },
  {
   "cell_type": "code",
   "execution_count": 20,
   "id": "b2693c45",
   "metadata": {},
   "outputs": [
    {
     "name": "stderr",
     "output_type": "stream",
     "text": [
      "/home/iantonopoulos/.cache/pypoetry/virtualenvs/recommender-systems-rVb3Y5Fg-py3.8/lib/python3.8/site-packages/plotnine/utils.py:371: FutureWarning: The frame.append method is deprecated and will be removed from pandas in a future version. Use pandas.concat instead.\n"
     ]
    },
    {
     "data": {
      "image/png": "[encoded data removed]",
      "text/plain": [
       "<Figure size 1000x700 with 5 Axes>"
      ]
     },
     "metadata": {},
     "output_type": "display_data"
    },
    {
     "data": {
      "text/plain": [
       "<ggplot: (8775291750666)>"
      ]
     },
     "execution_count": 20,
     "metadata": {},
     "output_type": "execute_result"
    }
   ],
   "source": [
    "(\n",
    "    ggplot(\n",
    "        data.groupby([pd.Grouper(key=\"created_at\", freq=\"M\"), \"overall\"])\n",
    "        .count()\n",
    "        .reset_index()\n",
    "    )\n",
    "    + geom_line(aes(x=\"created_at\", y=\"asin\"))\n",
    "    + facet_wrap(\"overall\", ncol=1)\n",
    "    + labs(\n",
    "        x=\"date\", y=\"count\", title=\"per-rating #reviews: evolution through the years\"\n",
    "    )\n",
    "    + scale_x_datetime(breaks=date_breaks(\"6 months\"), labels=date_format(\"%Y/%m\"))\n",
    "    + theme(axis_text_x=element_text(rotation=45, hjust=1), figure_size=(10, 7))\n",
    ")"
   ]
  },
  {
   "cell_type": "code",
   "execution_count": 21,
   "id": "f42b4f09",
   "metadata": {},
   "outputs": [
    {
     "data": {
      "image/png": "[encoded data removed]",
      "text/plain": [
       "<Figure size 1400x700 with 1 Axes>"
      ]
     },
     "metadata": {},
     "output_type": "display_data"
    },
    {
     "data": {
      "text/plain": [
       "<ggplot: (8775283195194)>"
      ]
     },
     "execution_count": 21,
     "metadata": {},
     "output_type": "execute_result"
    }
   ],
   "source": [
    "(\n",
    "    ggplot(data)\n",
    "    + geom_smooth(aes(x=\"created_at\", y=\"overall\"))\n",
    "    + labs(x=\"date\", y=\"rating\", title=\"rating trend through the years\")\n",
    "    + scale_x_datetime(breaks=date_breaks(\"6 months\"), labels=date_format(\"%Y/%m\"))\n",
    "    + theme(axis_text_x=element_text(rotation=45, hjust=1), figure_size=(14, 7))\n",
    ")"
   ]
  },
  {
   "cell_type": "code",
   "execution_count": 22,
   "id": "446d605a",
   "metadata": {},
   "outputs": [
    {
     "data": {
      "image/png": "[encoded data removed]",
      "text/plain": [
       "<Figure size 1400x700 with 1 Axes>"
      ]
     },
     "metadata": {},
     "output_type": "display_data"
    },
    {
     "data": {
      "text/plain": [
       "<ggplot: (8775283195579)>"
      ]
     },
     "execution_count": 22,
     "metadata": {},
     "output_type": "execute_result"
    }
   ],
   "source": [
    "(\n",
    "    ggplot(data)\n",
    "    + geom_smooth(\n",
    "        aes(x=\"created_at\", y=\"overall\"), method=\"mavg\", method_args={\"window\": 10}\n",
    "    )\n",
    "    + labs(x=\"date\", y=\"rating\", title=\"moving average of ratings\")\n",
    "    + scale_x_datetime(breaks=date_breaks(\"6 months\"), labels=date_format(\"%Y/%m\"))\n",
    "    + theme(axis_text_x=element_text(rotation=45, hjust=1), figure_size=(14, 7))\n",
    ")"
   ]
  },
  {
   "cell_type": "markdown",
   "id": "f1b928d1",
   "metadata": {},
   "source": [
    "## Step A.2"
   ]
  },
  {
   "cell_type": "markdown",
   "id": "cbc621d7",
   "metadata": {},
   "source": [
    "Our objective is to construct “item profiles” for the items, based on information available on their metadata."
   ]
  },
  {
   "cell_type": "code",
   "execution_count": 23,
   "id": "ea113aa7",
   "metadata": {},
   "outputs": [],
   "source": [
    "# if we run this process on `metadata` and not on this smaller dataset (`data`), we get:\n",
    "# MemoryError: Unable to allocate 69.1 GiB for an array with shape (66013, 140586)\n",
    "content = data.copy()"
   ]
  },
  {
   "cell_type": "code",
   "execution_count": 24,
   "id": "f39602d4",
   "metadata": {
    "scrolled": true
   },
   "outputs": [
    {
     "data": {
      "text/plain": [
       "True    2383\n",
       "Name: title, dtype: int64"
      ]
     },
     "execution_count": 24,
     "metadata": {},
     "output_type": "execute_result"
    }
   ],
   "source": [
    "content[\"title\"].map(lambda x: isinstance(x, str)).value_counts()"
   ]
  },
  {
   "cell_type": "code",
   "execution_count": 25,
   "id": "719e7168",
   "metadata": {
    "scrolled": true
   },
   "outputs": [
    {
     "data": {
      "text/plain": [
       "True    2383\n",
       "Name: description, dtype: int64"
      ]
     },
     "execution_count": 25,
     "metadata": {},
     "output_type": "execute_result"
    }
   ],
   "source": [
    "content[\"description\"].map(lambda x: isinstance(x, list)).value_counts()"
   ]
  },
  {
   "cell_type": "code",
   "execution_count": 26,
   "id": "fb38776b",
   "metadata": {},
   "outputs": [
    {
     "data": {
      "text/plain": [
       "0                []\n",
       "1                []\n",
       "2                []\n",
       "3                []\n",
       "4                []\n",
       "           ...     \n",
       "2378    [Brand new]\n",
       "2379    [Brand new]\n",
       "2380    [Brand new]\n",
       "2381    [Brand new]\n",
       "2382    [Brand new]\n",
       "Name: description, Length: 2383, dtype: object"
      ]
     },
     "execution_count": 26,
     "metadata": {},
     "output_type": "execute_result"
    }
   ],
   "source": [
    "content[\"description\"]"
   ]
  },
  {
   "cell_type": "code",
   "execution_count": 27,
   "id": "1bf3d015",
   "metadata": {},
   "outputs": [
    {
     "data": {
      "text/plain": [
       "15                                          [Book by, , ]\n",
       "16                                          [Book by, , ]\n",
       "17                                          [Book by, , ]\n",
       "18                                          [Book by, , ]\n",
       "19                                          [Book by, , ]\n",
       "                              ...                        \n",
       "1441    [2 complete shows, once missing reels filled w...\n",
       "1442    [2 complete shows, once missing reels filled w...\n",
       "1443    [2 complete shows, once missing reels filled w...\n",
       "1444    [2 complete shows, once missing reels filled w...\n",
       "1445    [2 complete shows, once missing reels filled w...\n",
       "Name: description, Length: 196, dtype: object"
      ]
     },
     "execution_count": 27,
     "metadata": {},
     "output_type": "execute_result"
    }
   ],
   "source": [
    "content[content[\"description\"].map(len) > 1][\"description\"]"
   ]
  },
  {
   "cell_type": "code",
   "execution_count": 28,
   "id": "f83d0c92",
   "metadata": {},
   "outputs": [],
   "source": [
    "def concatenate_list_field(field: list) -> str:\n",
    "\n",
    "    if not isinstance(field, list):\n",
    "        return TypeError\n",
    "\n",
    "    return \" \".join(field)"
   ]
  },
  {
   "cell_type": "code",
   "execution_count": 29,
   "id": "87988ec7",
   "metadata": {},
   "outputs": [],
   "source": [
    "content[\"description\"] = content[\"description\"].map(concatenate_list_field)"
   ]
  },
  {
   "cell_type": "code",
   "execution_count": 30,
   "id": "2fcd2696",
   "metadata": {},
   "outputs": [],
   "source": [
    "transformer = FeatureUnion(\n",
    "    [\n",
    "        (\n",
    "            \"title_tfidf\",\n",
    "            Pipeline(\n",
    "                [\n",
    "                    (\n",
    "                        \"extract_field\",\n",
    "                        FunctionTransformer(lambda x: x[\"title\"], validate=False),\n",
    "                    ),\n",
    "                    (\"tfidf\", TfidfVectorizer()),\n",
    "                ]\n",
    "            ),\n",
    "        ),\n",
    "        (\n",
    "            \"description_tfidf\",\n",
    "            Pipeline(\n",
    "                [\n",
    "                    (\n",
    "                        \"extract_field\",\n",
    "                        FunctionTransformer(lambda x: x[\"description\"], validate=False),\n",
    "                    ),\n",
    "                    (\"tfidf\", TfidfVectorizer()),\n",
    "                ]\n",
    "            ),\n",
    "        ),\n",
    "    ]\n",
    ")"
   ]
  },
  {
   "cell_type": "code",
   "execution_count": 31,
   "id": "5427e7c8",
   "metadata": {},
   "outputs": [
    {
     "data": {
      "text/plain": [
       "FeatureUnion(transformer_list=[('title_tfidf',\n",
       "                                Pipeline(steps=[('extract_field',\n",
       "                                                 FunctionTransformer(func=<function <lambda> at 0x7fb2825bc8b0>)),\n",
       "                                                ('tfidf', TfidfVectorizer())])),\n",
       "                               ('description_tfidf',\n",
       "                                Pipeline(steps=[('extract_field',\n",
       "                                                 FunctionTransformer(func=<function <lambda> at 0x7fb27a3b8700>)),\n",
       "                                                ('tfidf',\n",
       "                                                 TfidfVectorizer())]))])"
      ]
     },
     "execution_count": 31,
     "metadata": {},
     "output_type": "execute_result"
    }
   ],
   "source": [
    "transformer.fit(content)"
   ]
  },
  {
   "cell_type": "code",
   "execution_count": 32,
   "id": "b2b510ac",
   "metadata": {},
   "outputs": [],
   "source": [
    "title_vocab = transformer.transformer_list[0][1].steps[1][1].get_feature_names_out()\n",
    "description_vocab = (\n",
    "    transformer.transformer_list[1][1].steps[1][1].get_feature_names_out()\n",
    ")"
   ]
  },
  {
   "cell_type": "code",
   "execution_count": 33,
   "id": "2516252a",
   "metadata": {},
   "outputs": [
    {
     "data": {
      "text/plain": [
       "(495, 2598)"
      ]
     },
     "execution_count": 33,
     "metadata": {},
     "output_type": "execute_result"
    }
   ],
   "source": [
    "len(title_vocab), len(description_vocab)"
   ]
  },
  {
   "cell_type": "code",
   "execution_count": 34,
   "id": "b42b001c",
   "metadata": {},
   "outputs": [
    {
     "data": {
      "text/plain": [
       "(2383, 3093)"
      ]
     },
     "execution_count": 34,
     "metadata": {},
     "output_type": "execute_result"
    }
   ],
   "source": [
    "transformed_content = transformer.transform(content).toarray()\n",
    "\n",
    "transformed_content.shape"
   ]
  },
  {
   "cell_type": "markdown",
   "id": "da70506c",
   "metadata": {},
   "source": [
    "## Step A.3"
   ]
  },
  {
   "cell_type": "code",
   "execution_count": 35,
   "id": "89142530",
   "metadata": {},
   "outputs": [
    {
     "data": {
      "text/plain": [
       "(2383, 2383)"
      ]
     },
     "execution_count": 35,
     "metadata": {},
     "output_type": "execute_result"
    }
   ],
   "source": [
    "# note that the TF-IDF functionality in sklearn.feature_extraction.text can produce\n",
    "# normalized vectors, in which case cosine_similarity is equivalent to linear_kernel,\n",
    "# only slower.\n",
    "cosine_sim_matrix = linear_kernel(transformed_content, transformed_content)\n",
    "\n",
    "cosine_sim_matrix.shape"
   ]
  },
  {
   "cell_type": "code",
   "execution_count": 36,
   "id": "1829be77",
   "metadata": {
    "scrolled": true
   },
   "outputs": [
    {
     "name": "stderr",
     "output_type": "stream",
     "text": [
      "/home/iantonopoulos/.cache/pypoetry/virtualenvs/recommender-systems-rVb3Y5Fg-py3.8/lib/python3.8/site-packages/sklearn/metrics/pairwise.py:1875: DataConversionWarning: Data was converted to boolean for metric jaccard\n"
     ]
    },
    {
     "data": {
      "text/plain": [
       "(2383, 2383)"
      ]
     },
     "execution_count": 36,
     "metadata": {},
     "output_type": "execute_result"
    }
   ],
   "source": [
    "jaccard_sim_matrix = 1 - pairwise_distances(transformed_content, metric=\"jaccard\")\n",
    "\n",
    "jaccard_sim_matrix.shape"
   ]
  },
  {
   "cell_type": "code",
   "execution_count": 37,
   "id": "da3a48fb",
   "metadata": {},
   "outputs": [],
   "source": [
    "def get_recommendations(\n",
    "    data: pd.DataFrame,\n",
    "    query: str,\n",
    "    column: str,\n",
    "    similarity_matrix: np.ndarray,\n",
    "    limit: int = 10,\n",
    ") -> pd.DataFrame:\n",
    "    \"\"\"\n",
    "    Retrieves the top content recommendations based on a similarity matrix.\n",
    "\n",
    "    Args:\n",
    "        data: tabulation containing the text data.\n",
    "        column: name of column used, i.e. 'title'.\n",
    "        query: query to get recommendations for.\n",
    "        cosine_similarities: matrix with similarities.\n",
    "        limit: the number of recommendations to return.\n",
    "\n",
    "    Returns:\n",
    "        The top content recommendations.\n",
    "    \"\"\"\n",
    "    # create an index mapping\n",
    "    df = data.drop_duplicates(subset=column)\n",
    "    indices = pd.Series(df.index, index=df[column]).drop_duplicates()\n",
    "\n",
    "    # get the index for the target query\n",
    "    try:\n",
    "        target_index = indices[query]\n",
    "    except KeyError:\n",
    "        raise KeyError(f\"query <{query}> does not exist in provided data.\") from None\n",
    "\n",
    "    # get the similarity scores for the target query\n",
    "    similarity_scores = list(enumerate(similarity_matrix[target_index]))\n",
    "\n",
    "    # sort the similarities, with the most similar first\n",
    "    similarity_scores = sorted(similarity_scores, key=lambda x: x[1], reverse=True)\n",
    "\n",
    "    # get the m closest scores (according to `limit`), excluding the query\n",
    "    similarity_scores = similarity_scores[1 : limit + 1]\n",
    "\n",
    "    df = pd.DataFrame(similarity_scores, columns=[\"index\", \"similarity_score\"])\n",
    "    df[\"recommendation\"] = data[column].iloc[[ix for ix, _ in similarity_scores]].values\n",
    "\n",
    "    return df"
   ]
  },
  {
   "cell_type": "code",
   "execution_count": 38,
   "id": "512fa244",
   "metadata": {},
   "outputs": [
    {
     "data": {
      "text/html": [
       "<div>\n",
       "<style scoped>\n",
       "    .dataframe tbody tr th:only-of-type {\n",
       "        vertical-align: middle;\n",
       "    }\n",
       "\n",
       "    .dataframe tbody tr th {\n",
       "        vertical-align: top;\n",
       "    }\n",
       "\n",
       "    .dataframe thead th {\n",
       "        text-align: right;\n",
       "    }\n",
       "</style>\n",
       "<table border=\"1\" class=\"dataframe\">\n",
       "  <thead>\n",
       "    <tr style=\"text-align: right;\">\n",
       "      <th></th>\n",
       "      <th>index</th>\n",
       "      <th>similarity_score</th>\n",
       "      <th>recommendation</th>\n",
       "    </tr>\n",
       "  </thead>\n",
       "  <tbody>\n",
       "    <tr>\n",
       "      <th>0</th>\n",
       "      <td>460</td>\n",
       "      <td>0.142857</td>\n",
       "      <td>Kids Praise 3 CD</td>\n",
       "    </tr>\n",
       "    <tr>\n",
       "      <th>1</th>\n",
       "      <td>461</td>\n",
       "      <td>0.142857</td>\n",
       "      <td>Kids Praise 3 CD</td>\n",
       "    </tr>\n",
       "    <tr>\n",
       "      <th>2</th>\n",
       "      <td>462</td>\n",
       "      <td>0.142857</td>\n",
       "      <td>Kids Praise 3 CD</td>\n",
       "    </tr>\n",
       "    <tr>\n",
       "      <th>3</th>\n",
       "      <td>463</td>\n",
       "      <td>0.142857</td>\n",
       "      <td>Kids Praise 3 CD</td>\n",
       "    </tr>\n",
       "    <tr>\n",
       "      <th>4</th>\n",
       "      <td>464</td>\n",
       "      <td>0.142857</td>\n",
       "      <td>Kids Praise 3 CD</td>\n",
       "    </tr>\n",
       "    <tr>\n",
       "      <th>5</th>\n",
       "      <td>1223</td>\n",
       "      <td>0.141509</td>\n",
       "      <td>Still Believe</td>\n",
       "    </tr>\n",
       "    <tr>\n",
       "      <th>6</th>\n",
       "      <td>1224</td>\n",
       "      <td>0.141509</td>\n",
       "      <td>Still Believe</td>\n",
       "    </tr>\n",
       "    <tr>\n",
       "      <th>7</th>\n",
       "      <td>1225</td>\n",
       "      <td>0.141509</td>\n",
       "      <td>Still Believe</td>\n",
       "    </tr>\n",
       "    <tr>\n",
       "      <th>8</th>\n",
       "      <td>1226</td>\n",
       "      <td>0.141509</td>\n",
       "      <td>Still Believe</td>\n",
       "    </tr>\n",
       "    <tr>\n",
       "      <th>9</th>\n",
       "      <td>1227</td>\n",
       "      <td>0.141509</td>\n",
       "      <td>Still Believe</td>\n",
       "    </tr>\n",
       "  </tbody>\n",
       "</table>\n",
       "</div>"
      ],
      "text/plain": [
       "   index  similarity_score    recommendation\n",
       "0    460          0.142857  Kids Praise 3 CD\n",
       "1    461          0.142857  Kids Praise 3 CD\n",
       "2    462          0.142857  Kids Praise 3 CD\n",
       "3    463          0.142857  Kids Praise 3 CD\n",
       "4    464          0.142857  Kids Praise 3 CD\n",
       "5   1223          0.141509     Still Believe\n",
       "6   1224          0.141509     Still Believe\n",
       "7   1225          0.141509     Still Believe\n",
       "8   1226          0.141509     Still Believe\n",
       "9   1227          0.141509     Still Believe"
      ]
     },
     "execution_count": 38,
     "metadata": {},
     "output_type": "execute_result"
    }
   ],
   "source": [
    "get_recommendations(\n",
    "    content,\n",
    "    query=\"Wake Up the World\",\n",
    "    column=\"title\",\n",
    "    similarity_matrix=jaccard_sim_matrix,\n",
    ")"
   ]
  },
  {
   "cell_type": "code",
   "execution_count": 39,
   "id": "2564d4d1",
   "metadata": {},
   "outputs": [
    {
     "data": {
      "text/html": [
       "<div>\n",
       "<style scoped>\n",
       "    .dataframe tbody tr th:only-of-type {\n",
       "        vertical-align: middle;\n",
       "    }\n",
       "\n",
       "    .dataframe tbody tr th {\n",
       "        vertical-align: top;\n",
       "    }\n",
       "\n",
       "    .dataframe thead th {\n",
       "        text-align: right;\n",
       "    }\n",
       "</style>\n",
       "<table border=\"1\" class=\"dataframe\">\n",
       "  <thead>\n",
       "    <tr style=\"text-align: right;\">\n",
       "      <th></th>\n",
       "      <th>index</th>\n",
       "      <th>similarity_score</th>\n",
       "      <th>recommendation</th>\n",
       "    </tr>\n",
       "  </thead>\n",
       "  <tbody>\n",
       "    <tr>\n",
       "      <th>0</th>\n",
       "      <td>1</td>\n",
       "      <td>1.00</td>\n",
       "      <td>Slayer - Greatest Hits 2 CD Set</td>\n",
       "    </tr>\n",
       "    <tr>\n",
       "      <th>1</th>\n",
       "      <td>2</td>\n",
       "      <td>1.00</td>\n",
       "      <td>Slayer - Greatest Hits 2 CD Set</td>\n",
       "    </tr>\n",
       "    <tr>\n",
       "      <th>2</th>\n",
       "      <td>3</td>\n",
       "      <td>1.00</td>\n",
       "      <td>Slayer - Greatest Hits 2 CD Set</td>\n",
       "    </tr>\n",
       "    <tr>\n",
       "      <th>3</th>\n",
       "      <td>4</td>\n",
       "      <td>1.00</td>\n",
       "      <td>Slayer - Greatest Hits 2 CD Set</td>\n",
       "    </tr>\n",
       "    <tr>\n",
       "      <th>4</th>\n",
       "      <td>1454</td>\n",
       "      <td>0.25</td>\n",
       "      <td>Amazon Exclusive (4 CD set + Bonus CD)</td>\n",
       "    </tr>\n",
       "    <tr>\n",
       "      <th>5</th>\n",
       "      <td>1455</td>\n",
       "      <td>0.25</td>\n",
       "      <td>Amazon Exclusive (4 CD set + Bonus CD)</td>\n",
       "    </tr>\n",
       "    <tr>\n",
       "      <th>6</th>\n",
       "      <td>1456</td>\n",
       "      <td>0.25</td>\n",
       "      <td>Amazon Exclusive (4 CD set + Bonus CD)</td>\n",
       "    </tr>\n",
       "    <tr>\n",
       "      <th>7</th>\n",
       "      <td>1457</td>\n",
       "      <td>0.25</td>\n",
       "      <td>Amazon Exclusive (4 CD set + Bonus CD)</td>\n",
       "    </tr>\n",
       "    <tr>\n",
       "      <th>8</th>\n",
       "      <td>1458</td>\n",
       "      <td>0.25</td>\n",
       "      <td>Amazon Exclusive (4 CD set + Bonus CD)</td>\n",
       "    </tr>\n",
       "    <tr>\n",
       "      <th>9</th>\n",
       "      <td>1459</td>\n",
       "      <td>0.25</td>\n",
       "      <td>Amazon Exclusive (4 CD set + Bonus CD)</td>\n",
       "    </tr>\n",
       "  </tbody>\n",
       "</table>\n",
       "</div>"
      ],
      "text/plain": [
       "   index  similarity_score                          recommendation\n",
       "0      1              1.00         Slayer - Greatest Hits 2 CD Set\n",
       "1      2              1.00         Slayer - Greatest Hits 2 CD Set\n",
       "2      3              1.00         Slayer - Greatest Hits 2 CD Set\n",
       "3      4              1.00         Slayer - Greatest Hits 2 CD Set\n",
       "4   1454              0.25  Amazon Exclusive (4 CD set + Bonus CD)\n",
       "5   1455              0.25  Amazon Exclusive (4 CD set + Bonus CD)\n",
       "6   1456              0.25  Amazon Exclusive (4 CD set + Bonus CD)\n",
       "7   1457              0.25  Amazon Exclusive (4 CD set + Bonus CD)\n",
       "8   1458              0.25  Amazon Exclusive (4 CD set + Bonus CD)\n",
       "9   1459              0.25  Amazon Exclusive (4 CD set + Bonus CD)"
      ]
     },
     "execution_count": 39,
     "metadata": {},
     "output_type": "execute_result"
    }
   ],
   "source": [
    "get_recommendations(\n",
    "    content,\n",
    "    query=\"Slayer - Greatest Hits 2 CD Set\",\n",
    "    column=\"title\",\n",
    "    similarity_matrix=jaccard_sim_matrix,\n",
    ")"
   ]
  },
  {
   "cell_type": "code",
   "execution_count": 40,
   "id": "a5c33c72",
   "metadata": {},
   "outputs": [
    {
     "data": {
      "text/html": [
       "<div>\n",
       "<style scoped>\n",
       "    .dataframe tbody tr th:only-of-type {\n",
       "        vertical-align: middle;\n",
       "    }\n",
       "\n",
       "    .dataframe tbody tr th {\n",
       "        vertical-align: top;\n",
       "    }\n",
       "\n",
       "    .dataframe thead th {\n",
       "        text-align: right;\n",
       "    }\n",
       "</style>\n",
       "<table border=\"1\" class=\"dataframe\">\n",
       "  <thead>\n",
       "    <tr style=\"text-align: right;\">\n",
       "      <th></th>\n",
       "      <th>index</th>\n",
       "      <th>similarity_score</th>\n",
       "      <th>recommendation</th>\n",
       "    </tr>\n",
       "  </thead>\n",
       "  <tbody>\n",
       "    <tr>\n",
       "      <th>0</th>\n",
       "      <td>1769</td>\n",
       "      <td>0.22449</td>\n",
       "      <td>Ronnie Dunn's second solo album release.</td>\n",
       "    </tr>\n",
       "    <tr>\n",
       "      <th>1</th>\n",
       "      <td>1770</td>\n",
       "      <td>0.22449</td>\n",
       "      <td>Ronnie Dunn's second solo album release.</td>\n",
       "    </tr>\n",
       "    <tr>\n",
       "      <th>2</th>\n",
       "      <td>1771</td>\n",
       "      <td>0.22449</td>\n",
       "      <td>Ronnie Dunn's second solo album release.</td>\n",
       "    </tr>\n",
       "    <tr>\n",
       "      <th>3</th>\n",
       "      <td>1772</td>\n",
       "      <td>0.22449</td>\n",
       "      <td>Ronnie Dunn's second solo album release.</td>\n",
       "    </tr>\n",
       "    <tr>\n",
       "      <th>4</th>\n",
       "      <td>1773</td>\n",
       "      <td>0.22449</td>\n",
       "      <td>Ronnie Dunn's second solo album release.</td>\n",
       "    </tr>\n",
       "    <tr>\n",
       "      <th>5</th>\n",
       "      <td>1774</td>\n",
       "      <td>0.22449</td>\n",
       "      <td>Ronnie Dunn's second solo album release.</td>\n",
       "    </tr>\n",
       "    <tr>\n",
       "      <th>6</th>\n",
       "      <td>1775</td>\n",
       "      <td>0.22449</td>\n",
       "      <td>Ronnie Dunn's second solo album release.</td>\n",
       "    </tr>\n",
       "    <tr>\n",
       "      <th>7</th>\n",
       "      <td>1776</td>\n",
       "      <td>0.22449</td>\n",
       "      <td>Ronnie Dunn's second solo album release.</td>\n",
       "    </tr>\n",
       "    <tr>\n",
       "      <th>8</th>\n",
       "      <td>1777</td>\n",
       "      <td>0.22449</td>\n",
       "      <td>Ronnie Dunn's second solo album release.</td>\n",
       "    </tr>\n",
       "    <tr>\n",
       "      <th>9</th>\n",
       "      <td>1778</td>\n",
       "      <td>0.22449</td>\n",
       "      <td>Ronnie Dunn's second solo album release.</td>\n",
       "    </tr>\n",
       "  </tbody>\n",
       "</table>\n",
       "</div>"
      ],
      "text/plain": [
       "   index  similarity_score                            recommendation\n",
       "0   1769           0.22449  Ronnie Dunn's second solo album release.\n",
       "1   1770           0.22449  Ronnie Dunn's second solo album release.\n",
       "2   1771           0.22449  Ronnie Dunn's second solo album release.\n",
       "3   1772           0.22449  Ronnie Dunn's second solo album release.\n",
       "4   1773           0.22449  Ronnie Dunn's second solo album release.\n",
       "5   1774           0.22449  Ronnie Dunn's second solo album release.\n",
       "6   1775           0.22449  Ronnie Dunn's second solo album release.\n",
       "7   1776           0.22449  Ronnie Dunn's second solo album release.\n",
       "8   1777           0.22449  Ronnie Dunn's second solo album release.\n",
       "9   1778           0.22449  Ronnie Dunn's second solo album release."
      ]
     },
     "execution_count": 40,
     "metadata": {},
     "output_type": "execute_result"
    }
   ],
   "source": [
    "get_recommendations(\n",
    "    content,\n",
    "    query=\"James Marsters second solo album\\n\\nLike A Waterfall (2007)\\n\\n1. Not A Millionaire\\n2. Looking At you\\n3. Don't Worry Son\\n4. Birth Of The Blues\\n5. White Hot Girls\\n6. London City\\n7. Up On Me\\n8. Like A Waterfall\\n9. Louise\\n10. When I Was A Baby\\n11. Layabout\\n12. Too Fast\",\n",
    "    column=\"description\",\n",
    "    similarity_matrix=jaccard_sim_matrix,\n",
    ")"
   ]
  },
  {
   "cell_type": "code",
   "execution_count": 41,
   "id": "b860feaa",
   "metadata": {
    "scrolled": true
   },
   "outputs": [
    {
     "data": {
      "text/html": [
       "<div>\n",
       "<style scoped>\n",
       "    .dataframe tbody tr th:only-of-type {\n",
       "        vertical-align: middle;\n",
       "    }\n",
       "\n",
       "    .dataframe tbody tr th {\n",
       "        vertical-align: top;\n",
       "    }\n",
       "\n",
       "    .dataframe thead th {\n",
       "        text-align: right;\n",
       "    }\n",
       "</style>\n",
       "<table border=\"1\" class=\"dataframe\">\n",
       "  <thead>\n",
       "    <tr style=\"text-align: right;\">\n",
       "      <th></th>\n",
       "      <th>index</th>\n",
       "      <th>similarity_score</th>\n",
       "      <th>recommendation</th>\n",
       "    </tr>\n",
       "  </thead>\n",
       "  <tbody>\n",
       "    <tr>\n",
       "      <th>0</th>\n",
       "      <td>2364</td>\n",
       "      <td>0.576116</td>\n",
       "      <td>Save The World</td>\n",
       "    </tr>\n",
       "    <tr>\n",
       "      <th>1</th>\n",
       "      <td>2365</td>\n",
       "      <td>0.576116</td>\n",
       "      <td>Save The World</td>\n",
       "    </tr>\n",
       "    <tr>\n",
       "      <th>2</th>\n",
       "      <td>2366</td>\n",
       "      <td>0.576116</td>\n",
       "      <td>Save The World</td>\n",
       "    </tr>\n",
       "    <tr>\n",
       "      <th>3</th>\n",
       "      <td>2367</td>\n",
       "      <td>0.576116</td>\n",
       "      <td>Save The World</td>\n",
       "    </tr>\n",
       "    <tr>\n",
       "      <th>4</th>\n",
       "      <td>1600</td>\n",
       "      <td>0.395593</td>\n",
       "      <td>Thor the Dark World</td>\n",
       "    </tr>\n",
       "    <tr>\n",
       "      <th>5</th>\n",
       "      <td>1601</td>\n",
       "      <td>0.395593</td>\n",
       "      <td>Thor the Dark World</td>\n",
       "    </tr>\n",
       "    <tr>\n",
       "      <th>6</th>\n",
       "      <td>1602</td>\n",
       "      <td>0.395593</td>\n",
       "      <td>Thor the Dark World</td>\n",
       "    </tr>\n",
       "    <tr>\n",
       "      <th>7</th>\n",
       "      <td>1603</td>\n",
       "      <td>0.395593</td>\n",
       "      <td>Thor the Dark World</td>\n",
       "    </tr>\n",
       "    <tr>\n",
       "      <th>8</th>\n",
       "      <td>1604</td>\n",
       "      <td>0.395593</td>\n",
       "      <td>Thor the Dark World</td>\n",
       "    </tr>\n",
       "    <tr>\n",
       "      <th>9</th>\n",
       "      <td>1223</td>\n",
       "      <td>0.335147</td>\n",
       "      <td>Still Believe</td>\n",
       "    </tr>\n",
       "  </tbody>\n",
       "</table>\n",
       "</div>"
      ],
      "text/plain": [
       "   index  similarity_score       recommendation\n",
       "0   2364          0.576116       Save The World\n",
       "1   2365          0.576116       Save The World\n",
       "2   2366          0.576116       Save The World\n",
       "3   2367          0.576116       Save The World\n",
       "4   1600          0.395593  Thor the Dark World\n",
       "5   1601          0.395593  Thor the Dark World\n",
       "6   1602          0.395593  Thor the Dark World\n",
       "7   1603          0.395593  Thor the Dark World\n",
       "8   1604          0.395593  Thor the Dark World\n",
       "9   1223          0.335147        Still Believe"
      ]
     },
     "execution_count": 41,
     "metadata": {},
     "output_type": "execute_result"
    }
   ],
   "source": [
    "get_recommendations(\n",
    "    content,\n",
    "    query=\"Wake Up the World\",\n",
    "    column=\"title\",\n",
    "    similarity_matrix=cosine_sim_matrix,\n",
    ")"
   ]
  },
  {
   "cell_type": "code",
   "execution_count": 42,
   "id": "9a8a8e7a",
   "metadata": {},
   "outputs": [
    {
     "data": {
      "text/html": [
       "<div>\n",
       "<style scoped>\n",
       "    .dataframe tbody tr th:only-of-type {\n",
       "        vertical-align: middle;\n",
       "    }\n",
       "\n",
       "    .dataframe tbody tr th {\n",
       "        vertical-align: top;\n",
       "    }\n",
       "\n",
       "    .dataframe thead th {\n",
       "        text-align: right;\n",
       "    }\n",
       "</style>\n",
       "<table border=\"1\" class=\"dataframe\">\n",
       "  <thead>\n",
       "    <tr style=\"text-align: right;\">\n",
       "      <th></th>\n",
       "      <th>index</th>\n",
       "      <th>similarity_score</th>\n",
       "      <th>recommendation</th>\n",
       "    </tr>\n",
       "  </thead>\n",
       "  <tbody>\n",
       "    <tr>\n",
       "      <th>0</th>\n",
       "      <td>1</td>\n",
       "      <td>1.000000</td>\n",
       "      <td>Slayer - Greatest Hits 2 CD Set</td>\n",
       "    </tr>\n",
       "    <tr>\n",
       "      <th>1</th>\n",
       "      <td>2</td>\n",
       "      <td>1.000000</td>\n",
       "      <td>Slayer - Greatest Hits 2 CD Set</td>\n",
       "    </tr>\n",
       "    <tr>\n",
       "      <th>2</th>\n",
       "      <td>3</td>\n",
       "      <td>1.000000</td>\n",
       "      <td>Slayer - Greatest Hits 2 CD Set</td>\n",
       "    </tr>\n",
       "    <tr>\n",
       "      <th>3</th>\n",
       "      <td>4</td>\n",
       "      <td>1.000000</td>\n",
       "      <td>Slayer - Greatest Hits 2 CD Set</td>\n",
       "    </tr>\n",
       "    <tr>\n",
       "      <th>4</th>\n",
       "      <td>1185</td>\n",
       "      <td>0.586672</td>\n",
       "      <td>Coldplay - Greatest Hits 2 Cd Set [2011]</td>\n",
       "    </tr>\n",
       "    <tr>\n",
       "      <th>5</th>\n",
       "      <td>1186</td>\n",
       "      <td>0.586672</td>\n",
       "      <td>Coldplay - Greatest Hits 2 Cd Set [2011]</td>\n",
       "    </tr>\n",
       "    <tr>\n",
       "      <th>6</th>\n",
       "      <td>1187</td>\n",
       "      <td>0.586672</td>\n",
       "      <td>Coldplay - Greatest Hits 2 Cd Set [2011]</td>\n",
       "    </tr>\n",
       "    <tr>\n",
       "      <th>7</th>\n",
       "      <td>1188</td>\n",
       "      <td>0.586672</td>\n",
       "      <td>Coldplay - Greatest Hits 2 Cd Set [2011]</td>\n",
       "    </tr>\n",
       "    <tr>\n",
       "      <th>8</th>\n",
       "      <td>1189</td>\n",
       "      <td>0.586672</td>\n",
       "      <td>Coldplay - Greatest Hits 2 Cd Set [2011]</td>\n",
       "    </tr>\n",
       "    <tr>\n",
       "      <th>9</th>\n",
       "      <td>990</td>\n",
       "      <td>0.379757</td>\n",
       "      <td>The Greatest Hits of the Everly Brothers</td>\n",
       "    </tr>\n",
       "  </tbody>\n",
       "</table>\n",
       "</div>"
      ],
      "text/plain": [
       "   index  similarity_score                            recommendation\n",
       "0      1          1.000000           Slayer - Greatest Hits 2 CD Set\n",
       "1      2          1.000000           Slayer - Greatest Hits 2 CD Set\n",
       "2      3          1.000000           Slayer - Greatest Hits 2 CD Set\n",
       "3      4          1.000000           Slayer - Greatest Hits 2 CD Set\n",
       "4   1185          0.586672  Coldplay - Greatest Hits 2 Cd Set [2011]\n",
       "5   1186          0.586672  Coldplay - Greatest Hits 2 Cd Set [2011]\n",
       "6   1187          0.586672  Coldplay - Greatest Hits 2 Cd Set [2011]\n",
       "7   1188          0.586672  Coldplay - Greatest Hits 2 Cd Set [2011]\n",
       "8   1189          0.586672  Coldplay - Greatest Hits 2 Cd Set [2011]\n",
       "9    990          0.379757  The Greatest Hits of the Everly Brothers"
      ]
     },
     "execution_count": 42,
     "metadata": {},
     "output_type": "execute_result"
    }
   ],
   "source": [
    "get_recommendations(\n",
    "    content,\n",
    "    query=\"Slayer - Greatest Hits 2 CD Set\",\n",
    "    column=\"title\",\n",
    "    similarity_matrix=cosine_sim_matrix,\n",
    ")"
   ]
  },
  {
   "cell_type": "code",
   "execution_count": 43,
   "id": "34f98860",
   "metadata": {},
   "outputs": [
    {
     "data": {
      "text/html": [
       "<div>\n",
       "<style scoped>\n",
       "    .dataframe tbody tr th:only-of-type {\n",
       "        vertical-align: middle;\n",
       "    }\n",
       "\n",
       "    .dataframe tbody tr th {\n",
       "        vertical-align: top;\n",
       "    }\n",
       "\n",
       "    .dataframe thead th {\n",
       "        text-align: right;\n",
       "    }\n",
       "</style>\n",
       "<table border=\"1\" class=\"dataframe\">\n",
       "  <thead>\n",
       "    <tr style=\"text-align: right;\">\n",
       "      <th></th>\n",
       "      <th>index</th>\n",
       "      <th>similarity_score</th>\n",
       "      <th>recommendation</th>\n",
       "    </tr>\n",
       "  </thead>\n",
       "  <tbody>\n",
       "    <tr>\n",
       "      <th>0</th>\n",
       "      <td>1769</td>\n",
       "      <td>1.142651</td>\n",
       "      <td>Ronnie Dunn's second solo album release.</td>\n",
       "    </tr>\n",
       "    <tr>\n",
       "      <th>1</th>\n",
       "      <td>1770</td>\n",
       "      <td>1.142651</td>\n",
       "      <td>Ronnie Dunn's second solo album release.</td>\n",
       "    </tr>\n",
       "    <tr>\n",
       "      <th>2</th>\n",
       "      <td>1771</td>\n",
       "      <td>1.142651</td>\n",
       "      <td>Ronnie Dunn's second solo album release.</td>\n",
       "    </tr>\n",
       "    <tr>\n",
       "      <th>3</th>\n",
       "      <td>1772</td>\n",
       "      <td>1.142651</td>\n",
       "      <td>Ronnie Dunn's second solo album release.</td>\n",
       "    </tr>\n",
       "    <tr>\n",
       "      <th>4</th>\n",
       "      <td>1773</td>\n",
       "      <td>1.142651</td>\n",
       "      <td>Ronnie Dunn's second solo album release.</td>\n",
       "    </tr>\n",
       "    <tr>\n",
       "      <th>5</th>\n",
       "      <td>1774</td>\n",
       "      <td>1.142651</td>\n",
       "      <td>Ronnie Dunn's second solo album release.</td>\n",
       "    </tr>\n",
       "    <tr>\n",
       "      <th>6</th>\n",
       "      <td>1775</td>\n",
       "      <td>1.142651</td>\n",
       "      <td>Ronnie Dunn's second solo album release.</td>\n",
       "    </tr>\n",
       "    <tr>\n",
       "      <th>7</th>\n",
       "      <td>1776</td>\n",
       "      <td>1.142651</td>\n",
       "      <td>Ronnie Dunn's second solo album release.</td>\n",
       "    </tr>\n",
       "    <tr>\n",
       "      <th>8</th>\n",
       "      <td>1777</td>\n",
       "      <td>1.142651</td>\n",
       "      <td>Ronnie Dunn's second solo album release.</td>\n",
       "    </tr>\n",
       "    <tr>\n",
       "      <th>9</th>\n",
       "      <td>1778</td>\n",
       "      <td>1.142651</td>\n",
       "      <td>Ronnie Dunn's second solo album release.</td>\n",
       "    </tr>\n",
       "  </tbody>\n",
       "</table>\n",
       "</div>"
      ],
      "text/plain": [
       "   index  similarity_score                            recommendation\n",
       "0   1769          1.142651  Ronnie Dunn's second solo album release.\n",
       "1   1770          1.142651  Ronnie Dunn's second solo album release.\n",
       "2   1771          1.142651  Ronnie Dunn's second solo album release.\n",
       "3   1772          1.142651  Ronnie Dunn's second solo album release.\n",
       "4   1773          1.142651  Ronnie Dunn's second solo album release.\n",
       "5   1774          1.142651  Ronnie Dunn's second solo album release.\n",
       "6   1775          1.142651  Ronnie Dunn's second solo album release.\n",
       "7   1776          1.142651  Ronnie Dunn's second solo album release.\n",
       "8   1777          1.142651  Ronnie Dunn's second solo album release.\n",
       "9   1778          1.142651  Ronnie Dunn's second solo album release."
      ]
     },
     "execution_count": 43,
     "metadata": {},
     "output_type": "execute_result"
    }
   ],
   "source": [
    "get_recommendations(\n",
    "    content,\n",
    "    query=\"James Marsters second solo album\\n\\nLike A Waterfall (2007)\\n\\n1. Not A Millionaire\\n2. Looking At you\\n3. Don't Worry Son\\n4. Birth Of The Blues\\n5. White Hot Girls\\n6. London City\\n7. Up On Me\\n8. Like A Waterfall\\n9. Louise\\n10. When I Was A Baby\\n11. Layabout\\n12. Too Fast\",\n",
    "    column=\"description\",\n",
    "    similarity_matrix=cosine_sim_matrix,\n",
    ")"
   ]
  },
  {
   "cell_type": "markdown",
   "id": "790b0273",
   "metadata": {},
   "source": [
    "## Step A.4"
   ]
  },
  {
   "cell_type": "code",
   "execution_count": null,
   "id": "fed5b1af",
   "metadata": {},
   "outputs": [],
   "source": []
  }
 ],
 "metadata": {
  "kernelspec": {
   "display_name": "Python 3 (ipykernel)",
   "language": "python",
   "name": "python3"
  },
  "language_info": {
   "codemirror_mode": {
    "name": "ipython",
    "version": 3
   },
   "file_extension": ".py",
   "mimetype": "text/x-python",
   "name": "python",
   "nbconvert_exporter": "python",
   "pygments_lexer": "ipython3",
   "version": "3.8.10"
  }
 },
 "nbformat": 4,
 "nbformat_minor": 5
}
